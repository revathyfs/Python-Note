{
 "cells": [
  {
   "cell_type": "markdown",
   "id": "d8690cd6-8964-453c-81db-021436027145",
   "metadata": {},
   "source": [
    "Slice()\n",
    "\n",
    "The slice() function in python is used to create a slice object that defines how to extract a portion (or slice) of sequence like a list,tuple or string.\n",
    "\n",
    "📘 Syntax:\n",
    "    \n",
    "    slice(start, stop, step)\n",
    "\n",
    " - start (optional) – The index to start the slice from. Default is 0.\n",
    "\n",
    " - stop – The index to stop the slice (not included in the result).\n",
    "\n",
    " - step (optional) – The step or interval between each index. Default is 1.\n",
    "\n",
    "The slice() function returns a slice object, which can be used to slice sequences.\n",
    "\n"
   ]
  },
  {
   "cell_type": "code",
   "execution_count": 15,
   "id": "564ffd67-f3db-4463-b4c3-d330a42a46af",
   "metadata": {},
   "outputs": [
    {
     "name": "stdout",
     "output_type": "stream",
     "text": [
      "('b', 'c', 'd')\n"
     ]
    }
   ],
   "source": [
    "# example\n",
    "a = (\"a\", \"b\", \"c\", \"d\", \"e\")\n",
    "s = slice(1, 4)\n",
    "print(a[s])"
   ]
  },
  {
   "cell_type": "raw",
   "id": "5f4bbb38-0ae1-4e41-9da8-4515f8f95bf4",
   "metadata": {},
   "source": [
    "slice() is a built-in function in Python that creates a slice object to define how to slice a sequence (like a list, tuple, or string) using start, stop, and step values."
   ]
  },
  {
   "cell_type": "code",
   "execution_count": 16,
   "id": "038e1d6b-dc77-4dca-8d5b-42a9416fef22",
   "metadata": {},
   "outputs": [
    {
     "name": "stdout",
     "output_type": "stream",
     "text": [
      "('a', 'b')\n"
     ]
    }
   ],
   "source": [
    "a = (\"a\", \"b\", \"c\", \"d\", \"e\", \"f\", \"g\", \"h\") \n",
    "x = slice(2) \n",
    "print(a[x]) "
   ]
  },
  {
   "cell_type": "raw",
   "id": "6ca6db7c-05c0-4c53-914d-b26a44191fcf",
   "metadata": {},
   "source": [
    "slice(2) is the same as slice(0, 2).\n",
    "\n",
    "It means: start from index 0 and stop before index 2.\n",
    "\n",
    "So, it gets the elements at index 0 and 1."
   ]
  },
  {
   "cell_type": "code",
   "execution_count": 19,
   "id": "776ca2e8-5ee0-4487-9478-7f35ddf2b1d4",
   "metadata": {},
   "outputs": [
    {
     "name": "stdout",
     "output_type": "stream",
     "text": [
      "('c', 'd', 'e')\n"
     ]
    }
   ],
   "source": [
    "#slice from index 2 to 5\n",
    "\n",
    "x = slice(2, 5)\n",
    "print(a[x])  "
   ]
  },
  {
   "cell_type": "code",
   "execution_count": 20,
   "id": "199b9862-f5ed-425a-bead-2a5c90071189",
   "metadata": {},
   "outputs": [
    {
     "name": "stdout",
     "output_type": "stream",
     "text": [
      "('a', 'c', 'e')\n"
     ]
    }
   ],
   "source": [
    "#slice from start to index 6, stepping every 2\n",
    "\n",
    "x = slice(0, 6, 2)\n",
    "print(a[x]) "
   ]
  },
  {
   "cell_type": "code",
   "execution_count": 1,
   "id": "5342dc00-6eef-4823-8883-61e79449dca3",
   "metadata": {},
   "outputs": [
    {
     "name": "stdout",
     "output_type": "stream",
     "text": [
      "('e', 'f', 'g')\n"
     ]
    }
   ],
   "source": [
    "#using negative indexes\n",
    "a=(\"a\", \"b\", \"c\", \"d\", \"e\", \"f\", \"g\", \"h\") \n",
    "x = slice(-4, -1)\n",
    "print(a[x]) "
   ]
  },
  {
   "cell_type": "code",
   "execution_count": 22,
   "id": "2baca5e7-4ee5-4fdd-a474-2019a5326a6b",
   "metadata": {},
   "outputs": [
    {
     "name": "stdout",
     "output_type": "stream",
     "text": [
      "('h', 'g', 'f', 'e', 'd', 'c', 'b', 'a')\n"
     ]
    }
   ],
   "source": [
    "# full reverse using step -1\n",
    "\n",
    "x = slice(None, None, -1)\n",
    "print(a[x])  "
   ]
  },
  {
   "cell_type": "raw",
   "id": "866fcf97-4961-41a6-aba0-28b115e5e643",
   "metadata": {},
   "source": [
    "also do slicing directly without slice():"
   ]
  },
  {
   "cell_type": "code",
   "execution_count": 23,
   "id": "39664e31-c197-47d7-ae5c-9ae72bf66abc",
   "metadata": {},
   "outputs": [
    {
     "name": "stdout",
     "output_type": "stream",
     "text": [
      "('c', 'd', 'e')\n"
     ]
    }
   ],
   "source": [
    "print(a[2:5])  "
   ]
  },
  {
   "cell_type": "code",
   "execution_count": 25,
   "id": "c16c8d60-3a2c-41a3-a816-7439186f7d1b",
   "metadata": {},
   "outputs": [
    {
     "name": "stdout",
     "output_type": "stream",
     "text": [
      "('a', 'c', 'e', 'g')\n"
     ]
    }
   ],
   "source": [
    "#stepping every 2\n",
    "\n",
    "print(a[::2])"
   ]
  },
  {
   "cell_type": "raw",
   "id": "06a44559-f4da-4860-a311-0b8a203056ff",
   "metadata": {},
   "source": [
    "reverse a list, tuple, or string without using slicing ([::-1]) by using:"
   ]
  },
  {
   "cell_type": "code",
   "execution_count": 27,
   "id": "f507ced3-ebaa-4cb6-b302-ee84a6333eea",
   "metadata": {},
   "outputs": [
    {
     "name": "stdout",
     "output_type": "stream",
     "text": [
      "['e', 'd', 'c', 'b', 'a']\n"
     ]
    }
   ],
   "source": [
    "#Using reversed() function\n",
    "\n",
    "a = [\"a\", \"b\", \"c\", \"d\", \"e\"]\n",
    "reversed_list = list(reversed(a))\n",
    "print(reversed_list)"
   ]
  },
  {
   "cell_type": "code",
   "execution_count": 28,
   "id": "a4c3dc04-6850-4f96-900a-df5c0869b1bb",
   "metadata": {},
   "outputs": [
    {
     "name": "stdout",
     "output_type": "stream",
     "text": [
      "['e', 'd', 'c', 'b', 'a']\n"
     ]
    }
   ],
   "source": [
    "#Using .reverse() (for lists only)\n",
    "\n",
    "a = [\"a\", \"b\", \"c\", \"d\", \"e\"]\n",
    "a.reverse()\n",
    "print(a) "
   ]
  },
  {
   "cell_type": "raw",
   "id": "cb340af5-76e4-49b5-a6f6-13047c077e6b",
   "metadata": {},
   "source": [
    "reverse a string without using slicing ([::-1]):"
   ]
  },
  {
   "cell_type": "code",
   "execution_count": 29,
   "id": "92c0bfa5-a459-48f7-94b0-41dcedf866f0",
   "metadata": {},
   "outputs": [
    {
     "name": "stdout",
     "output_type": "stream",
     "text": [
      "olleh\n"
     ]
    }
   ],
   "source": [
    "# Using reversed() + join()\n",
    "\n",
    "text = \"hello\"\n",
    "reversed_text = ''.join(reversed(text))\n",
    "print(reversed_text)\n",
    "\n",
    "# reversed() gives a reversed iterator.\n",
    "# ''.join() combines the characters back into a string."
   ]
  },
  {
   "cell_type": "code",
   "execution_count": null,
   "id": "19f33a0a-8b91-4ea3-9442-b644e7242cbd",
   "metadata": {},
   "outputs": [],
   "source": []
  }
 ],
 "metadata": {
  "kernelspec": {
   "display_name": "Python 3 (ipykernel)",
   "language": "python",
   "name": "python3"
  },
  "language_info": {
   "codemirror_mode": {
    "name": "ipython",
    "version": 3
   },
   "file_extension": ".py",
   "mimetype": "text/x-python",
   "name": "python",
   "nbconvert_exporter": "python",
   "pygments_lexer": "ipython3",
   "version": "3.13.5"
  }
 },
 "nbformat": 4,
 "nbformat_minor": 5
}
