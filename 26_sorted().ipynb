{
 "cells": [
  {
   "cell_type": "markdown",
   "id": "92059c7f-21c3-43a6-90d8-55abaf318073",
   "metadata": {},
   "source": [
    "# sorted()\n",
    "\n",
    "## 🔹 What is `sorted()`?\n",
    "\n",
    "The **`sorted()`** function is used to **sort any iterable (list, tuple, set, dictionary, etc.) into a new sorted list**.\n",
    "It does **not** change the original data (unlike `.sort()` method, which works in-place on lists).\n",
    "\n",
    "---\n",
    "\n",
    "### ✅ General Syntax\n",
    "\n",
    "```python\n",
    "sorted(iterable, key=None, reverse=False)\n",
    "```\n",
    "\n",
    "* **iterable** → the data you want to sort (list, tuple, dict, etc.)\n",
    "* **key** → function to customize sorting (default: sort by value itself)\n",
    "* **reverse** → `False` (ascending, default) or `True` (descending)\n",
    "\n",
    "---\n",
    "\n",
    "## 🔹 Example\n"
   ]
  },
  {
   "cell_type": "code",
   "execution_count": 1,
   "id": "0ac90aad-c987-47fe-a8c0-89be0e483f03",
   "metadata": {},
   "outputs": [
    {
     "name": "stdout",
     "output_type": "stream",
     "text": [
      "[1, 2, 5, 9]\n",
      "[9, 5, 2, 1]\n"
     ]
    }
   ],
   "source": [
    "# 1. Sort numbers\n",
    "\n",
    "numbers = [5, 2, 9, 1]\n",
    "print(sorted(numbers))\n",
    "print(sorted(numbers, reverse=True))"
   ]
  },
  {
   "cell_type": "code",
   "execution_count": 2,
   "id": "6d733aa2-b4be-4f4f-b48a-2a8259808cb7",
   "metadata": {},
   "outputs": [
    {
     "name": "stdout",
     "output_type": "stream",
     "text": [
      "['Alice', 'Bob', 'Charlie']\n"
     ]
    }
   ],
   "source": [
    "# 2. Sort strings\n",
    "\n",
    "names = [\"Charlie\", \"Alice\", \"Bob\"]\n",
    "print(sorted(names)) "
   ]
  },
  {
   "cell_type": "code",
   "execution_count": 3,
   "id": "ca4ac371-a318-4e71-8e7a-ac8b99055cb4",
   "metadata": {},
   "outputs": [
    {
     "name": "stdout",
     "output_type": "stream",
     "text": [
      "['Bob', 'Alice', 'Charlie']\n"
     ]
    }
   ],
   "source": [
    "# 3. Sort with key (length of string)\n",
    "\n",
    "names = [\"Charlie\", \"Bob\", \"Alice\"]\n",
    "print(sorted(names, key=len))"
   ]
  },
  {
   "cell_type": "code",
   "execution_count": 7,
   "id": "6432c368-0286-4a68-9fcb-7e17423db180",
   "metadata": {},
   "outputs": [
    {
     "name": "stdout",
     "output_type": "stream",
     "text": [
      "[('Bob', 18), ('Alice', 22), ('Charlie', 25)]\n"
     ]
    }
   ],
   "source": [
    "# 4. Sort list of tuples by second element\n",
    "\n",
    "students = [(\"Alice\", 22), (\"Bob\", 18), (\"Charlie\", 25)]\n",
    "\n",
    "# Sort by age\n",
    "print(sorted(students, key=lambda x: x[1]))"
   ]
  },
  {
   "cell_type": "code",
   "execution_count": 9,
   "id": "4ac14d51-88ee-4e27-8896-d0877fb2668a",
   "metadata": {},
   "outputs": [
    {
     "name": "stdout",
     "output_type": "stream",
     "text": [
      "[('Bob', 75), ('Charlie', 85), ('Alice', 90)]\n"
     ]
    }
   ],
   "source": [
    "# 5. Sort dictionary by values\n",
    "\n",
    "scores = {\"Alice\": 90, \"Bob\": 75, \"Charlie\": 85}\n",
    "\n",
    "sorted_scores = sorted(scores.items(), key=lambda x: x[1])\n",
    "print(sorted_scores)"
   ]
  },
  {
   "cell_type": "markdown",
   "id": "459db722-3fac-47fb-bf45-daf5b8add029",
   "metadata": {},
   "source": [
    "## 🔹 Difference: `sorted()` vs `.sort()`\n",
    "\n",
    "| Feature       | `sorted()`   | `.sort()`                      |\n",
    "| ------------- | ------------ | ------------------------------ |\n",
    "| Works on      | Any iterable | Lists only                     |\n",
    "| Return type   | New **list** | Sorts in-place, returns `None` |\n",
    "| Original data | Unchanged    | Modified                       |\n",
    "\n",
    "---\n",
    "\n",
    "✅ **In short:**\n",
    "\n",
    "* Use **`sorted()`** when you want a **new sorted list** without touching the original.\n",
    "* Use **`.sort()`** when you want to **sort a list in-place**.\n",
    "\n",
    "---\n"
   ]
  },
  {
   "cell_type": "code",
   "execution_count": null,
   "id": "b2558a1c-ff53-467a-a1a8-559ed13a9f87",
   "metadata": {},
   "outputs": [],
   "source": []
  }
 ],
 "metadata": {
  "kernelspec": {
   "display_name": "Python 3 (ipykernel)",
   "language": "python",
   "name": "python3"
  },
  "language_info": {
   "codemirror_mode": {
    "name": "ipython",
    "version": 3
   },
   "file_extension": ".py",
   "mimetype": "text/x-python",
   "name": "python",
   "nbconvert_exporter": "python",
   "pygments_lexer": "ipython3",
   "version": "3.13.5"
  }
 },
 "nbformat": 4,
 "nbformat_minor": 5
}
