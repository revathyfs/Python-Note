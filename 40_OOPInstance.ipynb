{
 "cells": [
  {
   "cell_type": "markdown",
   "id": "1d26ad21-d1d9-480b-9f16-8421a7a7757e",
   "metadata": {},
   "source": [
    "An instance of a class in programming (especially in object-oriented programming) is a specific, concrete object created based on the blueprint defined by a class.\n",
    "\n",
    "🔹 Key Concepts:\n",
    "\n",
    "- Class: A class is a blueprint or template for creating objects. It defines the structure (attributes) and behavior (methods) that the objects will have.\n",
    "\n",
    "- Instance: An instance is an actual object created using a class. Each instance has its own separate copy of the attributes defined in the class."
   ]
  },
  {
   "cell_type": "code",
   "execution_count": 1,
   "id": "a9c767fd-da76-4e5d-ab6a-7b786678e8e4",
   "metadata": {},
   "outputs": [],
   "source": [
    "class Dog:\n",
    "    def __init__(self, name, breed):\n",
    "        self.name = name\n",
    "        self.breed = breed\n",
    "\n",
    "# Creating instances\n",
    "dog1 = Dog(\"Buddy\", \"Golden Retriever\")\n",
    "dog2 = Dog(\"Max\", \"Bulldog\")\n"
   ]
  },
  {
   "cell_type": "markdown",
   "id": "5bc4725e-0c00-4e49-8aec-6a40a603482b",
   "metadata": {},
   "source": [
    "- dog1 and dog2 are instances of the Dog class.\n",
    "\n",
    "- Each has its own values for name and breed."
   ]
  },
  {
   "cell_type": "raw",
   "id": "93c8376a-8683-4263-9a2d-f038ea6d8437",
   "metadata": {},
   "source": [
    "🔹 Clear Description:\n",
    "\n",
    "An instance of a class is:\n",
    "\n",
    "-A real, usable object created from the class.\n",
    "\n",
    "It occupies memory and has its own state (i.e., attribute values).\n",
    "\n",
    "It can call methods defined in the class.\n",
    "\n",
    "You can create many instances from the same class, each with different data."
   ]
  }
 ],
 "metadata": {
  "kernelspec": {
   "display_name": "Python 3 (ipykernel)",
   "language": "python",
   "name": "python3"
  },
  "language_info": {
   "codemirror_mode": {
    "name": "ipython",
    "version": 3
   },
   "file_extension": ".py",
   "mimetype": "text/x-python",
   "name": "python",
   "nbconvert_exporter": "python",
   "pygments_lexer": "ipython3",
   "version": "3.13.5"
  }
 },
 "nbformat": 4,
 "nbformat_minor": 5
}
