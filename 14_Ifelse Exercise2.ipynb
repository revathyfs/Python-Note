{
 "cells": [
  {
   "cell_type": "code",
   "execution_count": 16,
   "id": "5f4eb4d7-f2e4-40c2-9ce7-56c607e5bcd0",
   "metadata": {},
   "outputs": [
    {
     "name": "stdin",
     "output_type": "stream",
     "text": [
      "Enter the special :  29\n"
     ]
    },
    {
     "name": "stdout",
     "output_type": "stream",
     "text": [
      "9\n",
      "2\n",
      "Sum of the diigits :  11\n",
      "Product of the digits :  18\n",
      "Sum of the digit add to the product of the digit :  29\n",
      "The sum of two digit added to the product of the two digit is equal the original number\n"
     ]
    }
   ],
   "source": [
    "n=int(input(\"Enter the special : \"))\n",
    "a=n%10\n",
    "print(a)\n",
    "b=n//10\n",
    "print(b)\n",
    "s=a+b\n",
    "print(\"Sum of the diigits : \",s)\n",
    "p=a*b\n",
    "print(\"Product of the digits : \",p)\n",
    "t=s+p\n",
    "print(\"Sum of the digit add to the product of the digit : \",t)\n",
    "if t==n:\n",
    "    print(\"The sum of two digit added to the product of the two digit is equal the original number\")\n",
    "else:\n",
    "    print(\"The sum of the two digits added to the product of the digit is not equal to the original number\")"
   ]
  },
  {
   "cell_type": "code",
   "execution_count": 20,
   "id": "7302054b-96b3-4aa1-b95e-f6d4ed55906c",
   "metadata": {},
   "outputs": [
    {
     "name": "stdin",
     "output_type": "stream",
     "text": [
      "Enter the special Two digit number :  25\n"
     ]
    },
    {
     "name": "stdout",
     "output_type": "stream",
     "text": [
      "It is not a special two digit number\n"
     ]
    }
   ],
   "source": [
    "n=int(input(\"Enter the special Two digit number : \"))\n",
    "a=n%10\n",
    "b=n//10\n",
    "s=a+b\n",
    "p=a*b\n",
    "t=s+p\n",
    "if t==n:\n",
    "    print(\"It is a specal two digit number\")\n",
    "else:\n",
    "    print(\"It is not a special two digit number\")"
   ]
  },
  {
   "cell_type": "code",
   "execution_count": 24,
   "id": "eeb168e9-66ae-4e97-9828-7c04e5b440d4",
   "metadata": {},
   "outputs": [
    {
     "name": "stdin",
     "output_type": "stream",
     "text": [
      "Enter length of the rectangle :  24.3\n",
      "Enter the breadth of the rectangle :  26.9\n"
     ]
    },
    {
     "name": "stdout",
     "output_type": "stream",
     "text": [
      "Area of rectangle :  653.67\n"
     ]
    }
   ],
   "source": [
    "# Area of Rectangle\n",
    "\n",
    "l=float(input(\"Enter length of the rectangle : \"))\n",
    "b=float(input(\"Enter the breadth of the rectangle : \"))\n",
    "area=l*b\n",
    "print(\"Area of rectangle : \",area)\n"
   ]
  },
  {
   "cell_type": "code",
   "execution_count": 1,
   "id": "c95d2626-9942-40b3-b9fa-a14e28728c32",
   "metadata": {},
   "outputs": [
    {
     "name": "stdin",
     "output_type": "stream",
     "text": [
      "Enter length of the rectangle :  10\n",
      "Enter the breadth of the rectangle :  12\n"
     ]
    },
    {
     "name": "stdout",
     "output_type": "stream",
     "text": [
      "Area of triangle :  60.0\n"
     ]
    }
   ],
   "source": [
    "b=float(input(\"Enter length of the rectangle : \"))\n",
    "h=float(input(\"Enter the breadth of the rectangle : \"))\n",
    "area=0.5*b*h\n",
    "print(\"Area of triangle : \",area)\n"
   ]
  },
  {
   "cell_type": "code",
   "execution_count": null,
   "id": "f5785d4c-b176-4665-b46b-5abfe285c5b9",
   "metadata": {},
   "outputs": [],
   "source": []
  }
 ],
 "metadata": {
  "kernelspec": {
   "display_name": "Python 3 (ipykernel)",
   "language": "python",
   "name": "python3"
  },
  "language_info": {
   "codemirror_mode": {
    "name": "ipython",
    "version": 3
   },
   "file_extension": ".py",
   "mimetype": "text/x-python",
   "name": "python",
   "nbconvert_exporter": "python",
   "pygments_lexer": "ipython3",
   "version": "3.13.5"
  }
 },
 "nbformat": 4,
 "nbformat_minor": 5
}
