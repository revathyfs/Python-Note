{
 "cells": [
  {
   "cell_type": "raw",
   "id": "29f03795-ec86-4ae6-967c-ac793367ef8a",
   "metadata": {},
   "source": [
    "range() in Python\n",
    "\n",
    "The range() function returns a sequence of numbers, commonly used in loops like for loops.\n",
    "\n",
    "📘 Syntax:\n",
    "    \n",
    "    range(start, stop, step)\n",
    "\n",
    "start (optional) – The number to start from. Default is 0.\n",
    "\n",
    "stop (required) – The number to stop before.\n",
    "\n",
    "step (optional) – The amount to increase (or decrease) each time. Default is 1."
   ]
  },
  {
   "cell_type": "code",
   "execution_count": 30,
   "id": "fa1078a1-c101-4374-b2c7-43c18e8f9d5d",
   "metadata": {},
   "outputs": [
    {
     "name": "stdout",
     "output_type": "stream",
     "text": [
      "0\n",
      "1\n",
      "2\n",
      "3\n",
      "4\n"
     ]
    }
   ],
   "source": [
    "# range(stop) → starts from 0\n",
    "\n",
    "for i in range(5):\n",
    "    print(i)"
   ]
  },
  {
   "cell_type": "code",
   "execution_count": 31,
   "id": "e98f14bf-b155-4a63-ad7a-5c5aac933dde",
   "metadata": {},
   "outputs": [
    {
     "name": "stdout",
     "output_type": "stream",
     "text": [
      "2\n",
      "3\n",
      "4\n",
      "5\n"
     ]
    }
   ],
   "source": [
    "# range(start, stop)\n",
    "\n",
    "for i in range(2, 6):\n",
    "    print(i)"
   ]
  },
  {
   "cell_type": "code",
   "execution_count": 32,
   "id": "bcfc2979-c32f-4945-8acb-8ae2c7118d1f",
   "metadata": {},
   "outputs": [
    {
     "name": "stdout",
     "output_type": "stream",
     "text": [
      "1\n",
      "3\n",
      "5\n",
      "7\n",
      "9\n"
     ]
    }
   ],
   "source": [
    "# range(start, stop, step)\n",
    "\n",
    "for i in range(1, 10, 2):\n",
    "    print(i)"
   ]
  },
  {
   "cell_type": "code",
   "execution_count": 33,
   "id": "48999b09-b5e2-492c-a187-9e71d9b5aa4b",
   "metadata": {},
   "outputs": [
    {
     "name": "stdout",
     "output_type": "stream",
     "text": [
      "5\n",
      "4\n",
      "3\n",
      "2\n",
      "1\n"
     ]
    }
   ],
   "source": [
    "# Using negative step to count backward\n",
    "\n",
    "for i in range(5, 0, -1):\n",
    "    print(i)"
   ]
  },
  {
   "cell_type": "raw",
   "id": "8fd8376c-dffd-49e6-8294-e765ceaf04d6",
   "metadata": {},
   "source": [
    "The stop value is not included.\n",
    "\n",
    "Works with any integer step, including negative values for reversing."
   ]
  },
  {
   "cell_type": "raw",
   "id": "4bde34fa-174d-417c-9961-a1f5e2331c3a",
   "metadata": {},
   "source": [
    "Exercise\n",
    "\n",
    "1. Write a for loop that prints numbers starting from 0 up to (but not including) 4.\n",
    "2. How do you write a loop that starts printing numbers from 2 and stops before 7?\n",
    "\n",
    "3. Create a loop that prints numbers starting at 1, incrementing by 3, and stops before 10.\n",
    "\n",
    "4. Write a loop to print numbers counting backwards from 5 down to 1 (inclusive).\n",
    "\n",
    "5. Write a loop that prints numbers starting at 10, decreasing by 2, and stops before 3.\n",
    "\n",
    "6. What happens if you try to create a loop starting at 3, stopping before 10, but stepping by -1? Write the code and explain the output.\n",
    "\n"
   ]
  },
  {
   "cell_type": "code",
   "execution_count": 34,
   "id": "12085f8b-f3d0-4fa6-be4e-6d8f68ba9f72",
   "metadata": {},
   "outputs": [
    {
     "name": "stdout",
     "output_type": "stream",
     "text": [
      "0\n",
      "1\n",
      "2\n",
      "3\n"
     ]
    }
   ],
   "source": [
    "#  1. Print numbers from 0 up to (but not including) 4\n",
    "\n",
    "for i in range(4):\n",
    "    print(i)"
   ]
  },
  {
   "cell_type": "code",
   "execution_count": 35,
   "id": "13df9a8c-aa33-4d3f-9680-d2b396f39d95",
   "metadata": {},
   "outputs": [
    {
     "name": "stdout",
     "output_type": "stream",
     "text": [
      "2\n",
      "3\n",
      "4\n",
      "5\n",
      "6\n"
     ]
    }
   ],
   "source": [
    "# 2. Print numbers from 2 up to (but not including) 7\n",
    "\n",
    "for i in range(2, 7):\n",
    "    print(i)"
   ]
  },
  {
   "cell_type": "code",
   "execution_count": 36,
   "id": "86308958-3c7a-4178-b0b3-367eab74a46e",
   "metadata": {},
   "outputs": [
    {
     "name": "stdout",
     "output_type": "stream",
     "text": [
      "1\n",
      "4\n",
      "7\n"
     ]
    }
   ],
   "source": [
    "# 3. Print numbers from 1 to 9, stepping by 3\n",
    "\n",
    "for i in range(1, 10, 3):\n",
    "    print(i)"
   ]
  },
  {
   "cell_type": "code",
   "execution_count": 37,
   "id": "0bdf1041-33a8-4e72-9098-b9e46c4656d9",
   "metadata": {},
   "outputs": [
    {
     "name": "stdout",
     "output_type": "stream",
     "text": [
      "5\n",
      "4\n",
      "3\n",
      "2\n",
      "1\n"
     ]
    }
   ],
   "source": [
    "# 4. Print numbers counting backwards from 5 down to 1\n",
    "\n",
    "for i in range(5, 0, -1):\n",
    "    print(i)"
   ]
  },
  {
   "cell_type": "code",
   "execution_count": 38,
   "id": "0dc60a7f-41e7-4af8-98b5-01e4ab294ee3",
   "metadata": {},
   "outputs": [
    {
     "name": "stdout",
     "output_type": "stream",
     "text": [
      "10\n",
      "8\n",
      "6\n",
      "4\n"
     ]
    }
   ],
   "source": [
    "# 5. Print numbers from 10 down to 4, stepping by -2\n",
    "\n",
    "for i in range(10, 3, -2):\n",
    "    print(i)"
   ]
  },
  {
   "cell_type": "code",
   "execution_count": 40,
   "id": "78887cf6-f4af-4f9f-93b9-304d5168ddc9",
   "metadata": {},
   "outputs": [],
   "source": [
    "# 6. Loop starting at 3, stopping before 10, stepping by -1 (no output)\n",
    "\n",
    "for i in range(3, 10, -1):\n",
    "    print(i)\n",
    "\n",
    "# This prints nothing because the step is negative but start < stop."
   ]
  },
  {
   "cell_type": "code",
   "execution_count": null,
   "id": "66eba00e-d156-4069-812a-978e21780100",
   "metadata": {},
   "outputs": [],
   "source": []
  }
 ],
 "metadata": {
  "kernelspec": {
   "display_name": "Python 3 (ipykernel)",
   "language": "python",
   "name": "python3"
  },
  "language_info": {
   "codemirror_mode": {
    "name": "ipython",
    "version": 3
   },
   "file_extension": ".py",
   "mimetype": "text/x-python",
   "name": "python",
   "nbconvert_exporter": "python",
   "pygments_lexer": "ipython3",
   "version": "3.13.5"
  }
 },
 "nbformat": 4,
 "nbformat_minor": 5
}
