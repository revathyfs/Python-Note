{
 "cells": [
  {
   "cell_type": "markdown",
   "id": "2edbd016",
   "metadata": {},
   "source": [
    "Write a Python program to demonstrate multiple inheritance.\n",
    "1. Employee class has 3 data members EmployeeID, Gender (String), Salary and\n",
    "PerformanceRating(Out of 5) of type int. It has a get() function to get these details from\n",
    "the user.\n",
    "2. JoiningDetail class has a data member DateOfJoining of type Date and a function\n",
    "getDoJ to get the Date of joining of employees.\n",
    "3. Information Class uses the marks from Employee class and the DateOfJoining date\n",
    "from the JoiningDetail class to calculate the top 3 Employees based on their Ratings\n",
    "and then Display, using readData, all the details on these employees in Ascending\n",
    "order of their Date Of Joining."
   ]
  },
  {
   "cell_type": "markdown",
   "id": "872eda8d",
   "metadata": {},
   "source": [
    "Employee → Employee details\n",
    "\n",
    "JoiningDetail → Joining date\n",
    "\n",
    "Information → inherits from both, calculates top 3 employees by rating, sorts them by joining date, and displays them."
   ]
  },
  {
   "cell_type": "code",
   "execution_count": 2,
   "id": "07cc7024-f90d-4f29-a699-8179b505cb52",
   "metadata": {},
   "outputs": [],
   "source": [
    "# Parent Class 1: Employee\n",
    "class Employee:\n",
    "    def __init__(self):\n",
    "        self.EmployeeID = None\n",
    "        self.Gender = None\n",
    "        self.Salary = None\n",
    "        self.PerformanceRating = None\n",
    "\n",
    "    def get(self):\n",
    "        self.EmployeeID = input(\"Enter Employee ID: \")\n",
    "        self.Gender = input(\"Enter Gender (M/F): \")\n",
    "        self.Salary = float(input(\"Enter Salary: \"))\n",
    "        self.PerformanceRating = int(input(\"Enter Performance Rating (out of 5): \"))\n"
   ]
  },
  {
   "cell_type": "code",
   "execution_count": 3,
   "id": "27f97247-b7b2-474e-bc55-fd44d834fe70",
   "metadata": {},
   "outputs": [],
   "source": [
    "# Parent Class 2: Joining Details\n",
    "class JoiningDetail:\n",
    "    def __init__(self):\n",
    "        self.DateOfJoining = None\n",
    "\n",
    "    def getDoJ(self):\n",
    "        date_str = input(\"Enter Date of Joining (DD-MM-YYYY): \")\n",
    "        self.DateOfJoining = datetime.strptime(date_str, \"%d-%m-%Y\")\n"
   ]
  },
  {
   "cell_type": "code",
   "execution_count": 4,
   "id": "472d7dbb-a03b-4235-91a9-f3acc78ba3a3",
   "metadata": {},
   "outputs": [],
   "source": [
    "# Child Class using Multiple Inheritance\n",
    "class Information(Employee, JoiningDetail):\n",
    "    def __init__(self):\n",
    "        Employee.__init__(self)\n",
    "        JoiningDetail.__init__(self)\n",
    "\n",
    "    def readData(self):\n",
    "        print(f\"ID: {self.EmployeeID}, Gender: {self.Gender}, Salary: {self.Salary}, \"\n",
    "              f\"Rating: {self.PerformanceRating}, DOJ: {self.DateOfJoining.strftime('%d-%m-%Y')}\")\n"
   ]
  },
  {
   "cell_type": "code",
   "execution_count": 6,
   "id": "e552a4ad-8617-445a-b15e-f41ade8aef32",
   "metadata": {},
   "outputs": [
    {
     "name": "stdin",
     "output_type": "stream",
     "text": [
      "Enter number of employees:  5\n",
      "Enter Employee ID:  1\n",
      "Enter Gender (M/F):  m\n",
      "Enter Salary:  20000\n",
      "Enter Performance Rating (out of 5):  5\n",
      "Enter Date of Joining (DD-MM-YYYY):  23-10-2022\n",
      "Enter Employee ID:  2\n",
      "Enter Gender (M/F):  f\n",
      "Enter Salary:  18000\n",
      "Enter Performance Rating (out of 5):  5\n",
      "Enter Date of Joining (DD-MM-YYYY):  04-03-2023\n",
      "Enter Employee ID:  5\n",
      "Enter Gender (M/F):  m\n",
      "Enter Salary:  20000\n",
      "Enter Performance Rating (out of 5):  5\n",
      "Enter Date of Joining (DD-MM-YYYY):  20-04-2025\n",
      "Enter Employee ID:  3\n",
      "Enter Gender (M/F):  f\n",
      "Enter Salary:  25000\n",
      "Enter Performance Rating (out of 5):  5\n",
      "Enter Date of Joining (DD-MM-YYYY):  23-06-2025\n",
      "Enter Employee ID:  4\n",
      "Enter Gender (M/F):  m\n",
      "Enter Salary:  23000\n",
      "Enter Performance Rating (out of 5):  5\n",
      "Enter Date of Joining (DD-MM-YYYY):  10-05-2021\n"
     ]
    },
    {
     "name": "stdout",
     "output_type": "stream",
     "text": [
      "\n",
      "Top 3 Employees sorted by Date of Joining:\n",
      "ID: 1, Gender: m, Salary: 20000.0, Rating: 5, DOJ: 23-10-2022\n",
      "ID: 2, Gender: f, Salary: 18000.0, Rating: 5, DOJ: 04-03-2023\n",
      "ID: 5, Gender: m, Salary: 20000.0, Rating: 5, DOJ: 20-04-2025\n"
     ]
    }
   ],
   "source": [
    "# Main Program\n",
    "from datetime import datetime\n",
    "\n",
    "if __name__ == \"__main__\":\n",
    "    employees = []\n",
    "\n",
    "    n = int(input(\"Enter number of employees: \"))\n",
    "    for _ in range(n):\n",
    "        emp = Information()\n",
    "        emp.get()         # Get Employee details\n",
    "        emp.getDoJ()      # Get Date of Joining\n",
    "        employees.append(emp)\n",
    "\n",
    "    # Sort by Performance Rating in descending order, pick top 3\n",
    "    top_employees = sorted(employees, key=lambda x: x.PerformanceRating, reverse=True)[:3]\n",
    "\n",
    "    # Sort top 3 by Date of Joining in ascending order\n",
    "    top_employees.sort(key=lambda x: x.DateOfJoining)\n",
    "\n",
    "    print(\"\\nTop 3 Employees sorted by Date of Joining:\")\n",
    "    for emp in top_employees:\n",
    "        emp.readData()"
   ]
  },
  {
   "cell_type": "code",
   "execution_count": null,
   "id": "5d6f61ec-0ea0-4034-a20c-959d36f82b44",
   "metadata": {},
   "outputs": [],
   "source": []
  }
 ],
 "metadata": {
  "kernelspec": {
   "display_name": "Python 3 (ipykernel)",
   "language": "python",
   "name": "python3"
  },
  "language_info": {
   "codemirror_mode": {
    "name": "ipython",
    "version": 3
   },
   "file_extension": ".py",
   "mimetype": "text/x-python",
   "name": "python",
   "nbconvert_exporter": "python",
   "pygments_lexer": "ipython3",
   "version": "3.13.5"
  }
 },
 "nbformat": 4,
 "nbformat_minor": 5
}
