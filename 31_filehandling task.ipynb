{
 "cells": [
  {
   "cell_type": "code",
   "execution_count": 113,
   "id": "b9853b16-c220-43a0-b5d1-db5a5da0439e",
   "metadata": {},
   "outputs": [
    {
     "name": "stdout",
     "output_type": "stream",
     "text": [
      "best day\n"
     ]
    }
   ],
   "source": [
    "#write a python program to read a file, modify its content, and save it to a new file\n",
    "#steps: read input.txt replace all occurences of \"old_word\" with \"new_word\" save to output.txt\n",
    "\n",
    "a=open(\"C:\\\\Users\\\\Zartech\\\\Revathy\\\\Python\\\\input.txt\").read()\n",
    "print(a)"
   ]
  },
  {
   "cell_type": "code",
   "execution_count": 115,
   "id": "ed6aac08-8454-40a2-94d7-22adaa44e5a8",
   "metadata": {},
   "outputs": [
    {
     "name": "stdout",
     "output_type": "stream",
     "text": [
      "<_io.TextIOWrapper name='C:\\\\Users\\\\Zartech\\\\Revathy\\\\Python\\\\input.txt' mode='w' encoding='cp1252'>\n"
     ]
    }
   ],
   "source": [
    "a=open(\"C:\\\\Users\\\\Zartech\\\\Revathy\\\\Python\\\\input.txt\",\"w\")\n",
    "a.write(\"The content is changed\")\n",
    "a.close()\n",
    "print(a)"
   ]
  },
  {
   "cell_type": "code",
   "execution_count": 117,
   "id": "16672fcf-5b15-460e-8eb4-1d2b963bc36e",
   "metadata": {},
   "outputs": [
    {
     "name": "stdout",
     "output_type": "stream",
     "text": [
      "The content is changed\n"
     ]
    }
   ],
   "source": [
    "a=open(\"C:\\\\Users\\\\Zartech\\\\Revathy\\\\Python\\\\input.txt\").read()\n",
    "print(a)"
   ]
  },
  {
   "cell_type": "code",
   "execution_count": 131,
   "id": "75ee141e-9f9a-4494-b500-a1c8ec2a4c4a",
   "metadata": {},
   "outputs": [],
   "source": [
    "a=open(\"C:\\\\Users\\\\Zartech\\\\Revathy\\\\Python\\\\input.txt\",'r')"
   ]
  },
  {
   "cell_type": "code",
   "execution_count": 133,
   "id": "81a24135-0df6-4989-9daf-35a04d7b97cc",
   "metadata": {},
   "outputs": [],
   "source": [
    "f=a.read()"
   ]
  },
  {
   "cell_type": "code",
   "execution_count": 135,
   "id": "52543ca3-1560-4ed6-88bc-cad989b63c7f",
   "metadata": {},
   "outputs": [],
   "source": [
    "b=open(\"C:\\\\Users\\\\Zartech\\\\Revathy\\\\Python\\\\output.txt\",\"w\")"
   ]
  },
  {
   "cell_type": "code",
   "execution_count": 137,
   "id": "022cb488-910d-44d1-a37a-f5e69e169855",
   "metadata": {},
   "outputs": [
    {
     "name": "stdout",
     "output_type": "stream",
     "text": [
      "<_io.TextIOWrapper name='C:\\\\Users\\\\Zartech\\\\Revathy\\\\Python\\\\output.txt' mode='w' encoding='cp1252'>\n"
     ]
    }
   ],
   "source": [
    "b.write(f)\n",
    "print(b)"
   ]
  },
  {
   "cell_type": "code",
   "execution_count": 139,
   "id": "d471075a-2a6b-4fc1-b36c-1e1124a60f61",
   "metadata": {},
   "outputs": [
    {
     "name": "stdout",
     "output_type": "stream",
     "text": [
      "The content is changed\n"
     ]
    }
   ],
   "source": [
    "b=open(\"C:\\\\Users\\\\Zartech\\\\Revathy\\\\Python\\\\output.txt\").read()\n",
    "\n",
    "print(b)"
   ]
  },
  {
   "cell_type": "code",
   "execution_count": null,
   "id": "3429d4c5-b53b-44cd-925c-c07f36340894",
   "metadata": {},
   "outputs": [],
   "source": []
  }
 ],
 "metadata": {
  "kernelspec": {
   "display_name": "Python 3 (ipykernel)",
   "language": "python",
   "name": "python3"
  },
  "language_info": {
   "codemirror_mode": {
    "name": "ipython",
    "version": 3
   },
   "file_extension": ".py",
   "mimetype": "text/x-python",
   "name": "python",
   "nbconvert_exporter": "python",
   "pygments_lexer": "ipython3",
   "version": "3.13.5"
  }
 },
 "nbformat": 4,
 "nbformat_minor": 5
}
