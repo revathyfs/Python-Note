{
 "cells": [
  {
   "cell_type": "markdown",
   "id": "118bc407",
   "metadata": {},
   "source": [
    "# Regular Expression"
   ]
  },
  {
   "cell_type": "code",
   "execution_count": 1,
   "id": "a20e7060",
   "metadata": {},
   "outputs": [],
   "source": [
    "import re\n",
    "# ^-starting with,$-ends,*-all the characters b/w them"
   ]
  },
  {
   "cell_type": "code",
   "execution_count": 6,
   "id": "2ca996fa",
   "metadata": {},
   "outputs": [
    {
     "name": "stdout",
     "output_type": "stream",
     "text": [
      "<re.Match object; span=(0, 17), match='The rain in Spain'>\n"
     ]
    }
   ],
   "source": [
    "txt='The rain in Spain'\n",
    "x=re.search('^The.*Spain$',txt)#starting with the ending with the spain with all characters in between,^ for starting,.*full sentence,spain$ last word\n",
    "print(x)"
   ]
  },
  {
   "cell_type": "code",
   "execution_count": 3,
   "id": "d7879625",
   "metadata": {},
   "outputs": [
    {
     "name": "stdout",
     "output_type": "stream",
     "text": [
      "['ai', 'ai']\n"
     ]
    }
   ],
   "source": [
    "#finding all patterns\n",
    "txt='The rain in spain'\n",
    "x=re.findall('ai',txt)\n",
    "print(x)"
   ]
  },
  {
   "cell_type": "code",
   "execution_count": 9,
   "id": "71975099",
   "metadata": {},
   "outputs": [
    {
     "name": "stdout",
     "output_type": "stream",
     "text": [
      "['Spain']\n"
     ]
    }
   ],
   "source": [
    "txt='The rain in Spain'\n",
    "x=re.findall('Spain',txt)\n",
    "print(x)"
   ]
  },
  {
   "cell_type": "code",
   "execution_count": 5,
   "id": "d29501da",
   "metadata": {},
   "outputs": [
    {
     "name": "stdout",
     "output_type": "stream",
     "text": [
      "<re.Match object; span=(3, 4), match=' '>\n",
      "The first white space character is located in position: 3\n"
     ]
    }
   ],
   "source": [
    "#find the first white space position\n",
    "\n",
    "txt='The rain in spain hello'\n",
    "x=re.search('\\s',txt)\n",
    "print(x)\n",
    "print('The first white space character is located in position:',x.start())\n",
    "\n"
   ]
  },
  {
   "cell_type": "code",
   "execution_count": 5,
   "id": "05600a1f",
   "metadata": {},
   "outputs": [
    {
     "name": "stdout",
     "output_type": "stream",
     "text": [
      "['The', 'rain', 'in', 'spain']\n"
     ]
    }
   ],
   "source": [
    "#split at each white space character\n",
    "txt='The rain in spain'\n",
    "x=re.split('\\s',txt)\n",
    "print(x)"
   ]
  },
  {
   "cell_type": "code",
   "execution_count": 7,
   "id": "aa670366",
   "metadata": {},
   "outputs": [
    {
     "name": "stdout",
     "output_type": "stream",
     "text": [
      "The9rain9in9spain\n"
     ]
    }
   ],
   "source": [
    "#Replace the white space with 9\n",
    "txt='The rain in spain'\n",
    "x=re.sub('\\s','9',txt)\n",
    "print(x)\n"
   ]
  },
  {
   "cell_type": "code",
   "execution_count": 6,
   "id": "01b6f49f",
   "metadata": {},
   "outputs": [
    {
     "name": "stdout",
     "output_type": "stream",
     "text": [
      "The0rain0in spain\n"
     ]
    }
   ],
   "source": [
    "#replace first n white space with 0\n",
    "txt='The rain in spain'\n",
    "x=re.sub('\\s','0',txt,2)\n",
    "print(x)\n"
   ]
  },
  {
   "cell_type": "code",
   "execution_count": 8,
   "id": "e208baf7",
   "metadata": {},
   "outputs": [
    {
     "name": "stdout",
     "output_type": "stream",
     "text": [
      "['h', 'e', 'r', 'a', 'i', 'n', 'i', 'n', 'p', 'a', 'i', 'n']\n"
     ]
    }
   ],
   "source": [
    "#finding all lower case characters alphabetically between'a' and 'z'\n",
    "txt='The rain in Spain'\n",
    "x=re.findall('[a-z]',txt)\n",
    "print(x)"
   ]
  },
  {
   "cell_type": "code",
   "execution_count": 9,
   "id": "d1f3d4c8",
   "metadata": {},
   "outputs": [
    {
     "name": "stdout",
     "output_type": "stream",
     "text": [
      "['5', '9', '7', '7']\n"
     ]
    }
   ],
   "source": [
    "#finding digit characters\n",
    "txt='It will be 5977 dollars'\n",
    "x=re.findall('\\d',txt)\n",
    "print(x)"
   ]
  },
  {
   "cell_type": "code",
   "execution_count": 11,
   "id": "e8e0ee8f",
   "metadata": {},
   "outputs": [
    {
     "name": "stdout",
     "output_type": "stream",
     "text": [
      "['hello', 'hello']\n"
     ]
    }
   ],
   "source": [
    "#starting with he and two letters in between and ending with o\n",
    "txt='hello hello world hero'\n",
    "x=re.findall('he..o',txt)\n",
    "print(x)\n"
   ]
  },
  {
   "cell_type": "code",
   "execution_count": 7,
   "id": "e0c44a57",
   "metadata": {},
   "outputs": [
    {
     "name": "stdout",
     "output_type": "stream",
     "text": [
      "['all']\n",
      "Yes, there is atleast one match\n"
     ]
    }
   ],
   "source": [
    "#check if the string contains 'a' followed by exactly two l characters:\n",
    "txt='The rain in spain falls mainly in the plain'\n",
    "x=re.findall('al{2}',txt)\n",
    "print(x)\n",
    "\n",
    "if x:\n",
    "    print('Yes, there is atleast one match')\n",
    "else:\n",
    "    print('No match')"
   ]
  },
  {
   "cell_type": "code",
   "execution_count": 12,
   "id": "5db5f5b1",
   "metadata": {},
   "outputs": [
    {
     "name": "stdout",
     "output_type": "stream",
     "text": [
      "['stays']\n",
      "Yes, there is atleast one match\n"
     ]
    }
   ],
   "source": [
    "#check if the string contains either falls or stays\n",
    "txt='The rain in spain  stays  mainly in the plain'\n",
    "x=re.findall('falls|stays',txt)\n",
    "print(x)\n",
    "\n",
    "if x:\n",
    "    print('Yes, there is atleast one match')\n",
    "else:\n",
    "    print('No match')\n"
   ]
  },
  {
   "cell_type": "code",
   "execution_count": 14,
   "id": "6116deb4",
   "metadata": {},
   "outputs": [
    {
     "name": "stdout",
     "output_type": "stream",
     "text": [
      "['Rain']\n",
      "Yes, there is atleast one match\n"
     ]
    }
   ],
   "source": [
    "#check if the string starts with 'the'\n",
    "txt='Rain in spain falls mainly in the plain'\n",
    "x=re.findall('\\ARain',txt)\n",
    "print(x)\n",
    "\n",
    "if x:\n",
    "    print('Yes, there is atleast one match')\n",
    "else:\n",
    "    print('No match')\n",
    "\n"
   ]
  },
  {
   "cell_type": "code",
   "execution_count": 16,
   "id": "8b8566a7",
   "metadata": {},
   "outputs": [
    {
     "name": "stdout",
     "output_type": "stream",
     "text": [
      "[]\n",
      "No match\n"
     ]
    }
   ],
   "source": [
    "#check if the string starts with 'the'\n",
    "txt='rain in spain falls mainly in the plain'\n",
    "x=re.findall('^Rain',txt)\n",
    "print(x)\n",
    "\n",
    "if x:\n",
    "    print('Yes, there is atleast one match')\n",
    "else:\n",
    "    print('No match')\n"
   ]
  },
  {
   "cell_type": "code",
   "execution_count": 14,
   "id": "ba97e76d",
   "metadata": {},
   "outputs": [
    {
     "name": "stdout",
     "output_type": "stream",
     "text": [
      "['I', 't', ' ', 'w', 'i', 'l', 'l', ' ', 'b', 'e', ' ', ' ', '*', ' ', 'd', 'o', 'l', 'l', 'a', 'r', 's']\n",
      "Yes, there is atleast one match\n"
     ]
    }
   ],
   "source": [
    "#finding characters except digit characters\n",
    "txt='It will be 59 * dollars'\n",
    "x=re.findall('\\D',txt)\n",
    "print(x)\n",
    "\n",
    "if x:\n",
    "    print('Yes, there is atleast one match')\n",
    "else:\n",
    "    print('No match')\n",
    "\n"
   ]
  },
  {
   "cell_type": "code",
   "execution_count": 21,
   "id": "c9bb78c7",
   "metadata": {},
   "outputs": [
    {
     "name": "stdout",
     "output_type": "stream",
     "text": [
      "[' ', ' ', ' ']\n",
      "Yes, there is atleast one match\n"
     ]
    }
   ],
   "source": [
    "#find a match at all white space character\n",
    "txt='The rain in spain'\n",
    "x=re.findall('\\s',txt)\n",
    "print(x)\n",
    "\n",
    "if x:\n",
    "    print('Yes, there is atleast one match')\n",
    "else:\n",
    "    print('No match')\n",
    "\n"
   ]
  },
  {
   "cell_type": "code",
   "execution_count": 24,
   "id": "510bad1b",
   "metadata": {},
   "outputs": [
    {
     "name": "stdout",
     "output_type": "stream",
     "text": [
      "['T', 'h', 'e', 'r', 'a', 'i', 'n', 'i', 'n', 's', 'p', 'a', 'i', 'n']\n",
      "Yes, there is atleast one match\n"
     ]
    }
   ],
   "source": [
    "#find a match at all non-white space character\n",
    "txt='The rain in spain'\n",
    "x=re.findall('\\S',txt)\n",
    "print(x)\n",
    "\n",
    "if x:\n",
    "    print('Yes, there is atleast one match')\n",
    "else:\n",
    "    print('No match')\n",
    "\n"
   ]
  },
  {
   "cell_type": "code",
   "execution_count": 23,
   "id": "b8be5b74",
   "metadata": {},
   "outputs": [
    {
     "name": "stdout",
     "output_type": "stream",
     "text": [
      "['T', 'h', 'e', 'r', 'a', 'i', 'n', 'i', 'n', 's', 'p', 'a', 'i', 'n', '_', '2', '0', '1', '9']\n",
      "Yes, there is atleast one match\n"
     ]
    }
   ],
   "source": [
    "#Find a match at character a-z,A-Z,0-9,_\n",
    "txt='The rain in spain_2019'\n",
    "x=re.findall('\\w',txt)\n",
    "print(x)\n",
    "\n",
    "if x:\n",
    "    print('Yes, there is atleast one match')\n",
    "else:\n",
    "    print('No match')\n",
    "\n"
   ]
  },
  {
   "cell_type": "code",
   "execution_count": 25,
   "id": "f142feb1",
   "metadata": {},
   "outputs": [
    {
     "name": "stdout",
     "output_type": "stream",
     "text": [
      "['a', 'i', 'n', 'i', 'n', 'a', 'i', 'n']\n",
      "Yes, there is atleast one match\n"
     ]
    }
   ],
   "source": [
    "#find a match for a,i or n,finding individual characters\n",
    "txt='The rain in spain'\n",
    "x=re.findall('[ain]',txt)\n",
    "print(x)\n",
    "\n",
    "if x:\n",
    "    print('Yes, there is atleast one match')\n",
    "else:\n",
    "    print('No match')\n",
    "\n"
   ]
  },
  {
   "cell_type": "code",
   "execution_count": 20,
   "id": "bc32a3a2",
   "metadata": {},
   "outputs": [
    {
     "name": "stdout",
     "output_type": "stream",
     "text": [
      "['h', 'e', 'a', 'i', 'n', 'i', 'n', 'a', 'i', 'n']\n",
      "Yes, there is atleast one match\n"
     ]
    }
   ],
   "source": [
    "#find charactrs b/w a-n\n",
    "txt='The rain in spain'\n",
    "x=re.findall('[a-n]',txt)\n",
    "print(x)\n",
    "\n",
    "if x:\n",
    "    print('Yes, there is atleast one match')\n",
    "else:\n",
    "    print('No match')"
   ]
  },
  {
   "cell_type": "code",
   "execution_count": 17,
   "id": "39041642",
   "metadata": {},
   "outputs": [
    {
     "name": "stdout",
     "output_type": "stream",
     "text": [
      "['T', 'h', 'e', ' ', 'i', ' ', 'i', ' ', 's', 'p', 'i']\n",
      "Yes, there is atleast one match\n"
     ]
    }
   ],
   "source": [
    "#find a match other than a,r or n,finding individual characters\n",
    "txt='The rain in spain'\n",
    "x=re.findall('[^arn]',txt)\n",
    "print(x)\n",
    "\n",
    "if x:\n",
    "    print('Yes, there is atleast one match')\n",
    "else:\n",
    "    print('No match')"
   ]
  },
  {
   "cell_type": "code",
   "execution_count": 26,
   "id": "04cbb60e",
   "metadata": {},
   "outputs": [
    {
     "name": "stdout",
     "output_type": "stream",
     "text": [
      "['6', '5']\n",
      "Yes, there is atleast one match\n"
     ]
    }
   ],
   "source": [
    "#find digits from 0-3\n",
    "txt='The rain in spain659'\n",
    "x=re.findall('[0-7]',txt)\n",
    "print(x)\n",
    "if x:\n",
    "    print('Yes, there is atleast one match')\n",
    "else:\n",
    "    print('No match')\n",
    "\n",
    "\n",
    "\n"
   ]
  },
  {
   "cell_type": "code",
   "execution_count": 19,
   "id": "3aea70e5",
   "metadata": {},
   "outputs": [
    {
     "name": "stdout",
     "output_type": "stream",
     "text": [
      "['8', 't', 'i', 'm', 'e', 's', 'b', 'e', 'f', 'o', 'r', 'e', '1', '1', ':', '4', '5', 'A', 'M', '@', '#']\n",
      "Yes, there is atleast one match\n"
     ]
    }
   ],
   "source": [
    "#check if strings has any characters from a to z lower case and A-Z upper case\n",
    "txt='8 times before 11:45 AM@ # *'\n",
    "x=re.findall('[a-zA-Z0-9:#@]',txt)\n",
    "print(x)\n",
    "if x:\n",
    "    print('Yes, there is atleast one match')\n",
    "else:\n",
    "    print('No match')\n",
    "\n"
   ]
  }
 ],
 "metadata": {
  "kernelspec": {
   "display_name": "Python 3 (ipykernel)",
   "language": "python",
   "name": "python3"
  },
  "language_info": {
   "codemirror_mode": {
    "name": "ipython",
    "version": 3
   },
   "file_extension": ".py",
   "mimetype": "text/x-python",
   "name": "python",
   "nbconvert_exporter": "python",
   "pygments_lexer": "ipython3",
   "version": "3.12.4"
  }
 },
 "nbformat": 4,
 "nbformat_minor": 5
}
