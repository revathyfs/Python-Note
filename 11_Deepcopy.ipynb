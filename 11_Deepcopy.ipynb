{
 "cells": [
  {
   "cell_type": "markdown",
   "id": "3e576948-850f-4548-97ec-c4dad7452bee",
   "metadata": {},
   "source": [
    "Deep copy \n",
    "it is done by deepcopy() \n",
    "A deep copy creates a new object and recursively adds the copies of nested objects present in the original elements.\n",
    "\n",
    "Let’s continue with example 2. However, we are going to create deep copy using deepcopy() function present in copy module. The deep copy creates independent copy of original object and all its nested objects.\n",
    "\n",
    "A deep copy creates a new object and recursively adds the copies of nested objects present in the original elements."
   ]
  },
  {
   "cell_type": "code",
   "execution_count": 4,
   "id": "17bc29bb-ec49-4852-be55-cfb4f30b4acd",
   "metadata": {},
   "outputs": [],
   "source": [
    "import copy"
   ]
  },
  {
   "cell_type": "code",
   "execution_count": 6,
   "id": "0ab3e91f-b022-4d7b-80fe-859c9e4c59b9",
   "metadata": {},
   "outputs": [
    {
     "name": "stdout",
     "output_type": "stream",
     "text": [
      "Old List :  [[1, 1, 1], [2, 2, 2], [3, 3, 3]]\n",
      "New List :  [[1, 1, 1], ['BB', 2, 2], [3, 3, 3]]\n"
     ]
    }
   ],
   "source": [
    "old_list=[[1,1,1,],[2,2,2],[3,3,3]]\n",
    "new_list=copy.deepcopy(old_list)\n",
    "new_list[1][0]='BB'\n",
    "print('Old List : ',old_list)\n",
    "print('New List : ',new_list)"
   ]
  },
  {
   "cell_type": "code",
   "execution_count": 8,
   "id": "0b49f14c-d727-49df-ac1e-83f0c9be56f1",
   "metadata": {},
   "outputs": [
    {
     "name": "stdout",
     "output_type": "stream",
     "text": [
      "Old list :  [[1, 1, 1], [2, 2, 2], [3, 3, 3]]\n",
      "new_list :  [[1, 1, 1], [2, 2, 2], 'BB']\n"
     ]
    }
   ],
   "source": [
    "old_list=[[1,1,1],[2,2,2],[3,3,3]]\n",
    "new_list=copy.deepcopy(old_list)\n",
    "new_list[2]='BB'\n",
    "print(\"Old list : \",old_list)\n",
    "print(\"new_list : \",new_list)"
   ]
  },
  {
   "cell_type": "code",
   "execution_count": 12,
   "id": "92c1c379-9de2-4a38-ba99-3beb00abc075",
   "metadata": {},
   "outputs": [
    {
     "name": "stdout",
     "output_type": "stream",
     "text": [
      "[[12, 5], ['7', 7]]\n",
      "[[12, 5], ['7', 7]]\n"
     ]
    }
   ],
   "source": [
    "#shallow\n",
    "\n",
    "import copy\n",
    "l=[[12,5],[5,7]]\n",
    "new_l=copy.copy(l)\n",
    "new_l[1][0]='7'\n",
    "print(l)\n",
    "print(new_l)"
   ]
  },
  {
   "cell_type": "code",
   "execution_count": null,
   "id": "2638d7cc-2f60-444b-b09b-b308313331f4",
   "metadata": {},
   "outputs": [],
   "source": []
  }
 ],
 "metadata": {
  "kernelspec": {
   "display_name": "Python 3 (ipykernel)",
   "language": "python",
   "name": "python3"
  },
  "language_info": {
   "codemirror_mode": {
    "name": "ipython",
    "version": 3
   },
   "file_extension": ".py",
   "mimetype": "text/x-python",
   "name": "python",
   "nbconvert_exporter": "python",
   "pygments_lexer": "ipython3",
   "version": "3.13.5"
  }
 },
 "nbformat": 4,
 "nbformat_minor": 5
}
