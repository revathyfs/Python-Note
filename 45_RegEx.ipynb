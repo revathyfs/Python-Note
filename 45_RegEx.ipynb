{
 "cells": [
  {
   "cell_type": "markdown",
   "id": "b865c436-4225-4d79-b9f5-806a5d86b138",
   "metadata": {},
   "source": [
    "Python RegEx\n",
    "---"
   ]
  },
  {
   "cell_type": "markdown",
   "id": "6befd301",
   "metadata": {},
   "source": [
    "A Regular Expression or RegEx is a special sequence of characters that uses a search pattern to find a string or set of strings.\n",
    "\n",
    "It can detect the presence or absence of a text by matching it with a particular pattern and also can split a pattern into one or more sub-patterns.\n",
    "\n",
    "## Regex Module in Python\n",
    "\n",
    "Python has a built-in module named \"re\" that is used for regular expressions in Python. We can import this module by using import statement.\n",
    "\n",
    "Importing re module in Python using following command:\n",
    "\n",
    "*import re*\n",
    "\n",
    "### How to Use RegEx in Python?\n",
    "Use RegEx in Python after importing re module.\n",
    "\n",
    "**Example:**\n",
    "\n",
    "This Python code uses regular expressions to search for the word \"portal\" in the given string and then prints the start and end indices of the matched word within the string."
   ]
  },
  {
   "cell_type": "code",
   "execution_count": 4,
   "id": "188bc704",
   "metadata": {},
   "outputs": [
    {
     "name": "stdout",
     "output_type": "stream",
     "text": [
      "Start Index: 34\n",
      "End Index: 40\n"
     ]
    }
   ],
   "source": [
    "import re\n",
    "\n",
    "s = 'GeeksforGeeks: A computer science portal for geeks'\n",
    "match = re.search(r'portal', s)\n",
    "\n",
    "print('Start Index:', match.start())\n",
    "print('End Index:', match.end())"
   ]
  },
  {
   "cell_type": "markdown",
   "id": "c932173d",
   "metadata": {},
   "source": [
    "Here r character (r’portal’) stands for raw, not regex. The raw string is slightly different from a regular string, it won’t interpret the \\ character as an escape character. This is because the regular expression engine uses \\ character for its own escaping purpose."
   ]
  },
  {
   "cell_type": "markdown",
   "id": "c4de3178",
   "metadata": {},
   "source": [
    "Before starting with the Python regex module let's see how to actually write regex using metacharacters or special sequences. "
   ]
  },
  {
   "cell_type": "markdown",
   "id": "61f047b5",
   "metadata": {},
   "source": [
    "# RegEx Functions\n",
    "\n",
    "The re module in Python provides various functions that help search, match, and manipulate strings using regular expressions.\n",
    "\n",
    "Below are main functions available in the re module:\n",
    "\n",
    "| Function           | Description                                                                                                           |\n",
    "| ------------------ | --------------------------------------------------------------------------------------------------------------------- |\n",
    "| **`re.findall()`** | Finds **all** non-overlapping matches of the pattern in the string and returns them as a **list** of strings.         |\n",
    "| **`re.compile()`** | Compiles a regular expression pattern into a **pattern object** for faster repeated matching.                         |\n",
    "| **`re.split()`**   | Splits a string by occurrences of a **pattern** and returns a list of substrings.                                     |\n",
    "| **`re.sub()`**     | Replaces **all** occurrences of a pattern with a replacement string and returns the new string.                       |\n",
    "| **`re.subn()`**    | Similar to `re.sub()`, but returns a **tuple** `(new_string, number_of_substitutions)`.                               |\n",
    "| **`re.escape()`**  | Escapes all special regex characters in a string so they are treated as **literal characters**.                       |\n",
    "| **`re.search()`**  | Searches for the **first** location where the pattern matches and returns a **match object** (or `None` if no match). |\n"
   ]
  },
  {
   "cell_type": "markdown",
   "id": "78c273bf",
   "metadata": {},
   "source": [
    "## 1. re.findall()\n",
    "\n",
    "Returns all non-overlapping matches of a pattern in the string as a list. It scans the string from left to right.\n",
    "\n",
    "Example: This code uses regular expression \\d+ to find all sequences of one or more digits in the given string."
   ]
  },
  {
   "cell_type": "code",
   "execution_count": 2,
   "id": "dfa54ddc",
   "metadata": {},
   "outputs": [
    {
     "name": "stdout",
     "output_type": "stream",
     "text": [
      "['123456789', '987654321']\n"
     ]
    }
   ],
   "source": [
    "import re\n",
    "string = \"\"\"Hello my Number is 123456789 and\n",
    "            my friend's number is 987654321\"\"\"\n",
    "            \n",
    "regex = '\\d+'\n",
    "match = re.findall(regex, string)\n",
    "print(match)"
   ]
  },
  {
   "cell_type": "markdown",
   "id": "c4607904",
   "metadata": {},
   "source": [
    "## 2. re.compile()\n",
    "Compiles a regex into a pattern object, which can be reused for matching or substitutions.\n",
    "\n",
    "Example 1: This pattern [a-e] matches all lowercase letters between 'a' and 'e', in the input string \"Aye, said Mr. Gibenson Stark\". The output should be ['e', 'a', 'd', 'b', 'e'], which are matching characters."
   ]
  },
  {
   "cell_type": "code",
   "execution_count": 5,
   "id": "2d0ee788",
   "metadata": {},
   "outputs": [
    {
     "name": "stdout",
     "output_type": "stream",
     "text": [
      "['e', 'a', 'd', 'b', 'e', 'a']\n"
     ]
    }
   ],
   "source": [
    "import re\n",
    "p = re.compile('[a-e]')\n",
    "print(p.findall(\"Aye, said Mr. Gibenson Stark\"))"
   ]
  },
  {
   "cell_type": "raw",
   "id": "2a456378",
   "metadata": {},
   "source": [
    "- First occurrence is 'e' in \"Aye\" and not 'A', as it is Case Sensitive.\n",
    "- Next Occurrence is 'a' in \"said\", then 'd' in \"said\", followed by 'b' and 'e' in \"Gibenson\", the Last 'a' matches with \"Stark\".\n",
    "- Metacharacter backslash '\\' has a very important role as it signals various sequences. If the backslash is to be used without its special meaning as metacharacter, use'\\\\'"
   ]
  },
  {
   "cell_type": "markdown",
   "id": "5d534d16",
   "metadata": {},
   "source": [
    "Example 2: The code uses regular expressions to find and list all single digits and sequences of digits in the given input strings. It finds single digits with \\d and sequences of digits with \\d+."
   ]
  },
  {
   "cell_type": "code",
   "execution_count": 4,
   "id": "5f93a900",
   "metadata": {},
   "outputs": [
    {
     "name": "stdout",
     "output_type": "stream",
     "text": [
      "['1', '1', '4', '1', '8', '8', '6']\n",
      "['11', '4', '1886']\n"
     ]
    }
   ],
   "source": [
    "import re\n",
    "p = re.compile('\\d')\n",
    "print(p.findall(\"I went to him at 11 A.M. on 4th July 1886\"))\n",
    "\n",
    "p = re.compile('\\d+')\n",
    "print(p.findall(\"I went to him at  11A.M. on 4th July 1886\"))"
   ]
  },
  {
   "cell_type": "markdown",
   "id": "65e0a94d",
   "metadata": {},
   "source": [
    "Example 3: Word and non-word characters\n",
    "\n",
    "- \\w matches a single word character.\n",
    "- \\w+ matches a group of word characters.\n",
    "- \\W matches non-word characters."
   ]
  },
  {
   "cell_type": "code",
   "execution_count": 5,
   "id": "ce69edac",
   "metadata": {},
   "outputs": [
    {
     "name": "stdout",
     "output_type": "stream",
     "text": [
      "['H', 'e', 's', 'a', 'i', 'd', 'i', 'n', 's', 'o', 'm', 'e', '_', 'l', 'a', 'n', 'g']\n",
      "['I', 'went', 'to', 'him', 'at', '11', 'A', 'M', 'he', 'said', 'in', 'some_language']\n",
      "[' ', ' ', '*', '*', '*', ' ', ' ', '.']\n"
     ]
    }
   ],
   "source": [
    "import re\n",
    "\n",
    "p = re.compile('\\w')\n",
    "print(p.findall(\"He said * in some_lang.\"))\n",
    "\n",
    "p = re.compile('\\w+')\n",
    "print(p.findall(\"I went to him at 11 A.M., he \\\n",
    "said *** in some_language.\"))\n",
    "\n",
    "p = re.compile('\\W')\n",
    "print(p.findall(\"he said *** in some_language.\"))"
   ]
  },
  {
   "cell_type": "markdown",
   "id": "9fc4c524",
   "metadata": {},
   "source": [
    "Example 4: The regular expression pattern 'ab*' to find and list all occurrences of 'ab' followed by zero or more 'b' characters. In the input string \"ababbaabbb\". It returns the following list of matches: ['ab', 'abb', 'abbb']."
   ]
  },
  {
   "cell_type": "code",
   "execution_count": 6,
   "id": "8fc06710",
   "metadata": {},
   "outputs": [
    {
     "name": "stdout",
     "output_type": "stream",
     "text": [
      "['ab', 'abb', 'a', 'abbb']\n"
     ]
    }
   ],
   "source": [
    "import re\n",
    "p = re.compile('ab*')\n",
    "print(p.findall(\"ababbaabbb\"))"
   ]
  },
  {
   "cell_type": "markdown",
   "id": "a94737be",
   "metadata": {},
   "source": [
    "- Output 'ab', is valid because of single 'a' accompanied by single 'b'.\n",
    "- Output 'abb', is valid because of single 'a' accompanied by 2 'b'.\n",
    "- Output 'a', is valid because of single 'a' accompanied by 0 'b'.\n",
    "- Output 'abbb', is valid because of single 'a' accompanied by 3 'b'."
   ]
  },
  {
   "cell_type": "markdown",
   "id": "ffd9d8e8",
   "metadata": {},
   "source": [
    "## 3. re.split() \n",
    "Splits a string wherever the pattern matches. The remaining characters are returned as list elements.\n",
    "\n",
    "**Syntax:** \n",
    "\n",
    "*re.split(pattern, string, maxsplit=0, flags=0)*\n",
    "\n",
    "- pattern: Regular expression to match split points.\n",
    "- string: The input string to split.\n",
    "- maxsplit (optional): Limits the number of splits. Default is 0 (no limit).\n",
    "- flags (optional): Apply regex flags like re.IGNORECASE."
   ]
  },
  {
   "cell_type": "markdown",
   "id": "1e416f0f",
   "metadata": {},
   "source": [
    "Example 1: Splitting by non-word characters or digits\n",
    "\n",
    "This example demonstrates how to split a string using different patterns like non-word characters (\\W+), apostrophes, and digits (\\d+)."
   ]
  },
  {
   "cell_type": "code",
   "execution_count": 7,
   "id": "fd7b2e01",
   "metadata": {},
   "outputs": [
    {
     "name": "stdout",
     "output_type": "stream",
     "text": [
      "['Words', 'words', 'Words']\n",
      "['Word', 's', 'words', 'Words']\n",
      "['On', '12th', 'Jan', '2016', 'at', '11', '02', 'AM']\n",
      "['On ', 'th Jan ', ', at ', ':', ' AM']\n"
     ]
    }
   ],
   "source": [
    "from re import split\n",
    "\n",
    "print(split('\\W+', 'Words, words , Words'))\n",
    "print(split('\\W+', \"Word's words Words\"))\n",
    "print(split('\\W+', 'On 12th Jan 2016, at 11:02 AM'))\n",
    "print(split('\\d+', 'On 12th Jan 2016, at 11:02 AM'))"
   ]
  },
  {
   "cell_type": "markdown",
   "id": "a1b7b87d",
   "metadata": {},
   "source": [
    "Example 2: Using maxsplit and flags\n",
    "\n",
    "This example shows how to limit the number of splits using maxsplit, and how flags can control case sensitivity."
   ]
  },
  {
   "cell_type": "code",
   "execution_count": 8,
   "id": "4dff936d",
   "metadata": {},
   "outputs": [
    {
     "name": "stdout",
     "output_type": "stream",
     "text": [
      "['On ', 'th Jan 2016, at 11:02 AM']\n",
      "['', 'y, ', 'oy oh ', 'oy, ', 'om', ' h', 'r', '']\n",
      "['A', 'y, Boy oh ', 'oy, ', 'om', ' h', 'r', '']\n"
     ]
    },
    {
     "name": "stderr",
     "output_type": "stream",
     "text": [
      "C:\\Users\\Hello\\AppData\\Local\\Temp\\ipykernel_12044\\3080395625.py:2: DeprecationWarning: 'maxsplit' is passed as positional argument\n",
      "  print(re.split('\\d+', 'On 12th Jan 2016, at 11:02 AM', 1))\n"
     ]
    }
   ],
   "source": [
    "import re\n",
    "print(re.split('\\d+', 'On 12th Jan 2016, at 11:02 AM', 1))\n",
    "print(re.split('[a-f]+', 'Aey, Boy oh boy, come here', flags=re.IGNORECASE))\n",
    "print(re.split('[a-f]+', 'Aey, Boy oh boy, come here'))"
   ]
  },
  {
   "cell_type": "markdown",
   "id": "5da1acd2",
   "metadata": {},
   "source": [
    "In the second and third cases of the above , [a-f]+ splits the string using any combination of lowercase letters from 'a' to 'f'. The re.IGNORECASE flag includes uppercase letters in the match."
   ]
  },
  {
   "cell_type": "markdown",
   "id": "4c7ece14",
   "metadata": {},
   "source": [
    "## 4. re.sub()\n",
    "The re.sub() function replaces all occurrences of a pattern in a string with a replacement string.\n",
    "\n",
    "**Syntax:**\n",
    "\n",
    " *re.sub(pattern, repl, string, count=0, flags=0)*\n",
    "\n",
    "- pattern: The regex pattern to search for.\n",
    "- repl: The string to replace matches with.\n",
    "- string: The input string to process.\n",
    "- count (optional): Maximum number of substitutions (default is 0, which means replace all).\n",
    "- flags (optional): Regex flags like re.IGNORECASE."
   ]
  },
  {
   "cell_type": "markdown",
   "id": "268cb22b",
   "metadata": {},
   "source": [
    "Example 1: The following examples show different ways to replace the pattern 'ub' with '~*', using various flags and count values."
   ]
  },
  {
   "cell_type": "code",
   "execution_count": 9,
   "id": "4405a847",
   "metadata": {},
   "outputs": [
    {
     "name": "stdout",
     "output_type": "stream",
     "text": [
      "S~*ject has ~*er booked already\n",
      "S~*ject has Uber booked already\n",
      "S~*ject has Uber booked already\n",
      "Baked Beans & Spam\n"
     ]
    }
   ],
   "source": [
    "import re\n",
    "\n",
    "# Case-insensitive replacement of all 'ub'\n",
    "print(re.sub('ub', '~*', 'Subject has Uber booked already', flags=re.IGNORECASE))\n",
    "\n",
    "# Case-sensitive replacement of all 'ub'\n",
    "print(re.sub('ub', '~*', 'Subject has Uber booked already'))\n",
    "\n",
    "# Replace only the first 'ub', case-insensitive\n",
    "print(re.sub('ub', '~*', 'Subject has Uber booked already', count=1, flags=re.IGNORECASE))\n",
    "\n",
    "# Replace \"AND\" with \"&\", ignoring case\n",
    "print(re.sub(r'\\sAND\\s', ' & ', 'Baked Beans And Spam', flags=re.IGNORECASE))"
   ]
  },
  {
   "cell_type": "markdown",
   "id": "3eda7f67",
   "metadata": {},
   "source": [
    "## 5. re.subn()\n",
    "re.subn() function works just like re.sub(), but instead of returning only the modified string, it returns a tuple: (new_string, number_of_substitutions)\n",
    "\n",
    "**Syntax:**\n",
    "\n",
    " *re.subn(pattern, repl, string, count=0, flags=0)*"
   ]
  },
  {
   "cell_type": "markdown",
   "id": "315f8985",
   "metadata": {},
   "source": [
    "Example: Substitution with count\n",
    "\n",
    "This example shows how re.subn() gives both the replaced string and the number of times replacements were made."
   ]
  },
  {
   "cell_type": "code",
   "execution_count": 10,
   "id": "4d4ed5cb",
   "metadata": {},
   "outputs": [
    {
     "name": "stdout",
     "output_type": "stream",
     "text": [
      "('S~*ject has Uber booked already', 1)\n",
      "('S~*ject has ~*er booked already', 2)\n",
      "2\n",
      "S~*ject has ~*er booked already\n"
     ]
    }
   ],
   "source": [
    "import re\n",
    "\n",
    "# Case-sensitive replacement\n",
    "print(re.subn('ub', '~*', 'Subject has Uber booked already'))\n",
    "\n",
    "# Case-insensitive replacement\n",
    "t = re.subn('ub', '~*', 'Subject has Uber booked already', flags=re.IGNORECASE)\n",
    "print(t)\n",
    "print(len(t))      # tuple length\n",
    "print(t[0])        # modified string"
   ]
  },
  {
   "cell_type": "markdown",
   "id": "aa183355",
   "metadata": {},
   "source": [
    "## 6. re.escape()\n",
    "re.escape() function adds a backslash (\\) before all special characters in a string. This is useful when you want to match a string literally, including any characters that have special meaning in regex (like ., *, [, ], etc.).\n",
    "\n",
    "**Syntax:**\n",
    "\n",
    "*re.escape(string)*"
   ]
  },
  {
   "cell_type": "markdown",
   "id": "b3282db8",
   "metadata": {},
   "source": [
    "Example: Escaping special characters\n",
    "\n",
    "This example shows how re.escape() treats spaces, brackets, dashes, and tabs as literal characters."
   ]
  },
  {
   "cell_type": "code",
   "execution_count": 11,
   "id": "dacefa1d",
   "metadata": {},
   "outputs": [
    {
     "name": "stdout",
     "output_type": "stream",
     "text": [
      "This\\ is\\ Awesome\\ even\\ 1\\ AM\n",
      "I\\ Asked\\ what\\ is\\ this\\ \\[a\\-9\\],\\ he\\ said\\ \\\t\\ \\^WoW\n"
     ]
    }
   ],
   "source": [
    "import re\n",
    "print(re.escape(\"This is Awesome even 1 AM\"))\n",
    "print(re.escape(\"I Asked what is this [a-9], he said \\t ^WoW\"))"
   ]
  },
  {
   "cell_type": "markdown",
   "id": "c828984c",
   "metadata": {},
   "source": [
    "## 7. re.search()\n",
    "The re.search() function searches for the first occurrence of a pattern in a string. It returns a match object if found, otherwise None.\n",
    "\n",
    "Note: Use it when you want to check if a pattern exists or extract the first match."
   ]
  },
  {
   "cell_type": "markdown",
   "id": "53744fd9",
   "metadata": {},
   "source": [
    "Example: Search and extract values\n",
    "\n",
    "This example searches for a date pattern with a month name (letters) followed by a day (digits) in a sentence."
   ]
  },
  {
   "cell_type": "code",
   "execution_count": 12,
   "id": "69333e9b",
   "metadata": {},
   "outputs": [
    {
     "name": "stdout",
     "output_type": "stream",
     "text": [
      "Match at index 14, 21\n",
      "Full match: June 24\n",
      "Month: June\n",
      "Day: 24\n"
     ]
    }
   ],
   "source": [
    "import re\n",
    "\n",
    "regex = r\"([a-zA-Z]+) (\\d+)\"\n",
    "match = re.search(regex, \"I was born on June 24\")\n",
    "\n",
    "if match:\n",
    "    print(\"Match at index %s, %s\" % (match.start(), match.end()))\n",
    "    print(\"Full match:\", match.group(0))\n",
    "    print(\"Month:\", match.group(1))\n",
    "    print(\"Day:\", match.group(2))\n",
    "else:\n",
    "    print(\"The regex pattern does not match.\")"
   ]
  },
  {
   "cell_type": "markdown",
   "id": "02ed5746",
   "metadata": {},
   "source": [
    "# Meta-characters\n",
    "Metacharacters are special characters in regular expressions used to define search patterns. The re module in Python supports several metacharacters that help you perform powerful pattern matching.\n",
    "\n",
    "Below is a quick reference table:\n",
    "\n",
    "| Metacharacter | Description                                                                                          |                                                                    |\n",
    "| ------------- | ---------------------------------------------------------------------------------------------------- | ------------------------------------------------------------------ |\n",
    "| **`\\\\`**      | Escapes a special character, removing its special meaning.                                           |                                                                    |\n",
    "| **`[]`**      | Denotes a **character class** — matches any single character from the set.                           |                                                                    |\n",
    "| **`^`**       | Matches the **beginning** of a string (or line in multiline mode).                                   |                                                                    |\n",
    "| **`$`**       | Matches the **end** of a string (or line in multiline mode).                                         |                                                                    |\n",
    "| **`.`**       | Matches **any single character** except newline (`\\n`).                                              |                                                                    |\n",
    "| \\*\\*\\`        | \\`\\*\\*                                                                                               | Logical **OR** — matches either the expression before or after it. |\n",
    "| **`?`**       | Matches **zero or one** occurrence of the preceding element (makes it optional).                     |                                                                    |\n",
    "| **`*`**       | Matches **zero or more** occurrences of the preceding element.                                       |                                                                    |\n",
    "| **`+`**       | Matches **one or more** occurrences of the preceding element.                                        |                                                                    |\n",
    "| **`{n}`**     | Matches **exactly `n`** occurrences of the preceding element.                                        |                                                                    |\n",
    "| **`{n,}`**    | Matches **at least `n`** occurrences of the preceding element.                                       |                                                                    |\n",
    "| **`{n,m}`**   | Matches between **`n` and `m`** occurrences of the preceding element.                                |                                                                    |\n",
    "| **`()`**      | Groups patterns together; allows applying quantifiers to the whole group and capturing matched text. |                                                                    |\n"
   ]
  },
  {
   "cell_type": "markdown",
   "id": "ac851991",
   "metadata": {},
   "source": [
    "## 1. \\ - Backslash\n",
    "\n",
    "The backslash (`\\`) makes sure that the character is not treated in a special way. This can be considered a way of escaping metacharacters.\n",
    "\n",
    "For example, if you want to search for the dot(.) in the string then you will find that dot(.) will be treated as a special character as is one of the metacharacters (as shown in the above table). So for this case, we will use the backslash(`\\`) just before the dot(.) so that it will lose its specialty. See the below example for a better understanding.\n",
    "\n",
    "Example: The first search (re.search(r'.', s)) matches any character, not just the period, while the second search (re.search(r'`\\.`', s)) specifically looks for and matches the period character."
   ]
  },
  {
   "cell_type": "code",
   "execution_count": 13,
   "id": "cee6ad3a",
   "metadata": {},
   "outputs": [
    {
     "name": "stdout",
     "output_type": "stream",
     "text": [
      "<re.Match object; span=(0, 1), match='g'>\n",
      "<re.Match object; span=(5, 6), match='.'>\n"
     ]
    }
   ],
   "source": [
    "import re\n",
    "\n",
    "s = 'geeks.forgeeks'\n",
    "\n",
    "# without using \\\n",
    "match = re.search(r'.', s)\n",
    "print(match)\n",
    "\n",
    "# using \\\n",
    "match = re.search(r'\\.', s)\n",
    "print(match)"
   ]
  },
  {
   "cell_type": "markdown",
   "id": "81438ec6",
   "metadata": {},
   "source": [
    "## 2. [] - Square Brackets\n",
    "Square Brackets ([]) represent a character class consisting of a set of characters that we wish to match. For example, the character class [abc] will match any single a, b, or c. \n",
    "\n",
    "We can also specify a range of characters using - inside the square brackets. For example, \n",
    "\n",
    "- [0, 3] is sample as [0123]\n",
    "- [a-c] is same as [abc]\n",
    "\n",
    "We can also invert the character class using the caret(^) symbol. For example, \n",
    "\n",
    "- [^0-3] means any character except 0, 1, 2, or 3\n",
    "- [^a-c] means any character except a, b, or c\n",
    "\n",
    "Example: In this code, you're using regular expressions to find all the characters in the string that fall within the range of 'a' to 'm'. The re.findall() function returns a list of all such characters. In the given string, the characters that match this pattern are: 'c', 'k', 'b', 'f', 'j', 'e', 'h', 'l', 'd', 'g'."
   ]
  },
  {
   "cell_type": "code",
   "execution_count": 14,
   "id": "a69a8784",
   "metadata": {},
   "outputs": [
    {
     "name": "stdout",
     "output_type": "stream",
     "text": [
      "['h', 'e', 'i', 'c', 'k', 'b', 'f', 'j', 'm', 'e', 'h', 'e', 'l', 'a', 'd', 'g']\n"
     ]
    }
   ],
   "source": [
    "import re\n",
    "\n",
    "string = \"The quick brown fox jumps over the lazy dog\"\n",
    "pattern = \"[a-m]\"\n",
    "result = re.findall(pattern, string)\n",
    "\n",
    "print(result)"
   ]
  },
  {
   "cell_type": "markdown",
   "id": "85bd6d5e",
   "metadata": {},
   "source": [
    "## 3. ^ - Caret\n",
    "Caret (^) symbol matches the beginning of the string i.e. checks whether the string starts with the given character(s) or not. For example -  \n",
    "\n",
    "- ^g will check if the string starts with g such as geeks, globe, girl, g, etc.\n",
    "- ^ge will check if the string starts with ge such as geeks, geeksforgeeks, etc.\n",
    "\n",
    "Example: This code uses regular expressions to check if a list of strings starts with \"The\". If a string begins with \"The,\" it's marked as \"Matched\" otherwise, it's labeled as \"Not matched\"."
   ]
  },
  {
   "cell_type": "code",
   "execution_count": 15,
   "id": "3b3260d1",
   "metadata": {},
   "outputs": [
    {
     "name": "stdout",
     "output_type": "stream",
     "text": [
      "Matched: The quick brown fox\n",
      "Matched: The lazy dog\n",
      "Not matched: A quick brown fox\n"
     ]
    }
   ],
   "source": [
    "import re\n",
    "regex = r'^The'\n",
    "strings = ['The quick brown fox', 'The lazy dog', 'A quick brown fox']\n",
    "for string in strings:\n",
    "    if re.match(regex, string):\n",
    "        print(f'Matched: {string}')\n",
    "    else:\n",
    "        print(f'Not matched: {string}')"
   ]
  },
  {
   "cell_type": "markdown",
   "id": "574a4af4",
   "metadata": {},
   "source": [
    "## 4. $ - Dollar\n",
    "Dollar($) symbol matches the end of the string i.e checks whether the string ends with the given character(s) or not. For example-\n",
    "\n",
    "- s$ will check for the string that ends with a such as geeks, ends, s, etc.\n",
    "- ks$ will check for the string that ends with ks such as geeks, geeksforgeeks, ks, etc.\n",
    "\n",
    "Example: This code uses a regular expression to check if the string ends with \"World!\". If a match is found, it prints \"Match found!\" otherwise, it prints \"Match not found\"."
   ]
  },
  {
   "cell_type": "code",
   "execution_count": 16,
   "id": "bc15a8b8",
   "metadata": {},
   "outputs": [
    {
     "name": "stdout",
     "output_type": "stream",
     "text": [
      "Match found!\n"
     ]
    }
   ],
   "source": [
    "import re\n",
    "\n",
    "string = \"Hello World!\"\n",
    "pattern = r\"World!$\"\n",
    "\n",
    "match = re.search(pattern, string)\n",
    "if match:\n",
    "    print(\"Match found!\")\n",
    "else:\n",
    "    print(\"Match not found.\")"
   ]
  },
  {
   "cell_type": "markdown",
   "id": "112a1be1",
   "metadata": {},
   "source": [
    "## 5. . - Dot\n",
    "Dot(.) symbol matches only a single character except for the newline character (\\n). For example -  \n",
    "\n",
    "- a.b will check for the string that contains any character at the place of the dot such as acb, acbd, abbb, etc\n",
    "- .. will check if the string contains at least 2 characters\n",
    "\n",
    "Example: This code uses a regular expression to search for the pattern \"brown.fox\" within the string. The dot (.) in the pattern represents any character. If a match is found, it prints \"Match found!\" otherwise, it prints \"Match not found\"."
   ]
  },
  {
   "cell_type": "code",
   "execution_count": 17,
   "id": "87d37ab2",
   "metadata": {},
   "outputs": [
    {
     "name": "stdout",
     "output_type": "stream",
     "text": [
      "Match found!\n"
     ]
    }
   ],
   "source": [
    "import re\n",
    "\n",
    "string = \"The quick brown fox jumps over the lazy dog.\"\n",
    "pattern = r\"brown.fox\"\n",
    "\n",
    "match = re.search(pattern, string)\n",
    "if match:\n",
    "    print(\"Match found!\")\n",
    "else:\n",
    "    print(\"Match not found.\")"
   ]
  },
  {
   "cell_type": "markdown",
   "id": "f757ce83",
   "metadata": {},
   "source": [
    "## 6. | - Or\n",
    "The | operator means either pattern on its left or right can match. a|b will match any string that contains a or b such as acd, bcd, abcd, etc.\n",
    "\n",
    "## 7. ? - Question Mark\n",
    "The question mark (?) indicates that the preceding element should be matched zero or one time. It allows you to specify that the element is optional, meaning it may occur once or not at all.\n",
    "\n",
    "For example, ab?c will be matched for the string ac, acb, dabc but will not be matched for abbc because there are two b. Similarly, it will not be matched for abdc because b is not followed by c.\n",
    "\n",
    "## 8.* - Star\n",
    "Star (*) symbol matches zero or more occurrences of the regex preceding the * symbol.\n",
    "\n",
    "For example, ab*c will be matched for the string ac, abc, abbbc, dabc, etc. but will not be matched for abdc because b is not followed by c.\n",
    "\n",
    "## 9. + - Plus\n",
    "Plus (+) symbol matches one or more occurrences of the regex preceding the + symbol.\n",
    "\n",
    "For example, ab+c will be matched for the string abc, abbc, dabc, but will not be matched for ac, abdc, because there is no b in ac and b, is not followed by c in abdc.\n",
    "\n",
    "## 10. {m, n} - Braces\n",
    "Braces match any repetitions preceding regex from m to n both inclusive.\n",
    "\n",
    "For example,  a{2, 4} will be matched for the string aaab, baaaac, gaad, but will not be matched for strings like abc, bc because there is only one a or no a in both the cases.\n",
    "\n",
    "## 11. (<regex>) - Group\n",
    "Group symbol is used to group sub-patterns.\n",
    "\n",
    "For example, (a|b)cd will match for strings like acd, abcd, gacd, etc."
   ]
  },
  {
   "cell_type": "markdown",
   "id": "1266ae71",
   "metadata": {},
   "source": [
    "# Special Sequences\n",
    "Special sequences do not match for the actual character in the string instead it tells the specific location in the search string where the match must occur. It makes it easier to write commonly used patterns.  \n",
    "\n",
    "## List of special sequences \n",
    "\n",
    "| Special Sequence | Description                                                                                                                     | Example Pattern | Example Matches                  |\n",
    "| ---------------- | ------------------------------------------------------------------------------------------------------------------------------- | --------------- | -------------------------------- |\n",
    "| **`\\A`**         | Matches if the string **starts** with the given pattern (works only at the very start of the string).                           | `\\Afor`         | `\"for geeks\"`, `\"for the world\"` |\n",
    "| **`\\b`**         | Matches if the position is at the **word boundary** (start or end of a word). `\\bword` → start of word, `word\\b` → end of word. | `\\bge`          | `\"geeks\"`, `\"get\"`               |\n",
    "| **`\\B`**         | Opposite of `\\b` — matches only if the position is **not** at a word boundary.                                                  | `\\Bge`          | `\"together\"`, `\"forge\"`          |\n",
    "| **`\\d`**         | Matches any **digit** (`[0-9]`).                                                                                                | `\\d`            | `\"123\"`, `\"gee1\"`                |\n",
    "| **`\\D`**         | Matches any **non-digit** (`[^0-9]`).                                                                                           | `\\D`            | `\"geeks\"`, `\"geek1\"`             |\n",
    "| **`\\s`**         | Matches any **whitespace** character (space, tab, newline, etc.).                                                               | `\\s`            | `\"gee ks\"`, `\"a bc a\"`           |\n",
    "| **`\\S`**         | Matches any **non-whitespace** character.                                                                                       | `\\S`            | `\"a bd\"`, `\"abcd\"`               |\n",
    "| **`\\w`**         | Matches any **alphanumeric** character or underscore (`[a-zA-Z0-9_]`).                                                          | `\\w`            | `\"123\"`, `\"geeKs4\"`              |\n",
    "| **`\\W`**         | Matches any **non-alphanumeric** character.                                                                                     | `\\W`            | `\">$\"`, `\"gee<>\"`                |\n",
    "| **`\\Z`**         | Matches if the string **ends** with the given pattern (works only at the very end of the string).                               | `ab\\Z`          | `\"abcdab\"`, `\"abababab\"`         |\n"
   ]
  },
  {
   "cell_type": "markdown",
   "id": "781adbd8",
   "metadata": {},
   "source": [
    "# Sets for character matching\n",
    "A Set is a set of characters enclosed in '[]' brackets. Sets are used to match a single character in the set of characters specified between brackets. Below is the list of Sets:\n",
    "\n",
    "| Set / Pattern    | Description                                                                           |\n",
    "| ---------------- | ------------------------------------------------------------------------------------- |\n",
    "| **`\\{n,\\}`**     | Quantifies the preceding character or group and matches **at least `n`** occurrences. |\n",
    "| **`*`**          | Quantifies the preceding character or group and matches **zero or more** occurrences. |\n",
    "| **`[0123]`**     | Matches any **one digit** from `0`, `1`, `2`, or `3`.                                 |\n",
    "| **`[^arn]`**     | Matches any **character except** `a`, `r`, or `n`.                                    |\n",
    "| **`\\d`**         | Matches any **digit** (`0–9`). Equivalent to `[0-9]`.                                 |\n",
    "| **`[0-5][0-9]`** | Matches any **two-digit number** from `00` to `59`.                                   |\n",
    "| **`\\w`**         | Matches any **alphanumeric** character or underscore (`a-z`, `A-Z`, `0-9`, `_`).      |\n",
    "| **`[a-n]`**      | Matches any **lowercase letter** from `a` to `n`.                                     |\n",
    "| **`\\D`**         | Matches any **non-digit** character. Equivalent to `[^0-9]`.                          |\n",
    "| **`[arn]`**      | Matches any **one character** that is `a`, `r`, or `n`.                               |\n",
    "| **`[a-zA-Z]`**   | Matches any **letter**, uppercase (`A-Z`) or lowercase (`a-z`).                       |\n",
    "| **`[0-9]`**      | Matches any **digit** from `0` to `9`.                                                |\n"
   ]
  },
  {
   "cell_type": "markdown",
   "id": "af5128f3",
   "metadata": {},
   "source": [
    "# Match Object\n",
    "A Match object contains all the information about the search and the result and if there is no match found then None will be returned. Let's see some of the commonly used methods and attributes of the match object."
   ]
  },
  {
   "cell_type": "markdown",
   "id": "87678b13",
   "metadata": {},
   "source": [
    "## 1. Getting the string and the regex\n",
    "match.re attribute returns the regular expression passed and match.string attribute returns the string passed.\n",
    "\n",
    "Example:\n",
    "\n",
    "The code searches for the letter \"G\" at a word boundary in the string \"Welcome to GeeksForGeeks\" and prints the regular expression pattern (res.re) and the original string (res.string)."
   ]
  },
  {
   "cell_type": "code",
   "execution_count": 18,
   "id": "b7253ba3",
   "metadata": {},
   "outputs": [
    {
     "name": "stdout",
     "output_type": "stream",
     "text": [
      "re.compile('\\\\bG')\n",
      "Welcome to GeeksForGeeks\n"
     ]
    }
   ],
   "source": [
    "import re\n",
    "s = \"Welcome to GeeksForGeeks\"\n",
    "res = re.search(r\"\\bG\", s)\n",
    "\n",
    "print(res.re)\n",
    "print(res.string)"
   ]
  },
  {
   "cell_type": "markdown",
   "id": "278ad63f",
   "metadata": {},
   "source": [
    "## 2. Getting index of matched object\n",
    "- start() method returns the starting index of the matched substring\n",
    "- end() method returns the ending index of the matched substring\n",
    "- span() method returns a tuple containing the starting and the ending index of the matched substring\n",
    "\n",
    "Example: Getting index of matched object \n",
    "\n",
    "The code searches for substring \"Gee\" at a word boundary in string \"Welcome to GeeksForGeeks\" and prints start index of the match (res.start()), end index of the match (res.end()) and span of the match (res.span())."
   ]
  },
  {
   "cell_type": "code",
   "execution_count": 19,
   "id": "da226077",
   "metadata": {},
   "outputs": [
    {
     "name": "stdout",
     "output_type": "stream",
     "text": [
      "11\n",
      "14\n",
      "(11, 14)\n"
     ]
    }
   ],
   "source": [
    "import re\n",
    "\n",
    "s = \"Welcome to GeeksForGeeks\"\n",
    "res = re.search(r\"\\bGee\", s)\n",
    "\n",
    "print(res.start())\n",
    "print(res.end())\n",
    "print(res.span())"
   ]
  },
  {
   "cell_type": "markdown",
   "id": "0c1508cb",
   "metadata": {},
   "source": [
    "## 3. Getting matched substring\n",
    "group() method returns the part of the string for which the patterns match. See the below example for a better understanding.\n",
    "\n",
    "Example: Getting matched substring \n",
    "\n",
    "The code searches for a sequence of two non-digit characters followed by a space and the letter 't' in the string \"Welcome to GeeksForGeeks\" and prints the matched text using res.group()."
   ]
  },
  {
   "cell_type": "code",
   "execution_count": 20,
   "id": "7ef3ce16",
   "metadata": {},
   "outputs": [
    {
     "name": "stdout",
     "output_type": "stream",
     "text": [
      "me t\n"
     ]
    }
   ],
   "source": [
    "import re\n",
    "s = \"Welcome to GeeksForGeeks\"\n",
    "res = re.search(r\"\\D{2} t\", s)\n",
    "print(res.group())"
   ]
  },
  {
   "cell_type": "markdown",
   "id": "c80e91dc",
   "metadata": {},
   "source": [
    "In the above example, our pattern specifies for the string that contains at least 2 characters which are followed by a space, and that space is followed by a t. "
   ]
  },
  {
   "cell_type": "markdown",
   "id": "5f1cc5c4",
   "metadata": {},
   "source": [
    "# Basic RegEx Patterns"
   ]
  },
  {
   "cell_type": "markdown",
   "id": "5a05ae4e",
   "metadata": {},
   "source": [
    "## 1. Character Classes\n",
    "Character classes allow matching any one character from a specified set. They are enclosed in square brackets []."
   ]
  },
  {
   "cell_type": "code",
   "execution_count": 21,
   "id": "f71da1ae",
   "metadata": {},
   "outputs": [
    {
     "name": "stdout",
     "output_type": "stream",
     "text": [
      "['Geeks', 'Geeks', 'geeks']\n"
     ]
    }
   ],
   "source": [
    "import re\n",
    "print(re.findall(r'[Gg]eeks', 'GeeksforGeeks: \\\n",
    "                 A computer science portal for geeks'))"
   ]
  },
  {
   "cell_type": "markdown",
   "id": "88b2748a",
   "metadata": {},
   "source": [
    "## 2. Ranges\n",
    "In RegEx, a range allows matching characters or digits within a span using - inside []. For example, [0-9] matches digits, [A-Z] matches uppercase letters."
   ]
  },
  {
   "cell_type": "code",
   "execution_count": 22,
   "id": "5dd8cfc4",
   "metadata": {},
   "outputs": [
    {
     "name": "stdout",
     "output_type": "stream",
     "text": [
      "Range <re.Match object; span=(0, 1), match='x'>\n"
     ]
    }
   ],
   "source": [
    "import re\n",
    "print('Range',re.search(r'[a-zA-Z]', 'x'))"
   ]
  },
  {
   "cell_type": "markdown",
   "id": "4d107c23",
   "metadata": {},
   "source": [
    "## 3. Negation\n",
    "Negation in a character class is specified by placing a ^ at the beginning of the brackets, meaning match anything except those characters.\n",
    "\n",
    "Syntax:\n",
    "\n",
    "*[^a-z]*"
   ]
  },
  {
   "cell_type": "code",
   "execution_count": 23,
   "id": "e52a0185",
   "metadata": {},
   "outputs": [
    {
     "name": "stdout",
     "output_type": "stream",
     "text": [
      "None\n",
      "None\n"
     ]
    }
   ],
   "source": [
    "import re\n",
    "\n",
    "print(re.search(r'[^a-z]', 'c'))\n",
    "print(re.search(r'G[^e]', 'Geeks'))"
   ]
  },
  {
   "cell_type": "markdown",
   "id": "e9cc0302",
   "metadata": {},
   "source": [
    "3. Shortcuts\n",
    "Shortcuts are shorthand representations for common character classes. Let's discuss some of the shortcuts provided by the regular expression engine.\n",
    "\n",
    "- \\w - matches a word character\n",
    "- \\d - matches digit character\n",
    "- \\s - matches whitespace character (space, tab, newline, etc.)\n",
    "- \\b - matches a zero-length character"
   ]
  },
  {
   "cell_type": "code",
   "execution_count": 24,
   "id": "b9264d09",
   "metadata": {},
   "outputs": [
    {
     "name": "stdout",
     "output_type": "stream",
     "text": [
      "Geeks: <re.Match object; span=(0, 5), match='Geeks'>\n",
      "GeeksforGeeks: None\n"
     ]
    }
   ],
   "source": [
    "import re\n",
    "\n",
    "print('Geeks:', re.search(r'\\bGeeks\\b', 'Geeks'))\n",
    "print('GeeksforGeeks:', re.search(r'\\bGeeks\\b', 'GeeksforGeeks'))"
   ]
  },
  {
   "cell_type": "markdown",
   "id": "3215c405",
   "metadata": {},
   "source": [
    "## 4. Beginning and End of String\n",
    "The ^ character chooses the beginning of a string and the $ character chooses the end of a string."
   ]
  },
  {
   "cell_type": "code",
   "execution_count": 25,
   "id": "2a45ee7d",
   "metadata": {},
   "outputs": [
    {
     "name": "stdout",
     "output_type": "stream",
     "text": [
      "Beg. of String: None\n",
      "Beg. of String: <re.Match object; span=(0, 4), match='Geek'>\n",
      "End of String: <re.Match object; span=(31, 36), match='Geeks'>\n"
     ]
    }
   ],
   "source": [
    "import re\n",
    "\n",
    "\n",
    "# Beginning of String\n",
    "match = re.search(r'^Geek', 'Campus Geek of the month')\n",
    "print('Beg. of String:', match)\n",
    "\n",
    "match = re.search(r'^Geek', 'Geek of the month')\n",
    "print('Beg. of String:', match)\n",
    "\n",
    "# End of String\n",
    "match = re.search(r'Geeks$', 'Compute science portal-GeeksforGeeks')\n",
    "print('End of String:', match)"
   ]
  },
  {
   "cell_type": "markdown",
   "id": "ae4bc7a7",
   "metadata": {},
   "source": [
    "## 5. Any Character\n",
    "The . character represents any single character outside a bracketed character class."
   ]
  },
  {
   "cell_type": "code",
   "execution_count": 26,
   "id": "43f8a0fa",
   "metadata": {},
   "outputs": [
    {
     "name": "stdout",
     "output_type": "stream",
     "text": [
      "Any Character <re.Match object; span=(0, 6), match='python'>\n"
     ]
    }
   ],
   "source": [
    "import re\n",
    "print('Any Character', re.search(r'p.th.n', 'python 3'))"
   ]
  },
  {
   "cell_type": "markdown",
   "id": "56886cca",
   "metadata": {},
   "source": [
    "## 6. Optional Characters\n",
    "Regular expression engine allows you to specify optional characters using the ? character. It allows a character or character class either to present once or else not to occur. Let's consider the example of a word with an alternative spelling - color or colour."
   ]
  },
  {
   "cell_type": "code",
   "execution_count": 27,
   "id": "356e5dd8",
   "metadata": {},
   "outputs": [
    {
     "name": "stdout",
     "output_type": "stream",
     "text": [
      "Color <re.Match object; span=(0, 5), match='color'>\n",
      "Colour <re.Match object; span=(0, 6), match='colour'>\n"
     ]
    }
   ],
   "source": [
    "import re\n",
    "\n",
    "print('Color',re.search(r'colou?r', 'color')) \n",
    "print('Colour',re.search(r'colou?r', 'colour'))"
   ]
  },
  {
   "cell_type": "markdown",
   "id": "81cea96b",
   "metadata": {},
   "source": [
    "## 7. Repetition\n",
    "Repetition enables you to repeat the same character or character class. Consider an example of a date that consists of day, month, and year. Let's use a regular expression to identify the date (mm-dd-yyyy)."
   ]
  },
  {
   "cell_type": "code",
   "execution_count": 28,
   "id": "bff808a7",
   "metadata": {},
   "outputs": [
    {
     "name": "stdout",
     "output_type": "stream",
     "text": [
      "Date{mm-dd-yyyy}: <re.Match object; span=(0, 10), match='18-08-2020'>\n"
     ]
    }
   ],
   "source": [
    "import re\n",
    "print('Date{mm-dd-yyyy}:', re.search(r'[\\d]{2}-[\\d]{2}-[\\d]{4}','18-08-2020'))"
   ]
  },
  {
   "cell_type": "markdown",
   "id": "9091ab59",
   "metadata": {},
   "source": [
    "Here, the regular expression engine checks for two consecutive digits. Upon finding the match, it moves to the hyphen character. After then, it checks the next two consecutive digits and the process is repeated.  "
   ]
  },
  {
   "cell_type": "markdown",
   "id": "0d517287",
   "metadata": {},
   "source": [
    "### 7.1 Repetition ranges\n",
    "The repetition range is useful when you have to accept one or more formats. Consider a scenario where both three digits, as well as four digits, are accepted. "
   ]
  },
  {
   "cell_type": "code",
   "execution_count": 29,
   "id": "02bb82b9",
   "metadata": {},
   "outputs": [
    {
     "name": "stdout",
     "output_type": "stream",
     "text": [
      "Three Digit: <re.Match object; span=(0, 3), match='189'>\n",
      "Four Digit: <re.Match object; span=(0, 4), match='2145'>\n"
     ]
    }
   ],
   "source": [
    "import re\n",
    "\n",
    "print('Three Digit:', re.search(r'[\\d]{3,4}', '189'))\n",
    "print('Four Digit:', re.search(r'[\\d]{3,4}', '2145'))"
   ]
  },
  {
   "cell_type": "markdown",
   "id": "fcf29393",
   "metadata": {},
   "source": [
    "### 7.2 Open-Ended Ranges\n",
    "There are scenarios where there is no limit for a character repetition. In such scenarios, you can set the upper limit as infinitive. A common example is matching street addresses."
   ]
  },
  {
   "cell_type": "code",
   "execution_count": 30,
   "id": "00745fae",
   "metadata": {},
   "outputs": [
    {
     "name": "stdout",
     "output_type": "stream",
     "text": [
      "<re.Match object; span=(0, 1), match='5'>\n"
     ]
    }
   ],
   "source": [
    "import re\n",
    "\n",
    "print(re.search(r'[\\d]{1,}','5th Floor, A-118,\\\n",
    "Sector-136, Noida, Uttar Pradesh - 201305'))"
   ]
  },
  {
   "cell_type": "markdown",
   "id": "9551a4dc",
   "metadata": {},
   "source": [
    "### 7.3 Shorthand\n",
    "Shorthand characters allow you to use + character to specify one or more ({1,}) and * character to specify zero or more ({0,}."
   ]
  },
  {
   "cell_type": "code",
   "execution_count": 31,
   "id": "2bc17e5f",
   "metadata": {},
   "outputs": [
    {
     "name": "stdout",
     "output_type": "stream",
     "text": [
      "<re.Match object; span=(0, 1), match='5'>\n"
     ]
    }
   ],
   "source": [
    "import re\n",
    "\n",
    "print(re.search(r'[\\d]+', '5th Floor, A-118,\\\n",
    "Sector-136, Noida, Uttar Pradesh - 201305'))"
   ]
  },
  {
   "cell_type": "markdown",
   "id": "6d6a938b",
   "metadata": {},
   "source": [
    "## 8. Grouping\n",
    "Grouping is the process of separating an expression into groups by using parentheses, and it allows you to fetch each individual matching group.  "
   ]
  },
  {
   "cell_type": "code",
   "execution_count": 32,
   "id": "6413df07",
   "metadata": {},
   "outputs": [
    {
     "name": "stdout",
     "output_type": "stream",
     "text": [
      "<re.Match object; span=(0, 10), match='26-08-2020'>\n"
     ]
    }
   ],
   "source": [
    "import re\n",
    "grp = re.search(r'([\\d]{2})-([\\d]{2})-([\\d]{4})', '26-08-2020')\n",
    "print(grp)"
   ]
  },
  {
   "cell_type": "markdown",
   "id": "20955af3",
   "metadata": {},
   "source": [
    "### 8.1 Return the entire match\n",
    "The re module allows you to return the entire match using the group() method"
   ]
  },
  {
   "cell_type": "code",
   "execution_count": 33,
   "id": "1e69e97f",
   "metadata": {},
   "outputs": [
    {
     "name": "stdout",
     "output_type": "stream",
     "text": [
      "26-08-2020\n"
     ]
    }
   ],
   "source": [
    "import re\n",
    "grp = re.search(r'([\\d]{2})-([\\d]{2})-([\\d]{4})','26-08-2020')\n",
    "print(grp.group())"
   ]
  },
  {
   "cell_type": "markdown",
   "id": "5cbc5141",
   "metadata": {},
   "source": [
    "### 8.2 Return a tuple of matched groups\n",
    "You can use groups() method to return a tuple that holds individual matched groups"
   ]
  },
  {
   "cell_type": "code",
   "execution_count": 34,
   "id": "875dcb1e",
   "metadata": {},
   "outputs": [
    {
     "name": "stdout",
     "output_type": "stream",
     "text": [
      "('26', '08', '2020')\n"
     ]
    }
   ],
   "source": [
    "import re\n",
    "grp = re.search(r'([\\d]{2})-([\\d]{2})-([\\d]{4})','26-08-2020')\n",
    "print(grp.groups())"
   ]
  },
  {
   "cell_type": "markdown",
   "id": "7abc3d94",
   "metadata": {},
   "source": [
    "### 8.3 Retrieve a single group\n",
    "Upon passing the index to a group method, you can retrieve just a single group."
   ]
  },
  {
   "cell_type": "code",
   "execution_count": 35,
   "id": "5eda0709",
   "metadata": {},
   "outputs": [
    {
     "name": "stdout",
     "output_type": "stream",
     "text": [
      "2020\n"
     ]
    }
   ],
   "source": [
    "import re\n",
    "grp = re.search(r'([\\d]{2})-([\\d]{2})-([\\d]{4})','26-08-2020')\n",
    "print(grp.group(3))"
   ]
  },
  {
   "cell_type": "markdown",
   "id": "9a8c7393",
   "metadata": {},
   "source": [
    "### 8.4 Name your groups\n",
    "The re module allows you to name your groups. Let's look into the syntax."
   ]
  },
  {
   "cell_type": "code",
   "execution_count": 36,
   "id": "2d91094c",
   "metadata": {},
   "outputs": [
    {
     "name": "stdout",
     "output_type": "stream",
     "text": [
      "08\n"
     ]
    }
   ],
   "source": [
    "import re\n",
    "match = re.search(r'(?P<dd>[\\d]{2})-(?P<mm>[\\d]{2})-(?P<yyyy>[\\d]{4})',\n",
    "                  '26-08-2020')\n",
    "print(match.group('mm'))"
   ]
  },
  {
   "cell_type": "markdown",
   "id": "b8bf54d6",
   "metadata": {},
   "source": [
    "### 8.5 Individual match as a dictionary\n",
    "We have seen how regular expression provides a tuple of individual groups. Not only tuple, but it can also provide individual match as a dictionary in which the name of each group acts as the dictionary key."
   ]
  },
  {
   "cell_type": "code",
   "execution_count": 37,
   "id": "35171f80",
   "metadata": {},
   "outputs": [
    {
     "name": "stdout",
     "output_type": "stream",
     "text": [
      "{'dd': '26', 'mm': '08', 'yyyy': '2020'}\n"
     ]
    }
   ],
   "source": [
    "import re\n",
    "match = re.search(r'(?P<dd>[\\d]{2})-(?P<mm>[\\d]{2})-(?P<yyyy>[\\d]{4})',\n",
    "                  '26-08-2020')\n",
    "print(match.groupdict())"
   ]
  },
  {
   "cell_type": "markdown",
   "id": "935db355",
   "metadata": {},
   "source": [
    "## 9. Lookahead\n",
    "In the case of a  negated character class, it won't match if a character is not present to check against the negated character. We can overcome this case by using lookahead; it accepts or rejects a match based on the presence or absence of content.  "
   ]
  },
  {
   "cell_type": "code",
   "execution_count": 38,
   "id": "b8a6b4bd",
   "metadata": {},
   "outputs": [
    {
     "name": "stdout",
     "output_type": "stream",
     "text": [
      "negation: None\n",
      "lookahead: <re.Match object; span=(5, 6), match='n'>\n"
     ]
    }
   ],
   "source": [
    "import re\n",
    "print('negation:', re.search(r'n[^e]', 'Python'))\n",
    "print('lookahead:', re.search(r'n(?!e)', 'Python'))"
   ]
  },
  {
   "cell_type": "markdown",
   "id": "c41a9000",
   "metadata": {},
   "source": [
    "Lookahead can also disqualify the match if it is not followed by a particular character. This process is called a positive lookahead, and can be achieved by simply replacing ! character with = character."
   ]
  },
  {
   "cell_type": "code",
   "execution_count": 39,
   "id": "c62403ad",
   "metadata": {},
   "outputs": [
    {
     "name": "stdout",
     "output_type": "stream",
     "text": [
      "positive lookahead <re.Match object; span=(5, 6), match='n'>\n"
     ]
    }
   ],
   "source": [
    "import re\n",
    "print('positive lookahead', re.search(r'n(?=e)', 'jasmine'))"
   ]
  },
  {
   "cell_type": "markdown",
   "id": "c07a8140",
   "metadata": {},
   "source": [
    "## 10. Substitution\n",
    "The regular expression can replace the string and returns the replaced one using the re.sub method. It is useful when you want to avoid characters such as /, -, ., etc. before storing it to a database. It takes three arguments:\n",
    "\n",
    "- the regular expression\n",
    "- the replacement string\n",
    "- the source string being searched"
   ]
  },
  {
   "cell_type": "code",
   "execution_count": 40,
   "id": "51a86a20",
   "metadata": {},
   "outputs": [
    {
     "name": "stdout",
     "output_type": "stream",
     "text": [
      "1111222233334444\n"
     ]
    }
   ],
   "source": [
    "import re\n",
    "print(re.sub(r'([\\d]{4})-([\\d]{4})-([\\d]{4})-([\\d]{4})',r'\\1\\2\\3\\4',\n",
    "             '1111-2222-3333-4444'))"
   ]
  },
  {
   "cell_type": "code",
   "execution_count": null,
   "id": "2ca2d32b",
   "metadata": {},
   "outputs": [],
   "source": []
  }
 ],
 "metadata": {
  "kernelspec": {
   "display_name": "Python 3 (ipykernel)",
   "language": "python",
   "name": "python3"
  },
  "language_info": {
   "codemirror_mode": {
    "name": "ipython",
    "version": 3
   },
   "file_extension": ".py",
   "mimetype": "text/x-python",
   "name": "python",
   "nbconvert_exporter": "python",
   "pygments_lexer": "ipython3",
   "version": "3.13.5"
  }
 },
 "nbformat": 4,
 "nbformat_minor": 5
}
