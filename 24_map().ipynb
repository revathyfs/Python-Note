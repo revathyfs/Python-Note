{
 "cells": [
  {
   "cell_type": "markdown",
   "id": "47df0793-43e7-47fe-86f9-4f98e0f24d85",
   "metadata": {},
   "source": [
    "# map()\n",
    "\n",
    "## 🔹 What is `map()` in Python?\n",
    "\n",
    "The **`map()`** function in Python is used to **apply a function to each item in an iterable** (like a list, tuple, or set) and return a new iterable (a `map` object).\n",
    "\n",
    "---\n",
    "\n",
    "### ✅ General Syntax\n",
    "\n",
    "```python\n",
    "map(function, iterable)\n",
    "```\n",
    "\n",
    "* **function** → the function you want to apply (can be `def`, `lambda`, or built-in function).\n",
    "* **iterable** → the collection (list, tuple, etc.) you want to process.\n",
    "\n",
    "---\n"
   ]
  },
  {
   "cell_type": "code",
   "execution_count": 1,
   "id": "6fa3b453-6811-4134-8584-56163853adae",
   "metadata": {},
   "outputs": [
    {
     "name": "stdout",
     "output_type": "stream",
     "text": [
      "[1, 4, 9, 16]\n"
     ]
    }
   ],
   "source": [
    "# Example 1: Using a normal function\n",
    "\n",
    "numbers = [1, 2, 3, 4]\n",
    "\n",
    "def square(x):\n",
    "    return x * x\n",
    "\n",
    "result = map(square, numbers)\n",
    "print(list(result))  "
   ]
  },
  {
   "cell_type": "code",
   "execution_count": 2,
   "id": "fa2764af-1a40-4354-81c3-a1c1b023041f",
   "metadata": {},
   "outputs": [
    {
     "name": "stdout",
     "output_type": "stream",
     "text": [
      "[1, 4, 9, 16]\n"
     ]
    }
   ],
   "source": [
    "# Example 2: Using lambda (shorter)\n",
    "\n",
    "numbers = [1, 2, 3, 4]\n",
    "\n",
    "result = map(lambda x: x * x, numbers)\n",
    "print(list(result))"
   ]
  },
  {
   "cell_type": "code",
   "execution_count": 3,
   "id": "c7e55567-ffc9-4c30-a6ae-267647615941",
   "metadata": {},
   "outputs": [
    {
     "name": "stdout",
     "output_type": "stream",
     "text": [
      "[1, 2, 3, 4]\n"
     ]
    }
   ],
   "source": [
    "# Example 3: Convert strings to integers\n",
    "\n",
    "nums_str = [\"1\", \"2\", \"3\", \"4\"]\n",
    "nums_int = list(map(int, nums_str))\n",
    "print(nums_int)"
   ]
  },
  {
   "cell_type": "code",
   "execution_count": 4,
   "id": "e0c10a79-758c-433d-8123-a19deb22df11",
   "metadata": {},
   "outputs": [
    {
     "name": "stdout",
     "output_type": "stream",
     "text": [
      "[5, 7, 9]\n"
     ]
    }
   ],
   "source": [
    "# Example 4: Apply to multiple iterables\n",
    "\n",
    "a = [1, 2, 3]\n",
    "b = [4, 5, 6]\n",
    "\n",
    "result = list(map(lambda x, y: x + y, a, b))\n",
    "print(result)"
   ]
  },
  {
   "cell_type": "markdown",
   "id": "6d142efb-3f33-4339-b04a-3921585c3e7b",
   "metadata": {},
   "source": [
    "---\n",
    "\n",
    "### 🔹 Why use `map()`?\n",
    "\n",
    "* It avoids writing explicit **loops**.\n",
    "* It’s often **faster** and **cleaner** than `for` loops for element-wise operations.\n",
    "* Works well with **lambda** for small, inline functions.\n",
    "\n",
    "---\n",
    "\n",
    "✅ **In short**:\n",
    "`map()` = apply a function to every element in a collection → get back a new collection.\n",
    "\n",
    "---\n"
   ]
  },
  {
   "cell_type": "markdown",
   "id": "512a6d6c-beec-41b2-8d34-a973a0e41a46",
   "metadata": {},
   "source": [
    "# map() vs for loop\n",
    "\n",
    "## Scenario: Square each number in a list"
   ]
  },
  {
   "cell_type": "code",
   "execution_count": 5,
   "id": "5a10cece-8693-4d05-bebe-e9be86f50f14",
   "metadata": {},
   "outputs": [
    {
     "name": "stdout",
     "output_type": "stream",
     "text": [
      "[1, 4, 9, 16]\n"
     ]
    }
   ],
   "source": [
    "# Using for loop\n",
    "\n",
    "numbers = [1, 2, 3, 4]\n",
    "squares = []\n",
    "\n",
    "for n in numbers:\n",
    "    squares.append(n * n)\n",
    "\n",
    "print(squares) "
   ]
  },
  {
   "cell_type": "code",
   "execution_count": 6,
   "id": "071d097b-14f3-4ca5-a83c-a2c44c5c2e5e",
   "metadata": {},
   "outputs": [
    {
     "name": "stdout",
     "output_type": "stream",
     "text": [
      "[1, 4, 9, 16]\n"
     ]
    }
   ],
   "source": [
    "# Using map() with lambda\n",
    "\n",
    "numbers = [1, 2, 3, 4]\n",
    "\n",
    "squares = list(map(lambda n: n * n, numbers))\n",
    "\n",
    "print(squares)"
   ]
  },
  {
   "cell_type": "markdown",
   "id": "4901b43e-3b72-4d06-8fa1-2a6f324e4ce4",
   "metadata": {},
   "source": [
    "#### 🔹 Key Differences\n",
    "\n",
    "| Feature         | `for loop`                                              | `map()`                                              |\n",
    "| --------------- | ------------------------------------------------------- | ---------------------------------------------------- |\n",
    "| **Readability** | More verbose but clear                                  | More compact                                         |\n",
    "| **Flexibility** | Very flexible, can have conditions, multiple statements | Only for applying a function (single expression)     |\n",
    "| **Performance** | Slightly slower for huge data                           | Often faster since it uses internal C implementation |\n",
    "| **Return type** | List (if you append)                                    | `map` object (needs `list()` to convert)             |\n",
    "| **Best use**    | Complex logic inside loop                               | Simple transformation of each item                   |\n",
    "\n",
    "\n",
    "#### ✅ Rule of thumb:\n",
    "\n",
    "- Use for loop when logic is complex (conditions, multiple steps).\n",
    "\n",
    "- Use map() when applying a single transformation to all items."
   ]
  },
  {
   "cell_type": "code",
   "execution_count": null,
   "id": "34966435-5998-471c-8ec7-502273192e5b",
   "metadata": {},
   "outputs": [],
   "source": []
  }
 ],
 "metadata": {
  "kernelspec": {
   "display_name": "Python 3 (ipykernel)",
   "language": "python",
   "name": "python3"
  },
  "language_info": {
   "codemirror_mode": {
    "name": "ipython",
    "version": 3
   },
   "file_extension": ".py",
   "mimetype": "text/x-python",
   "name": "python",
   "nbconvert_exporter": "python",
   "pygments_lexer": "ipython3",
   "version": "3.13.5"
  }
 },
 "nbformat": 4,
 "nbformat_minor": 5
}
