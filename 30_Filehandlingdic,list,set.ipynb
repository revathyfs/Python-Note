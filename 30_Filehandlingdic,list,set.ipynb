{
 "cells": [
  {
   "cell_type": "code",
   "execution_count": 1,
   "id": "92967b97-36e3-4fed-a02c-e56cf95e8c23",
   "metadata": {},
   "outputs": [],
   "source": [
    "#Writing a List to a File\n",
    "\n",
    "fruits = [\"apple\", \"banana\", \"cherry\"]\n",
    "\n",
    "with open(\"fruits.txt\", \"w\") as f:\n",
    "    for fruit in fruits:\n",
    "        f.write(fruit + \"\\n\")\n"
   ]
  },
  {
   "cell_type": "code",
   "execution_count": 2,
   "id": "256050a1-d092-40f6-9dcf-63e113351007",
   "metadata": {},
   "outputs": [
    {
     "name": "stdout",
     "output_type": "stream",
     "text": [
      "['apple', 'banana', 'cherry']\n"
     ]
    }
   ],
   "source": [
    "#Reading a List from a File\n",
    "with open(\"fruits.txt\", \"r\") as f:\n",
    "    fruits = [line.strip() for line in f]\n",
    "\n",
    "print(fruits) "
   ]
  },
  {
   "cell_type": "code",
   "execution_count": 3,
   "id": "8579cb87-dcce-4e2c-bb1c-35ad6f3b2dc9",
   "metadata": {},
   "outputs": [],
   "source": [
    "#Writing a Dictionary to a File\n",
    "\n",
    "student_scores = {\"Alice\": 85, \"Bob\": 90, \"Charlie\": 78}\n",
    "\n",
    "with open(\"scores.txt\", \"w\") as f:\n",
    "    for name, score in student_scores.items():\n",
    "        f.write(f\"{name}:{score}\\n\")\n"
   ]
  },
  {
   "cell_type": "code",
   "execution_count": 4,
   "id": "86ca5af2-390d-40a1-8d15-b6457f119650",
   "metadata": {},
   "outputs": [
    {
     "name": "stdout",
     "output_type": "stream",
     "text": [
      "{'Alice': 85, 'Bob': 90, 'Charlie': 78}\n"
     ]
    }
   ],
   "source": [
    "#Reading a Dictionary from a File\n",
    "\n",
    "student_scores = {}\n",
    "\n",
    "with open(\"scores.txt\", \"r\") as f:\n",
    "    for line in f:\n",
    "        name, score = line.strip().split(\":\")\n",
    "        student_scores[name] = int(score)\n",
    "\n",
    "print(student_scores)  "
   ]
  },
  {
   "cell_type": "code",
   "execution_count": 5,
   "id": "6e551d4a-141c-43bc-b9c7-21cb75273013",
   "metadata": {},
   "outputs": [],
   "source": [
    "#Writing a Set to a File\n",
    "\n",
    "unique_words = {\"hello\", \"world\", \"python\"}\n",
    "\n",
    "with open(\"words.txt\", \"w\") as f:\n",
    "    for word in unique_words:\n",
    "        f.write(word + \"\\n\")\n"
   ]
  },
  {
   "cell_type": "code",
   "execution_count": 6,
   "id": "173f47d2-2084-4b73-bc92-0dd3c2b00587",
   "metadata": {},
   "outputs": [
    {
     "name": "stdout",
     "output_type": "stream",
     "text": [
      "{'world', 'hello', 'python'}\n"
     ]
    }
   ],
   "source": [
    "#Reading a Set from a File\n",
    "\n",
    "with open(\"words.txt\", \"r\") as f:\n",
    "    unique_words = {line.strip() for line in f}\n",
    "\n",
    "print(unique_words) \n"
   ]
  },
  {
   "cell_type": "markdown",
   "id": "67d71664-09ec-4b3a-a323-8d20231a6007",
   "metadata": {},
   "source": [
    "| Structure | To File              | From File               |\n",
    "| --------- | -------------------- | ----------------------- |\n",
    "| **List**  | `f.write(item)`      | `list = [line.strip()]` |\n",
    "| **Dict**  | `f.write(key:value)` | `dict[key] = value`     |\n",
    "| **Set**   | `f.write(item)`      | `set = {line.strip()}`  |\n"
   ]
  },
  {
   "cell_type": "code",
   "execution_count": null,
   "id": "841b178a-a721-45c0-95b6-ff8d78e94a1c",
   "metadata": {},
   "outputs": [],
   "source": []
  }
 ],
 "metadata": {
  "kernelspec": {
   "display_name": "Python 3 (ipykernel)",
   "language": "python",
   "name": "python3"
  },
  "language_info": {
   "codemirror_mode": {
    "name": "ipython",
    "version": 3
   },
   "file_extension": ".py",
   "mimetype": "text/x-python",
   "name": "python",
   "nbconvert_exporter": "python",
   "pygments_lexer": "ipython3",
   "version": "3.13.5"
  }
 },
 "nbformat": 4,
 "nbformat_minor": 5
}
