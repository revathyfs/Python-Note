{
 "cells": [
  {
   "cell_type": "markdown",
   "id": "9db6794a-8b40-4946-a571-9c9e3c815308",
   "metadata": {},
   "source": [
    "In Python, a **conditional statement** is a statement that allows the program to **make decisions** and execute certain blocks of code **only if a specified condition is true**.\n",
    "\n",
    "**Definition:**\n",
    "\n",
    "> A **conditional statement** is a programming construct that evaluates a Boolean expression (`True` or `False`) and executes a block of code based on whether the condition is true or false.\n",
    "\n",
    "In Python, the main conditional statements are:\n",
    "\n",
    "* `if` → executes a block if the condition is true\n",
    "* `elif` → checks another condition if previous `if` or `elif` was false\n",
    "* `else` → executes a block if all previous conditions are false\n",
    "\n",
    "**Example:**\n",
    "\n",
    "```python\n",
    "age = 20\n",
    "\n",
    "if age >= 18:\n",
    "    print(\"Adult\")\n",
    "else:\n",
    "    print(\"Minor\")\n",
    "```\n",
    "\n",
    "Here, the program **decides** which message to print based on the value of `age`.\n",
    "\n"
   ]
  },
  {
   "cell_type": "code",
   "execution_count": 2,
   "id": "0ed0d8cf-b51b-448e-ab65-7017806d92c6",
   "metadata": {},
   "outputs": [
    {
     "name": "stdout",
     "output_type": "stream",
     "text": [
      "3 is a positive nuber.\n",
      "This is always printed\n"
     ]
    }
   ],
   "source": [
    "# if expression:\n",
    "#      statement\n",
    "\n",
    "num=3\n",
    "if num>0:\n",
    "    print(num, \"is a positive nuber.\")\n",
    "print(\"This is always printed\")    "
   ]
  },
  {
   "cell_type": "code",
   "execution_count": 5,
   "id": "d8f340e6-243f-484f-817b-96bf3a3c5ecb",
   "metadata": {},
   "outputs": [
    {
     "name": "stdout",
     "output_type": "stream",
     "text": [
      "This is Positive Number\n"
     ]
    }
   ],
   "source": [
    "n=2\n",
    "if n>0:\n",
    "    print(\"This is Positive Number\")"
   ]
  },
  {
   "cell_type": "code",
   "execution_count": 3,
   "id": "1e34de3b-d0d7-4fa8-9cdd-8af29a5a6a4b",
   "metadata": {},
   "outputs": [
    {
     "name": "stdout",
     "output_type": "stream",
     "text": [
      "This is also always printed.\n"
     ]
    }
   ],
   "source": [
    "num = -1\n",
    "if num>0:\n",
    "    print(num,\"is a positive number.\")\n",
    "print(\"This is also always printed.\")"
   ]
  },
  {
   "cell_type": "code",
   "execution_count": 1,
   "id": "ff6ab3cb-7321-48b3-ba81-57e988d44637",
   "metadata": {},
   "outputs": [
    {
     "name": "stdin",
     "output_type": "stream",
     "text": [
      "Enter a number:  2\n"
     ]
    },
    {
     "name": "stdout",
     "output_type": "stream",
     "text": [
      "2 is a positive number.\n",
      "This is also always printed.\n"
     ]
    }
   ],
   "source": [
    "num = int(input(\"Enter a number: \"))\n",
    "if num>0:\n",
    "    print(num,\"is a positive number.\")\n",
    "print(\"This is also always printed.\")"
   ]
  },
  {
   "cell_type": "code",
   "execution_count": null,
   "id": "5d6ac835-cd9c-4ba5-9d45-dba359961bd5",
   "metadata": {},
   "outputs": [],
   "source": [
    "# if....else Statement\n",
    "# if expression:\n",
    "#     statement(n)\n",
    "# else:\n",
    "#     statement\n",
    "\n",
    "num=int(input(\"Enter no : \")) #reading input from user\n",
    "if num>=0:\n",
    "    print(\"Positive or Zero\")\n",
    "else:\n",
    "    print(\"Negative number\")"
   ]
  },
  {
   "cell_type": "code",
   "execution_count": 7,
   "id": "f00d700f-3ebb-452a-b0ee-299fa58d4fa1",
   "metadata": {},
   "outputs": [
    {
     "name": "stdout",
     "output_type": "stream",
     "text": [
      "The number is positive\n"
     ]
    }
   ],
   "source": [
    "n=1\n",
    "if n<0:\n",
    "    print(\"The number is negative\")\n",
    "else :\n",
    "    print(\"The number is positive\")"
   ]
  },
  {
   "cell_type": "code",
   "execution_count": null,
   "id": "17f554fb-db2c-432e-a425-5e61b6f5d42e",
   "metadata": {},
   "outputs": [],
   "source": [
    "#elif Statement\n",
    "# if expression:\n",
    "#     statement(n)\n",
    "# elif expressions:\n",
    "#     statements(n)\n",
    "# else:\n",
    "#     statement\n",
    "\n",
    "num=int(input(\"Enter number:\"))#reading input from user\n",
    "if num >0:\n",
    "    print(\"Positive number\")\n",
    "elif num==0:\n",
    "    print(\"Zero\")\n",
    "else:\n",
    "    print(\"Negative number\")"
   ]
  },
  {
   "cell_type": "code",
   "execution_count": 8,
   "id": "b6a7066f-2ace-4e7c-bbd1-ac501d4cf8f4",
   "metadata": {},
   "outputs": [
    {
     "name": "stdout",
     "output_type": "stream",
     "text": [
      "Zero\n"
     ]
    }
   ],
   "source": [
    "n=0\n",
    "if n>0:\n",
    "    print(\"Positive\")\n",
    "elif n<0:\n",
    "    print(\"Negative\")\n",
    "else:\n",
    "    print(\"Zero\")"
   ]
  },
  {
   "cell_type": "code",
   "execution_count": 11,
   "id": "465d59ec-8711-4c65-ad45-33092a63fdba",
   "metadata": {},
   "outputs": [
    {
     "name": "stdout",
     "output_type": "stream",
     "text": [
      "True\n"
     ]
    }
   ],
   "source": [
    "# atsk on condition statement\n",
    "\n",
    "x=12\n",
    "y=33\n",
    "if x>y:\n",
    "    print(\"False\")\n",
    "else:\n",
    "    print(\"True\")"
   ]
  },
  {
   "cell_type": "code",
   "execution_count": 12,
   "id": "7519713f-ab65-4a32-b314-f3ec8b370e9d",
   "metadata": {},
   "outputs": [
    {
     "name": "stdout",
     "output_type": "stream",
     "text": [
      "correct\n"
     ]
    }
   ],
   "source": [
    "x=12\n",
    "y=33\n",
    "if y!=x:\n",
    "    print(\"correct\")\n",
    "else:\n",
    "    print(\"wrong\")"
   ]
  },
  {
   "cell_type": "code",
   "execution_count": 10,
   "id": "94bd81f2-b481-4128-820b-3080d8224333",
   "metadata": {},
   "outputs": [
    {
     "name": "stdout",
     "output_type": "stream",
     "text": [
      "true\n"
     ]
    }
   ],
   "source": [
    "x=12\n",
    "y=33\n",
    "if x<=y:\n",
    "    print(\"true\")\n",
    "else:\n",
    "    print(\"false\")"
   ]
  },
  {
   "cell_type": "code",
   "execution_count": 9,
   "id": "74d2c982-16d8-4adb-93e8-aaab6f7dda7f",
   "metadata": {},
   "outputs": [
    {
     "name": "stdout",
     "output_type": "stream",
     "text": [
      "a and b are equal\n"
     ]
    }
   ],
   "source": [
    "#using assignment operator\n",
    "\n",
    "a=20\n",
    "b=20\n",
    "if b>a:\n",
    "    print(\"b is greater than a\")\n",
    "elif a==b:\n",
    "    print(\"a and b are equal\")\n",
    "else:\n",
    "    print(\"a is greater than b\")"
   ]
  },
  {
   "cell_type": "code",
   "execution_count": null,
   "id": "b1bfe6b3-a9d1-4a31-b8b2-24397a23e534",
   "metadata": {},
   "outputs": [],
   "source": []
  },
  {
   "cell_type": "code",
   "execution_count": null,
   "id": "d256b319-bdaa-448d-bc7e-a5da710dc99f",
   "metadata": {},
   "outputs": [],
   "source": []
  }
 ],
 "metadata": {
  "kernelspec": {
   "display_name": "Python 3 (ipykernel)",
   "language": "python",
   "name": "python3"
  },
  "language_info": {
   "codemirror_mode": {
    "name": "ipython",
    "version": 3
   },
   "file_extension": ".py",
   "mimetype": "text/x-python",
   "name": "python",
   "nbconvert_exporter": "python",
   "pygments_lexer": "ipython3",
   "version": "3.13.5"
  }
 },
 "nbformat": 4,
 "nbformat_minor": 5
}
