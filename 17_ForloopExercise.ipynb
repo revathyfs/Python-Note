{
 "cells": [
  {
   "cell_type": "code",
   "execution_count": 3,
   "id": "3d504058-d06d-48af-9015-fb31cb7e9cda",
   "metadata": {},
   "outputs": [
    {
     "name": "stdin",
     "output_type": "stream",
     "text": [
      "Enter a word:  madam\n"
     ]
    },
    {
     "name": "stdout",
     "output_type": "stream",
     "text": [
      "Palindrome\n"
     ]
    }
   ],
   "source": [
    "word = input(\"Enter a word: \")\n",
    "length = len(word)\n",
    "is_palindrome = True\n",
    "\n",
    "for i in range(length):\n",
    "    for j in range(length):\n",
    "        if i + j == length - 1:   # mirror positions\n",
    "            if word[i] != word[j]:\n",
    "                is_palindrome = False\n",
    "\n",
    "if is_palindrome:\n",
    "    print(\"Palindrome\")\n",
    "else:\n",
    "    print(\"Not Palindrome\")\n"
   ]
  },
  {
   "cell_type": "markdown",
   "id": "3f00710f-56d4-4cad-b5e3-e7d59a457531",
   "metadata": {},
   "source": [
    "\n",
    "\n",
    "**Step-by-step working**:\n",
    "\n",
    "* Word = `madam`, length = 5\n",
    "* Comparisons (when `i + j == 4`):\n",
    "\n",
    "  * i=0, j=4 → `m == m` ✅\n",
    "  * i=1, j=3 → `a == a` ✅\n",
    "  * i=2, j=2 → `d == d` ✅\n",
    "  * i=3, j=1 → `a == a` ✅\n",
    "  * i=4, j=0 → `m == m` ✅\n"
   ]
  },
  {
   "cell_type": "code",
   "execution_count": 496,
   "id": "995c56d5-ba8e-44ac-81ad-200f659d0fc4",
   "metadata": {},
   "outputs": [
    {
     "name": "stdin",
     "output_type": "stream",
     "text": [
      "Ener the limit 6\n"
     ]
    },
    {
     "name": "stdout",
     "output_type": "stream",
     "text": [
      "* * * * * * \n",
      "*       * \n",
      "*     * \n",
      "*   * \n",
      "* * \n",
      "* \n"
     ]
    }
   ],
   "source": [
    "#hollow inverted pyramid\n",
    "\n",
    "n=int(input(\"Ener the limit\"))\n",
    "for i in range(n,0,-1):\n",
    "    for j in range(i):\n",
    "        print(\"\",end=\"\")\n",
    "    for j in range(i):\n",
    "        if j==0 or j==i-1 or i==n:\n",
    "            print(\"*\",end=\" \")\n",
    "        else:\n",
    "            print(\" \",end=\" \")\n",
    "    print()"
   ]
  },
  {
   "cell_type": "code",
   "execution_count": 500,
   "id": "41b6cc78-5deb-413c-9f57-701f3344692e",
   "metadata": {},
   "outputs": [
    {
     "name": "stdin",
     "output_type": "stream",
     "text": [
      "Ener the limit 6\n"
     ]
    },
    {
     "name": "stdout",
     "output_type": "stream",
     "text": [
      "* * * * * * \n",
      "* * * * * \n",
      "* * * * \n",
      "* * * \n",
      "* * \n",
      "* \n"
     ]
    }
   ],
   "source": [
    "#inverted half pyramid\n",
    "n=int(input(\"Ener the limit\"))\n",
    "for i in range(n,0,-1):\n",
    "    for j in range(i,n+1):\n",
    "        print(\"\",end=\"\")\n",
    "    for j in range(i):\n",
    "        print(\"*\",end=\" \")\n",
    "    print()"
   ]
  },
  {
   "cell_type": "code",
   "execution_count": 490,
   "id": "1ee005c3-2c2d-4718-9f1c-e14c0c98f31c",
   "metadata": {},
   "outputs": [
    {
     "name": "stdin",
     "output_type": "stream",
     "text": [
      "Ener the limit 8\n"
     ]
    },
    {
     "name": "stdout",
     "output_type": "stream",
     "text": [
      "\n",
      "* \n",
      "* * \n",
      "* * * \n",
      "* * * * \n",
      "* * * * * \n",
      "* * * * * * \n",
      "* * * * * * * \n",
      "* * * * * * * * \n"
     ]
    }
   ],
   "source": [
    "#half pyramid\n",
    "n=int(input(\"Ener the limit\"))\n",
    "for i in range(0,n+1):\n",
    "    for j in range(i):\n",
    "        print(\"\",end=\"\")\n",
    "    for j in range(i):\n",
    "        print(\"*\",end=\" \")\n",
    "    print()"
   ]
  },
  {
   "cell_type": "code",
   "execution_count": 250,
   "id": "8a92ab8f-8ebb-4686-aeb2-94e2c7d60160",
   "metadata": {},
   "outputs": [
    {
     "name": "stdin",
     "output_type": "stream",
     "text": [
      "Ener the limit 6\n"
     ]
    },
    {
     "name": "stdout",
     "output_type": "stream",
     "text": [
      "      \n",
      "     * \n",
      "    * * \n",
      "   * * * \n",
      "  * * * * \n",
      " * * * * * \n",
      "* * * * * * \n"
     ]
    }
   ],
   "source": [
    "#full pyramid\n",
    "n=int(input(\"Ener the limit\"))\n",
    "for i in range(1,n+2):\n",
    "    for j in range(0,n-i+1):\n",
    "        print(\" \",end=\"\")\n",
    "    for j in range(0,i-1):\n",
    "        print(\"*\",end=\" \")\n",
    "    print()"
   ]
  },
  {
   "cell_type": "code",
   "execution_count": 262,
   "id": "8393a190-3f1c-4ec5-a50a-bf3c37d59160",
   "metadata": {},
   "outputs": [
    {
     "name": "stdin",
     "output_type": "stream",
     "text": [
      "Ener the limit 8\n"
     ]
    },
    {
     "name": "stdout",
     "output_type": "stream",
     "text": [
      " * * * * * * * * \n",
      "  * * * * * * * \n",
      "   * * * * * * \n",
      "    * * * * * \n",
      "     * * * * \n",
      "      * * * \n",
      "       * * \n",
      "        * \n"
     ]
    }
   ],
   "source": [
    "#inverted full pyramid\n",
    "n=int(input(\"Ener the limit\"))\n",
    "for i in range(n,0,-1):\n",
    "    for j in range(i,n+1):\n",
    "        print(\" \",end=\"\")\n",
    "    for j in range(i):\n",
    "        print(\"*\",end=\" \")\n",
    "    print()"
   ]
  },
  {
   "cell_type": "code",
   "execution_count": 292,
   "id": "b31f5748-5352-440e-80ba-871652f326a0",
   "metadata": {},
   "outputs": [
    {
     "name": "stdin",
     "output_type": "stream",
     "text": [
      "Ener the limit 6\n"
     ]
    },
    {
     "name": "stdout",
     "output_type": "stream",
     "text": [
      " * * * * * * \n",
      "  *       * \n",
      "   *     * \n",
      "    *   * \n",
      "     * * \n",
      "      * \n"
     ]
    }
   ],
   "source": [
    "#hollow inverted full pyramid\n",
    "n=int(input(\"Ener the limit\"))\n",
    "for i in range(n,0,-1):\n",
    "    for j in range(i,n+1):\n",
    "        print(\" \",end=\"\")\n",
    "    for j in range(i):\n",
    "        if j==0 or j==i-1 or i==n:\n",
    "            print(\"*\",end=\" \")\n",
    "        else:\n",
    "            print(\" \",end=\" \")\n",
    "    print()"
   ]
  },
  {
   "cell_type": "code",
   "execution_count": 464,
   "id": "71d38227-36ad-4334-81bb-7d022240beef",
   "metadata": {},
   "outputs": [
    {
     "name": "stdin",
     "output_type": "stream",
     "text": [
      "Ener the limit 6\n"
     ]
    },
    {
     "name": "stdout",
     "output_type": "stream",
     "text": [
      "     * \n",
      "    * * \n",
      "   *   * \n",
      "  *     * \n",
      " *       * \n",
      "* * * * * * \n"
     ]
    }
   ],
   "source": [
    "#hollow full pyramid\n",
    "n=int(input(\"Ener the limit\"))\n",
    "for i in range(1,n+1):\n",
    "    for j in range(0,n-i):\n",
    "        print(\" \",end=\"\")\n",
    "    for j in range(i):\n",
    "        if j==0 or j==i-1 or i==n:\n",
    "            print(\"*\",end=\" \")\n",
    "        else:\n",
    "            print(\" \",end=\" \")\n",
    "    print()"
   ]
  },
  {
   "cell_type": "code",
   "execution_count": 1,
   "id": "c5ae7f38-80e7-46f4-9297-7687882db016",
   "metadata": {},
   "outputs": [
    {
     "name": "stdin",
     "output_type": "stream",
     "text": [
      "Enter number:  6\n"
     ]
    },
    {
     "name": "stdout",
     "output_type": "stream",
     "text": [
      "Factorial is 720 \n"
     ]
    }
   ],
   "source": [
    "#Write a program in Python to display the Factorial of a number.\n",
    "\n",
    "n = int(input(\"Enter number: \")) # 5\n",
    "if(n == 0 or n < 0):\n",
    "    print(\"Value of n should be greater than 1\")\n",
    "else:\n",
    "    fact = 1\n",
    "    while(n):\n",
    "        fact *= n\n",
    "        n = n-1\n",
    "    print(f\"Factorial is {fact} \")\n"
   ]
  },
  {
   "cell_type": "code",
   "execution_count": 3,
   "id": "6df10b6e-f1ed-4ef4-8e08-c73679f5a4f0",
   "metadata": {},
   "outputs": [
    {
     "name": "stdin",
     "output_type": "stream",
     "text": [
      "Input a word to reverse:  subi\n"
     ]
    },
    {
     "name": "stdout",
     "output_type": "stream",
     "text": [
      "ibus\n",
      "\n"
     ]
    }
   ],
   "source": [
    "# Write a program in Python to reverse a word.\n",
    "\n",
    "str = input(\"Input a word to reverse: \")\n",
    "\n",
    "for i in range(len(str) - 1, -1, -1):\n",
    "  print(str[i], end=\"\")\n",
    "print(\"\\n\")\n"
   ]
  },
  {
   "cell_type": "code",
   "execution_count": 27,
   "id": "e1a8bdc6-6477-4d7c-99d3-98ebd4952c30",
   "metadata": {},
   "outputs": [
    {
     "name": "stdin",
     "output_type": "stream",
     "text": [
      "Enter number:  456\n"
     ]
    },
    {
     "name": "stdout",
     "output_type": "stream",
     "text": [
      "654\n"
     ]
    }
   ],
   "source": [
    "#Write a Python program to reverse a number.\n",
    "\n",
    "n = int(input(\"Enter number: \"))\n",
    "rev = 0\n",
    "\n",
    "while(n != 0):\n",
    "   rem = n % 10\n",
    "   rev = rev * 10 + rem\n",
    "   n = n // 10\n",
    "\n",
    "print(rev)"
   ]
  },
  {
   "cell_type": "code",
   "execution_count": 13,
   "id": "4a0349a7-837f-47ab-938d-192fef78be16",
   "metadata": {},
   "outputs": [
    {
     "name": "stdin",
     "output_type": "stream",
     "text": [
      "Enter range:  10\n"
     ]
    },
    {
     "name": "stdout",
     "output_type": "stream",
     "text": [
      "10 9 8 7 6 5 4 3 2 1 "
     ]
    }
   ],
   "source": [
    "#Write a program to print n natural number in descending order using a while loop.\n",
    "\n",
    "n = int(input(\"Enter range: \")) #10\n",
    "while(n!=0):\n",
    "    print(n, end=\" \")\n",
    "    n = n - 1"
   ]
  },
  {
   "cell_type": "code",
   "execution_count": 6,
   "id": "33e78224-9ffb-41f7-a18c-5d4fb0456717",
   "metadata": {},
   "outputs": [
    {
     "name": "stdout",
     "output_type": "stream",
     "text": [
      "0 7 14 21 28 35 42 49 "
     ]
    }
   ],
   "source": [
    "#Write a program to display the first 7 multiples of 7.\n",
    "\n",
    "count = 0\n",
    "for i in range(200):\n",
    "    if i%7 == 0:\n",
    "        print(i,end=\" \")\n",
    "        count = count+1\n",
    "        if count == 8:\n",
    "            break\n"
   ]
  },
  {
   "cell_type": "code",
   "execution_count": 21,
   "id": "2c8be6c6-f73f-4ed3-9e47-78a650fd70f3",
   "metadata": {},
   "outputs": [
    {
     "name": "stdout",
     "output_type": "stream",
     "text": [
      "Length of List :  7\n",
      "Range of List :  range(0, 7)\n",
      "Result:  [4, 9, 16, 25, 36, 49, 64]\n"
     ]
    }
   ],
   "source": [
    "#Write a program that appends the square of each number to a new list.\n",
    "\n",
    "x = [2,3,4,5,6,7,8]\n",
    "a=len(x)\n",
    "\n",
    "print(\"Length of List : \",a)\n",
    "\n",
    "b=range(a)\n",
    "print(\"Range of List : \",b)\n",
    "\n",
    "z = []\n",
    "\n",
    "for i in b:\n",
    "    z.append(x[i]**2)\n",
    "    \n",
    "print(\"Result: \",z)\n"
   ]
  },
  {
   "cell_type": "code",
   "execution_count": 16,
   "id": "3bdd3a56-1d60-456c-90d6-81352736663b",
   "metadata": {},
   "outputs": [
    {
     "name": "stdout",
     "output_type": "stream",
     "text": [
      "7\n",
      "range(0, 7)\n"
     ]
    }
   ],
   "source": [
    "x=[2,3,4,5,6,7,8]\n"
   ]
  },
  {
   "cell_type": "code",
   "execution_count": 9,
   "id": "d2367b95-eed7-494b-92cd-6ee65c5068d9",
   "metadata": {},
   "outputs": [
    {
     "name": "stdout",
     "output_type": "stream",
     "text": [
      "Positive numbers are:  [23, 4, 23, 21, 3]\n",
      "Negative numbers are:  [-6, -9, -45, -8]\n"
     ]
    }
   ],
   "source": [
    "#WAP to separate positive and negative number from a list.\n",
    "\n",
    "x = [23,4,-6,23,-9,21,3,-45,-8]\n",
    "pos = []\n",
    "neg = []\n",
    "for i in range(len(x)):\n",
    "    if x[i] < 0:\n",
    "        neg.append(x[i])\n",
    "    else:\n",
    "        pos.append(x[i])\n",
    "print(\"Positive numbers are: \",pos)\n",
    "print(\"Negative numbers are: \",neg)\n"
   ]
  },
  {
   "cell_type": "code",
   "execution_count": 25,
   "id": "96345b99-bd27-4d95-8754-5496cc41ef0b",
   "metadata": {},
   "outputs": [
    {
     "name": "stdout",
     "output_type": "stream",
     "text": [
      "Length of list :  3\n",
      "Range :  range(0, 3)\n",
      "[23, 'Python', 23.98]\n",
      "[<class 'int'>, <class 'str'>, <class 'float'>]\n"
     ]
    }
   ],
   "source": [
    "#Write a program that appends the type of elements from a list.\n",
    "\n",
    "n = [23, 'Python',23.98]\n",
    "\n",
    "a=len(x)\n",
    "print(\"Length of list : \",a)\n",
    "\n",
    "b=range(a)\n",
    "print(\"Range : \",b)\n",
    "\n",
    "x = []\n",
    "\n",
    "for i in b:\n",
    "    x.append(type(n[i]))\n",
    "    \n",
    "print(n)\n",
    "print(x)"
   ]
  },
  {
   "cell_type": "code",
   "execution_count": 11,
   "id": "8165db6f-2fe1-496f-9574-2756106611d5",
   "metadata": {},
   "outputs": [
    {
     "name": "stdout",
     "output_type": "stream",
     "text": [
      "Even numbers are:  [10, 24, 78, 90]\n",
      "Odd numbers are:  [23, 35, 65]\n"
     ]
    }
   ],
   "source": [
    "# Write a program to filter even and odd number from a list.\n",
    "\n",
    "x = [10,23,24,35,65,78,90]\n",
    "eve = []\n",
    "odd = []\n",
    "for i in range(len(x)):\n",
    "    if x[i] % 2 == 0:\n",
    "        eve.append(x[i])\n",
    "    else:\n",
    "        odd.append(x[i])\n",
    "print(\"Even numbers are: \",eve)\n",
    "print(\"Odd numbers are: \",odd)\n"
   ]
  },
  {
   "cell_type": "code",
   "execution_count": 12,
   "id": "6ab411f4-9493-4e8c-9d90-916effba252a",
   "metadata": {},
   "outputs": [
    {
     "name": "stdout",
     "output_type": "stream",
     "text": [
      "10 20 22 "
     ]
    }
   ],
   "source": [
    "#Write a program to fetch only even values from a dictionary.\n",
    "\n",
    "dic = {'val1':10, 'val2':20, 'val3':23, 'val4':22 }\n",
    "for i in dic.values():\n",
    "    if i % 2 ==0:\n",
    "        print(i,end=\" \")\n",
    "    else:\n",
    "        pass"
   ]
  },
  {
   "cell_type": "code",
   "execution_count": null,
   "id": "24f19856-6bc7-4729-a749-d9548dee9052",
   "metadata": {},
   "outputs": [],
   "source": []
  }
 ],
 "metadata": {
  "kernelspec": {
   "display_name": "Python 3 (ipykernel)",
   "language": "python",
   "name": "python3"
  },
  "language_info": {
   "codemirror_mode": {
    "name": "ipython",
    "version": 3
   },
   "file_extension": ".py",
   "mimetype": "text/x-python",
   "name": "python",
   "nbconvert_exporter": "python",
   "pygments_lexer": "ipython3",
   "version": "3.13.5"
  }
 },
 "nbformat": 4,
 "nbformat_minor": 5
}
