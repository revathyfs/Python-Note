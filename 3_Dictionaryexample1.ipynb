{
 "cells": [
  {
   "cell_type": "code",
   "execution_count": 1,
   "id": "537929f2-c84a-4e54-95bd-c3c9c65ed245",
   "metadata": {},
   "outputs": [],
   "source": [
    "thisdict={\"brand\":\"Ford\",\"model\":\"Mustang\",\"year\":1964}"
   ]
  },
  {
   "cell_type": "code",
   "execution_count": 2,
   "id": "5cf76091-63f6-4f92-8776-b957e617bbb8",
   "metadata": {},
   "outputs": [
    {
     "name": "stdout",
     "output_type": "stream",
     "text": [
      "{'brand': 'Ford', 'model': 'Mustang', 'year': 1964}\n"
     ]
    }
   ],
   "source": [
    "print(thisdict)"
   ]
  },
  {
   "cell_type": "code",
   "execution_count": 3,
   "id": "6bc666ea-d243-4da2-a85e-9b5f30ca1e8a",
   "metadata": {},
   "outputs": [
    {
     "name": "stdout",
     "output_type": "stream",
     "text": [
      "Ford\n"
     ]
    }
   ],
   "source": [
    "print(thisdict[\"brand\"])"
   ]
  },
  {
   "cell_type": "code",
   "execution_count": 4,
   "id": "06096efc-d8a0-49b1-a4a8-1c5a6d91b6ac",
   "metadata": {},
   "outputs": [
    {
     "name": "stdout",
     "output_type": "stream",
     "text": [
      "Ford\n"
     ]
    }
   ],
   "source": [
    "#get() to access value in a dictionary\n",
    "print(thisdict.get(\"brand\"))"
   ]
  },
  {
   "cell_type": "code",
   "execution_count": 5,
   "id": "d5ca88bc-fa75-49e1-bd30-ce3497390a1d",
   "metadata": {},
   "outputs": [],
   "source": [
    "thisdict[\"year\"]=2018"
   ]
  },
  {
   "cell_type": "code",
   "execution_count": 6,
   "id": "e9ad1c48-bf2c-4c00-9e38-05e3aa4b6de6",
   "metadata": {},
   "outputs": [
    {
     "name": "stdout",
     "output_type": "stream",
     "text": [
      "{'brand': 'Ford', 'model': 'Mustang', 'year': 2018}\n"
     ]
    }
   ],
   "source": [
    "print(thisdict)"
   ]
  },
  {
   "cell_type": "code",
   "execution_count": 7,
   "id": "5cb5308b-5370-41cc-baef-fb88cc9fe51f",
   "metadata": {},
   "outputs": [
    {
     "name": "stdout",
     "output_type": "stream",
     "text": [
      "3\n"
     ]
    }
   ],
   "source": [
    "print(len(thisdict))"
   ]
  },
  {
   "cell_type": "code",
   "execution_count": 8,
   "id": "d20d000d-d35e-43d9-a5c9-ca94c455dda0",
   "metadata": {},
   "outputs": [],
   "source": [
    "thisdict[\"color\"]=\"red\""
   ]
  },
  {
   "cell_type": "code",
   "execution_count": 9,
   "id": "817b254c-1014-47f7-aea1-13d1f476e61b",
   "metadata": {},
   "outputs": [
    {
     "name": "stdout",
     "output_type": "stream",
     "text": [
      "{'brand': 'Ford', 'model': 'Mustang', 'year': 2018, 'color': 'red'}\n"
     ]
    }
   ],
   "source": [
    "print(thisdict)"
   ]
  },
  {
   "cell_type": "code",
   "execution_count": 10,
   "id": "de3ed48f-290e-4b54-8b04-84a251474a68",
   "metadata": {},
   "outputs": [
    {
     "name": "stdout",
     "output_type": "stream",
     "text": [
      "{'brand': 'Ford', 'year': 2018, 'color': 'red'}\n"
     ]
    }
   ],
   "source": [
    "thisdict.pop(\"model\")\n",
    "print(thisdict)"
   ]
  },
  {
   "cell_type": "code",
   "execution_count": 11,
   "id": "2168cbf8-0bee-43ec-8880-8e6bbb2856ff",
   "metadata": {},
   "outputs": [
    {
     "name": "stdout",
     "output_type": "stream",
     "text": [
      "{'brand': 'Ford', 'year': 2018}\n"
     ]
    }
   ],
   "source": [
    "thisdict.popitem()\n",
    "print(thisdict)"
   ]
  },
  {
   "cell_type": "code",
   "execution_count": 12,
   "id": "fe8c1898-46a5-4b55-bdf6-d2933c81d2aa",
   "metadata": {},
   "outputs": [
    {
     "name": "stdout",
     "output_type": "stream",
     "text": [
      "{'year': 2018}\n"
     ]
    }
   ],
   "source": [
    "del thisdict[\"brand\"]\n",
    "print(thisdict)"
   ]
  },
  {
   "cell_type": "code",
   "execution_count": 13,
   "id": "82474baa-5396-44c6-bb5f-f4963f02d688",
   "metadata": {},
   "outputs": [],
   "source": [
    "thisdict={\"brand\":\"Ford\",\"model\":\"Mustang\",\"year\":1964}"
   ]
  },
  {
   "cell_type": "code",
   "execution_count": 14,
   "id": "ac16265a-9f94-4463-b933-7b99e9282aeb",
   "metadata": {},
   "outputs": [],
   "source": [
    "mydict=thisdict.copy()"
   ]
  },
  {
   "cell_type": "code",
   "execution_count": 15,
   "id": "a3ef4bd2-ff6d-48f9-a95c-d1b972c4f163",
   "metadata": {},
   "outputs": [
    {
     "name": "stdout",
     "output_type": "stream",
     "text": [
      "{'brand': 'Ford', 'model': 'Mustang', 'year': 1964}\n"
     ]
    }
   ],
   "source": [
    "print(mydict)"
   ]
  },
  {
   "cell_type": "code",
   "execution_count": 19,
   "id": "dfe03bb9-ec43-4ea5-8755-31006b1bd787",
   "metadata": {},
   "outputs": [
    {
     "name": "stdout",
     "output_type": "stream",
     "text": [
      "None\n"
     ]
    }
   ],
   "source": [
    "# when value is not provided \n",
    "\n",
    "print(thisdict.get(\"color\"))"
   ]
  },
  {
   "cell_type": "code",
   "execution_count": 20,
   "id": "97f4edc7-e723-4753-8537-aa8ad4e6c082",
   "metadata": {},
   "outputs": [
    {
     "name": "stdout",
     "output_type": "stream",
     "text": [
      "red\n"
     ]
    }
   ],
   "source": [
    "print(thisdict.get(\"color\",\"red\"))"
   ]
  },
  {
   "cell_type": "code",
   "execution_count": 23,
   "id": "4654ad05-d4f3-458d-8237-74eaf882eda2",
   "metadata": {},
   "outputs": [
    {
     "name": "stdout",
     "output_type": "stream",
     "text": [
      "Ford\n",
      "Mustang\n"
     ]
    }
   ],
   "source": [
    "#set default function\n",
    "\n",
    "d=thisdict.setdefault(\"model\")\n",
    "print(thisdict.get(\"brand\"))\n",
    "print(d)"
   ]
  },
  {
   "cell_type": "code",
   "execution_count": 24,
   "id": "03e98b08-0232-410e-b023-bf69803dc776",
   "metadata": {},
   "outputs": [
    {
     "name": "stdout",
     "output_type": "stream",
     "text": [
      "{'brand': 'Ford', 'model': 'Mustang', 'year': 1964, 'color': 'red'}\n"
     ]
    }
   ],
   "source": [
    "d=thisdict.setdefault(\"color\",\"red\")\n",
    "print(thisdict)"
   ]
  },
  {
   "cell_type": "code",
   "execution_count": 25,
   "id": "0edb2fae-869f-4511-bb0e-4e294549243d",
   "metadata": {},
   "outputs": [
    {
     "name": "stdout",
     "output_type": "stream",
     "text": [
      "red\n"
     ]
    }
   ],
   "source": [
    "print(d)"
   ]
  },
  {
   "cell_type": "code",
   "execution_count": 26,
   "id": "3c5c0189-7dda-4263-929d-08c2e5c9b68b",
   "metadata": {},
   "outputs": [
    {
     "name": "stdout",
     "output_type": "stream",
     "text": [
      "{}\n"
     ]
    }
   ],
   "source": [
    "# clear method\n",
    "thisdict.clear()\n",
    "print(thisdict)"
   ]
  },
  {
   "cell_type": "code",
   "execution_count": 27,
   "id": "48ecfba1-cb43-438b-8b04-5440b34e68d9",
   "metadata": {},
   "outputs": [
    {
     "name": "stdout",
     "output_type": "stream",
     "text": [
      "{'dict1': 'red', 'dict2': 'black', 'dict3': {'sdict1': 'red', 'sdict2': 'black'}}\n"
     ]
    }
   ],
   "source": [
    "#dictionary within a dictionary\n",
    "\n",
    "thisdict={\"dict1\":\"red\",\"dict2\":\"black\",\"dict3\":{\"sdict1\":\"red\",\"sdict2\":\"black\"}}\n",
    "print(thisdict)"
   ]
  },
  {
   "cell_type": "code",
   "execution_count": 28,
   "id": "9660469b-77de-4c06-b320-336e0d1420ce",
   "metadata": {},
   "outputs": [
    {
     "name": "stdout",
     "output_type": "stream",
     "text": [
      "{'sdict1': 'red', 'sdict2': 'black'}\n"
     ]
    }
   ],
   "source": [
    "print(thisdict[\"dict3\"])"
   ]
  },
  {
   "cell_type": "code",
   "execution_count": 29,
   "id": "3de21acd-3fce-4a58-bf0d-dcdd78fbb485",
   "metadata": {},
   "outputs": [
    {
     "name": "stdout",
     "output_type": "stream",
     "text": [
      "red\n"
     ]
    }
   ],
   "source": [
    "print(thisdict[\"dict3\"][\"sdict1\"])"
   ]
  },
  {
   "cell_type": "code",
   "execution_count": 30,
   "id": "c38a5099-02e7-4918-a59a-1daae605cede",
   "metadata": {},
   "outputs": [
    {
     "name": "stdout",
     "output_type": "stream",
     "text": [
      "<class 'dict'>\n"
     ]
    }
   ],
   "source": [
    "print(type(thisdict))"
   ]
  },
  {
   "cell_type": "code",
   "execution_count": null,
   "id": "39b03043-3f4c-479c-9c48-306b39146c78",
   "metadata": {},
   "outputs": [],
   "source": []
  }
 ],
 "metadata": {
  "kernelspec": {
   "display_name": "Python 3 (ipykernel)",
   "language": "python",
   "name": "python3"
  },
  "language_info": {
   "codemirror_mode": {
    "name": "ipython",
    "version": 3
   },
   "file_extension": ".py",
   "mimetype": "text/x-python",
   "name": "python",
   "nbconvert_exporter": "python",
   "pygments_lexer": "ipython3",
   "version": "3.13.5"
  }
 },
 "nbformat": 4,
 "nbformat_minor": 5
}
