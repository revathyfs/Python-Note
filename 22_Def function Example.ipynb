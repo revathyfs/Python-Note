{
 "cells": [
  {
   "cell_type": "code",
   "execution_count": 3,
   "id": "f655be0d-7eab-458e-af56-5ce1dbe694bd",
   "metadata": {},
   "outputs": [
    {
     "name": "stdout",
     "output_type": "stream",
     "text": [
      "Python\n"
     ]
    }
   ],
   "source": [
    "def funname( str ): \n",
    "    print(str) \n",
    "    return; \n",
    "funname(\"Python\")"
   ]
  },
  {
   "cell_type": "code",
   "execution_count": 4,
   "id": "3adc546a-62b3-44c2-899d-f4ed67735ea9",
   "metadata": {},
   "outputs": [
    {
     "name": "stdout",
     "output_type": "stream",
     "text": [
      "Sample\n"
     ]
    }
   ],
   "source": [
    "funname(\"Sample\")"
   ]
  },
  {
   "cell_type": "code",
   "execution_count": 5,
   "id": "a12ecc1d-1aa4-45d9-ac18-ec4d467aa904",
   "metadata": {},
   "outputs": [
    {
     "name": "stdout",
     "output_type": "stream",
     "text": [
      "Python\n",
      "Sample\n"
     ]
    }
   ],
   "source": [
    "def funname( str,name ): \n",
    "    print(str) \n",
    "    print(name)\n",
    "    return; \n",
    "funname(\"Python\",\"Sample\")"
   ]
  },
  {
   "cell_type": "code",
   "execution_count": 8,
   "id": "3178621a-9da9-40a5-81d8-f3e323c91a13",
   "metadata": {},
   "outputs": [
    {
     "name": "stdout",
     "output_type": "stream",
     "text": [
      "My string\n"
     ]
    }
   ],
   "source": [
    "# Function definition is here \n",
    "def printme( str ): \n",
    "    print (str) \n",
    "    return; \n",
    "# Now you can call printme function \n",
    "printme( str = \"My string\")"
   ]
  },
  {
   "cell_type": "code",
   "execution_count": 9,
   "id": "ba5cd334-b2de-4300-b404-1b96856c9616",
   "metadata": {},
   "outputs": [
    {
     "name": "stdout",
     "output_type": "stream",
     "text": [
      "Name:  miki\n",
      "Age  35\n"
     ]
    }
   ],
   "source": [
    "# Function definition is here \n",
    "def printinfo( name, age = 35 ): \n",
    "    print (\"Name: \", name) \n",
    "    print (\"Age \", age) \n",
    "    return; \n",
    "# Now you can call printinfo function \n",
    "# printinfo( age=50, name=\"miki\" ) \n",
    "printinfo( name=\"miki\" ) "
   ]
  },
  {
   "cell_type": "code",
   "execution_count": 10,
   "id": "5bc342f6-6671-4c45-9600-f2701acc0697",
   "metadata": {},
   "outputs": [
    {
     "name": "stdout",
     "output_type": "stream",
     "text": [
      "Name:  miki\n",
      "Age  50\n"
     ]
    }
   ],
   "source": [
    "printinfo( age=50, name=\"miki\" ) "
   ]
  },
  {
   "cell_type": "code",
   "execution_count": 2,
   "id": "0abcfaa3-361b-4d13-90bb-bf844a81440e",
   "metadata": {},
   "outputs": [
    {
     "name": "stdin",
     "output_type": "stream",
     "text": [
      "Enter value of a:  23\n",
      "Enter value of b:  12\n"
     ]
    },
    {
     "name": "stdout",
     "output_type": "stream",
     "text": [
      "Sum is 35, Sub is 11, & Multiply is 276\n"
     ]
    }
   ],
   "source": [
    "#Define a function that accepts 2 values and return its sum, subtraction and multiplication.\n",
    "\n",
    "def result(a, b):\n",
    "    sum = a+b\n",
    "    sub = a-b\n",
    "    mul = a*b\n",
    "    print(f\"Sum is {sum}, Sub is {sub}, & Multiply is {mul}\")\n",
    "\n",
    "a = int(input(\"Enter value of a: \"))  # 7\n",
    "b = int(input(\"Enter value of b: \"))  # 5\n",
    "result(a,b)"
   ]
  },
  {
   "cell_type": "code",
   "execution_count": 3,
   "id": "83c92e79-e76b-4063-a6b3-f37b7ef8ef7a",
   "metadata": {},
   "outputs": [
    {
     "name": "stdin",
     "output_type": "stream",
     "text": [
      "Enter roll no.  25\n"
     ]
    },
    {
     "name": "stdout",
     "output_type": "stream",
     "text": [
      "Roll number 25 is absent\n"
     ]
    }
   ],
   "source": [
    "#Define a function that accepts roll number and returns whether the student is present or absent.\n",
    "\n",
    "def detail(roll):\n",
    "    x = [23,43,22,56]\n",
    "    if roll in x:\n",
    "        print(f\"Roll number {roll} is present\")\n",
    "    else:\n",
    "        print(f\"Roll number {roll} is absent\")\n",
    "roll = int(input(\"Enter roll no. \")) # 24\n",
    "detail(roll)"
   ]
  },
  {
   "cell_type": "code",
   "execution_count": 4,
   "id": "b829660b-4418-46f4-b943-6532590fc12d",
   "metadata": {},
   "outputs": [
    {
     "name": "stdout",
     "output_type": "stream",
     "text": [
      "30 is maximum among all\n"
     ]
    }
   ],
   "source": [
    "#Define a function in python that accepts 3 values and returns the maximum of three numbers.\n",
    "\n",
    "def max(a, b, c):\n",
    "    if a > b and a > c:\n",
    "        print(f\"{a} is maximum among all\")\n",
    "    elif b > a and b > c:\n",
    "        print(f\"{b} is maximum among all\")\n",
    "    else:\n",
    "        print(f\"{c} is maximum among all\")\n",
    "\n",
    "max(30,22,18)"
   ]
  },
  {
   "cell_type": "code",
   "execution_count": 5,
   "id": "e1362525-e610-4e35-a5f8-01c9a511c899",
   "metadata": {},
   "outputs": [
    {
     "name": "stdin",
     "output_type": "stream",
     "text": [
      "Enter a number  4\n"
     ]
    },
    {
     "name": "stdout",
     "output_type": "stream",
     "text": [
      "4 is Even number\n"
     ]
    }
   ],
   "source": [
    "#Define a function that accepts a number and returns whether the number is even or odd.\n",
    "\n",
    "def func(x):\n",
    "    if x % 2 == 0:\n",
    "        print(f\"{x} is Even number\")\n",
    "    else:\n",
    "        print(f\"{x} is Odd number\")\n",
    "x = int(input(\"Enter a number \"))\n",
    "func(4)"
   ]
  },
  {
   "cell_type": "code",
   "execution_count": 8,
   "id": "71043a83-9db9-46bd-ae31-f933a655e11e",
   "metadata": {},
   "outputs": [
    {
     "name": "stdin",
     "output_type": "stream",
     "text": [
      "Enter Value:  subi\n"
     ]
    },
    {
     "name": "stdout",
     "output_type": "stream",
     "text": [
      "Count of vowels is  2\n",
      "Count of consonant is  2\n"
     ]
    }
   ],
   "source": [
    "#Define a function which counts vowels and consonant in a word.\n",
    "\n",
    "def count(val):\n",
    "    vov = 0\n",
    "    con = 0\n",
    "    for i in range(len(val)):\n",
    "        if val[i] in ['a','e','i','o','u']:\n",
    "            vov = vov+1\n",
    "        else:\n",
    "            con = con + 1\n",
    "\n",
    "    print(\"Count of vowels is \",vov)\n",
    "    print(\"Count of consonant is \",con)\n",
    "\n",
    "x = input(\"Enter Value: \") # pythonlobby\n",
    "count(x)"
   ]
  },
  {
   "cell_type": "code",
   "execution_count": 9,
   "id": "ca17bfb4-0da6-4ec0-a140-1b09814910d9",
   "metadata": {},
   "outputs": [
    {
     "name": "stdin",
     "output_type": "stream",
     "text": [
      "Enter number  7\n"
     ]
    },
    {
     "name": "stdout",
     "output_type": "stream",
     "text": [
      "Factorial is 5040\n"
     ]
    }
   ],
   "source": [
    "#Define a function that returns Factorial of a number.\n",
    "\n",
    "def factorial(num):\n",
    "    fact = 1\n",
    "    while(num!=0):\n",
    "        fact *= num\n",
    "        num = num - 1\n",
    "    print(\"Factorial is\",fact)\n",
    "\n",
    "num = int(input(\"Enter number \"))\n",
    "factorial(num)"
   ]
  },
  {
   "cell_type": "code",
   "execution_count": 10,
   "id": "746c46fa-4433-4a2a-9345-800313241df2",
   "metadata": {},
   "outputs": [
    {
     "name": "stdin",
     "output_type": "stream",
     "text": [
      "Enter String:  subi\n"
     ]
    },
    {
     "name": "stdout",
     "output_type": "stream",
     "text": [
      "SUBI\n"
     ]
    }
   ],
   "source": [
    "# Define a function that accepts lowercase words and returns uppercase words.\n",
    "\n",
    "def response(text):\n",
    "    z = text.upper()\n",
    "    print(z)\n",
    "\n",
    "text = input(\"Enter String: \")  # pythonlobby\n",
    "response(text)"
   ]
  },
  {
   "cell_type": "code",
   "execution_count": 11,
   "id": "61d02cf6-f9e2-4760-92aa-4261cf457f7d",
   "metadata": {},
   "outputs": [
    {
     "name": "stdin",
     "output_type": "stream",
     "text": [
      "Enter Radius:  4\n"
     ]
    },
    {
     "name": "stdout",
     "output_type": "stream",
     "text": [
      "50.24\n"
     ]
    }
   ],
   "source": [
    "#Define a function that accepts radius and returns the area of a circle.\n",
    "\n",
    "def area(radius):\n",
    "    area = 3.14*radius*radius\n",
    "    return area\n",
    "\n",
    "radius = int(input(\"Enter Radius: \"))  # 4\n",
    "print(area(radius))"
   ]
  },
  {
   "cell_type": "code",
   "execution_count": null,
   "id": "ce8df1f3-bc5a-4f7d-8196-8e0399074451",
   "metadata": {},
   "outputs": [],
   "source": []
  }
 ],
 "metadata": {
  "kernelspec": {
   "display_name": "Python 3 (ipykernel)",
   "language": "python",
   "name": "python3"
  },
  "language_info": {
   "codemirror_mode": {
    "name": "ipython",
    "version": 3
   },
   "file_extension": ".py",
   "mimetype": "text/x-python",
   "name": "python",
   "nbconvert_exporter": "python",
   "pygments_lexer": "ipython3",
   "version": "3.13.5"
  }
 },
 "nbformat": 4,
 "nbformat_minor": 5
}
