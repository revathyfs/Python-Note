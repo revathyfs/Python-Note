{
 "cells": [
  {
   "cell_type": "markdown",
   "id": "43ad8a7b-87e3-4b6f-9d28-d1d4c200bbfa",
   "metadata": {},
   "source": [
    "# List Comprehension \n",
    "\n",
    "## 🔹 What is List Comprehension in Python?\n",
    "\n",
    "**List comprehension** is a **short, elegant way to create lists** by writing a single line of code instead of using a `for` loop and `.append()`.\n",
    "\n",
    "It allows you to **generate, filter, and transform lists** in a very compact way.\n",
    "\n",
    "---\n",
    "\n",
    "### ✅ General Syntax\n",
    "\n",
    "```python\n",
    "[expression for item in iterable if condition]\n",
    "```\n",
    "\n",
    "* **expression** → the operation you want to perform (like `x*2`)\n",
    "* **item** → variable representing each element in the iterable\n",
    "* **iterable** → the sequence (list, tuple, range, etc.)\n",
    "* **condition** *(optional)* → filter to include only certain items\n",
    "\n",
    "---\n",
    "\n",
    "## 🔹 Examples\n"
   ]
  },
  {
   "cell_type": "code",
   "execution_count": 1,
   "id": "73182c42-4e69-4a66-9854-f9b8310176c9",
   "metadata": {},
   "outputs": [
    {
     "name": "stdout",
     "output_type": "stream",
     "text": [
      "[1, 4, 9, 16]\n"
     ]
    }
   ],
   "source": [
    "# 1. Square numbers (basic example)\n",
    "\n",
    "numbers = [1, 2, 3, 4]\n",
    "squares = [n*n for n in numbers]\n",
    "print(squares)"
   ]
  },
  {
   "cell_type": "code",
   "execution_count": 2,
   "id": "2b5d86e2-667f-4ea7-b81f-41dbed9dc1b4",
   "metadata": {},
   "outputs": [
    {
     "name": "stdout",
     "output_type": "stream",
     "text": [
      "[2, 4, 6]\n"
     ]
    }
   ],
   "source": [
    "# 2. Filter even numbers\n",
    "\n",
    "numbers = [1, 2, 3, 4, 5, 6]\n",
    "evens = [n for n in numbers if n % 2 == 0]\n",
    "print(evens)"
   ]
  },
  {
   "cell_type": "code",
   "execution_count": 3,
   "id": "a59e5494-dbc0-446c-ac68-921adc577ceb",
   "metadata": {},
   "outputs": [
    {
     "name": "stdout",
     "output_type": "stream",
     "text": [
      "['ALICE', 'BOB', 'CHARLIE']\n"
     ]
    }
   ],
   "source": [
    "# 3. Convert to uppercase\n",
    "\n",
    "names = [\"alice\", \"bob\", \"charlie\"]\n",
    "upper_names = [name.upper() for name in names]\n",
    "print(upper_names)"
   ]
  },
  {
   "cell_type": "code",
   "execution_count": 4,
   "id": "f8917e8d-247c-4c53-9a6a-9933fba2e04c",
   "metadata": {},
   "outputs": [
    {
     "name": "stdout",
     "output_type": "stream",
     "text": [
      "[[1, 2, 3], [2, 4, 6], [3, 6, 9]]\n"
     ]
    }
   ],
   "source": [
    "# 4. Nested list comprehension (multiplication table)\n",
    "\n",
    "table = [[i*j for j in range(1, 4)] for i in range(1, 4)]\n",
    "print(table) "
   ]
  },
  {
   "cell_type": "code",
   "execution_count": 5,
   "id": "4389cfae-4580-4105-bca0-bb807edc505f",
   "metadata": {},
   "outputs": [
    {
     "name": "stdout",
     "output_type": "stream",
     "text": [
      "['test@gmail.com', 'user@yahoo.com']\n"
     ]
    }
   ],
   "source": [
    "# 5. Real-world example: Extract valid emails\n",
    "\n",
    "emails = [\"test@gmail.com\", \"hello\", \"user@yahoo.com\", \"abc\"]\n",
    "\n",
    "valid_emails = [e for e in emails if \"@\" in e]\n",
    "print(valid_emails)"
   ]
  },
  {
   "cell_type": "markdown",
   "id": "59dcc3dd-fab4-4145-bae9-1aba10762f4d",
   "metadata": {},
   "source": [
    "## 🔹 Why use List Comprehension?\n",
    "\n",
    "✅ **More concise** than loops\n",
    "✅ **More readable** (once you’re used to it)\n",
    "✅ **Faster** than using `for` + `append()`\n",
    "\n",
    "---\n",
    "\n",
    "## 🔹 Comparison: `for loop` vs List Comprehension\n"
   ]
  },
  {
   "cell_type": "code",
   "execution_count": 6,
   "id": "35a7d09e-8283-4af1-8e31-eda6305a523d",
   "metadata": {},
   "outputs": [
    {
     "name": "stdout",
     "output_type": "stream",
     "text": [
      "[1, 4, 9, 16]\n"
     ]
    }
   ],
   "source": [
    "# Using for loop\n",
    "\n",
    "numbers = [1, 2, 3, 4]\n",
    "squares = []\n",
    "for n in numbers:\n",
    "    squares.append(n*n)\n",
    "print(squares)"
   ]
  },
  {
   "cell_type": "code",
   "execution_count": 7,
   "id": "e941fe5f-17ac-4d7f-aa32-23987bf5b919",
   "metadata": {},
   "outputs": [
    {
     "name": "stdout",
     "output_type": "stream",
     "text": [
      "[1, 4, 9, 16]\n"
     ]
    }
   ],
   "source": [
    "# Using List Comprehension\n",
    "\n",
    "numbers = [1, 2, 3, 4]\n",
    "squares = [n*n for n in numbers]\n",
    "print(squares)"
   ]
  },
  {
   "cell_type": "code",
   "execution_count": null,
   "id": "808bd68d-18b1-483a-80a4-9590142b4edf",
   "metadata": {},
   "outputs": [],
   "source": [
    "👉 Much shorter and cleaner!\n",
    "\n",
    "---\n",
    "\n",
    "✅ **In short:**\n",
    "List comprehension is a **compact way to build lists** with transformations and optional conditions, making your Python code cleaner and faster.\n",
    "\n",
    "---\n"
   ]
  },
  {
   "cell_type": "code",
   "execution_count": 3,
   "id": "a6026b11-8bb8-4e5e-8539-25dc956152a8",
   "metadata": {},
   "outputs": [
    {
     "data": {
      "text/plain": [
       "[0, 2, 4, 6, 8]"
      ]
     },
     "execution_count": 3,
     "metadata": {},
     "output_type": "execute_result"
    }
   ],
   "source": [
    "a=[x for x in range(10) if x%2==0]\n",
    "a"
   ]
  },
  {
   "cell_type": "code",
   "execution_count": 1,
   "id": "d5f48a9b-730b-44d4-a549-d34ea4a9feb7",
   "metadata": {},
   "outputs": [
    {
     "name": "stdout",
     "output_type": "stream",
     "text": [
      "[1, 8, 27, 64, 125, 216, 343, 512, 729, 1000]\n"
     ]
    }
   ],
   "source": [
    "cube=[x**3 for x in range(1,11)]\n",
    "print(cube)"
   ]
  },
  {
   "cell_type": "code",
   "execution_count": 3,
   "id": "dc109f05-7821-485c-bef9-ac33ba99e89d",
   "metadata": {},
   "outputs": [
    {
     "name": "stdout",
     "output_type": "stream",
     "text": [
      "1\n",
      "3\n",
      "5\n",
      "7\n",
      "9\n",
      "11\n",
      "13\n",
      "15\n",
      "17\n",
      "19\n",
      "21\n",
      "23\n",
      "25\n",
      "27\n",
      "29\n",
      "31\n",
      "33\n",
      "35\n",
      "37\n",
      "39\n",
      "41\n",
      "43\n",
      "45\n",
      "47\n",
      "49\n"
     ]
    }
   ],
   "source": [
    "l=[x for x in range(1,51)]\n",
    "for i in l:\n",
    "    if i%2!=0:\n",
    "        print(i)\n"
   ]
  },
  {
   "cell_type": "code",
   "execution_count": 5,
   "id": "8b24991b-0f0c-4899-b1e8-cd666b133b5a",
   "metadata": {},
   "outputs": [
    {
     "name": "stdin",
     "output_type": "stream",
     "text": [
      "Enter the string :  god is love\n"
     ]
    },
    {
     "name": "stdout",
     "output_type": "stream",
     "text": [
      "o\n",
      "i\n",
      "o\n",
      "e\n"
     ]
    }
   ],
   "source": [
    "string=(input(\"Enter the string : \")).lower()\n",
    "consonants=[\"a\",\"e\",\"i\",\"o\",\"u\"]\n",
    "for i in range(len(string)):\n",
    "    for j in range(len(consonants)):\n",
    "        if consonants[j]==string[i]:\n",
    "            print(consonants[j])"
   ]
  },
  {
   "cell_type": "code",
   "execution_count": 9,
   "id": "8ff39107-142a-4241-a4e4-f90ed0ad4e0a",
   "metadata": {},
   "outputs": [
    {
     "name": "stdin",
     "output_type": "stream",
     "text": [
      "Enter the number words to be enter:  1\n",
      "Enter the words :  GOD\n"
     ]
    },
    {
     "name": "stdout",
     "output_type": "stream",
     "text": [
      "god\n"
     ]
    }
   ],
   "source": [
    "n=int(input(\"Enter the number words to be enter: \"))\n",
    "for i in range(n):\n",
    "    n=input(\"Enter the words : \")\n",
    "    for j in n:\n",
    "        m=n.lower()\n",
    "    print(m)"
   ]
  },
  {
   "cell_type": "code",
   "execution_count": 11,
   "id": "0d7cc4d0-9bda-4d6f-8c24-e9fa1b87de1b",
   "metadata": {},
   "outputs": [
    {
     "name": "stdout",
     "output_type": "stream",
     "text": [
      "5\n",
      "10\n",
      "15\n",
      "20\n",
      "25\n",
      "30\n",
      "35\n",
      "40\n",
      "45\n",
      "50\n",
      "55\n",
      "60\n",
      "65\n",
      "70\n",
      "75\n",
      "80\n",
      "85\n",
      "90\n",
      "95\n",
      "100\n"
     ]
    }
   ],
   "source": [
    "l=[x for x in range(1,101)]\n",
    "for i in l:\n",
    "    if i%5==0:\n",
    "        print(i)\n"
   ]
  },
  {
   "cell_type": "code",
   "execution_count": 6,
   "id": "f7ccd93a-cd43-4844-8d0c-9852ddb758a9",
   "metadata": {},
   "outputs": [
    {
     "name": "stdin",
     "output_type": "stream",
     "text": [
      "Enter a string :  Subi\n"
     ]
    },
    {
     "name": "stdout",
     "output_type": "stream",
     "text": [
      "['S', 'u', 'b', 'i']\n"
     ]
    }
   ],
   "source": [
    "#Generate a list of characters from a string\n",
    "\n",
    "string = input(\"Enter a string : \")\n",
    "chars = [char for char in string if char.isalpha()]\n",
    "print(chars)"
   ]
  },
  {
   "cell_type": "code",
   "execution_count": 7,
   "id": "e3fd293f-a46a-4c42-846b-bb3cf74a9ed8",
   "metadata": {},
   "outputs": [
    {
     "name": "stdout",
     "output_type": "stream",
     "text": [
      "[2, 3, 5, 7, 11, 13, 17, 19, 23, 29, 31, 37, 41, 43, 47]\n"
     ]
    }
   ],
   "source": [
    "# list of prime numbers 1 to 50\n",
    "\n",
    "def is_prime(n):\n",
    "    if n <= 1:\n",
    "        return False\n",
    "    for i in range(2, int(n**0.5) + 1):\n",
    "        if n % i == 0:\n",
    "            return False\n",
    "    return True\n",
    " \n",
    "prime_numbers = [x for x in range(1, 51) if is_prime(x)]\n",
    "print(prime_numbers)"
   ]
  },
  {
   "cell_type": "markdown",
   "id": "236c883b-7d1a-4e73-9ed4-04d0ff5e179e",
   "metadata": {},
   "source": [
    "# **`map()` vs list comprehension**\n",
    "\n",
    "both are used to **transform lists**, but there are differences in syntax, readability, and flexibility.\n",
    "\n",
    "## 🔹 Scenario: Square each number in a list"
   ]
  },
  {
   "cell_type": "code",
   "execution_count": 2,
   "id": "1dd91ef0-1d78-4b61-b349-fd0d706bb813",
   "metadata": {},
   "outputs": [
    {
     "name": "stdout",
     "output_type": "stream",
     "text": [
      "[1, 4, 9, 16]\n"
     ]
    }
   ],
   "source": [
    "# Using map() + lambda\n",
    "\n",
    "numbers = [1, 2, 3, 4]\n",
    "\n",
    "squares = list(map(lambda n: n * n, numbers))\n",
    "print(squares)  "
   ]
  },
  {
   "cell_type": "code",
   "execution_count": 3,
   "id": "199f7da3-c45b-4187-96a7-23479b638837",
   "metadata": {},
   "outputs": [
    {
     "name": "stdout",
     "output_type": "stream",
     "text": [
      "[1, 4, 9, 16]\n"
     ]
    }
   ],
   "source": [
    "# Using List Comprehension\n",
    "\n",
    "numbers = [1, 2, 3, 4]\n",
    "\n",
    "squares = [n * n for n in numbers]\n",
    "print(squares) "
   ]
  },
  {
   "cell_type": "markdown",
   "id": "262b23da-1f9c-424f-9ba2-3135cff28e70",
   "metadata": {},
   "source": [
    "## 🔹 Key Differences\n",
    "\n",
    "| Feature                | `map()`                                  | List Comprehension                                  |\n",
    "| ---------------------- | ---------------------------------------- | --------------------------------------------------- |\n",
    "| **Syntax**             | `map(function, iterable)`                | `[expression for item in iterable]`                 |\n",
    "| **Readability**        | Less readable if using `lambda`          | More readable and “Pythonic”                        |\n",
    "| **Flexibility**        | Harder to add conditions inside          | Easy to add conditions (`if`) or multiple loops     |\n",
    "| **Return type**        | `map` object (needs `list()` conversion) | List directly                                       |\n",
    "| **Performance**        | Slightly faster for very large data      | Comparable, sometimes faster for small-medium lists |\n",
    "| **Anonymous function** | Requires `lambda` for inline functions   | No need for `lambda`                                |\n",
    "\n",
    "---"
   ]
  },
  {
   "cell_type": "markdown",
   "id": "8a814ea0-b804-43b9-966d-3452a6d766f9",
   "metadata": {},
   "source": [
    "## 🔹 Example with Condition (Filter even numbers and square them)"
   ]
  },
  {
   "cell_type": "code",
   "execution_count": 4,
   "id": "c24955bc-6b26-47b3-b052-36e881c99f6c",
   "metadata": {},
   "outputs": [
    {
     "name": "stdout",
     "output_type": "stream",
     "text": [
      "[4, 16]\n"
     ]
    }
   ],
   "source": [
    "# Using map() + lambda + filter()\n",
    "\n",
    "numbers = [1, 2, 3, 4, 5]\n",
    "\n",
    "even_squares = list(map(lambda n: n*n, filter(lambda n: n%2==0, numbers)))\n",
    "print(even_squares)"
   ]
  },
  {
   "cell_type": "code",
   "execution_count": 5,
   "id": "d31d617f-8f83-4240-9991-d724817b0a73",
   "metadata": {},
   "outputs": [
    {
     "name": "stdout",
     "output_type": "stream",
     "text": [
      "[4, 16]\n"
     ]
    }
   ],
   "source": [
    "# Using List Comprehension\n",
    "\n",
    "numbers = [1, 2, 3, 4, 5]\n",
    "\n",
    "even_squares = [n*n for n in numbers if n%2==0]\n",
    "print(even_squares)"
   ]
  },
  {
   "cell_type": "markdown",
   "id": "82480e20-468c-49f1-90e4-70fadf98b067",
   "metadata": {},
   "source": [
    "👉 List comprehension is **cleaner and easier to read**, especially when adding conditions.\n",
    "\n",
    "---\n",
    "\n",
    "### 🔹 Rule of Thumb:\n",
    "\n",
    "* **Use `map()`** when you already have a **function** you want to apply to all items.\n",
    "* **Use list comprehension** for **more readable, flexible, Pythonic code**, especially with conditions or multiple transformations.\n",
    "\n",
    "---"
   ]
  },
  {
   "cell_type": "code",
   "execution_count": null,
   "id": "2a7a725c-e9ec-42b5-8650-ab699d4d36d8",
   "metadata": {},
   "outputs": [],
   "source": []
  }
 ],
 "metadata": {
  "kernelspec": {
   "display_name": "Python 3 (ipykernel)",
   "language": "python",
   "name": "python3"
  },
  "language_info": {
   "codemirror_mode": {
    "name": "ipython",
    "version": 3
   },
   "file_extension": ".py",
   "mimetype": "text/x-python",
   "name": "python",
   "nbconvert_exporter": "python",
   "pygments_lexer": "ipython3",
   "version": "3.13.5"
  }
 },
 "nbformat": 4,
 "nbformat_minor": 5
}
