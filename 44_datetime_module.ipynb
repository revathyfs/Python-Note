{
 "cells": [
  {
   "cell_type": "markdown",
   "id": "0579cdf6-7cdf-41e0-b597-fb7b6d394075",
   "metadata": {},
   "source": [
    "# Python datetime module"
   ]
  },
  {
   "cell_type": "markdown",
   "id": "cc13823c-35e5-48c4-9432-c31e7be43ec6",
   "metadata": {},
   "source": [
    "In Python, date and time are not built-in types but are handled using built-in datetime module. This module offers classes to efficiently work with dates, times and intervals, providing many useful methods. Date and DateTime are objects, so manipulating them means working with objects, not plain strings or timestamps."
   ]
  },
  {
   "cell_type": "markdown",
   "id": "3f362cb8-78a5-4856-a3b9-583354d3c95c",
   "metadata": {},
   "source": [
    "### Why do we need Datetime module?"
   ]
  },
  {
   "cell_type": "markdown",
   "id": "984f7a2c-680c-4a45-b9b7-3513fe665f33",
   "metadata": {},
   "source": [
    "1. Helps work with dates and times in real-world applications like scheduling or logging.\n",
    "2. Allows easy calculation of differences between two dates or times.\n",
    "3. Supports formatting and parsing of date/time strings for user-friendly outputs.\n",
    "4. Useful for time-stamping events, files or data entries.\n",
    "5. Essential for handling time zones, durations and calendar-based operations."
   ]
  },
  {
   "cell_type": "markdown",
   "id": "6d5aa044-86a0-45be-8235-2edce11ce950",
   "metadata": {},
   "source": [
    "## Commonly used classes in datetime module"
   ]
  },
  {
   "cell_type": "markdown",
   "id": "28e47e4f-282a-4cdc-9bea-05fa50b40042",
   "metadata": {},
   "source": [
    "| Class           | Description                                                                              | Example Usage                                                |\n",
    "| --------------- | ---------------------------------------------------------------------------------------- | ------------------------------------------------------------ |\n",
    "| **`date`**      | Represents a **date** (year, month, day) without time information.                       | `datetime.date(2025, 8, 13)`                                 |\n",
    "| **`time`**      | Represents a **time** (hour, minute, second, microsecond) without date.                  | `datetime.time(14, 30, 45)`                                  |\n",
    "| **`datetime`**  | Represents both **date and time** (year, month, day, hour, minute, second, microsecond). | `datetime.datetime(2025, 8, 13, 14, 30, 45)`                 |\n",
    "| **`timedelta`** | Represents the **difference between two dates or times**.                                | `datetime.timedelta(days=5, hours=3)`                        |\n",
    "| **`tzinfo`**    | Base class for dealing with **time zone information**.                                   | Custom timezone class inheriting from `tzinfo`               |\n",
    "| **`timezone`**  | A concrete implementation of `tzinfo` for fixed-offset time zones (like UTC+5:30).       | `datetime.timezone(datetime.timedelta(hours=5, minutes=30))` |\n"
   ]
  },
  {
   "cell_type": "markdown",
   "id": "c96608a9-ea77-4ee1-b3d3-972be79a6285",
   "metadata": {},
   "source": [
    "# Date class"
   ]
  },
  {
   "cell_type": "markdown",
   "id": "a8bdc153-2c0d-4664-ba62-eea3a1f15455",
   "metadata": {},
   "source": [
    "The date class provided by datetime module, is used to create and manipulate date objects. When an instance of this class is created, it represents a specific calendar date in ISO 8601 format: YYYY-MM-DD.\n",
    "\n",
    "#### Syntax\n",
    "*class datetime.date(year, month, day)*"
   ]
  },
  {
   "cell_type": "markdown",
   "id": "cbfc39f8",
   "metadata": {},
   "source": [
    "#### Parameters:\n",
    "\n",
    "- year: An integer between MINYEAR (usually 1) and MAXYEAR (usually 9999).\n",
    "- month: An integer from 1 (January) to 12 (December).\n",
    "- day: An integer valid for the specified month and year (e.g., 28 or 29 for February, depending on leap year)."
   ]
  },
  {
   "cell_type": "markdown",
   "id": "746e880c",
   "metadata": {},
   "source": [
    "#### Important Notes\n",
    "\n",
    "- Providing invalid types (e.g., string instead of int) raises a TypeError.\n",
    "- Providing out-of-range values raises a ValueError.\n",
    "- The date object does not include time or timezone information — for that, use datetime.depending on leap year)."
   ]
  },
  {
   "cell_type": "code",
   "execution_count": 1,
   "id": "3eab64e0",
   "metadata": {},
   "outputs": [
    {
     "name": "stdout",
     "output_type": "stream",
     "text": [
      "1996-12-11\n"
     ]
    }
   ],
   "source": [
    "# Example 1: Creating a Date Object\n",
    "\n",
    "from datetime import date\n",
    "d = date(1996, 12, 11)\n",
    "print(d)"
   ]
  },
  {
   "cell_type": "code",
   "execution_count": 2,
   "id": "52b71045",
   "metadata": {},
   "outputs": [
    {
     "name": "stdout",
     "output_type": "stream",
     "text": [
      "2025-08-13\n"
     ]
    }
   ],
   "source": [
    "# Example 2: Get Current Date\n",
    "\n",
    "from datetime import date\n",
    "t = date.today()\n",
    "print(t)"
   ]
  },
  {
   "cell_type": "code",
   "execution_count": 1,
   "id": "1a38679e",
   "metadata": {},
   "outputs": [
    {
     "name": "stdout",
     "output_type": "stream",
     "text": [
      "2025\n",
      "8\n",
      "19\n"
     ]
    }
   ],
   "source": [
    "# Example 3: Accessing Year, Month and Day Attributes\n",
    "\n",
    "from datetime import date\n",
    "t = date.today()\n",
    "print(t.year)\n",
    "print(t.month)\n",
    "print(t.day)"
   ]
  },
  {
   "cell_type": "code",
   "execution_count": 3,
   "id": "32b91088",
   "metadata": {},
   "outputs": [
    {
     "name": "stdout",
     "output_type": "stream",
     "text": [
      "2029-10-25 21:47:48\n",
      "2029-10-25\n"
     ]
    }
   ],
   "source": [
    "# Example 4: Create Date from Timestamp\n",
    "\n",
    "from datetime import datetime\n",
    "date_time = datetime.fromtimestamp(1887639468)\n",
    "print(date_time)\n",
    "print(date_time.date())"
   ]
  },
  {
   "cell_type": "code",
   "execution_count": 1,
   "id": "fc458da1",
   "metadata": {},
   "outputs": [
    {
     "name": "stdout",
     "output_type": "stream",
     "text": [
      "2025-08-18\n",
      "<class 'str'>\n"
     ]
    }
   ],
   "source": [
    "# Example 5: Convert Date to String\n",
    "\n",
    "from datetime import date\n",
    "t = date.today()\n",
    "\n",
    "# Convert date object to ISO 8601 string (YYYY-MM-DD)\n",
    "\n",
    "date_str = t.isoformat()\n",
    "print(date_str)\n",
    "print(type(date_str))"
   ]
  },
  {
   "cell_type": "markdown",
   "id": "0b6ccc85",
   "metadata": {},
   "source": [
    "# Important Date Class Methods"
   ]
  },
  {
   "cell_type": "markdown",
   "id": "f19f2cdd",
   "metadata": {},
   "source": [
    "| Function Name                          | Description                                                                                          |\n",
    "| -------------------------------------- | ---------------------------------------------------------------------------------------------------- |\n",
    "| **`ctime()`**                          | Returns a string representing the date.                                                              |\n",
    "| **`fromisocalendar(year, week, day)`** | Returns a date corresponding to the ISO calendar.                                                    |\n",
    "| **`fromisoformat(date_string)`**       | Returns a date object from the string representation of the date.                                    |\n",
    "| **`fromordinal(ordinal)`**             | Returns a date object from the proleptic Gregorian ordinal, where January 1 of year 1 has ordinal 1. |\n",
    "| **`fromtimestamp(timestamp)`**         | Returns a date object from the POSIX timestamp.                                                      |\n",
    "| **`isocalendar()`**                    | Returns a tuple `(ISO year, ISO week number, ISO weekday)`.                                          |\n",
    "| **`isoformat()`**                      | Returns the string representation of the date in `YYYY-MM-DD` format.                                |\n",
    "| **`isoweekday()`**                     | Returns the day of the week as an integer where Monday is 1 and Sunday is 7.                         |\n",
    "| **`replace(year, month, day)`**        | Returns a new date object with replaced year, month, or day.                                         |\n",
    "| **`strftime(format)`**                 | Returns a string representation of the date with the given format.                                   |\n",
    "| **`timetuple()`**                      | Returns a `time.struct_time` object representing the date.                                           |\n",
    "| **`today()`**                          | Returns the current local date.                                                                      |\n",
    "| **`toordinal()`**                      | Returns the proleptic Gregorian ordinal of the date, where January 1 of year 1 has ordinal 1.        |\n",
    "| **`weekday()`**                        | Returns the day of the week as an integer where Monday is 0 and Sunday is 6.                         |\n"
   ]
  },
  {
   "cell_type": "markdown",
   "id": "a066b2fc",
   "metadata": {},
   "source": [
    "### Time class\n",
    "\n",
    "The time class in Python represents a specific time of day, independent of any particular date. It is used to create time objects that include hour, minute, second, microsecond and timezone information.\n",
    "\n",
    "#### Syntax\n",
    "*class datetime.time(hour=0, minute=0, second=0, microsecond=0, tzinfo=None)*\n",
    "\n",
    "All the arguments are optional. tzinfo can be None otherwise all the attributes must be integer in following range - \n",
    "\n",
    "- 0 <= hour < 24\n",
    "- 0 <= minute < 60\n",
    "- 0 <= second < 60\n",
    "- 0 <= microsecond < 1000000"
   ]
  },
  {
   "cell_type": "code",
   "execution_count": 6,
   "id": "74db1858",
   "metadata": {},
   "outputs": [
    {
     "name": "stdout",
     "output_type": "stream",
     "text": [
      "Entered time: 13:24:56\n",
      "Time with one argument: 00:12:00\n",
      "Time without argument: 00:00:00\n"
     ]
    }
   ],
   "source": [
    "# Example 1: Time object representing time in Python\n",
    "\n",
    "from datetime import time\n",
    "\n",
    "# Create time object with hour, minute and second\n",
    "my_time = time(13, 24, 56)\n",
    "print(\"Entered time:\", my_time)\n",
    "\n",
    "# Time object with only minute specified\n",
    "my_time = time(minute=12)\n",
    "print(\"Time with one argument:\", my_time)\n",
    "\n",
    "# Time object with default (00:00:00)\n",
    "my_time = time()\n",
    "print(\"Time without argument:\", my_time)\n",
    "\n",
    "# time(hour=26)      → ValueError: hour must be in 0..23\n",
    "# time(hour='23')    → TypeError: string passed instead of int"
   ]
  },
  {
   "cell_type": "code",
   "execution_count": 7,
   "id": "9c3ca908",
   "metadata": {},
   "outputs": [
    {
     "name": "stdout",
     "output_type": "stream",
     "text": [
      "hour = 11\n",
      "minute = 34\n",
      "second = 56\n",
      "microsecond = 0\n"
     ]
    }
   ],
   "source": [
    "# Example 2: Get hours, minutes, seconds and microseconds\n",
    "\n",
    "# After creating a time object, its attributes can also be printed separately. \n",
    "\n",
    "from datetime import time\n",
    "\n",
    "Time = time(11, 34, 56)\n",
    "print(\"hour =\", Time.hour)\n",
    "print(\"minute =\", Time.minute)\n",
    "print(\"second =\", Time.second)\n",
    "print(\"microsecond =\", Time.microsecond)"
   ]
  },
  {
   "cell_type": "code",
   "execution_count": 8,
   "id": "2bccbbf0",
   "metadata": {},
   "outputs": [
    {
     "name": "stdout",
     "output_type": "stream",
     "text": [
      "String Representation: 12:24:36.001212\n",
      "<class 'str'>\n"
     ]
    }
   ],
   "source": [
    "# Example 3: Convert Time object to String\n",
    "\n",
    "# We can convert time object to string using isoformat() method.\n",
    "\n",
    "from datetime import time\n",
    "\n",
    "# Creating Time object\n",
    "Time = time(12,24,36,1212)\n",
    "\n",
    "# Converting Time object to string\n",
    "Str = Time.isoformat()\n",
    "print(\"String Representation:\", Str)\n",
    "print(type(Str))"
   ]
  },
  {
   "cell_type": "markdown",
   "id": "16b558f3",
   "metadata": {},
   "source": [
    "# List of Time class Methods\n",
    "\n",
    "| Function Name                    | Description                                                                              |\n",
    "| -------------------------------- | ---------------------------------------------------------------------------------------- |\n",
    "| **`dst()`**                      | Returns `tzinfo.dst()` if `tzinfo` is not `None`.                                        |\n",
    "| **`fromisoformat(time_string)`** | Returns a `time` object from the string representation of the time.                      |\n",
    "| **`isoformat()`**                | Returns the string representation of time from the `time` object.                        |\n",
    "| **`replace(**kwargs)`**          | Returns a new `time` object with updated hour, minute, second, microsecond, or `tzinfo`. |\n",
    "| **`strftime(format)`**           | Returns a string representation of the time with the given format.                       |\n",
    "| **`tzname()`**                   | Returns `tzinfo.tzname()` if `tzinfo` is not `None`.                                     |\n",
    "| **`utcoffset()`**                | Returns `tzinfo.utcoffset()` if `tzinfo` is not `None`.                                  |\n"
   ]
  },
  {
   "cell_type": "markdown",
   "id": "cb2fff74",
   "metadata": {},
   "source": [
    "# Datetime class\n",
    "The datetime class represents both date and time components in a single object. It combines features of the date and time classes, allowing to work with complete timestamps. It uses Gregorian calendar and assumes 24-hour days with exactly 86,400 seconds.\n",
    "\n",
    "#### Syntax\n",
    "*class datetime.datetime(year, month, day, hour=0, minute=0, second=0, microsecond=0, tzinfo=None)* \n",
    "\n",
    "The year, month and day arguments are mandatory. tzinfo can be None, rest all attributes must be an integer in following range -  \n",
    "\n",
    "- MINYEAR <= year <= MAXYEAR\n",
    "- 1 <= month <= 12\n",
    "- 1 <= day <= number of days in the given month and year\n",
    "- 0 <= hour < 24\n",
    "- 0 <= minute < 60\n",
    "- 0 <= second < 60\n",
    "- 0 <= microsecond < 1000000\n",
    "\n",
    "**Note** - Passing an argument other than integer will raise a TypeError and passing arguments outside the range will raise ValueError."
   ]
  },
  {
   "cell_type": "code",
   "execution_count": 1,
   "id": "10e8769f",
   "metadata": {},
   "outputs": [
    {
     "name": "stdout",
     "output_type": "stream",
     "text": [
      "1999-12-12 00:00:00\n",
      "1999-12-12 12:12:12.342380\n"
     ]
    }
   ],
   "source": [
    "# Example 1: DateTime object representing DateTime in Python \n",
    "\n",
    "from datetime import datetime\n",
    "\n",
    "# Initializing constructor\n",
    "a = datetime(1999, 12, 12)\n",
    "print(a)\n",
    "\n",
    "# Initializing constructor with time parameters as well\n",
    "a = datetime(1999, 12, 12, 12, 12, 12, 342380)\n",
    "print(a)"
   ]
  },
  {
   "cell_type": "code",
   "execution_count": 2,
   "id": "0f2708fd",
   "metadata": {},
   "outputs": [
    {
     "name": "stdout",
     "output_type": "stream",
     "text": [
      "year = 1999\n",
      "month = 12\n",
      "hour = 12\n",
      "minute = 12\n",
      "timestamp = 944980932.0\n"
     ]
    }
   ],
   "source": [
    "# Example 2: Get year, month, hour, minute and timestamp\n",
    "\n",
    "# After creating a DateTime object, its attributes can also be printed separately.\n",
    "\n",
    "from datetime import datetime\n",
    "\n",
    "a = datetime(1999, 12, 12, 12, 12, 12)\n",
    "print(\"year =\", a.year)\n",
    "print(\"month =\", a.month)\n",
    "print(\"hour =\", a.hour)\n",
    "print(\"minute =\", a.minute)\n",
    "print(\"timestamp =\", a.timestamp())"
   ]
  },
  {
   "cell_type": "code",
   "execution_count": 3,
   "id": "be6833d2",
   "metadata": {},
   "outputs": [
    {
     "name": "stdout",
     "output_type": "stream",
     "text": [
      "Current date and time is 2025-08-13 13:14:40.302825\n"
     ]
    }
   ],
   "source": [
    "# Example 3: Current date and time\n",
    "\n",
    "# You can print current date and time using Datetime.now() function. now() function returns current local date and time. \n",
    "\n",
    "from datetime import datetime\n",
    "\n",
    "# Calling now() function\n",
    "today = datetime.now()\n",
    "print(\"Current date and time is\", today)"
   ]
  },
  {
   "cell_type": "code",
   "execution_count": 4,
   "id": "6a0cd01d",
   "metadata": {},
   "outputs": [
    {
     "name": "stdout",
     "output_type": "stream",
     "text": [
      "2025-08-13T13:15:02.871153\n",
      "<class 'str'>\n"
     ]
    }
   ],
   "source": [
    "# Example 4: Convert Python Datetime to String\n",
    "\n",
    "# We can convert Datetime to string in Python using datetime.strftime and datetime.isoformat methods. \n",
    "\n",
    "from datetime import datetime as dt\n",
    "\n",
    "# Getting current date and time\n",
    "now = dt.now()\n",
    "string = dt.isoformat(now)\n",
    "print(string)\n",
    "print(type(string))"
   ]
  },
  {
   "cell_type": "markdown",
   "id": "5b5af02d",
   "metadata": {},
   "source": [
    "# List of Datetime Class Methods\n",
    "\n",
    "| Function Name                       | Description                                                                                                            |\n",
    "| ----------------------------------- | ---------------------------------------------------------------------------------------------------------------------- |\n",
    "| **`astimezone()`**                  | Returns the `datetime` object containing timezone information.                                                         |\n",
    "| **`combine(date, time)`**           | Combines `date` and `time` objects into a `datetime` object.                                                           |\n",
    "| **`ctime()`**                       | Returns a string representation of date and time.                                                                      |\n",
    "| **`date()`**                        | Returns the `date` object (date portion only).                                                                         |\n",
    "| **`fromisoformat(date_string)`**    | Returns a `datetime` object from the string representation of the date and time.                                       |\n",
    "| **`fromordinal(ordinal)`**          | Returns a date object from the proleptic Gregorian ordinal (Jan 1 of year 1 has ordinal 1), with time set to 00:00:00. |\n",
    "| **`fromtimestamp(timestamp)`**      | Returns date and time from a POSIX timestamp.                                                                          |\n",
    "| **`isocalendar()`**                 | Returns a tuple `(ISO year, ISO week number, ISO weekday)`.                                                            |\n",
    "| **`isoformat()`**                   | Returns the string representation of date and time in ISO 8601 format.                                                 |\n",
    "| **`isoweekday()`**                  | Returns the day of the week as an integer where Monday is 1 and Sunday is 7.                                           |\n",
    "| **`now(tz=None)`**                  | Returns current local date and time, with optional timezone.                                                           |\n",
    "| **`replace(**kwargs)`**             | Returns a new `datetime` object with specified attributes replaced.                                                    |\n",
    "| **`strftime(format)`**              | Returns a string representation of the `datetime` object using a given format.                                         |\n",
    "| **`strptime(date_string, format)`** | Returns a `datetime` object parsed from a string using a specified format.                                             |\n",
    "| **`time()`**                        | Returns the `time` object (time portion only).                                                                         |\n",
    "| **`timetuple()`**                   | Returns a `time.struct_time` object representing the date and time.                                                    |\n",
    "| **`timetz()`**                      | Returns the `time` object with timezone info.                                                                          |\n",
    "| **`today()`**                       | Returns local `datetime` with `tzinfo=None`.                                                                           |\n",
    "| **`toordinal()`**                   | Returns the proleptic Gregorian ordinal of the date (Jan 1 of year 1 = 1).                                             |\n",
    "| **`tzname()`**                      | Returns the name of the timezone.                                                                                      |\n",
    "| **`utcfromtimestamp(timestamp)`**   | Returns a UTC `datetime` from a POSIX timestamp.                                                                       |\n",
    "| **`utcoffset()`**                   | Returns the UTC offset of the timezone.                                                                                |\n",
    "| **`utcnow()`**                      | Returns current UTC date and time.                                                                                     |\n",
    "| **`weekday()`**                     | Returns the day of the week as integer where Monday is 0 and Sunday is 6.                                              |\n"
   ]
  },
  {
   "cell_type": "markdown",
   "id": "fb4a90d9",
   "metadata": {},
   "source": [
    "# Timedelta Class\n",
    "Python timedelta class is used for calculating differences in dates and also can be used for date manipulations in Python. It is one of easiest ways to perform date manipulations.\n",
    "\n",
    "#### Syntax\n",
    "*class datetime.timedelta(days=0, seconds=0, microseconds=0, milliseconds=0, minutes=0, hours=0, weeks=0)*\n",
    "\n",
    "All parameters are optional and can be used in any combination"
   ]
  },
  {
   "cell_type": "code",
   "execution_count": 5,
   "id": "5b5bb772",
   "metadata": {},
   "outputs": [
    {
     "name": "stdout",
     "output_type": "stream",
     "text": [
      "Current Date & Time: 2025-08-13 13:18:50.916942\n",
      "After 2 Years: 2027-08-13 13:18:50.916942\n",
      "After 2 Days: 2025-08-15 13:18:50.916942\n"
     ]
    }
   ],
   "source": [
    "# Example 1: Add days to DateTime object\n",
    "\n",
    "# The timedelta function demonstration\n",
    "\n",
    "from datetime import datetime, timedelta\n",
    "\n",
    "# Get the current date and time\n",
    "now = datetime.now()\n",
    "print(\"Current Date & Time:\", now)\n",
    "\n",
    "# Add 2 years (approx. 730 days)\n",
    "after_2_years = now + timedelta(days=730)\n",
    "print(\"After 2 Years:\", after_2_years)\n",
    "\n",
    "# Add 2 days\n",
    "after_2_days = now + timedelta(days=2)\n",
    "print(\"After 2 Days:\", after_2_days)"
   ]
  },
  {
   "cell_type": "code",
   "execution_count": 6,
   "id": "1a27ed36",
   "metadata": {},
   "outputs": [
    {
     "name": "stdout",
     "output_type": "stream",
     "text": [
      "Current Time: 2025-08-13 13:19:13.196888\n",
      "New Time (+2 days): 2025-08-15 13:19:13.196888\n",
      "Time Difference: 2 days, 0:00:00\n"
     ]
    }
   ],
   "source": [
    "# Example 2: Difference between two date and times\n",
    "\n",
    "# Date and Time differences can also be found using this class.\n",
    "\n",
    "from datetime import datetime, timedelta\n",
    "\n",
    "# Current date and time\n",
    "now = datetime.now()\n",
    "print(\"Current Time:\", now)\n",
    "\n",
    "# New time after 2 days\n",
    "new_time = now + timedelta(days=2)\n",
    "print(\"New Time (+2 days):\", new_time)\n",
    "\n",
    "# Time difference\n",
    "print(\"Time Difference:\", new_time - now)"
   ]
  },
  {
   "cell_type": "markdown",
   "id": "251140f3",
   "metadata": {},
   "source": [
    "## Operations supported by Timedelta Class\n",
    "\n",
    "| Operator                  | Description                                                                               |\n",
    "| ------------------------- | ----------------------------------------------------------------------------------------- |\n",
    "| **Addition (`+`)**        | Adds and returns two `timedelta` objects.                                                 |\n",
    "| **Subtraction (`-`)**     | Subtracts and returns two `timedelta` objects.                                            |\n",
    "| **Multiplication (`*`)**  | Multiplies a `timedelta` object by a float or int.                                        |\n",
    "| **Division (`/`)**        | Divides a `timedelta` object by a float or int.                                           |\n",
    "| **Floor division (`//`)** | Divides a `timedelta` object by a float or int and returns the floor value as an integer. |\n",
    "| **Modulo (`%`)**          | Divides two `timedelta` objects and returns the remainder.                                |\n",
    "| **`+(timedelta)`**        | Returns the same `timedelta` object.                                                      |\n",
    "| **`-(timedelta)`**        | Returns the result of `-1 * timedelta`.                                                   |\n",
    "| **`abs(timedelta)`**      | Returns `+(timedelta)` if `timedelta.days >= 0`, else returns `-(timedelta)`.             |\n",
    "| **`str(timedelta)`**      | Returns a string in the form `(+/-) day[s], HH:MM:SS.UUUUUU`.                             |\n",
    "| **`repr(timedelta)`**     | Returns a string representation in the form of the constructor call.                      |\n"
   ]
  },
  {
   "cell_type": "markdown",
   "id": "723a4b68",
   "metadata": {},
   "source": [
    "# Tzinfo class\n",
    "The tzinfo class in Python is an abstract base for handling time zone info in datetime objects. It can't be used directly instead, subclasses or libraries provide actual time zone support for accurate date-time calculations.\n",
    "\n",
    "**Note:** tzinfo is an abstract base class, so it is not meant to be instantiated directly. Instead, create a subclass of tzinfo and implement its required methods like utcoffset(), dst() and tzname()."
   ]
  },
  {
   "cell_type": "code",
   "execution_count": 7,
   "id": "3ad72ee4",
   "metadata": {},
   "outputs": [
    {
     "name": "stdout",
     "output_type": "stream",
     "text": [
      "System Time Zone: India Standard Time\n",
      "Naive Object: None\n",
      "Aware Object: CET\n"
     ]
    }
   ],
   "source": [
    "# Example:\n",
    "\n",
    "# This example shows how to get system time zone and convert a naive datetime into an aware one using dateutil.tz.gettz() with \"Europe/Berlin\" time zone.\n",
    "\n",
    "import datetime as dt\n",
    "from dateutil import tz\n",
    "\n",
    "# Get system's local time zone name\n",
    "tz_string = dt.datetime.now(dt.timezone.utc).astimezone().tzname()\n",
    "print(\"System Time Zone:\", tz_string)\n",
    "\n",
    "# Assigning timezone using dateutil\n",
    "berlin = tz.gettz('Europe/Berlin') \n",
    "dt1 = dt.datetime(2022, 5, 21, 12, 0)\n",
    "dt2 = dt.datetime(2022, 12, 21, 12, 0, tzinfo=berlin)\n",
    "\n",
    "print(\"Naive Object:\", dt1.tzname()) \n",
    "print(\"Aware Object:\", dt2.tzname())"
   ]
  },
  {
   "cell_type": "markdown",
   "id": "4663bbc8",
   "metadata": {},
   "source": [
    "**Explanation:**\n",
    "\n",
    "- **dt.datetime.now(dt.timezone.utc).astimezone().tzname():** gets system’s current time zone name by converting UTC time to local time zone.\n",
    "- **berlin = tz.gettz('Europe/Berlin'):** fetches time zone information for Europe/Berlin.\n",
    "- **tzname()** returns name of time zone for a given datetime object"
   ]
  },
  {
   "cell_type": "markdown",
   "id": "bac26c53",
   "metadata": {},
   "source": [
    "# List of Python DateTime.tzinfo() Objects\n",
    "\n",
    "| Function Name       | Description                                                                                                                                |\n",
    "| ------------------- | ------------------------------------------------------------------------------------------------------------------------------------------ |\n",
    "| **`dst()`**         | Returns `tzinfo.dst()` if `tzinfo` is not `None`.                                                                                          |\n",
    "| **`fromutc(dt)`**   | Adjusts the datetime object from UTC to the local time defined by the `tzinfo` subclass, returning an equivalent `datetime` in local time. |\n",
    "| **`tzname(dt)`**    | Returns `tzinfo.tzname()` if `tzinfo` is not `None`.                                                                                       |\n",
    "| **`utcoffset(dt)`** | Returns `tzinfo.utcoffset()` if `tzinfo` is not `None`.                                                                                    |\n"
   ]
  },
  {
   "cell_type": "markdown",
   "id": "8512605b",
   "metadata": {},
   "source": [
    "# Timezone class\n",
    "Timezones in Python's datetime module help display time for different regions. The pytz module allows easy conversion between timezones, making it useful for apps with international users.\n",
    "\n",
    "#### Syntax\n",
    "*timezone(offset, name=None)*\n",
    "\n",
    "**Parameter:**\n",
    "\n",
    "- **offset:** A timedelta object (e.g., timedelta(hours=5, minutes=30)).\n",
    "- **name:** Optional string name for the timezone (e.g., \"IST\")."
   ]
  },
  {
   "cell_type": "code",
   "execution_count": 8,
   "id": "c889e03a",
   "metadata": {},
   "outputs": [
    {
     "name": "stdout",
     "output_type": "stream",
     "text": [
      "2025-08-13 07:55:39 UTC+0000\n",
      "2025-08-13 13:25:39 IST+0530\n",
      "2025-08-13 10:55:39 EEST+0300\n",
      "2025-08-13 03:55:39 EDT-0400\n"
     ]
    }
   ],
   "source": [
    "# Example:\n",
    "\n",
    "# This code shows how to get current UTC time and convert it to different time zones using pytz module. It prints time in UTC, Asia/Kolkata, Europe/Kiev and America/New_York using a consistent format.\n",
    "\n",
    "from datetime import datetime\n",
    "from pytz import timezone\n",
    "\n",
    "format = \"%Y-%m-%d %H:%M:%S %Z%z\"\n",
    "now_utc = datetime.now(timezone('UTC')) # Current time in UTC\n",
    "print(now_utc.strftime(format))\n",
    "\n",
    "timezones = ['Asia/Kolkata', 'Europe/Kiev', 'America/New_York']\n",
    "for tzone in timezones:\n",
    "    now_asia = now_utc.astimezone(timezone(tzone))  # Convert to Asia/Kolkata time zone\n",
    "    print(now_asia.strftime(format))"
   ]
  },
  {
   "cell_type": "markdown",
   "id": "7a4c873b",
   "metadata": {},
   "source": [
    "**Explanation:**\n",
    "\n",
    "- **\"%Y-%m-%d %H:%M:%S %Z%z\":** Defines format for displaying date and time including time zone name (%Z) and UTC offset (%z).\n",
    "- **datetime.now(timezone('UTC'):** Gets current date and time in UTC by attaching UTC time zone to current datetime.\n",
    "- **now_utc.strftime(format):** prints current UTC time formatted according to specified pattern.\n",
    "- **now_utc.astimezone(timezone(tzone)):** converts UTC time to current time zone (tzone)."
   ]
  },
  {
   "cell_type": "code",
   "execution_count": null,
   "id": "6dcf729b",
   "metadata": {},
   "outputs": [],
   "source": []
  }
 ],
 "metadata": {
  "kernelspec": {
   "display_name": "Python 3 (ipykernel)",
   "language": "python",
   "name": "python3"
  },
  "language_info": {
   "codemirror_mode": {
    "name": "ipython",
    "version": 3
   },
   "file_extension": ".py",
   "mimetype": "text/x-python",
   "name": "python",
   "nbconvert_exporter": "python",
   "pygments_lexer": "ipython3",
   "version": "3.13.5"
  }
 },
 "nbformat": 4,
 "nbformat_minor": 5
}
