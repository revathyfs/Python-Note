{
 "cells": [
  {
   "cell_type": "code",
   "execution_count": 18,
   "id": "fc91249f-fd33-49bf-b1c3-2eaf0c528ba3",
   "metadata": {},
   "outputs": [
    {
     "name": "stdout",
     "output_type": "stream",
     "text": [
      "a is greater than b\n"
     ]
    }
   ],
   "source": [
    "a=30\n",
    "b=20\n",
    "if a>b:\n",
    "    print(\"a is greater than b\")"
   ]
  },
  {
   "cell_type": "code",
   "execution_count": 20,
   "id": "ecb786b3-73ca-486b-8f57-a3374ea606a6",
   "metadata": {},
   "outputs": [
    {
     "name": "stdout",
     "output_type": "stream",
     "text": [
      "30\n"
     ]
    }
   ],
   "source": [
    "a=30\n",
    "b=20\n",
    "if a>b:\n",
    "    print(a)\n",
    "else:\n",
    "    print(b)    "
   ]
  },
  {
   "cell_type": "code",
   "execution_count": 26,
   "id": "e90c59b8-53f7-44a6-8205-97f0290c3338",
   "metadata": {},
   "outputs": [
    {
     "name": "stdin",
     "output_type": "stream",
     "text": [
      "Enter the number :  0\n"
     ]
    },
    {
     "name": "stdout",
     "output_type": "stream",
     "text": [
      "Zero\n"
     ]
    }
   ],
   "source": [
    "#Online statement\n",
    "#to check whether the number is positive or negative\n",
    "\n",
    "num=int(input(\"Enter the number : \"))\n",
    "if num>0:\n",
    "    print(\"Number is positive\")\n",
    "elif num<0:\n",
    "    print(\"Number is negative\")\n",
    "else:\n",
    "    print(\"Zero\")"
   ]
  },
  {
   "cell_type": "code",
   "execution_count": 2,
   "id": "0dd3b5bb-96e8-4e92-8514-153f9fa0e282",
   "metadata": {},
   "outputs": [
    {
     "name": "stdin",
     "output_type": "stream",
     "text": [
      "Enter the leap year:  1900\n"
     ]
    },
    {
     "name": "stdout",
     "output_type": "stream",
     "text": [
      "Not a leap year\n"
     ]
    }
   ],
   "source": [
    "year=int(input(\"Enter the leap year: \"))\n",
    "if(year%400==0):\n",
    "    print(\"Leap year\")\n",
    "elif(year%100==0):\n",
    "    print(\"Not a leap year\")\n",
    "elif(year%4==0):\n",
    "    print(\"Leap year\")\n",
    "else:\n",
    "    print(\"Not leap year\")"
   ]
  },
  {
   "cell_type": "code",
   "execution_count": 6,
   "id": "7d361781-12dc-4625-95c8-053bf9d81c5d",
   "metadata": {},
   "outputs": [
    {
     "name": "stdin",
     "output_type": "stream",
     "text": [
      "Enter the weight :  6.7\n"
     ]
    },
    {
     "name": "stdout",
     "output_type": "stream",
     "text": [
      "Weight is  6.7 kg Rs.  106.2 only.\n"
     ]
    }
   ],
   "source": [
    "#write a program to calculate the charges for sending particles when the charges are as follows \n",
    "#for the first 1kg Rs.15.00 , for additional weight ,for every 500gm or fraction there of rs 8.00\n",
    "\n",
    "w=float(input(\"Enter the weight : \"))\n",
    "g=w*1000\n",
    "if g>1000:\n",
    "    eg=g-1000\n",
    "    r=15+(eg/500)*8\n",
    "    print(\"Weight is \",w,\"kg Rs. \",r,\"only.\")\n",
    "else:\n",
    "    print(\"Weight is \",w,\"kg Rs. 15.00 only.\")"
   ]
  },
  {
   "cell_type": "code",
   "execution_count": 9,
   "id": "99c8d1c9-8e7c-42da-9485-559b101bc9a7",
   "metadata": {},
   "outputs": [
    {
     "name": "stdout",
     "output_type": "stream",
     "text": [
      "9 is greater\n"
     ]
    }
   ],
   "source": [
    "29,60,9\n",
    "\n",
    "a=2\n",
    "b=6\n",
    "c=9\n",
    "\n",
    "if a>b:\n",
    "    if a>c:\n",
    "        print(f\"{a} is greater\")\n",
    "    else:\n",
    "        print(f\"{c} is greater\")\n",
    "elif b>a:\n",
    "    if b>c:\n",
    "        print(f\"{b} is greater\")\n",
    "    else:\n",
    "        print(f\"{c} is greater\")\n",
    "else:\n",
    "    print(f\"{c} is greater\")"
   ]
  },
  {
   "cell_type": "code",
   "execution_count": null,
   "id": "eea709a5-26ee-481b-bd6c-8294da7ee2a5",
   "metadata": {},
   "outputs": [],
   "source": []
  }
 ],
 "metadata": {
  "kernelspec": {
   "display_name": "Python 3 (ipykernel)",
   "language": "python",
   "name": "python3"
  },
  "language_info": {
   "codemirror_mode": {
    "name": "ipython",
    "version": 3
   },
   "file_extension": ".py",
   "mimetype": "text/x-python",
   "name": "python",
   "nbconvert_exporter": "python",
   "pygments_lexer": "ipython3",
   "version": "3.13.5"
  }
 },
 "nbformat": 4,
 "nbformat_minor": 5
}
