{
 "cells": [
  {
   "cell_type": "markdown",
   "id": "307af64d-f75e-4c9b-be4b-c0a9c558c4fd",
   "metadata": {},
   "source": [
    "# filter()\n",
    "\n",
    "## 🔹 What is `filter()`?\n",
    "\n",
    "The **`filter()`** function is used to **filter out elements from an iterable (list, tuple, etc.) based on a condition**.\n",
    "It keeps only the elements where the condition is `True`.\n",
    "\n",
    "---\n",
    "\n",
    "### ✅ General Syntax\n",
    "\n",
    "```python\n",
    "filter(function, iterable)\n",
    "```\n",
    "\n",
    "* **function** → returns `True` or `False` for each element\n",
    "* **iterable** → list/tuple/set you want to filter\n",
    "* Returns → a `filter` object (needs `list()`, `tuple()`, etc. to see results)\n",
    "\n",
    "---\n",
    "\n",
    "## 🔹 Examples\n"
   ]
  },
  {
   "cell_type": "code",
   "execution_count": 1,
   "id": "f5e9813f-195a-4bb6-9e1f-bff9a6d67ce9",
   "metadata": {},
   "outputs": [
    {
     "name": "stdout",
     "output_type": "stream",
     "text": [
      "[2, 4, 6]\n"
     ]
    }
   ],
   "source": [
    "# Filter even numbers\n",
    "\n",
    "numbers = [1, 2, 3, 4, 5, 6]\n",
    "\n",
    "evens = list(filter(lambda n: n % 2 == 0, numbers))\n",
    "print(evens)"
   ]
  },
  {
   "cell_type": "code",
   "execution_count": 2,
   "id": "b8d34c0a-5d86-48b9-b225-519d0b7aa20e",
   "metadata": {},
   "outputs": [
    {
     "name": "stdout",
     "output_type": "stream",
     "text": [
      "['python', 'code']\n"
     ]
    }
   ],
   "source": [
    "# Filter words longer than 3 letters\n",
    "\n",
    "words = [\"hi\", \"python\", \"AI\", \"code\"]\n",
    "\n",
    "long_words = list(filter(lambda w: len(w) > 3, words))\n",
    "print(long_words)"
   ]
  },
  {
   "cell_type": "code",
   "execution_count": 3,
   "id": "c9ebe0b4-aec0-4cf7-9888-370a4e89d60f",
   "metadata": {},
   "outputs": [
    {
     "name": "stdout",
     "output_type": "stream",
     "text": [
      "[3, 8]\n"
     ]
    }
   ],
   "source": [
    "# Filter positive numbers\n",
    "\n",
    "nums = [-5, -2, 0, 3, 8, -1]\n",
    "\n",
    "positives = list(filter(lambda n: n > 0, nums))\n",
    "print(positives)"
   ]
  },
  {
   "cell_type": "markdown",
   "id": "5671fb34-1a7b-43db-a44b-352b2e8c6059",
   "metadata": {},
   "source": [
    "---\n",
    "\n",
    "## 🔹 Difference between `map()` and `filter()`\n",
    "\n",
    "| Feature              | `map()`                          | `filter()`                            |\n",
    "| -------------------- | -------------------------------- | ------------------------------------- |\n",
    "| Purpose              | Transform each element           | Select elements that meet a condition |\n",
    "| Function return type | Any value (number, string, etc.) | Boolean (`True` / `False`)            |\n",
    "| Output size          | Same size as input               | Smaller or equal to input             |\n",
    "\n",
    "---\n",
    "\n",
    "## 🔹 Real-world Example: Filter valid emails"
   ]
  },
  {
   "cell_type": "code",
   "execution_count": 4,
   "id": "e6e28b5e-0e78-420e-8d16-0ed42b2ec964",
   "metadata": {},
   "outputs": [
    {
     "name": "stdout",
     "output_type": "stream",
     "text": [
      "['test@gmail.com', 'user@yahoo.com']\n"
     ]
    }
   ],
   "source": [
    "emails = [\"test@gmail.com\", \"hello\", \"user@yahoo.com\", \"abc\"]\n",
    "\n",
    "valid_emails = list(filter(lambda e: \"@\" in e, emails))\n",
    "print(valid_emails)"
   ]
  },
  {
   "cell_type": "markdown",
   "id": "738fb31a-b87c-4fb9-a283-dec078c7d1ad",
   "metadata": {},
   "source": [
    "---\n",
    "\n",
    "✅ **In short**:\n",
    "\n",
    "* `map()` → transforms elements.\n",
    "* `filter()` → selects elements based on a condition.\n",
    "\n",
    "---"
   ]
  },
  {
   "cell_type": "code",
   "execution_count": null,
   "id": "889124ad-eab5-497a-b5c7-aeb5c2b45849",
   "metadata": {},
   "outputs": [],
   "source": []
  }
 ],
 "metadata": {
  "kernelspec": {
   "display_name": "Python 3 (ipykernel)",
   "language": "python",
   "name": "python3"
  },
  "language_info": {
   "codemirror_mode": {
    "name": "ipython",
    "version": 3
   },
   "file_extension": ".py",
   "mimetype": "text/x-python",
   "name": "python",
   "nbconvert_exporter": "python",
   "pygments_lexer": "ipython3",
   "version": "3.13.5"
  }
 },
 "nbformat": 4,
 "nbformat_minor": 5
}
