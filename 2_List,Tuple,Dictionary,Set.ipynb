{
 "cells": [
  {
   "cell_type": "markdown",
   "id": "2f4a916f-8883-4199-a083-928a1967a5bd",
   "metadata": {},
   "source": [
    "list\n",
    "tuple\n",
    "\n",
    "dictionary\n",
    "set"
   ]
  },
  {
   "cell_type": "raw",
   "id": "af400574-318a-4148-9063-099ea7d07c33",
   "metadata": {},
   "source": [
    "Python dictionary is a data structure that stores the value in key: value pairs. Values in a dictionary can be of any data type and can be duplicated, whereas keys can't be repeated and must be immutable\n",
    "\n",
    "Dictionary can be created by placing a sequence of elements within curly {} braces, separated by a 'comma'."
   ]
  },
  {
   "cell_type": "code",
   "execution_count": null,
   "id": "5d7afb8d-6977-43fc-b0c4-db8a27716d81",
   "metadata": {},
   "outputs": [],
   "source": [
    "k={\"key\":\"value\",\"name\":2}\n"
   ]
  },
  {
   "cell_type": "code",
   "execution_count": 1,
   "id": "7dad9d19-98fb-4968-a54d-481b17a22f2e",
   "metadata": {},
   "outputs": [
    {
     "data": {
      "text/plain": [
       "set"
      ]
     },
     "execution_count": 1,
     "metadata": {},
     "output_type": "execute_result"
    }
   ],
   "source": [
    "sets={\"a\",\"b\",\"b\"}\n",
    "type(sets)"
   ]
  },
  {
   "cell_type": "code",
   "execution_count": 3,
   "id": "c8cddf0d-5309-4329-8a85-c9b07a350172",
   "metadata": {},
   "outputs": [
    {
     "data": {
      "text/plain": [
       "{'a', 'b'}"
      ]
     },
     "execution_count": 3,
     "metadata": {},
     "output_type": "execute_result"
    }
   ],
   "source": [
    "sets"
   ]
  },
  {
   "cell_type": "code",
   "execution_count": 61,
   "id": "1eea680f-5c1e-4dc8-aa18-c5cf4abd7346",
   "metadata": {},
   "outputs": [
    {
     "name": "stdout",
     "output_type": "stream",
     "text": [
      "{'brand': 'Ford', 'model': 'Mustang', 'year': 1964}\n"
     ]
    }
   ],
   "source": [
    "#print dictionary\n",
    "thisdict={\"brand\":\"Ford\",\"model\":\"Mustang\",\"year\":1964}\n",
    "print(thisdict)\n"
   ]
  },
  {
   "cell_type": "code",
   "execution_count": 45,
   "id": "ae333933-f353-444e-8a8c-1fa4a4803b62",
   "metadata": {},
   "outputs": [
    {
     "name": "stdout",
     "output_type": "stream",
     "text": [
      "{'brand': 'Ford', 'year': 1964}\n"
     ]
    }
   ],
   "source": [
    "print(thisdict)"
   ]
  },
  {
   "cell_type": "raw",
   "id": "c134a101-1412-41eb-9752-3db946859fe1",
   "metadata": {},
   "source": [
    "Dictionary keys are case sensitive: the same name but different cases of Key will be treated distinctly.\n",
    "\n",
    "Keys must be immutable: This means keys can be strings, numbers or tuples but not lists.\n",
    "\n",
    "Keys must be unique: Duplicate keys are not allowed and any duplicate key will overwrite the previous value.\n",
    "\n",
    "Dictionary internally uses Hashing. Hence, operations like search, insert, delete can be performed in Constant Time."
   ]
  },
  {
   "cell_type": "code",
   "execution_count": 25,
   "id": "155cf76f-52bd-440e-8268-67d732ec515c",
   "metadata": {},
   "outputs": [
    {
     "name": "stdout",
     "output_type": "stream",
     "text": [
      "{'brand': 'Ford', 'model': 'Mustang', 'year': 1964}\n",
      "Mustang\n",
      "Ford\n",
      "{'brand': 'Ford', 'model': 'Mustang', 'year': 2018}\n",
      "3\n",
      "{'brand': 'Ford', 'model': 'Mustang', 'year': 2018, 'color': 'Red'}\n",
      "{'brand': 'Ford', 'year': 2018, 'color': 'Red'}\n"
     ]
    }
   ],
   "source": [
    "\n",
    "#Access dictionary dictionary accessed by []bracket or using get() method\n",
    "x=thisdict[\"model\"]\n",
    "print(x)\n",
    "\n",
    "c=thisdict.get(\"brand\")\n",
    "print(c)\n",
    "\n",
    "#change values by referring it to its key name\n",
    "thisdict[\"year\"]=2018\n",
    "print(thisdict)\n",
    "\n",
    "#length it helps to determine how many items a dictionary has use the len()\n",
    "print(len(thisdict))\n",
    "\n",
    "#adding it is done by using a new index key and assigning a value to it \n",
    "thisdict[\"color\"]=\"Red\"\n",
    "print(thisdict)\n",
    "\n"
   ]
  },
  {
   "cell_type": "code",
   "execution_count": 31,
   "id": "eade9ddc-76cc-4bab-a722-2635d257974d",
   "metadata": {},
   "outputs": [
    {
     "data": {
      "text/plain": [
       "{'brand': 'Ford', 'model': 'Mustang', 'year': 1964}"
      ]
     },
     "execution_count": 31,
     "metadata": {},
     "output_type": "execute_result"
    }
   ],
   "source": [
    "thisdict"
   ]
  },
  {
   "cell_type": "code",
   "execution_count": 37,
   "id": "2cbe240d-226d-4b2f-973e-f436f086e0e1",
   "metadata": {},
   "outputs": [
    {
     "name": "stdout",
     "output_type": "stream",
     "text": [
      "{'brand': 'Ford', 'year': 1964}\n"
     ]
    }
   ],
   "source": [
    "#remove item using pop()\n",
    "jik=thisdict.pop(\"model\")\n",
    "print(thisdict)"
   ]
  },
  {
   "cell_type": "code",
   "execution_count": 39,
   "id": "4bb494ae-885e-4724-a88a-547fb1c6561f",
   "metadata": {},
   "outputs": [
    {
     "data": {
      "text/plain": [
       "'Mustang'"
      ]
     },
     "execution_count": 39,
     "metadata": {},
     "output_type": "execute_result"
    }
   ],
   "source": [
    "jik"
   ]
  },
  {
   "cell_type": "code",
   "execution_count": 59,
   "id": "1387c1a6-50ed-4138-8324-de4208ec090e",
   "metadata": {},
   "outputs": [
    {
     "name": "stdout",
     "output_type": "stream",
     "text": [
      "{'brand': 'Ford', 'year': 1964}\n"
     ]
    }
   ],
   "source": [
    "del thisdict[\"model\"]\n",
    "print(thisdict)"
   ]
  },
  {
   "cell_type": "code",
   "execution_count": 63,
   "id": "26831412-a2d5-4d2c-925d-70137c420fb8",
   "metadata": {},
   "outputs": [
    {
     "name": "stdout",
     "output_type": "stream",
     "text": [
      "{'brand': 'Ford', 'model': 'Mustang', 'year': 1964}\n"
     ]
    }
   ],
   "source": [
    "#copy\n",
    "mydict=thisdict.copy()\n",
    "print(mydict)"
   ]
  },
  {
   "cell_type": "code",
   "execution_count": 1,
   "id": "89c06c48-6b69-4029-a298-093536040f79",
   "metadata": {},
   "outputs": [
    {
     "name": "stdout",
     "output_type": "stream",
     "text": [
      "{'apple': 'red', 'grapes': 'purple', 'pineapple': 'yellow', 'kiwi': 'green'}\n"
     ]
    }
   ],
   "source": [
    "#create dictionary\n",
    "fruits = {\"apple\":\"red\",\"grapes\":\"purple\",\"pineapple\":\"yellow\",\"kiwi\":\"green\"}\n",
    "print(fruits)"
   ]
  },
  {
   "cell_type": "code",
   "execution_count": 73,
   "id": "336947d6-a607-4d74-a238-dba6fd694610",
   "metadata": {},
   "outputs": [
    {
     "name": "stdout",
     "output_type": "stream",
     "text": [
      "red\n",
      "green\n"
     ]
    }
   ],
   "source": [
    "#access item\n",
    "x=fruits[\"apple\"]\n",
    "print(x)\n",
    "print(fruits.get(\"kiwi\"))"
   ]
  },
  {
   "cell_type": "code",
   "execution_count": 75,
   "id": "262056dc-c1b5-4e8a-beaa-05b6e85d3373",
   "metadata": {},
   "outputs": [
    {
     "name": "stdout",
     "output_type": "stream",
     "text": [
      "67\n"
     ]
    }
   ],
   "source": [
    "marks ={'physics':67,'maths':87}\n",
    "print(marks.get('physics'))"
   ]
  },
  {
   "cell_type": "code",
   "execution_count": 77,
   "id": "7e0286cf-64a5-4c7f-b9a8-c1356638ac28",
   "metadata": {},
   "outputs": [
    {
     "name": "stdout",
     "output_type": "stream",
     "text": [
      "Age :  22\n"
     ]
    }
   ],
   "source": [
    "person={'name':'Phill','age':22}\n",
    "print(\"Age : \",person.get('age'))"
   ]
  },
  {
   "cell_type": "code",
   "execution_count": 79,
   "id": "5fa64593-6541-4de1-9c60-eae18f56bf5d",
   "metadata": {},
   "outputs": [
    {
     "name": "stdout",
     "output_type": "stream",
     "text": [
      "Salary :  None\n"
     ]
    }
   ],
   "source": [
    "#when value is not provided\n",
    "print(\"Salary : \", person.get('salary'))"
   ]
  },
  {
   "cell_type": "code",
   "execution_count": 87,
   "id": "ea6f4bec-9e1a-4ee7-9c42-6e4ccf3945f5",
   "metadata": {},
   "outputs": [
    {
     "name": "stdout",
     "output_type": "stream",
     "text": [
      "Salary :  78000\n",
      "{'name': 'Phill', 'age': 22}\n"
     ]
    }
   ],
   "source": [
    "#value is provided\n",
    "print(\"Salary : \",person.get('salary',78000))\n",
    "print(person)"
   ]
  },
  {
   "cell_type": "code",
   "execution_count": 89,
   "id": "d1442b63-d720-447b-8558-f2bd1422e843",
   "metadata": {},
   "outputs": [
    {
     "name": "stdout",
     "output_type": "stream",
     "text": [
      "{'apple': 'red', 'grapes': 'green'}\n"
     ]
    }
   ],
   "source": [
    "#change corresponding value in dictionary\n",
    "fruitss={\"apple\":\"red\",\"grapes\":\"purple\"}\n",
    "fruitss[\"grapes\"]=\"green\"\n",
    "print(fruitss)"
   ]
  },
  {
   "cell_type": "code",
   "execution_count": 123,
   "id": "aff1a5c1-e89e-4ac3-b177-90b58bf1285d",
   "metadata": {},
   "outputs": [
    {
     "name": "stdout",
     "output_type": "stream",
     "text": [
      "3\n"
     ]
    }
   ],
   "source": [
    "#dictionary length\n",
    "car_brand = {\"brand\":\"ford\",\"model\":\"Mastang\",\"year\":1964}\n",
    "print(len(car_brand))"
   ]
  },
  {
   "cell_type": "code",
   "execution_count": 125,
   "id": "e8c6a2e3-0b68-486b-8de5-2be852117ec1",
   "metadata": {},
   "outputs": [
    {
     "name": "stdout",
     "output_type": "stream",
     "text": [
      "{'brand': 'ford', 'model': 'Mastang', 'year': 1964, 'color': 'red'}\n"
     ]
    }
   ],
   "source": [
    "#adding item\n",
    "car_brand[\"color\"]=\"red\"\n",
    "print(car_brand)"
   ]
  },
  {
   "cell_type": "code",
   "execution_count": 117,
   "id": "ea427cc4-d0b1-4309-9f02-a66202a43186",
   "metadata": {},
   "outputs": [
    {
     "name": "stdout",
     "output_type": "stream",
     "text": [
      "{'brand': 'ford', 'year': 1964, 'color': 'red'}\n"
     ]
    }
   ],
   "source": [
    "#removing item\n",
    "car_brand.pop(\"model\")\n",
    "print(car_brand)"
   ]
  },
  {
   "cell_type": "code",
   "execution_count": 119,
   "id": "ff94ac4f-b50d-4e14-87be-1b8d0502e6de",
   "metadata": {},
   "outputs": [
    {
     "name": "stdout",
     "output_type": "stream",
     "text": [
      "{'brand': 'ford', 'year': 1964}\n"
     ]
    }
   ],
   "source": [
    "#removing end item\n",
    "car_brand.popitem()\n",
    "print(car_brand)"
   ]
  },
  {
   "cell_type": "code",
   "execution_count": 127,
   "id": "b959e3ec-354e-4e76-8d12-9fad534f8190",
   "metadata": {},
   "outputs": [
    {
     "name": "stdout",
     "output_type": "stream",
     "text": [
      "{'brand': 'ford', 'model': 'Mastang', 'color': 'red'}\n"
     ]
    }
   ],
   "source": [
    "#delete item\n",
    "del car_brand['year']\n",
    "print(car_brand)"
   ]
  },
  {
   "cell_type": "code",
   "execution_count": 129,
   "id": "500014c4-a135-4c0f-b82f-97f06ce10a0d",
   "metadata": {},
   "outputs": [
    {
     "name": "stdout",
     "output_type": "stream",
     "text": [
      "{'brand': 'ford', 'model': 'Mastang', 'color': 'red'}\n"
     ]
    }
   ],
   "source": [
    "#copy dictionary\n",
    "new_car=car_brand.copy()\n",
    "print(new_car)"
   ]
  },
  {
   "cell_type": "markdown",
   "id": "7e9a25c6-1d11-4c7e-9e56-81ea2d2ddc44",
   "metadata": {},
   "source": [
    "## Immutable and Mutable Items in Python\n",
    "\n",
    "### **Immutable Items**\n",
    "These are objects whose state cannot be changed after they are created. They are typically hashable and can be used as dictionary keys.\n",
    "\n",
    "- **int** (e.g., `5`, `-3`, `100`)\n",
    "- **float** (e.g., `3.14`, `-0.001`)\n",
    "- **complex** (e.g., `2 + 3j`)\n",
    "- **str** (e.g., `\"hello\"`, `\"world\"`)\n",
    "- **tuple** (e.g., `(1, 2, 3)`, `(\"a\", \"b\")`)\n",
    "- **frozenset** (e.g., `frozenset([1, 2, 3])`)\n",
    "- **bytes** (e.g., `b\"hello\"`, `b\"\\x01\\x02\"`)\n",
    "\n",
    "### **Mutable Items**\n",
    "These are objects whose state can be modified after they are created. They are typically not hashable and cannot be used as dictionary keys (unless they are frozen, like `frozenset`).\n",
    "\n",
    "- **list** (e.g., `[1, 2, 3]`, `[\"apple\", \"banana\"]`)\n",
    "- **dict** (e.g., `{\"key1\": \"value1\", \"key2\": \"value2\"}`)\n",
    "- **set** (e.g., `{1, 2, 3}`, `{\"apple\", \"banana\"}`)\n",
    "- **bytearray** (e.g., `bytearray([65, 66, 67])`)\n",
    "- **deque** (from `collections` module, e.g., `deque([1, 2, 3])`)\n",
    "- **Custom Objects** (e.g., instances of classes where the attributes are mutable)\n",
    "\n",
    "### Summary:\n",
    "- **Immutable** items cannot be changed once created, meaning both shallow and deep copies behave the same for them.\n",
    "- **Mutable** items can be modified, and shallow copies result in shared references to the same object, while deep copies create fully independent copies.\n"
   ]
  },
  {
   "cell_type": "code",
   "execution_count": 163,
   "id": "5337007d-9449-4587-9d15-1a3961063d35",
   "metadata": {},
   "outputs": [
    {
     "data": {
      "text/plain": [
       "{'b': 1, 'c': [2, 3, 4]}"
      ]
     },
     "execution_count": 163,
     "metadata": {},
     "output_type": "execute_result"
    }
   ],
   "source": [
    "#shallow copy\n",
    "a={\"b\":1,\"c\":[2,3,4]}\n",
    "import copy\n",
    "b=copy.copy(a)\n",
    "b"
   ]
  },
  {
   "cell_type": "code",
   "execution_count": 169,
   "id": "b324f3a8-6e35-43b4-ae5c-3bf641fabac7",
   "metadata": {},
   "outputs": [
    {
     "data": {
      "text/plain": [
       "[2, 3, 4]"
      ]
     },
     "execution_count": 169,
     "metadata": {},
     "output_type": "execute_result"
    }
   ],
   "source": [
    "b['c']"
   ]
  },
  {
   "cell_type": "code",
   "execution_count": 171,
   "id": "686264c1-ac46-4443-8194-27619f66df79",
   "metadata": {},
   "outputs": [
    {
     "data": {
      "text/plain": [
       "2"
      ]
     },
     "execution_count": 171,
     "metadata": {},
     "output_type": "execute_result"
    }
   ],
   "source": [
    "b['c'][0]"
   ]
  },
  {
   "cell_type": "code",
   "execution_count": 173,
   "id": "5a16186e-ccda-4e93-a5fc-90f99e85230f",
   "metadata": {},
   "outputs": [],
   "source": [
    "b['c'][0]=200"
   ]
  },
  {
   "cell_type": "code",
   "execution_count": 175,
   "id": "71ac5f41-b6f0-4da8-89b7-ac52032cc2a5",
   "metadata": {},
   "outputs": [
    {
     "data": {
      "text/plain": [
       "{'b': 1, 'c': [200, 3, 4]}"
      ]
     },
     "execution_count": 175,
     "metadata": {},
     "output_type": "execute_result"
    }
   ],
   "source": [
    "b"
   ]
  },
  {
   "cell_type": "code",
   "execution_count": 177,
   "id": "57d796bb-f452-44cb-9596-eba1d9b127a5",
   "metadata": {},
   "outputs": [
    {
     "data": {
      "text/plain": [
       "{'b': 1, 'c': [200, 3, 4]}"
      ]
     },
     "execution_count": 177,
     "metadata": {},
     "output_type": "execute_result"
    }
   ],
   "source": [
    "a"
   ]
  },
  {
   "cell_type": "code",
   "execution_count": 183,
   "id": "0086b17d-5242-4231-b47d-ac71d2134387",
   "metadata": {},
   "outputs": [
    {
     "data": {
      "text/plain": [
       "{'b': 1, 'c': [200, 3, 4]}"
      ]
     },
     "execution_count": 183,
     "metadata": {},
     "output_type": "execute_result"
    }
   ],
   "source": [
    "b['b']=3\n",
    "a"
   ]
  },
  {
   "cell_type": "code",
   "execution_count": 196,
   "id": "d3b2ba31-9ba2-4092-9898-2cd6210dec1b",
   "metadata": {},
   "outputs": [
    {
     "data": {
      "text/plain": [
       "{'b': 1, 'c': [2, 3, 4]}"
      ]
     },
     "execution_count": 196,
     "metadata": {},
     "output_type": "execute_result"
    }
   ],
   "source": [
    "#deep copy\n",
    "a={\"b\":1,\"c\":[2,3,4]}\n",
    "b = copy.deepcopy(a)\n",
    "b"
   ]
  },
  {
   "cell_type": "code",
   "execution_count": 198,
   "id": "3d545ef7-a463-4c36-aa5b-ec443f6aeff4",
   "metadata": {},
   "outputs": [
    {
     "data": {
      "text/plain": [
       "{'b': 1, 'c': [200, 3, 4]}"
      ]
     },
     "execution_count": 198,
     "metadata": {},
     "output_type": "execute_result"
    }
   ],
   "source": [
    "b['c'][0]=200\n",
    "b"
   ]
  },
  {
   "cell_type": "code",
   "execution_count": 200,
   "id": "e0e56202-e6ae-492b-bbb2-8028f15c211d",
   "metadata": {},
   "outputs": [
    {
     "data": {
      "text/plain": [
       "{'b': 1, 'c': [2, 3, 4]}"
      ]
     },
     "execution_count": 200,
     "metadata": {},
     "output_type": "execute_result"
    }
   ],
   "source": [
    "a"
   ]
  },
  {
   "cell_type": "code",
   "execution_count": 131,
   "id": "7895823a-6dd6-4308-804f-981842961fc5",
   "metadata": {},
   "outputs": [
    {
     "name": "stdout",
     "output_type": "stream",
     "text": [
      "Person =  {'name': 'Phill', 'age': 22}\n",
      "Age =  22\n"
     ]
    }
   ],
   "source": [
    "#set default fn\n",
    "person = {'name':'Phill','age':22}\n",
    "g=person.setdefault('age')\n",
    "print('Person = ',person)\n",
    "print('Age = ',g)"
   ]
  },
  {
   "cell_type": "code",
   "execution_count": 157,
   "id": "fc127d08-dc07-416c-94b4-174aaf018e89",
   "metadata": {},
   "outputs": [
    {
     "data": {
      "text/plain": [
       "{'name': 'Phill', 'age': 22}"
      ]
     },
     "execution_count": 157,
     "metadata": {},
     "output_type": "execute_result"
    }
   ],
   "source": [
    "person = {'name':'Phill','age':22}\n",
    "age=person.setdefault('age',92)\n",
    "person"
   ]
  },
  {
   "cell_type": "code",
   "execution_count": 137,
   "id": "ea8cbca6-f62d-4c20-866d-b74f2ab1555f",
   "metadata": {},
   "outputs": [
    {
     "name": "stdout",
     "output_type": "stream",
     "text": [
      "{'name': 'Phill'}\n"
     ]
    }
   ],
   "source": [
    "#set default without key\n",
    "person = {'name':'Phill'}\n",
    "print(person)"
   ]
  },
  {
   "cell_type": "code",
   "execution_count": 139,
   "id": "5c57efd9-dde1-4385-9664-145303f49b33",
   "metadata": {},
   "outputs": [
    {
     "name": "stdout",
     "output_type": "stream",
     "text": [
      "person = {'name': 'Phill', 'salary': None}\n",
      "salary = None\n"
     ]
    }
   ],
   "source": [
    "#key is not in the dictionary\n",
    "salary=person.setdefault('salary')\n",
    "print('person =',person)\n",
    "print('salary =',salary)"
   ]
  },
  {
   "cell_type": "code",
   "execution_count": 139,
   "id": "3d2bd887-2341-489e-a953-3b33a27c3980",
   "metadata": {},
   "outputs": [
    {
     "name": "stdout",
     "output_type": "stream",
     "text": [
      "person = {'name': 'Phill', 'salary': None}\n",
      "salary = None\n"
     ]
    }
   ],
   "source": [
    "#key is not in the dictionary\n",
    "salary=person.setdefault('salary')\n",
    "print('person =',person)\n",
    "print('salary =',salary)"
   ]
  },
  {
   "cell_type": "code",
   "execution_count": 143,
   "id": "96674517-4bc2-4337-a69c-c6c9bf33f828",
   "metadata": {},
   "outputs": [
    {
     "name": "stdout",
     "output_type": "stream",
     "text": [
      "person = {'name': 'Phill', 'salary': None, 'age': 22}\n"
     ]
    }
   ],
   "source": [
    "#default value is provided\n",
    "age=person.setdefault('age',22)\n",
    "print(\"person =\",person)"
   ]
  },
  {
   "cell_type": "code",
   "execution_count": 145,
   "id": "efec2e00-0532-4390-b8e0-8171b4921e3f",
   "metadata": {},
   "outputs": [
    {
     "name": "stdout",
     "output_type": "stream",
     "text": [
      "age = 22\n"
     ]
    }
   ],
   "source": [
    "print(\"age =\",age)"
   ]
  },
  {
   "cell_type": "code",
   "execution_count": 147,
   "id": "c69d2d7b-4426-4231-a0b0-d84c68b4cd0a",
   "metadata": {},
   "outputs": [
    {
     "name": "stdout",
     "output_type": "stream",
     "text": [
      "fruits= {'apple': 'red', 'grapes': 'purple', 'kiwi': 'green', 'orange': None}\n"
     ]
    }
   ],
   "source": [
    "fruitss={'apple':'red','grapes':'purple','kiwi':'green'}\n",
    "fruit=fruitss.setdefault(\"orange\")\n",
    "print(\"fruits=\",fruitss)\n"
   ]
  },
  {
   "cell_type": "code",
   "execution_count": 149,
   "id": "f840efea-f84e-4a0d-938c-cdd60d82c7d2",
   "metadata": {},
   "outputs": [
    {
     "name": "stdout",
     "output_type": "stream",
     "text": [
      "orange= None\n"
     ]
    }
   ],
   "source": [
    "print(\"orange=\",fruit)"
   ]
  },
  {
   "cell_type": "code",
   "execution_count": 151,
   "id": "3c9d390e-5666-4d56-ab7f-24c7d5e9b786",
   "metadata": {},
   "outputs": [
    {
     "name": "stdout",
     "output_type": "stream",
     "text": [
      "fruits = {'apple': 'red', 'grapes': 'purple', 'kiwi': 'green', 'orange': None, 'pineapple': 'yellow'}\n"
     ]
    }
   ],
   "source": [
    "fruit=fruitss.setdefault(\"pineapple\",\"yellow\")\n",
    "print(\"fruits =\",fruitss)"
   ]
  },
  {
   "cell_type": "code",
   "execution_count": 155,
   "id": "6f928161-a8af-439b-862e-55dcaa96b417",
   "metadata": {},
   "outputs": [
    {
     "name": "stdout",
     "output_type": "stream",
     "text": [
      "pineapple =  yellow\n"
     ]
    }
   ],
   "source": [
    "print(\"pineapple = \",fruit)"
   ]
  },
  {
   "cell_type": "raw",
   "id": "4911d390-373a-4d9e-8dcb-aaace9582231",
   "metadata": {},
   "source": [
    "#clear method\n",
    "fruitss.clear()\n",
    "print(fruitss)"
   ]
  },
  {
   "cell_type": "code",
   "execution_count": 202,
   "id": "4e2e9053-5249-461d-a6c5-3dd187f6a231",
   "metadata": {},
   "outputs": [
    {
     "name": "stdout",
     "output_type": "stream",
     "text": [
      "dict_items([('apple', 'red'), ('grapes', 'purple'), ('kiwi', 'green')])\n"
     ]
    }
   ],
   "source": [
    "fruitss={'apple':'red','grapes':'purple','kiwi':'green'}\n",
    "print(fruitss.items())"
   ]
  },
  {
   "cell_type": "code",
   "execution_count": 204,
   "id": "082bc6ed-f595-48a0-9ebd-2471b89c6328",
   "metadata": {},
   "outputs": [
    {
     "name": "stdout",
     "output_type": "stream",
     "text": [
      "dict_keys(['apple', 'grapes', 'kiwi'])\n"
     ]
    }
   ],
   "source": [
    "print(fruitss.keys())"
   ]
  },
  {
   "cell_type": "code",
   "execution_count": 206,
   "id": "2bf5d09a-827f-4bb8-9e92-48cae5e5c70c",
   "metadata": {},
   "outputs": [
    {
     "name": "stdout",
     "output_type": "stream",
     "text": [
      "dict_values(['red', 'purple', 'green'])\n"
     ]
    }
   ],
   "source": [
    "print(fruitss.values())"
   ]
  },
  {
   "cell_type": "code",
   "execution_count": 208,
   "id": "6ff60d59-bbae-4978-a1b8-47cd2eae2747",
   "metadata": {},
   "outputs": [
    {
     "name": "stdout",
     "output_type": "stream",
     "text": [
      "{1: 'Geeks', 2: 'For', 3: {'A': 'Welcome', 'B': 'To', 'C': 'Geeks'}}\n"
     ]
    }
   ],
   "source": [
    "#a dictionary within a dictionary\n",
    "Dict = {1:'Geeks',2:'For',3:{'A':'Welcome','B':'To','C':'Geeks'}}\n",
    "print(Dict)"
   ]
  },
  {
   "cell_type": "code",
   "execution_count": 210,
   "id": "315424c9-7100-41df-adb3-cb9fd8d3b039",
   "metadata": {},
   "outputs": [
    {
     "name": "stdout",
     "output_type": "stream",
     "text": [
      "{1: 'Geeks', 2: 'For', 3: {'A': 'Welcome', 'B': 'To', 'C': 'Geeks'}}\n"
     ]
    }
   ],
   "source": [
    "#another method for dictionary within a dictionary\n",
    "b={'A':'Welcome','B':'To','C':'Geeks'}\n",
    "Dict = {1:'Geeks',2:'For',3:b}\n",
    "print(Dict)"
   ]
  },
  {
   "cell_type": "code",
   "execution_count": 218,
   "id": "824cd87a-25bc-4955-939e-867d627f8d52",
   "metadata": {},
   "outputs": [
    {
     "name": "stdout",
     "output_type": "stream",
     "text": [
      "{'dict1': {1: 'greek'}, 'dict2': {'name': 'for'}}\n"
     ]
    }
   ],
   "source": [
    "#creating a dictionary\n",
    "Dict={\"dict1\":{1:\"greek\"},\"dict2\":{\"name\":\"for\"}}\n",
    "print(Dict)"
   ]
  },
  {
   "cell_type": "code",
   "execution_count": 220,
   "id": "c7b11351-91d4-4d0b-a668-cb0de9be13f9",
   "metadata": {},
   "outputs": [
    {
     "name": "stdout",
     "output_type": "stream",
     "text": [
      "{1: 'greek'}\n"
     ]
    }
   ],
   "source": [
    "print(Dict[\"dict1\"])"
   ]
  },
  {
   "cell_type": "code",
   "execution_count": 222,
   "id": "83e78866-e8d0-45a3-9f89-50dada9b43ac",
   "metadata": {},
   "outputs": [
    {
     "name": "stdout",
     "output_type": "stream",
     "text": [
      "greek\n"
     ]
    }
   ],
   "source": [
    "print(Dict[\"dict1\"][1])"
   ]
  },
  {
   "cell_type": "code",
   "execution_count": 226,
   "id": "7f0f1627-fe29-47f6-8539-08b900ef55d0",
   "metadata": {},
   "outputs": [
    {
     "name": "stdout",
     "output_type": "stream",
     "text": [
      "for\n"
     ]
    }
   ],
   "source": [
    "print(Dict[\"dict2\"][\"name\"])"
   ]
  },
  {
   "cell_type": "code",
   "execution_count": 1,
   "id": "59d91300-f6d8-4b75-b818-3685aba70456",
   "metadata": {},
   "outputs": [],
   "source": [
    "a=range(10)"
   ]
  },
  {
   "cell_type": "code",
   "execution_count": 5,
   "id": "75908108-9d5f-4297-a4ef-77425ac2a12b",
   "metadata": {},
   "outputs": [
    {
     "data": {
      "text/plain": [
       "range"
      ]
     },
     "execution_count": 5,
     "metadata": {},
     "output_type": "execute_result"
    }
   ],
   "source": [
    "type(a)"
   ]
  },
  {
   "cell_type": "code",
   "execution_count": 7,
   "id": "0fb77718-e53c-4d24-a906-881dfc8c5a10",
   "metadata": {},
   "outputs": [
    {
     "name": "stdout",
     "output_type": "stream",
     "text": [
      "0\n",
      "1\n",
      "2\n",
      "3\n",
      "4\n",
      "5\n",
      "6\n",
      "7\n",
      "8\n",
      "9\n"
     ]
    }
   ],
   "source": [
    "for d in range(10):\n",
    "    print(d)"
   ]
  },
  {
   "cell_type": "code",
   "execution_count": 9,
   "id": "63d31e0e-b28e-4422-b31a-dfc5309df284",
   "metadata": {},
   "outputs": [
    {
     "name": "stdout",
     "output_type": "stream",
     "text": [
      "1\n",
      "2\n",
      "34\n",
      "5\n",
      "6\n"
     ]
    }
   ],
   "source": [
    "io=[1,2,34,5,6]\n",
    "for l in io:\n",
    "    print(l)"
   ]
  },
  {
   "cell_type": "code",
   "execution_count": 11,
   "id": "f0408c98-990b-446e-8103-e4d03f1df12a",
   "metadata": {},
   "outputs": [
    {
     "name": "stdout",
     "output_type": "stream",
     "text": [
      "h\n",
      "e\n",
      "l\n",
      "l\n",
      "o\n"
     ]
    }
   ],
   "source": [
    "l=\"hello\"\n",
    "for i in l:\n",
    "    print(i)"
   ]
  },
  {
   "cell_type": "code",
   "execution_count": 15,
   "id": "cd76e982-42cb-4e07-a7d6-944ad2229a5d",
   "metadata": {},
   "outputs": [
    {
     "name": "stdout",
     "output_type": "stream",
     "text": [
      "dict_items([('apple', 'red'), ('grapes', 'purple'), ('kiwi', 'green')])\n"
     ]
    }
   ],
   "source": [
    "fruitss={'apple':'red','grapes':'purple','kiwi':'green'}\n",
    "print(fruitss.items())"
   ]
  },
  {
   "cell_type": "code",
   "execution_count": 17,
   "id": "4fcd4104-4b54-4662-a2c4-07a162d334e4",
   "metadata": {},
   "outputs": [
    {
     "name": "stdout",
     "output_type": "stream",
     "text": [
      "('apple', 'red')\n",
      "('grapes', 'purple')\n",
      "('kiwi', 'green')\n"
     ]
    }
   ],
   "source": [
    "for j in fruitss.items():\n",
    "    print(j)"
   ]
  },
  {
   "cell_type": "code",
   "execution_count": 21,
   "id": "41a5ef8a-ec4f-45f5-afdf-8db2fb5e57bd",
   "metadata": {},
   "outputs": [
    {
     "name": "stdout",
     "output_type": "stream",
     "text": [
      "red\n",
      "purple\n",
      "green\n"
     ]
    }
   ],
   "source": [
    "for i in fruitss:\n",
    "    print(fruitss[i])"
   ]
  },
  {
   "cell_type": "code",
   "execution_count": 23,
   "id": "5c7964cc-1275-4e16-8a20-d948584af713",
   "metadata": {},
   "outputs": [
    {
     "data": {
      "text/plain": [
       "dict_values(['red', 'purple', 'green'])"
      ]
     },
     "execution_count": 23,
     "metadata": {},
     "output_type": "execute_result"
    }
   ],
   "source": [
    "fruitss.values()"
   ]
  },
  {
   "cell_type": "code",
   "execution_count": 25,
   "id": "f4ddfe9c-32b4-474b-81f1-4fad500b9a5f",
   "metadata": {},
   "outputs": [
    {
     "name": "stdout",
     "output_type": "stream",
     "text": [
      "red\n",
      "purple\n",
      "green\n"
     ]
    }
   ],
   "source": [
    "for i in fruitss.values():\n",
    "    print(i)"
   ]
  },
  {
   "cell_type": "code",
   "execution_count": 27,
   "id": "2ee1c71d-00ae-4afc-aa7b-6fc3ee1041f3",
   "metadata": {},
   "outputs": [
    {
     "name": "stdout",
     "output_type": "stream",
     "text": [
      "b\n",
      "a\n",
      "n\n",
      "a\n",
      "n\n",
      "a\n"
     ]
    }
   ],
   "source": [
    "#for loop \n",
    "for x in \"banana\":\n",
    "    print(x)"
   ]
  },
  {
   "cell_type": "code",
   "execution_count": 29,
   "id": "222da9a9-6060-4b70-b6c2-7f5ebcc75f4c",
   "metadata": {},
   "outputs": [
    {
     "name": "stdout",
     "output_type": "stream",
     "text": [
      "1\n",
      "2\n",
      "3\n",
      "4\n",
      "5\n"
     ]
    }
   ],
   "source": [
    "l=[1,2,3,4,5]\n",
    "for i in l:\n",
    "    print(i)"
   ]
  },
  {
   "cell_type": "code",
   "execution_count": 33,
   "id": "d7a09ff1-5997-4cb0-8af3-60f8d2823665",
   "metadata": {},
   "outputs": [
    {
     "name": "stdout",
     "output_type": "stream",
     "text": [
      "0\n",
      "1\n",
      "2\n",
      "3\n",
      "4\n",
      "5\n",
      "6\n",
      "7\n",
      "8\n",
      "9\n"
     ]
    }
   ],
   "source": [
    "#range() in using for loop\n",
    "l=range(10)\n",
    "for i in l:\n",
    "    print(i)"
   ]
  },
  {
   "cell_type": "code",
   "execution_count": 35,
   "id": "77380ff5-5ab5-41f5-b1c8-e1f23d270fc9",
   "metadata": {},
   "outputs": [
    {
     "name": "stdout",
     "output_type": "stream",
     "text": [
      "0\n",
      "1\n",
      "2\n",
      "3\n",
      "4\n",
      "5\n"
     ]
    }
   ],
   "source": [
    "for i in range(6):\n",
    "    print(i)"
   ]
  },
  {
   "cell_type": "code",
   "execution_count": 45,
   "id": "ea193023-6379-4c50-93af-a15640960ce5",
   "metadata": {},
   "outputs": [
    {
     "name": "stdout",
     "output_type": "stream",
     "text": [
      "{'banana', 'cherry', 'apple'}\n"
     ]
    }
   ],
   "source": [
    "#set\n",
    "fruit={\"apple\",\"banana\",\"cherry\"}\n",
    "print(fruit)"
   ]
  },
  {
   "cell_type": "code",
   "execution_count": 47,
   "id": "8c8fd054-8173-4d7d-bf8b-320f913f95e7",
   "metadata": {},
   "outputs": [
    {
     "name": "stdout",
     "output_type": "stream",
     "text": [
      "<class 'set'>\n"
     ]
    }
   ],
   "source": [
    "print(type(fruit))"
   ]
  },
  {
   "cell_type": "code",
   "execution_count": 49,
   "id": "608aa7ee-30bc-46e3-8cd7-076e3d641994",
   "metadata": {},
   "outputs": [
    {
     "name": "stdout",
     "output_type": "stream",
     "text": [
      "{'orange', 'banana', 'cherry', 'apple'}\n"
     ]
    }
   ],
   "source": [
    "#for adding one item use add()\n",
    "fruit.add(\"orange\")\n",
    "print(fruit)"
   ]
  },
  {
   "cell_type": "code",
   "execution_count": 51,
   "id": "444090c6-2c51-4dde-abe0-015a75025aef",
   "metadata": {},
   "outputs": [
    {
     "name": "stdout",
     "output_type": "stream",
     "text": [
      "{'grapes', 'banana', 'cherry', 'mango', 'apple', 'orange', 'avcado'}\n"
     ]
    }
   ],
   "source": [
    "fruit.update([\"mango\",\"grapes\",\"avcado\"])\n",
    "print(fruit)"
   ]
  },
  {
   "cell_type": "code",
   "execution_count": 53,
   "id": "b28904f7-873e-41a4-abbb-18af3f930b6f",
   "metadata": {},
   "outputs": [
    {
     "name": "stdout",
     "output_type": "stream",
     "text": [
      "7\n"
     ]
    }
   ],
   "source": [
    "print(len(fruit))"
   ]
  },
  {
   "cell_type": "code",
   "execution_count": 59,
   "id": "c6d76704-275b-4bcb-87bf-90f6f0152b50",
   "metadata": {},
   "outputs": [
    {
     "name": "stdout",
     "output_type": "stream",
     "text": [
      "###########SET##########\n",
      "{'grapes', 'orange', 'banana', 'kiwi', 'pineapple', 'apple'}\n"
     ]
    }
   ],
   "source": [
    "#set\n",
    "print(\"###########SET##########\")\n",
    "f={'apple','orange','kiwi','pineapple','grapes','banana'}\n",
    "print(f)"
   ]
  },
  {
   "cell_type": "code",
   "execution_count": 61,
   "id": "fb326e1c-4ddc-4baf-a79a-c36252492e59",
   "metadata": {},
   "outputs": [
    {
     "name": "stdout",
     "output_type": "stream",
     "text": [
      "{'grapes', 'orange', 'banana', 'kiwi', 'pineapple', 'cherry', 'apple'}\n"
     ]
    }
   ],
   "source": [
    "#add\n",
    "f.add(\"cherry\")\n",
    "print(f)"
   ]
  },
  {
   "cell_type": "code",
   "execution_count": 63,
   "id": "77ae1580-9b73-4090-8607-718bd775d646",
   "metadata": {},
   "outputs": [
    {
     "name": "stdout",
     "output_type": "stream",
     "text": [
      "<class 'set'>\n"
     ]
    }
   ],
   "source": [
    "#type\n",
    "print(type(f))"
   ]
  },
  {
   "cell_type": "code",
   "execution_count": 65,
   "id": "996b82a4-21b3-4e3a-9276-e8621831b59c",
   "metadata": {},
   "outputs": [
    {
     "name": "stdout",
     "output_type": "stream",
     "text": [
      "7\n"
     ]
    }
   ],
   "source": [
    "#length\n",
    "print(len(f))"
   ]
  },
  {
   "cell_type": "code",
   "execution_count": 87,
   "id": "61ae21f8-d81d-402f-808b-20c1eba29d0b",
   "metadata": {},
   "outputs": [
    {
     "name": "stdout",
     "output_type": "stream",
     "text": [
      "{'red', 'orange', 'brown'}\n"
     ]
    }
   ],
   "source": [
    "color={'red','orange','brown'}\n",
    "print(color)"
   ]
  },
  {
   "cell_type": "code",
   "execution_count": 69,
   "id": "d5838dce-1a85-44f7-9d48-edd9d43b7c68",
   "metadata": {},
   "outputs": [
    {
     "name": "stdout",
     "output_type": "stream",
     "text": [
      "{'red', 'brown', 'yellow', 'green', 'black', 'orange', 'white'}\n"
     ]
    }
   ],
   "source": [
    "#update\n",
    "color.update(['black','white','yellow','green'])\n",
    "print(color)"
   ]
  },
  {
   "cell_type": "code",
   "execution_count": 71,
   "id": "2e68ae76-224a-42ae-ba6b-ad29f98b41c9",
   "metadata": {},
   "outputs": [
    {
     "name": "stdout",
     "output_type": "stream",
     "text": [
      "{'black', 'yellow', 'green', 'white'}\n"
     ]
    }
   ],
   "source": [
    "#constructor\n",
    "C=set(('black','white','yellow','green'))\n",
    "print(C)"
   ]
  },
  {
   "cell_type": "code",
   "execution_count": 79,
   "id": "6178183b-e905-42f7-b324-0e7a32d01048",
   "metadata": {},
   "outputs": [
    {
     "ename": "TypeError",
     "evalue": "'set' object does not support item deletion",
     "output_type": "error",
     "traceback": [
      "\u001b[1;31m---------------------------------------------------------------------------\u001b[0m",
      "\u001b[1;31mTypeError\u001b[0m                                 Traceback (most recent call last)",
      "Cell \u001b[1;32mIn[79], line 2\u001b[0m\n\u001b[0;32m      1\u001b[0m \u001b[38;5;66;03m#delete\u001b[39;00m\n\u001b[1;32m----> 2\u001b[0m \u001b[38;5;28;01mdel\u001b[39;00m color[\u001b[38;5;124m'\u001b[39m\u001b[38;5;124mblack\u001b[39m\u001b[38;5;124m'\u001b[39m]\n\u001b[0;32m      3\u001b[0m \u001b[38;5;28mprint\u001b[39m(color)\n",
      "\u001b[1;31mTypeError\u001b[0m: 'set' object does not support item deletion"
     ]
    }
   ],
   "source": [
    "#delete\n",
    "del color['black']\n",
    "print(color)"
   ]
  },
  {
   "cell_type": "code",
   "execution_count": 89,
   "id": "d2a69c03-fd5b-458b-9844-06eb2be84e6d",
   "metadata": {},
   "outputs": [
    {
     "ename": "NameError",
     "evalue": "name 'color' is not defined",
     "output_type": "error",
     "traceback": [
      "\u001b[1;31m---------------------------------------------------------------------------\u001b[0m",
      "\u001b[1;31mNameError\u001b[0m                                 Traceback (most recent call last)",
      "Cell \u001b[1;32mIn[89], line 2\u001b[0m\n\u001b[0;32m      1\u001b[0m \u001b[38;5;28;01mdel\u001b[39;00m color\n\u001b[1;32m----> 2\u001b[0m \u001b[38;5;28mprint\u001b[39m(color)\n",
      "\u001b[1;31mNameError\u001b[0m: name 'color' is not defined"
     ]
    }
   ],
   "source": [
    "del color\n",
    "print(color)"
   ]
  },
  {
   "cell_type": "code",
   "execution_count": null,
   "id": "57538228-44c5-4a52-912a-3d142ff616c8",
   "metadata": {},
   "outputs": [],
   "source": []
  }
 ],
 "metadata": {
  "kernelspec": {
   "display_name": "Python 3 (ipykernel)",
   "language": "python",
   "name": "python3"
  },
  "language_info": {
   "codemirror_mode": {
    "name": "ipython",
    "version": 3
   },
   "file_extension": ".py",
   "mimetype": "text/x-python",
   "name": "python",
   "nbconvert_exporter": "python",
   "pygments_lexer": "ipython3",
   "version": "3.13.5"
  }
 },
 "nbformat": 4,
 "nbformat_minor": 5
}
