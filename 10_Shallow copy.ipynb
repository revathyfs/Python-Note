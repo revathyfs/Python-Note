{
 "cells": [
  {
   "cell_type": "markdown",
   "id": "f3cfb263-10cf-4b1a-89f7-7209ea658db3",
   "metadata": {},
   "source": [
    "The **difference between shallow copy and deep copy** in Python lies in how they duplicate **compound objects** like lists, dictionaries, or custom objects, especially when those objects contain **nested or referenced objects** (e.g., a list inside a list).\n",
    "\n",
    "---\n",
    "\n",
    "### 🔹 1. **Shallow Copy**\n",
    "\n",
    "A **shallow copy** creates a **new outer object**, but it **does not create copies of nested objects**. Instead, it copies the references to the nested objects.\n",
    "\n",
    "#### ✅ So:\n",
    "\n",
    "* The outer object is a **new object**.\n",
    "* The **inner objects are shared** between the original and the copy.\n",
    "\n",
    "#### 📌 Example:\n",
    "\n",
    "```python\n",
    "import copy\n",
    "\n",
    "original = [[1, 2], [3, 4]]\n",
    "shallow = copy.copy(original)\n",
    "\n",
    "shallow[0][0] = 100\n",
    "\n",
    "print(original)  # [[100, 2], [3, 4]] ← original also affected!\n",
    "```\n",
    "\n",
    "#### 🧠 Why?\n",
    "\n",
    "Both `original` and `shallow` refer to the same inner lists like `[1, 2]`.\n",
    "\n",
    "---\n",
    "\n",
    "### 🔹 2. **Deep Copy**\n",
    "\n",
    "A **deep copy** creates a **completely independent copy**, including all nested objects.\n",
    "None of the internal references are shared.\n",
    "\n",
    "#### ✅ So:\n",
    "\n",
    "* Both the outer object **and all nested objects are new**.\n",
    "* No changes in the copy affect the original.\n",
    "\n",
    "#### 📌 Example:\n",
    "\n",
    "```python\n",
    "import copy\n",
    "\n",
    "original = [[1, 2], [3, 4]]\n",
    "deep = copy.deepcopy(original)\n",
    "\n",
    "deep[0][0] = 100\n",
    "\n",
    "print(original)  # [[1, 2], [3, 4]] ← original remains safe!\n",
    "```\n",
    "\n",
    "---\n",
    "\n",
    "### 🔁 Summary Table:\n",
    "\n",
    "| Feature         | Shallow Copy             | Deep Copy                    |\n",
    "| --------------- | ------------------------ | ---------------------------- |\n",
    "| Outer object    | New                      | New                          |\n",
    "| Nested objects  | Shared (same references) | Also copied (new references) |\n",
    "| Changes in copy | May affect original      | Do not affect original       |\n",
    "| Method          | `copy.copy()`            | `copy.deepcopy()`            |\n",
    "\n",
    "---\n",
    "\n",
    "### ✅ When to Use Which?\n",
    "\n",
    "* **Shallow Copy**: When you want a fast, memory-light copy and **don’t care** if inner objects are shared.\n",
    "* **Deep Copy**: When you need a **fully independent** clone of a complex object (like copying data structures safely).\n"
   ]
  },
  {
   "cell_type": "markdown",
   "id": "100dba29-02ea-4e00-843b-525d03346924",
   "metadata": {},
   "source": [
    "Shallow copy "
   ]
  },
  {
   "cell_type": "code",
   "execution_count": 5,
   "id": "2fd386df-793b-4043-a6be-e847e5ba9239",
   "metadata": {},
   "outputs": [],
   "source": [
    "l1=[10,'Hello',True]\n",
    "#l1 list object created reference of that particular objects in memory "
   ]
  },
  {
   "cell_type": "code",
   "execution_count": 11,
   "id": "76b5ad94-ead0-45f9-be3f-1db1d1a341c8",
   "metadata": {},
   "outputs": [],
   "source": [
    "l1=[5,'Akshay',25]\n",
    "l2=l1"
   ]
  },
  {
   "cell_type": "code",
   "execution_count": 13,
   "id": "e6ba35cc-5d2a-45cf-877b-d74c72988134",
   "metadata": {},
   "outputs": [
    {
     "data": {
      "text/plain": [
       "[5, 'Akshay', 25]"
      ]
     },
     "execution_count": 13,
     "metadata": {},
     "output_type": "execute_result"
    }
   ],
   "source": [
    "l2"
   ]
  },
  {
   "cell_type": "code",
   "execution_count": 15,
   "id": "1220ede9-f61d-4d65-8bc7-5bb28422750e",
   "metadata": {},
   "outputs": [
    {
     "data": {
      "text/plain": [
       "[5, 'Akshay', 25]"
      ]
     },
     "execution_count": 15,
     "metadata": {},
     "output_type": "execute_result"
    }
   ],
   "source": [
    "l1"
   ]
  },
  {
   "cell_type": "code",
   "execution_count": 17,
   "id": "211483fd-4b2d-419e-abb6-6b4166c2437f",
   "metadata": {},
   "outputs": [
    {
     "data": {
      "text/plain": [
       "[5, 'Shaina', 25]"
      ]
     },
     "execution_count": 17,
     "metadata": {},
     "output_type": "execute_result"
    }
   ],
   "source": [
    "l2[1]='Shaina'\n",
    "l2"
   ]
  },
  {
   "cell_type": "code",
   "execution_count": 19,
   "id": "89a5bcd4-7c94-408f-9488-6adedec4aebb",
   "metadata": {},
   "outputs": [
    {
     "data": {
      "text/plain": [
       "[5, 'Shaina', 25]"
      ]
     },
     "execution_count": 19,
     "metadata": {},
     "output_type": "execute_result"
    }
   ],
   "source": [
    "l2"
   ]
  },
  {
   "cell_type": "code",
   "execution_count": 21,
   "id": "00ef68df-72aa-41c7-8eed-b086d302bfdd",
   "metadata": {},
   "outputs": [
    {
     "data": {
      "text/plain": [
       "[5, 'Shaina', 25]"
      ]
     },
     "execution_count": 21,
     "metadata": {},
     "output_type": "execute_result"
    }
   ],
   "source": [
    "l1"
   ]
  },
  {
   "cell_type": "markdown",
   "id": "8e173a6d-899f-4b0a-9d8c-19d8feb3f3c1",
   "metadata": {},
   "source": [
    "it also changes new list object doesn't creates assignment operation doest perform copy like shallow or deep "
   ]
  },
  {
   "cell_type": "code",
   "execution_count": 49,
   "id": "8adb93c7-b2e7-46c9-8c21-369cdfb275e5",
   "metadata": {},
   "outputs": [],
   "source": [
    "l1=[5,25,[34,'Akshay'],25]"
   ]
  },
  {
   "cell_type": "code",
   "execution_count": 51,
   "id": "f354903d-ba7a-4e0b-85ac-7cee382a42d1",
   "metadata": {
    "jp-MarkdownHeadingCollapsed": true
   },
   "outputs": [
    {
     "data": {
      "text/plain": [
       "[5, 25, [34, 'Akshay'], 25]"
      ]
     },
     "execution_count": 51,
     "metadata": {},
     "output_type": "execute_result"
    }
   ],
   "source": [
    "l1[:]"
   ]
  },
  {
   "cell_type": "code",
   "execution_count": 53,
   "id": "748df371-5b34-4e00-b608-27d0d2a73572",
   "metadata": {},
   "outputs": [],
   "source": [
    "l2=l1[:]"
   ]
  },
  {
   "cell_type": "code",
   "execution_count": 55,
   "id": "e178f59a-23ab-44e3-93a8-db1c3190adbf",
   "metadata": {},
   "outputs": [
    {
     "data": {
      "text/plain": [
       "([5, 25, [34, 'Akshay'], 25], [5, 25, [34, 'Akshay'], 25])"
      ]
     },
     "execution_count": 55,
     "metadata": {},
     "output_type": "execute_result"
    }
   ],
   "source": [
    "l1,l2"
   ]
  },
  {
   "cell_type": "code",
   "execution_count": 57,
   "id": "b5179d5c-823d-4468-b415-781120846274",
   "metadata": {},
   "outputs": [
    {
     "data": {
      "text/plain": [
       "[5, 25, [34, 'Akshay'], 'shaina']"
      ]
     },
     "execution_count": 57,
     "metadata": {},
     "output_type": "execute_result"
    }
   ],
   "source": [
    "l2[3]=\"shaina\"\n",
    "l2"
   ]
  },
  {
   "cell_type": "code",
   "execution_count": 61,
   "id": "6dfc1ff7-9992-40c9-9258-816c980c2626",
   "metadata": {},
   "outputs": [
    {
     "data": {
      "text/plain": [
       "[5, 25, [34, 'Akshay'], 25]"
      ]
     },
     "execution_count": 61,
     "metadata": {},
     "output_type": "execute_result"
    }
   ],
   "source": [
    "l1"
   ]
  },
  {
   "cell_type": "code",
   "execution_count": 63,
   "id": "3562e467-ca7b-4abf-aeae-231de6ab555e",
   "metadata": {},
   "outputs": [
    {
     "data": {
      "text/plain": [
       "[5, 25, [34, 'mister'], 'shaina']"
      ]
     },
     "execution_count": 63,
     "metadata": {},
     "output_type": "execute_result"
    }
   ],
   "source": [
    "l2[2][1]=\"mister\"\n",
    "l2"
   ]
  },
  {
   "cell_type": "code",
   "execution_count": 65,
   "id": "53d35bb2-20a4-474d-b705-bd89e008df73",
   "metadata": {},
   "outputs": [
    {
     "data": {
      "text/plain": [
       "[5, 25, [34, 'mister'], 25]"
      ]
     },
     "execution_count": 65,
     "metadata": {},
     "output_type": "execute_result"
    }
   ],
   "source": [
    "l1"
   ]
  },
  {
   "cell_type": "markdown",
   "id": "88979650-9a3d-4c2d-ae00-db946006b679",
   "metadata": {},
   "source": [
    "shallow using copy()"
   ]
  },
  {
   "cell_type": "code",
   "execution_count": 1,
   "id": "b25b3ea0-1ba3-4074-9b00-153f1e37bcde",
   "metadata": {},
   "outputs": [],
   "source": [
    "l1=[2,3,[5,66],7]\n",
    "l2=l1.copy()"
   ]
  },
  {
   "cell_type": "code",
   "execution_count": 2,
   "id": "eb566e7c-9323-446d-8ee8-e601593bb4f3",
   "metadata": {},
   "outputs": [
    {
     "data": {
      "text/plain": [
       "([2, 3, [5, 66], 7], [2, 3, [5, 66], 7])"
      ]
     },
     "execution_count": 2,
     "metadata": {},
     "output_type": "execute_result"
    }
   ],
   "source": [
    "l1,l2"
   ]
  },
  {
   "cell_type": "code",
   "execution_count": 3,
   "id": "2569ae03-3ab2-4f9c-82a2-d24bc087cb41",
   "metadata": {},
   "outputs": [],
   "source": [
    "l2[-1]='Anuja'"
   ]
  },
  {
   "cell_type": "code",
   "execution_count": 4,
   "id": "e9ebc68b-17d3-46f3-a343-4be49b45af20",
   "metadata": {},
   "outputs": [
    {
     "data": {
      "text/plain": [
       "([2, 3, [5, 66], 7], [2, 3, [5, 66], 'Anuja'])"
      ]
     },
     "execution_count": 4,
     "metadata": {},
     "output_type": "execute_result"
    }
   ],
   "source": [
    "l1,l2"
   ]
  },
  {
   "cell_type": "code",
   "execution_count": 5,
   "id": "3d847a37-1a47-4d5c-822e-6b65d60480a1",
   "metadata": {},
   "outputs": [],
   "source": [
    "l2[2][0]=\"shaina\""
   ]
  },
  {
   "cell_type": "code",
   "execution_count": 6,
   "id": "f6b2cce2-fc6f-4ad7-ae0e-52c972ecd2af",
   "metadata": {},
   "outputs": [
    {
     "data": {
      "text/plain": [
       "([2, 3, ['shaina', 66], 7], [2, 3, ['shaina', 66], 'Anuja'])"
      ]
     },
     "execution_count": 6,
     "metadata": {},
     "output_type": "execute_result"
    }
   ],
   "source": [
    "l1,l2"
   ]
  },
  {
   "cell_type": "code",
   "execution_count": 7,
   "id": "e556ad62-ee53-44e2-95e7-3642bbee7bf7",
   "metadata": {},
   "outputs": [],
   "source": [
    "import copy"
   ]
  },
  {
   "cell_type": "code",
   "execution_count": 8,
   "id": "96cdb17e-eb86-436f-b40c-b01017582cc7",
   "metadata": {},
   "outputs": [
    {
     "data": {
      "text/plain": [
       "['Error',\n",
       " '__all__',\n",
       " '__builtins__',\n",
       " '__cached__',\n",
       " '__doc__',\n",
       " '__file__',\n",
       " '__loader__',\n",
       " '__name__',\n",
       " '__package__',\n",
       " '__spec__',\n",
       " '_copy_dispatch',\n",
       " '_copy_immutable',\n",
       " '_deepcopy_atomic',\n",
       " '_deepcopy_dict',\n",
       " '_deepcopy_dispatch',\n",
       " '_deepcopy_list',\n",
       " '_deepcopy_method',\n",
       " '_deepcopy_tuple',\n",
       " '_keep_alive',\n",
       " '_reconstruct',\n",
       " 'copy',\n",
       " 'deepcopy',\n",
       " 'dispatch_table',\n",
       " 'error',\n",
       " 'replace']"
      ]
     },
     "execution_count": 8,
     "metadata": {},
     "output_type": "execute_result"
    }
   ],
   "source": [
    "dir(copy)"
   ]
  },
  {
   "cell_type": "code",
   "execution_count": 9,
   "id": "1bd64c06-a932-4683-8f48-4e8000b3d3c3",
   "metadata": {},
   "outputs": [
    {
     "name": "stdout",
     "output_type": "stream",
     "text": [
      "[1, 2, 3, 4, 5, 6, 10]\n"
     ]
    }
   ],
   "source": [
    "l1=[1,2,3,4,5,6]\n",
    "l2=l1\n",
    "l2.append(10)\n",
    "print(l1)"
   ]
  },
  {
   "cell_type": "code",
   "execution_count": 10,
   "id": "774b5164-0885-47ab-8a60-56c7e5742ec4",
   "metadata": {},
   "outputs": [
    {
     "data": {
      "text/plain": [
       "[1, 2, 3, 4, 5, 6, 10]"
      ]
     },
     "execution_count": 10,
     "metadata": {},
     "output_type": "execute_result"
    }
   ],
   "source": [
    "l2"
   ]
  },
  {
   "cell_type": "code",
   "execution_count": 11,
   "id": "700c2cc0-e299-497a-8250-2d62648e9f6d",
   "metadata": {},
   "outputs": [
    {
     "data": {
      "text/plain": [
       "[1, 2, 8, 4, 5, 6, 10]"
      ]
     },
     "execution_count": 11,
     "metadata": {},
     "output_type": "execute_result"
    }
   ],
   "source": [
    "l2[2]=8\n",
    "l2"
   ]
  },
  {
   "cell_type": "code",
   "execution_count": 12,
   "id": "04699887-fa7c-47d9-bde3-7883268ed79d",
   "metadata": {},
   "outputs": [
    {
     "data": {
      "text/plain": [
       "[1, 2, 8, 4, 5, 6, 10]"
      ]
     },
     "execution_count": 12,
     "metadata": {},
     "output_type": "execute_result"
    }
   ],
   "source": [
    "l1"
   ]
  },
  {
   "cell_type": "code",
   "execution_count": 13,
   "id": "160c83cb-3762-47f1-96d1-da8e8c62c254",
   "metadata": {},
   "outputs": [
    {
     "data": {
      "text/plain": [
       "[1, [2, 'mister', 3], 'mango']"
      ]
     },
     "execution_count": 13,
     "metadata": {},
     "output_type": "execute_result"
    }
   ],
   "source": [
    "l1=[1,[2,'mister',3],'apple']\n",
    "l2=l1\n",
    "l2[2]='mango'\n",
    "l2"
   ]
  },
  {
   "cell_type": "code",
   "execution_count": 14,
   "id": "47babfbb-1947-4fe2-8ebc-01c701f37396",
   "metadata": {},
   "outputs": [
    {
     "data": {
      "text/plain": [
       "[1, [2, 'mister', 3], 'mango']"
      ]
     },
     "execution_count": 14,
     "metadata": {},
     "output_type": "execute_result"
    }
   ],
   "source": [
    "l1"
   ]
  },
  {
   "cell_type": "code",
   "execution_count": 15,
   "id": "7a786898-14a0-4825-81d5-d4235cc6fdff",
   "metadata": {},
   "outputs": [
    {
     "name": "stdout",
     "output_type": "stream",
     "text": [
      "[[1, 2, 3], [4, 5, 6], [7, 8, 9]]\n"
     ]
    }
   ],
   "source": [
    "old_list=[[1,2,3],[4,5,6],[7,8,9]]\n",
    "new_list=copy.copy(old_list)\n",
    "print(new_list)"
   ]
  },
  {
   "cell_type": "code",
   "execution_count": 16,
   "id": "856fe9ef-e836-481a-ade4-c23bc56cd5dd",
   "metadata": {},
   "outputs": [],
   "source": [
    "new_list[1][1]='AA'"
   ]
  },
  {
   "cell_type": "code",
   "execution_count": 17,
   "id": "626f12d2-b940-43b1-9af0-66a3e0d7a9d3",
   "metadata": {},
   "outputs": [
    {
     "name": "stdout",
     "output_type": "stream",
     "text": [
      "Old List :  [[1, 2, 3], [4, 'AA', 6], [7, 8, 9]]\n",
      "New List :  [[1, 2, 3], [4, 'AA', 6], [7, 8, 9]]\n"
     ]
    }
   ],
   "source": [
    "print(\"Old List : \",old_list)\n",
    "print(\"New List : \",new_list)"
   ]
  },
  {
   "cell_type": "code",
   "execution_count": 18,
   "id": "84a5707f-4bf0-4737-83a9-51817d9872b6",
   "metadata": {},
   "outputs": [
    {
     "data": {
      "text/plain": [
       "[1, 2, 3, 4]"
      ]
     },
     "execution_count": 18,
     "metadata": {},
     "output_type": "execute_result"
    }
   ],
   "source": [
    "l1=[1,2,3,4]\n",
    "l2=l1\n",
    "l2=[1,2,3,4]\n",
    "l2[1]=8\n",
    "l1"
   ]
  },
  {
   "cell_type": "code",
   "execution_count": 19,
   "id": "ea556035-4f2a-4028-a7ed-54324abfdc31",
   "metadata": {},
   "outputs": [
    {
     "data": {
      "text/plain": [
       "[1, 8, 3, 4]"
      ]
     },
     "execution_count": 19,
     "metadata": {},
     "output_type": "execute_result"
    }
   ],
   "source": [
    "l2"
   ]
  }
 ],
 "metadata": {
  "kernelspec": {
   "display_name": "Python 3 (ipykernel)",
   "language": "python",
   "name": "python3"
  },
  "language_info": {
   "codemirror_mode": {
    "name": "ipython",
    "version": 3
   },
   "file_extension": ".py",
   "mimetype": "text/x-python",
   "name": "python",
   "nbconvert_exporter": "python",
   "pygments_lexer": "ipython3",
   "version": "3.13.5"
  }
 },
 "nbformat": 4,
 "nbformat_minor": 5
}
