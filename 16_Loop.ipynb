{
 "cells": [
  {
   "cell_type": "markdown",
   "id": "8bedd8a5-79f1-468e-9449-bdade897e9e9",
   "metadata": {},
   "source": [
    "# LOOP\n",
    "\n",
    "In Python, loops are used to repeat a block of code multiple times until a certain condition is met.\n",
    "\n",
    "There are mainly two types of loops:\n",
    "\n",
    "1. for loop\n",
    "\n",
    "Used when you want to iterate over a sequence (like a list, tuple, string, or range of numbers).\n",
    "\n",
    "👉 Syntax:\n",
    "\n",
    "for variable in sequence:\n",
    "\n",
    "    # code block\n",
    "\n",
    "\n",
    "2. while loop\n",
    "\n",
    "Used when you want to repeat a block of code as long as a condition is True.\n",
    "\n",
    "👉 Syntax:\n",
    "\n",
    "while condition:\n",
    "\n",
    "    # code block\n"
   ]
  },
  {
   "cell_type": "code",
   "execution_count": 1,
   "id": "d68c4876-f6b1-4a45-9b87-2059cdec3d75",
   "metadata": {},
   "outputs": [
    {
     "name": "stdout",
     "output_type": "stream",
     "text": [
      "b\n",
      "a\n",
      "n\n",
      "a\n",
      "n\n",
      "a\n"
     ]
    }
   ],
   "source": [
    "#For loop\n",
    "#string execution\n",
    "for x in \"banana\":\n",
    "    print(x)"
   ]
  },
  {
   "cell_type": "code",
   "execution_count": 1,
   "id": "94fddd75-001d-45cc-b408-a4d4c229e872",
   "metadata": {},
   "outputs": [
    {
     "name": "stdout",
     "output_type": "stream",
     "text": [
      "b\n",
      "a\n",
      "n\n",
      "a\n",
      "n\n",
      "a\n"
     ]
    }
   ],
   "source": [
    "s=\"banana\"\n",
    "for x in s:\n",
    "    print(x)"
   ]
  },
  {
   "cell_type": "code",
   "execution_count": 3,
   "id": "3c2e236a-5d88-41ed-8a14-c405d23e707e",
   "metadata": {},
   "outputs": [
    {
     "name": "stdout",
     "output_type": "stream",
     "text": [
      "1\n",
      "2\n",
      "3\n",
      "4\n",
      "5\n"
     ]
    }
   ],
   "source": [
    "#list execution\n",
    "l=[1,2,3,4,5]\n",
    "for i in l:\n",
    "    print(i)"
   ]
  },
  {
   "cell_type": "code",
   "execution_count": 2,
   "id": "89d08b28-1437-4eb4-bd2d-b66f8332758b",
   "metadata": {},
   "outputs": [
    {
     "name": "stdout",
     "output_type": "stream",
     "text": [
      "apple\n",
      "banana\n",
      "cherry\n"
     ]
    }
   ],
   "source": [
    "fruits=[\"apple\",\"banana\",\"cherry\"]\n",
    "for i in fruits:\n",
    "    print(i)"
   ]
  },
  {
   "cell_type": "code",
   "execution_count": 19,
   "id": "5233e6a6-3879-4269-be3e-f1aabfb81115",
   "metadata": {},
   "outputs": [
    {
     "name": "stdout",
     "output_type": "stream",
     "text": [
      "apple\n",
      "banana\n"
     ]
    }
   ],
   "source": [
    "#break in for loop print statement \n",
    "fruits=[\"apple\",\"banana\",\"cherry\"]\n",
    "for i in fruits:\n",
    "    print(i)\n",
    "    if i==\"banana\":\n",
    "        break"
   ]
  },
  {
   "cell_type": "code",
   "execution_count": 25,
   "id": "28887f5d-f6d9-48c3-bdcd-4303081e14fb",
   "metadata": {},
   "outputs": [
    {
     "name": "stdout",
     "output_type": "stream",
     "text": [
      "apple\n"
     ]
    }
   ],
   "source": [
    "#break before print statement\n",
    "fruits=[\"apple\",\"banana\",\"cherry\"]\n",
    "for i in fruits:\n",
    "    if i==\"banana\":\n",
    "        break\n",
    "    print(i)"
   ]
  },
  {
   "cell_type": "code",
   "execution_count": 27,
   "id": "ec2bd5dd-b702-401c-9e69-cb0d1bcd3482",
   "metadata": {},
   "outputs": [
    {
     "name": "stdout",
     "output_type": "stream",
     "text": [
      "apple\n",
      "cherry\n"
     ]
    }
   ],
   "source": [
    "# continue statement in for loop\n",
    "fruits=[\"apple\",\"banana\",\"cherry\"]\n",
    "for i in fruits:\n",
    "    if i==\"banana\":\n",
    "        continue\n",
    "    print(i)"
   ]
  },
  {
   "cell_type": "code",
   "execution_count": 30,
   "id": "c8fe08c8-1eef-49bb-b66d-f768c1b2a346",
   "metadata": {},
   "outputs": [
    {
     "name": "stdout",
     "output_type": "stream",
     "text": [
      "Current letter p\n",
      "Current letter y\n",
      "Current letter t\n",
      "Current letter o\n",
      "Current letter n\n"
     ]
    }
   ],
   "source": [
    "#continue in for loop\n",
    "for letter in \"python\":\n",
    "    if letter==\"h\":\n",
    "        continue\n",
    "    print(\"Current letter\",letter)"
   ]
  },
  {
   "cell_type": "code",
   "execution_count": 32,
   "id": "c7dcd2c3-600d-4c8c-a75e-6743f01c4ad8",
   "metadata": {},
   "outputs": [
    {
     "name": "stdout",
     "output_type": "stream",
     "text": [
      "1\n",
      "2\n",
      "3\n",
      "4\n",
      "5\n",
      "7\n",
      "8\n",
      "9\n",
      "10\n"
     ]
    }
   ],
   "source": [
    "#range in for loop + condition statement\n",
    "for i in range(1,11):\n",
    "    if i==6:\n",
    "        continue\n",
    "    else:\n",
    "        print(i)"
   ]
  },
  {
   "cell_type": "code",
   "execution_count": 34,
   "id": "57e84311-9d93-4fba-980d-bfcfa3bfcfeb",
   "metadata": {},
   "outputs": [
    {
     "name": "stdout",
     "output_type": "stream",
     "text": [
      "s\n",
      "t\n"
     ]
    }
   ],
   "source": [
    "for v in \"string\":\n",
    "    print(v)\n",
    "    if v==\"t\":\n",
    "        break"
   ]
  },
  {
   "cell_type": "code",
   "execution_count": 36,
   "id": "0aeff1e3-2ca6-443e-b128-536762d5b87f",
   "metadata": {},
   "outputs": [
    {
     "name": "stdout",
     "output_type": "stream",
     "text": [
      "s\n"
     ]
    }
   ],
   "source": [
    "for v in \"string\":\n",
    "    if v==\"t\":\n",
    "        break\n",
    "    print(v)"
   ]
  },
  {
   "cell_type": "code",
   "execution_count": 44,
   "id": "8a756786-f908-4ff5-b0a8-dfa81746acc8",
   "metadata": {},
   "outputs": [
    {
     "name": "stdout",
     "output_type": "stream",
     "text": [
      "g\n",
      "e\n",
      "out of for loop\n"
     ]
    }
   ],
   "source": [
    "s=\"geeksforgeeks\"\n",
    "for letter in s:\n",
    "    print(letter)\n",
    "    if letter==\"e\" or letter==\"s\":\n",
    "        break\n",
    "print(\"out of for loop\")"
   ]
  },
  {
   "cell_type": "markdown",
   "id": "59e8973b-99c1-48d7-99f4-4720592e7b42",
   "metadata": {},
   "source": [
    "The range() Function \n",
    "\n",
    "To loop through a set of code a specified number of times, we can use the range() function, \n",
    "The range() function returns a sequence of numbers, starting from 0 by default, and increments by 1 (by default), and \n",
    "ends at a specified number."
   ]
  },
  {
   "cell_type": "code",
   "execution_count": 40,
   "id": "b8fc5754-5563-46a4-851c-998b512cb5f8",
   "metadata": {},
   "outputs": [
    {
     "name": "stdout",
     "output_type": "stream",
     "text": [
      "0\n",
      "1\n",
      "2\n",
      "3\n",
      "4\n",
      "5\n"
     ]
    }
   ],
   "source": [
    "#range() in for loop\n",
    "for i in range(6):\n",
    "    print(i)"
   ]
  },
  {
   "cell_type": "code",
   "execution_count": 42,
   "id": "b1986c26-59e7-4237-961d-5dda6e0f1503",
   "metadata": {},
   "outputs": [
    {
     "name": "stdout",
     "output_type": "stream",
     "text": [
      "2\n",
      "3\n",
      "4\n",
      "5\n"
     ]
    }
   ],
   "source": [
    "#using the start parameter in for loop using range()\n",
    "for x in range(2,6):\n",
    "    print(x)"
   ]
  },
  {
   "cell_type": "markdown",
   "id": "14faaf4f-1be9-40ba-8bf2-a10aa61ccccd",
   "metadata": {},
   "source": [
    "# Looping through Dictionary"
   ]
  },
  {
   "cell_type": "code",
   "execution_count": 1,
   "id": "4693f0a1-2587-4665-aade-6152986158f8",
   "metadata": {},
   "outputs": [],
   "source": [
    "students = {\"id\" : 101, \"name\" : \"Alice\", \"marks\" : 85}"
   ]
  },
  {
   "cell_type": "code",
   "execution_count": 2,
   "id": "e0d89b71-0ee8-4499-b4eb-c1517dd02a1f",
   "metadata": {},
   "outputs": [
    {
     "name": "stdout",
     "output_type": "stream",
     "text": [
      "id\n",
      "name\n",
      "marks\n"
     ]
    }
   ],
   "source": [
    "# keys()\n",
    "for k in students.keys():\n",
    "    print(k)"
   ]
  },
  {
   "cell_type": "code",
   "execution_count": 3,
   "id": "88549a2a-2d92-4dd7-a9d4-8b8348ee45bc",
   "metadata": {},
   "outputs": [
    {
     "name": "stdout",
     "output_type": "stream",
     "text": [
      "101\n",
      "Alice\n",
      "85\n"
     ]
    }
   ],
   "source": [
    "# values()\n",
    "\n",
    "for v in students.values():\n",
    "    print(v)"
   ]
  },
  {
   "cell_type": "code",
   "execution_count": 4,
   "id": "e5c887b0-1aac-4ed6-a31a-7fe16c7b2d7f",
   "metadata": {},
   "outputs": [
    {
     "name": "stdout",
     "output_type": "stream",
     "text": [
      "id 101\n",
      "name Alice\n",
      "marks 85\n"
     ]
    }
   ],
   "source": [
    "# Both\n",
    "\n",
    "for k,v in students.items():\n",
    "    print(k,v)"
   ]
  },
  {
   "cell_type": "code",
   "execution_count": 5,
   "id": "ac5bdc58-7b83-4cfc-b33a-f51202da94b1",
   "metadata": {},
   "outputs": [
    {
     "name": "stdout",
     "output_type": "stream",
     "text": [
      "id : 101\n",
      "name : Alice\n",
      "marks : 85\n"
     ]
    }
   ],
   "source": [
    "for k,v in students.items():\n",
    "    print(k,\":\",v)"
   ]
  },
  {
   "cell_type": "code",
   "execution_count": 6,
   "id": "7d6dd921-706e-492f-95f8-5937643523e6",
   "metadata": {},
   "outputs": [
    {
     "name": "stdout",
     "output_type": "stream",
     "text": [
      "id : 101\n",
      "name : Alice\n",
      "marks : 85\n"
     ]
    }
   ],
   "source": [
    "for k,v in students.items():\n",
    "    print(f\"{k} : {v}\")"
   ]
  },
  {
   "cell_type": "code",
   "execution_count": 1,
   "id": "dfec4666-a530-4b9b-8236-7ce6a92bd8ff",
   "metadata": {},
   "outputs": [
    {
     "name": "stdout",
     "output_type": "stream",
     "text": [
      "0\n",
      "1\n",
      "2\n",
      "3\n",
      "4\n",
      "5\n",
      "6\n",
      "7\n",
      "8\n",
      "9\n"
     ]
    }
   ],
   "source": [
    "#while loop is used for checking the condition and execution\n",
    "# syntax is similar to c,c++ \n",
    "#i++ is not accepted in while loop we can use by i+=1 or i=i+1 increment \n",
    "#syntax\n",
    "#initialization\n",
    "#while(condition):\n",
    "#     statement(n)\n",
    "#     increment/decrement\n",
    "\n",
    "\n",
    "i=0\n",
    "while(i<10):\n",
    "    print(i)\n",
    "    i=i+1"
   ]
  },
  {
   "cell_type": "code",
   "execution_count": 58,
   "id": "7f88bb9a-f87a-4e64-a836-08c11a3b6b26",
   "metadata": {},
   "outputs": [
    {
     "name": "stdout",
     "output_type": "stream",
     "text": [
      "1\n",
      "2\n",
      "3\n",
      "4\n",
      "5\n"
     ]
    }
   ],
   "source": [
    "i=1\n",
    "while(i<6):\n",
    "    print(i)\n",
    "    i+=1"
   ]
  },
  {
   "cell_type": "code",
   "execution_count": 60,
   "id": "bed1f814-4328-453b-a632-dfc75c0f474a",
   "metadata": {},
   "outputs": [
    {
     "name": "stdout",
     "output_type": "stream",
     "text": [
      "1\n",
      "2\n",
      "3\n"
     ]
    }
   ],
   "source": [
    "i=1\n",
    "while(i<6):\n",
    "    print(i)\n",
    "    if i==3:\n",
    "        break\n",
    "    i+=1"
   ]
  },
  {
   "cell_type": "code",
   "execution_count": 4,
   "id": "7494ed5c-229b-41eb-adad-90bf6dad7c5a",
   "metadata": {},
   "outputs": [
    {
     "name": "stdin",
     "output_type": "stream",
     "text": [
      "Enter n: 10\n"
     ]
    },
    {
     "name": "stdout",
     "output_type": "stream",
     "text": [
      "The sum is  1\n",
      "The sum is  3\n",
      "The sum is  6\n",
      "The sum is  10\n",
      "The sum is  15\n",
      "The sum is  21\n",
      "The sum is  28\n",
      "The sum is  36\n",
      "The sum is  45\n",
      "The sum is  55\n"
     ]
    }
   ],
   "source": [
    "#print() stmt within for loop execute each time till exit from the loop\n",
    "n=int(input(\"Enter n:\"))\n",
    "sum=0\n",
    "i=1\n",
    "while i<=n:\n",
    "    sum=sum+i\n",
    "    i+=1\n",
    "    print(\"The sum is \",sum)"
   ]
  },
  {
   "cell_type": "code",
   "execution_count": 5,
   "id": "05f293b5-7fe5-4ed6-8423-883ade2abb01",
   "metadata": {},
   "outputs": [
    {
     "name": "stdin",
     "output_type": "stream",
     "text": [
      "Enter n: 10\n"
     ]
    },
    {
     "name": "stdout",
     "output_type": "stream",
     "text": [
      "The sum is  55\n"
     ]
    }
   ],
   "source": [
    "#print() stmt outside the while loop execute only the final stmt of the loop after the exit from the loop\n",
    "n=int(input(\"Enter n:\"))\n",
    "sum=0\n",
    "i=1\n",
    "while i<=n:\n",
    "    sum=sum+i\n",
    "    i+=1\n",
    "print(\"The sum is \",sum)"
   ]
  },
  {
   "cell_type": "code",
   "execution_count": 70,
   "id": "4a91d88b-190f-4828-afec-2fef7ca14eff",
   "metadata": {},
   "outputs": [
    {
     "name": "stdout",
     "output_type": "stream",
     "text": [
      "The sum is  55\n"
     ]
    }
   ],
   "source": [
    "n=10\n",
    "sum=0\n",
    "i=1\n",
    "while i<=n:\n",
    "    sum=sum+i\n",
    "    i+=1\n",
    "print(\"The sum is \",sum)"
   ]
  },
  {
   "cell_type": "code",
   "execution_count": 72,
   "id": "71154f39-9e46-4e8f-ae54-ef25e296b8cf",
   "metadata": {},
   "outputs": [
    {
     "name": "stdout",
     "output_type": "stream",
     "text": [
      "Inside loop\n",
      "Inside loop\n",
      "Inside loop\n",
      "Inside else\n"
     ]
    }
   ],
   "source": [
    "#while else loop\n",
    "c=0\n",
    "while c<3:\n",
    "    print(\"Inside loop\")\n",
    "    c+=1\n",
    "else:\n",
    "    print(\"Inside else\")\n",
    "    "
   ]
  },
  {
   "cell_type": "code",
   "execution_count": 8,
   "id": "e510b1fc-8d73-4579-a02e-ab635acadd31",
   "metadata": {},
   "outputs": [
    {
     "name": "stdout",
     "output_type": "stream",
     "text": [
      "Number: 1\n",
      "Number: 2\n",
      "Number: 3\n",
      "Number: 4\n",
      "Number: 5\n",
      "Number: 6\n",
      "Loop stopped at 6\n"
     ]
    }
   ],
   "source": [
    "# Stop loop with if + break\n",
    "num = 1\n",
    "\n",
    "while num <= 10:\n",
    "    print(\"Number:\", num)\n",
    "\n",
    "    if num == 6:   # stop when number reaches 6\n",
    "        print(\"Loop stopped at 6\")\n",
    "        break\n",
    "\n",
    "    num += 1\n"
   ]
  },
  {
   "cell_type": "code",
   "execution_count": 9,
   "id": "90bc4217-1839-4bb5-b6e0-3b9aa218d32c",
   "metadata": {},
   "outputs": [
    {
     "name": "stdout",
     "output_type": "stream",
     "text": [
      "1 is odd\n",
      "2 is even\n",
      "3 is odd\n",
      "4 is even\n",
      "5 is odd\n"
     ]
    }
   ],
   "source": [
    "#Print numbers and check odd/even\n",
    "count = 1\n",
    "\n",
    "while count <= 5:        # while loop condition\n",
    "    if count % 2 == 0:   # inner if condition\n",
    "        print(count, \"is even\")\n",
    "    else:\n",
    "        print(count, \"is odd\")\n",
    "    count += 1\n"
   ]
  },
  {
   "cell_type": "code",
   "execution_count": 1,
   "id": "2f394a36-987d-4d86-8929-6e05e3b0337c",
   "metadata": {},
   "outputs": [
    {
     "name": "stdout",
     "output_type": "stream",
     "text": [
      "apple\n",
      "banana\n",
      "cherry\n"
     ]
    }
   ],
   "source": [
    "#for loop in list\n",
    "\n",
    "fruits=[\"apple\",\"banana\",\"cherry\"]\n",
    "for i in fruits:\n",
    "    print(i)"
   ]
  },
  {
   "cell_type": "code",
   "execution_count": 9,
   "id": "159effca-f9ed-4a25-8d22-fa5aea7a776c",
   "metadata": {},
   "outputs": [
    {
     "name": "stdout",
     "output_type": "stream",
     "text": [
      "apple\n",
      "cherry\n"
     ]
    }
   ],
   "source": [
    "fruits=[\"apple\",\"banana\",\"cherry\"]\n",
    "for i in fruits:\n",
    "    if i==\"banana\":\n",
    "        continue\n",
    "    print(i)"
   ]
  },
  {
   "cell_type": "code",
   "execution_count": 6,
   "id": "be9525eb-bb1c-4bd1-8ed9-442f10eaefdf",
   "metadata": {},
   "outputs": [
    {
     "name": "stdout",
     "output_type": "stream",
     "text": [
      "cherry\n"
     ]
    }
   ],
   "source": [
    "#if print stmt is outside the loop it only diplay the values after the condition checked by the for loop and continue statement\n",
    "fruits=[\"apple\",\"banana\",\"cherry\"]\n",
    "for i in fruits:\n",
    "    if i==\"banana\":\n",
    "        continue\n",
    "\n",
    "print(i)"
   ]
  },
  {
   "cell_type": "code",
   "execution_count": 21,
   "id": "327a5458-ee50-45b4-9650-45738d4264c4",
   "metadata": {},
   "outputs": [
    {
     "name": "stdout",
     "output_type": "stream",
     "text": [
      "g\n",
      "e\n",
      "out of for loop\n",
      "\n"
     ]
    }
   ],
   "source": [
    "s=\"geeksforgeeks\"\n",
    "for letter in s:\n",
    "    print(letter)\n",
    "    if letter==\"e\" or letter==\"s\":\n",
    "        break\n",
    "\n",
    "print(\"out of for loop\")\n",
    "print()"
   ]
  },
  {
   "cell_type": "markdown",
   "id": "bdd1685b-8cf1-417f-b50b-f8d2eddd837c",
   "metadata": {},
   "source": [
    "### ✅ **Nested `for` Loop in Python:**\n",
    "\n",
    "A **nested `for` loop** is a loop **inside another loop**.\n",
    "It allows you to repeat a block of code **multiple times for each item** in another loop.\n",
    "\n",
    "---\n",
    "\n",
    "### 🔣 **Syntax:**\n",
    "\n",
    "```python\n",
    "for outer_variable in outer_sequence:\n",
    "    for inner_variable in inner_sequence:\n",
    "        # Code block to execute\n",
    "```\n",
    "\n",
    "---\n"
   ]
  },
  {
   "cell_type": "code",
   "execution_count": 29,
   "id": "4a43fce6-6bde-44e4-8613-1af9361da339",
   "metadata": {},
   "outputs": [
    {
     "name": "stdout",
     "output_type": "stream",
     "text": [
      "red apple\n",
      "red banana\n",
      "red cherry\n",
      "big apple\n",
      "big banana\n",
      "big cherry\n",
      "tasty apple\n",
      "tasty banana\n",
      "tasty cherry\n"
     ]
    }
   ],
   "source": [
    "# list using nested for loop\n",
    "\n",
    "adj=[\"red\",\"big\",\"tasty\"]\n",
    "fruits=[\"apple\",\"banana\",\"cherry\"]\n",
    "for i in adj:\n",
    "    for j in fruits:\n",
    "        print(i,j)"
   ]
  },
  {
   "cell_type": "markdown",
   "id": "cc447f71-bc36-4798-8085-0b41f37eff58",
   "metadata": {},
   "source": [
    "### ✅ **List Comprehension in Python**\n",
    "\n",
    "**List comprehension** is a **short and elegant way** to create a new list by performing an operation on each item in an existing list or iterable.\n",
    "\n",
    "---\n",
    "\n",
    "### 🔣 **Syntax:**\n",
    "\n",
    "```python\n",
    "new_list = [expression for item in iterable]\n",
    "```\n",
    "\n",
    "You can also add a condition:\n",
    "\n",
    "```python\n",
    "new_list = [expression for item in iterable if condition]\n",
    "```\n",
    "\n",
    "---"
   ]
  },
  {
   "cell_type": "code",
   "execution_count": 8,
   "id": "ee50868d-848b-432c-b07b-d8abdb84403a",
   "metadata": {},
   "outputs": [
    {
     "name": "stdout",
     "output_type": "stream",
     "text": [
      "[1, 4, 9, 16, 25]\n"
     ]
    }
   ],
   "source": [
    "#basic example\n",
    "nums = [1, 2, 3, 4, 5]\n",
    "squares = [x*x for x in nums]\n",
    "print(squares)"
   ]
  },
  {
   "cell_type": "code",
   "execution_count": 9,
   "id": "d4e58bc6-50fb-48f9-a74a-e888d18b2310",
   "metadata": {},
   "outputs": [
    {
     "name": "stdout",
     "output_type": "stream",
     "text": [
      "[2, 4]\n"
     ]
    }
   ],
   "source": [
    "#with a condition\n",
    "\n",
    "even_numbers = [x for x in nums if x % 2 == 0]\n",
    "print(even_numbers)"
   ]
  },
  {
   "cell_type": "code",
   "execution_count": 31,
   "id": "29ce7ba5-e05a-43b1-a23a-938d5daebc51",
   "metadata": {},
   "outputs": [
    {
     "name": "stdout",
     "output_type": "stream",
     "text": [
      "['apple', 'banana', 'mango']\n"
     ]
    }
   ],
   "source": [
    "#list comprehension\n",
    "\n",
    "#newlist = [expression for item in iterable if condition==True]\n",
    "\n",
    "fruits = [\"apple\",\"banana\",\"cherry\",\"kiwi\",\"mango\"]\n",
    "newlist = [x for x in fruits if \"a\" in x]\n",
    "print(newlist)"
   ]
  },
  {
   "cell_type": "code",
   "execution_count": 1,
   "id": "761be0a6-67f2-4101-ac1a-f61cdd0a83b7",
   "metadata": {},
   "outputs": [
    {
     "data": {
      "text/plain": [
       "range(0, 4)"
      ]
     },
     "execution_count": 1,
     "metadata": {},
     "output_type": "execute_result"
    }
   ],
   "source": [
    "range(4)"
   ]
  },
  {
   "cell_type": "code",
   "execution_count": 3,
   "id": "a4fec8bb-a77b-40a3-b3a0-c4e0a37384bb",
   "metadata": {},
   "outputs": [
    {
     "name": "stdout",
     "output_type": "stream",
     "text": [
      "apple\n",
      "orange\n",
      "kiwi\n",
      "pineapple\n"
     ]
    }
   ],
   "source": [
    "#looping through indexing\n",
    "\n",
    "fruits=(\"apple\",\"orange\",\"kiwi\",\"pineapple\")\n",
    "for i in range(len(fruits)):\n",
    "    print(fruits[i])\n",
    "\n"
   ]
  },
  {
   "cell_type": "code",
   "execution_count": 4,
   "id": "cfa0ee32-5927-4c7d-a4b9-68745c12f7f0",
   "metadata": {},
   "outputs": [
    {
     "name": "stdout",
     "output_type": "stream",
     "text": [
      "apple\n"
     ]
    }
   ],
   "source": [
    "print(fruits[0])"
   ]
  },
  {
   "cell_type": "code",
   "execution_count": 35,
   "id": "955efeaf-0677-4870-abb1-fc24eb061c03",
   "metadata": {},
   "outputs": [
    {
     "name": "stdout",
     "output_type": "stream",
     "text": [
      "[1, 4, 9, 16, 25]\n"
     ]
    }
   ],
   "source": [
    "squares=[x**2 for x in range(1,6)]\n",
    "print(squares)"
   ]
  },
  {
   "cell_type": "code",
   "execution_count": 45,
   "id": "e093228a-f141-43da-92b8-009b051d4fc4",
   "metadata": {},
   "outputs": [
    {
     "name": "stdout",
     "output_type": "stream",
     "text": [
      "[1, 8, 27, 64, 125, 216, 343, 512, 729, 1000]\n"
     ]
    }
   ],
   "source": [
    "cube=[x**3 for x in range(1,11)]\n",
    "print(cube)"
   ]
  },
  {
   "cell_type": "code",
   "execution_count": 101,
   "id": "ce20c548-bece-426d-8068-c471748b107d",
   "metadata": {},
   "outputs": [
    {
     "name": "stdout",
     "output_type": "stream",
     "text": [
      "1\n",
      "3\n",
      "5\n",
      "7\n",
      "9\n",
      "11\n",
      "13\n",
      "15\n",
      "17\n",
      "19\n",
      "21\n",
      "23\n",
      "25\n",
      "27\n",
      "29\n",
      "31\n",
      "33\n",
      "35\n",
      "37\n",
      "39\n",
      "41\n",
      "43\n",
      "45\n",
      "47\n",
      "49\n"
     ]
    }
   ],
   "source": [
    "l=[x for x in range(1,51)]\n",
    "for i in l:\n",
    "    if i%2!=0:\n",
    "        print(i)\n"
   ]
  },
  {
   "cell_type": "code",
   "execution_count": 7,
   "id": "873f5126-696b-4a8d-a9a2-63846c743f6b",
   "metadata": {},
   "outputs": [
    {
     "name": "stdin",
     "output_type": "stream",
     "text": [
      "Enter the string :  Jesus\n"
     ]
    },
    {
     "name": "stdout",
     "output_type": "stream",
     "text": [
      "e\n",
      "u\n"
     ]
    }
   ],
   "source": [
    "string=(input(\"Enter the string : \")).lower()\n",
    "consonants=[\"a\",\"e\",\"i\",\"o\",\"u\"]\n",
    "for i in range(len(string)):\n",
    "    for j in range(len(consonants)):\n",
    "        if consonants[j]==string[i]:\n",
    "            print(consonants[j])"
   ]
  },
  {
   "cell_type": "code",
   "execution_count": 11,
   "id": "f4d627b1-7aa1-4486-9ecb-0cdd0d50e6ba",
   "metadata": {},
   "outputs": [
    {
     "name": "stdin",
     "output_type": "stream",
     "text": [
      "Enter the number of words:  3\n",
      "Enter word 1:  God\n",
      "Enter word 2:  Is\n",
      "Enter word 3:  Love\n"
     ]
    },
    {
     "name": "stdout",
     "output_type": "stream",
     "text": [
      "\n",
      "Words in lowercase:\n",
      "god\n",
      "is\n",
      "love\n"
     ]
    }
   ],
   "source": [
    "n = int(input(\"Enter the number of words: \"))\n",
    "\n",
    "words = []\n",
    "for i in range(n):\n",
    "    word = input(f\"Enter word {i+1}: \")\n",
    "    words.append(word.lower())\n",
    "\n",
    "print(\"\\nWords in lowercase:\")\n",
    "for w in words:\n",
    "    print(w)\n"
   ]
  },
  {
   "cell_type": "code",
   "execution_count": 187,
   "id": "a327447b-5ef7-47cf-b882-8817e8ca4b45",
   "metadata": {},
   "outputs": [
    {
     "name": "stdout",
     "output_type": "stream",
     "text": [
      "5\n",
      "10\n",
      "15\n",
      "20\n",
      "25\n",
      "30\n",
      "35\n",
      "40\n",
      "45\n",
      "50\n",
      "55\n",
      "60\n",
      "65\n",
      "70\n",
      "75\n",
      "80\n",
      "85\n",
      "90\n",
      "95\n",
      "100\n"
     ]
    }
   ],
   "source": [
    "l=[x for x in range(1,101)]\n",
    "for i in l:\n",
    "    if i%5==0:\n",
    "        print(i)\n"
   ]
  },
  {
   "cell_type": "code",
   "execution_count": null,
   "id": "d01b5e09-8cad-4b73-a28e-29095d814a4a",
   "metadata": {},
   "outputs": [],
   "source": []
  }
 ],
 "metadata": {
  "kernelspec": {
   "display_name": "Python 3 (ipykernel)",
   "language": "python",
   "name": "python3"
  },
  "language_info": {
   "codemirror_mode": {
    "name": "ipython",
    "version": 3
   },
   "file_extension": ".py",
   "mimetype": "text/x-python",
   "name": "python",
   "nbconvert_exporter": "python",
   "pygments_lexer": "ipython3",
   "version": "3.13.5"
  }
 },
 "nbformat": 4,
 "nbformat_minor": 5
}
