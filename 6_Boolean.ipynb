{
 "cells": [
  {
   "cell_type": "raw",
   "id": "bd345838-a7f8-4a6f-b8ab-1c6150870d0d",
   "metadata": {},
   "source": [
    "Boolean Values\n",
    "\n",
    "● In programming you often need to know if an expression is True or False. \n",
    "● You can evaluate any expression in Python, and get one of two answers, \n",
    "True or False. \n",
    "● When you compare two values, the expression is evaluated and Python returns the Boolean answer:"
   ]
  },
  {
   "cell_type": "markdown",
   "id": "5de6c033-52e6-4085-bcc0-6e74566e75d2",
   "metadata": {},
   "source": [
    "Basic Boolean comparisons\n",
    "\n",
    "Comparison operators like ==, !=, >, <, >=, <= return Boolean values."
   ]
  },
  {
   "cell_type": "code",
   "execution_count": 1,
   "id": "38a3be40-b5bf-4390-a49e-c02929193f11",
   "metadata": {},
   "outputs": [
    {
     "name": "stdout",
     "output_type": "stream",
     "text": [
      "True\n"
     ]
    }
   ],
   "source": [
    "print(10>9)"
   ]
  },
  {
   "cell_type": "code",
   "execution_count": 2,
   "id": "02f90aa4-6346-429d-9ead-245815b03779",
   "metadata": {},
   "outputs": [
    {
     "name": "stdout",
     "output_type": "stream",
     "text": [
      "False\n"
     ]
    }
   ],
   "source": [
    "print(10==9)"
   ]
  },
  {
   "cell_type": "code",
   "execution_count": 3,
   "id": "73ec1e6b-c281-437a-9857-21f41742f40a",
   "metadata": {},
   "outputs": [
    {
     "name": "stdout",
     "output_type": "stream",
     "text": [
      "False\n"
     ]
    }
   ],
   "source": [
    "print(10<9)"
   ]
  },
  {
   "cell_type": "code",
   "execution_count": 1,
   "id": "2fa10f43-6cdf-4550-b122-5ffae8bd28b4",
   "metadata": {},
   "outputs": [
    {
     "name": "stdout",
     "output_type": "stream",
     "text": [
      "True\n"
     ]
    }
   ],
   "source": [
    "print(10>=9)"
   ]
  },
  {
   "cell_type": "code",
   "execution_count": 2,
   "id": "0ada8953-b25c-4872-9a2b-6573e25ad640",
   "metadata": {},
   "outputs": [
    {
     "name": "stdout",
     "output_type": "stream",
     "text": [
      "False\n"
     ]
    }
   ],
   "source": [
    "print(10<=9)"
   ]
  },
  {
   "cell_type": "code",
   "execution_count": 3,
   "id": "7c1f9147-4a1b-4b8d-9edd-4858dd6db4b7",
   "metadata": {},
   "outputs": [
    {
     "name": "stdout",
     "output_type": "stream",
     "text": [
      "True\n"
     ]
    }
   ],
   "source": [
    "print(10!=9)"
   ]
  },
  {
   "cell_type": "raw",
   "id": "16e9a64a-7a70-43ac-a749-693ab17df4be",
   "metadata": {},
   "source": [
    "Testing the Boolean function (bool())\n",
    "\n",
    "bool() function evaluates whether a value is \"true\" or \"false\".\n",
    "\n",
    "Python considers the following as False: False, None, 0, \"\", [], {}, ()\n",
    "\n",
    "Everything else is True."
   ]
  },
  {
   "cell_type": "code",
   "execution_count": 8,
   "id": "4ac300ad-3779-4242-b8eb-6de673977758",
   "metadata": {},
   "outputs": [
    {
     "name": "stdout",
     "output_type": "stream",
     "text": [
      "True\n"
     ]
    }
   ],
   "source": [
    "# nom-zero number\n",
    "print(bool(3))"
   ]
  },
  {
   "cell_type": "code",
   "execution_count": 9,
   "id": "1f0bcaec-d564-4a8b-9ea7-57ea5018018e",
   "metadata": {},
   "outputs": [
    {
     "name": "stdout",
     "output_type": "stream",
     "text": [
      "True\n"
     ]
    }
   ],
   "source": [
    "# non-empty string\n",
    "print(bool(\"hello\"))"
   ]
  },
  {
   "cell_type": "code",
   "execution_count": 10,
   "id": "5f67af97-3c6c-4638-8c49-60328593dd46",
   "metadata": {},
   "outputs": [
    {
     "name": "stdout",
     "output_type": "stream",
     "text": [
      "True\n"
     ]
    }
   ],
   "source": [
    "#non-empty list\n",
    "print(bool(['insta','whatsapp','facebook']))"
   ]
  },
  {
   "cell_type": "code",
   "execution_count": 11,
   "id": "fd7077cf-99ad-4566-8cc6-b0a558965a63",
   "metadata": {},
   "outputs": [
    {
     "name": "stdout",
     "output_type": "stream",
     "text": [
      "False\n"
     ]
    }
   ],
   "source": [
    "print(bool(False))"
   ]
  },
  {
   "cell_type": "code",
   "execution_count": 12,
   "id": "3b8f2b66-72f2-46f8-befd-4aa5f3fa837d",
   "metadata": {},
   "outputs": [
    {
     "name": "stdout",
     "output_type": "stream",
     "text": [
      "True\n"
     ]
    }
   ],
   "source": [
    "print(bool(True))"
   ]
  },
  {
   "cell_type": "code",
   "execution_count": 13,
   "id": "c5cc9e9a-0f5b-4f85-a9b3-ab654b519d2d",
   "metadata": {},
   "outputs": [
    {
     "name": "stdout",
     "output_type": "stream",
     "text": [
      "False\n"
     ]
    }
   ],
   "source": [
    "print(bool(None))"
   ]
  },
  {
   "cell_type": "code",
   "execution_count": 14,
   "id": "148ec1a0-86f6-43cd-b2a0-23d35f71c483",
   "metadata": {},
   "outputs": [
    {
     "name": "stdout",
     "output_type": "stream",
     "text": [
      "False\n"
     ]
    }
   ],
   "source": [
    "print(bool(0))  "
   ]
  },
  {
   "cell_type": "code",
   "execution_count": 15,
   "id": "1e656bf2-a0ae-462d-8967-d57434611734",
   "metadata": {},
   "outputs": [
    {
     "name": "stdout",
     "output_type": "stream",
     "text": [
      "False\n"
     ]
    }
   ],
   "source": [
    "#empty dictionary\n",
    "print(bool({}))   "
   ]
  },
  {
   "cell_type": "code",
   "execution_count": 16,
   "id": "56350a9d-6285-49e6-abc3-7bca2601bba7",
   "metadata": {},
   "outputs": [
    {
     "name": "stdout",
     "output_type": "stream",
     "text": [
      "False\n"
     ]
    }
   ],
   "source": [
    "#empty tuple\n",
    "print(bool(()))  "
   ]
  },
  {
   "cell_type": "raw",
   "id": "af49fae2-19cc-445e-b186-96a5e2ca170a",
   "metadata": {},
   "source": [
    "Boolean Exercise\n",
    "\n",
    "1) 10 == 10\n",
    "\n",
    "2) 15 < 7\n",
    "\n",
    "3) bool(\"\")\n",
    "\n",
    "4) bool([0])\n",
    "\n",
    "5) bool(0.0)\n",
    "\n",
    "6) bool(\"False\")\n",
    "\n",
    "7) [] == False\n",
    "\n",
    "8) None == False\n",
    "\n",
    "9) bool(None)\n",
    "\n",
    "10) not (5 > 3)"
   ]
  },
  {
   "cell_type": "raw",
   "id": "2eda0a9e-2e70-4f74-9d49-d9a6f4f1ba04",
   "metadata": {},
   "source": [
    "Answer Boolean exercise\n",
    "print(10 == 10)        # True\n",
    "print(15 < 7)          # False\n",
    "print(bool(\"\"))        # False\n",
    "print(bool([0]))       # True\n",
    "print(bool(0.0))       # False\n",
    "print(bool(\"False\"))   # True\n",
    "print([] == False)     # False\n",
    "print(None == False)   # False\n",
    "print(bool(None))      # False\n",
    "print(not (5 > 3))     # False"
   ]
  }
 ],
 "metadata": {
  "kernelspec": {
   "display_name": "Python 3 (ipykernel)",
   "language": "python",
   "name": "python3"
  },
  "language_info": {
   "codemirror_mode": {
    "name": "ipython",
    "version": 3
   },
   "file_extension": ".py",
   "mimetype": "text/x-python",
   "name": "python",
   "nbconvert_exporter": "python",
   "pygments_lexer": "ipython3",
   "version": "3.13.5"
  }
 },
 "nbformat": 4,
 "nbformat_minor": 5
}
