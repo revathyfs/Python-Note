{
 "cells": [
  {
   "cell_type": "markdown",
   "id": "ecaee1f5-6597-4d14-a910-c96b09055bbf",
   "metadata": {},
   "source": [
    "\n",
    "### 1. **Introduction to Python**\n",
    "\n",
    "* High-level, interpreted, general-purpose language.\n",
    "* Easy syntax (similar to English).\n",
    "* Used in web development, data science, AI/ML, automation, etc.\n",
    "\n",
    "---\n",
    "\n",
    "### 2. **Basic Syntax**\n",
    "\n",
    "* **Comments**: `# single line` , `''' multi-line '''`\n",
    "* **Print statement**:\n",
    "\n",
    "  ```python\n",
    "  print(\"Hello, World!\")\n",
    "  ```\n",
    "\n",
    "**user input in Python**.\n",
    "\n",
    "---\n",
    "\n",
    "## 🔹 `input()` function\n",
    "\n",
    "In Python, we take user input using the **`input()`** function.\n",
    "\n",
    "* It always returns data as a **string**.\n",
    "* If you need numbers (int/float), you must **convert** them.\n",
    "\n",
    "---\n",
    "\n",
    "## 🔹 Basic Example\n",
    "\n",
    "```python\n",
    "name = input(\"Enter your name: \")\n",
    "print(\"Hello,\", name)\n",
    "```\n",
    "\n",
    "👉 If you type **Revathy**, the output will be:\n",
    "\n",
    "```\n",
    "Enter your name: Revathy\n",
    "Hello, Revathy\n",
    "```\n",
    "\n",
    "---\n",
    "\n",
    "## 🔹 Taking Numbers as Input\n",
    "\n",
    "Since `input()` returns **string**, we convert it:\n",
    "\n",
    "```python\n",
    "age = int(input(\"Enter your age: \"))   # convert to integer\n",
    "print(\"You are\", age, \"years old.\")\n",
    "```\n",
    "\n",
    "👉 If you enter `25`, it prints:\n",
    "\n",
    "```\n",
    "You are 25 years old.\n",
    "```\n",
    "\n",
    "For decimal numbers:\n",
    "\n",
    "```python\n",
    "price = float(input(\"Enter the price: \"))\n",
    "print(\"Price with tax:\", price * 1.18)\n",
    "```\n",
    "\n",
    "---\n",
    "\n",
    "## 🔹 Multiple Inputs in One Line\n",
    "\n",
    "```python\n",
    "a, b = input(\"Enter two numbers separated by space: \").split()\n",
    "a = int(a)\n",
    "b = int(b)\n",
    "print(\"Sum =\", a + b)\n",
    "```\n",
    "\n",
    "👉 If you enter:\n",
    "\n",
    "```\n",
    "10 20\n",
    "```\n",
    "\n",
    "Output:\n",
    "\n",
    "```\n",
    "Sum = 30\n",
    "```\n",
    "\n",
    "---\n",
    "\n",
    "## 🔹 Example with Conditional Operators + User Input\n",
    "\n",
    "```python\n",
    "marks = int(input(\"Enter your marks: \"))\n",
    "\n",
    "if marks >= 90:\n",
    "    print(\"Grade A\")\n",
    "elif marks >= 75:\n",
    "    print(\"Grade B\")\n",
    "else:\n",
    "    print(\"Grade C\")\n",
    "```\n",
    "\n",
    "---\n",
    "\n",
    "✅ **Summary**:\n",
    "\n",
    "* `input()` → always string.\n",
    "* Use `int()` / `float()` to convert numbers.\n",
    "* `split()` helps take multiple inputs.\n",
    "* Often used with conditional statements (`if-else`).\n",
    "\n",
    "\n",
    "---\n",
    "\n",
    "### 3. **Data Types**\n",
    "\n",
    "* **Numbers** → `int`, `float`, `complex`\n",
    "* **String** → `\"Hello\"`\n",
    "* **Boolean** → `True`, `False`\n",
    "* **Collections**:\n",
    "\n",
    "  * `list` → `[1, 2, 3]`\n",
    "  * `tuple` → `(1, 2, 3)`\n",
    "  * `set` → `{1, 2, 3}`\n",
    "  * `dict` → `{\"name\": \"Revathy\", \"age\": 25}`\n",
    "  * 👉 Each of these is called a collection because it collects multiple elements into one container.\n",
    "\n",
    "\n",
    "---\n",
    "---\n",
    "\n",
    "# 🐍 Why **Collections in Data Types** are also called **Data Structures** in Python\n",
    "\n",
    "### 🔹 1. What is a **Data Type**?\n",
    "\n",
    "A **data type** defines **what kind of data** a variable can hold.\n",
    "\n",
    "* Example: `int`, `float`, `str` → hold **one value at a time**.\n",
    "\n",
    "---\n",
    "\n",
    "### 🔹 2. What is a **Data Structure**?\n",
    "\n",
    "A **data structure** is a way of **organizing multiple values together** in memory for efficient access and manipulation.\n",
    "\n",
    "* Example: `list`, `tuple`, `set`, `dict`.\n",
    "\n",
    "---\n",
    "\n",
    "### 🔹 3. Why are Python Collections Called Both?\n",
    "\n",
    "In **Python**, collections like `list`, `tuple`, `set`, and `dict` are:\n",
    "\n",
    "* **Data Types** → because they are built-in types you can assign to a variable.\n",
    "* **Data Structures** → because they store and organize **multiple values together**.\n",
    "\n",
    "So they live in **both categories**.\n",
    "\n",
    "👉 Example:\n",
    "\n",
    "```python\n",
    "x = [1, 2, 3]\n",
    "print(type(x))   # <class 'list'>\n",
    "```\n",
    "\n",
    "Here:\n",
    "\n",
    "* `list` is a **data type** (Python sees it as a class).\n",
    "* But logically, `list` is also a **data structure** (because it organizes elements in order, allows indexing, etc.).\n",
    "\n",
    "---\n",
    "\n",
    "### 🔹 4. Analogy\n",
    "\n",
    "* **Data Types (single value)** = individual building blocks (like a *brick*).\n",
    "* **Collections / Data Structures (multi-value)** = ways of arranging many bricks into something useful (like a *wall or house*).\n",
    "\n",
    "So in Python:\n",
    "\n",
    "* `int`, `float`, `str`, `bool` → **simple data types**\n",
    "* `list`, `tuple`, `set`, `dict` → **collection data types**, but also **data structures** (because they structure multiple items).\n",
    "\n",
    "---\n",
    "\n",
    "### ✅ Final Summary\n",
    "\n",
    "* **All collections are data structures** because they organize multiple values.\n",
    "* In **Python**, they are also considered **data types**, because everything is an object (and each collection is a class).\n",
    "\n",
    "That’s why `list`, `tuple`, `set`, `dict` are referred to as both **collection data types** and **data structures**.\n",
    "\n",
    "\n",
    "---\n",
    "---\n",
    "\n",
    "### 4. **Variables**\n",
    "\n",
    "* No need to declare type explicitly.\n",
    "\n",
    "  ```python\n",
    "  x = 10\n",
    "  y = \"Python\"\n",
    "  ```\n",
    "\n",
    "---\n",
    "\n",
    "### 5. **Operators**\n",
    "\n",
    "* Arithmetic → `+ - * / % // **`\n",
    "* Comparison → `== != > < >= <=`\n",
    "* Logical → `and or not`\n",
    "* Assignment → `= += -= *=`\n",
    "\n",
    "| Operator | Example   | Equivalent To | Meaning                             |         |     |                       |\n",
    "| -------- | --------- | ------------- | ----------------------------------- | ------- | --- | --------------------- |\n",
    "| `=`      | `x = 5`   | —             | Assigns value 5 to `x`              |         |     |                       |\n",
    "| `+=`     | `x += 3`  | `x = x + 3`   | Add and assign                      |         |     |                       |\n",
    "| `-=`     | `x -= 2`  | `x = x - 2`   | Subtract and assign                 |         |     |                       |\n",
    "| `*=`     | `x *= 4`  | `x = x * 4`   | Multiply and assign                 |         |     |                       |\n",
    "| `/=`     | `x /= 2`  | `x = x / 2`   | Divide and assign (result is float) |         |     |                       |\n",
    "| `//=`    | `x //= 2` | `x = x // 2`  | Floor divide and assign             |         |     |                       |\n",
    "| `%=`     | `x %= 3`  | `x = x % 3`   | Modulus and assign (remainder)      |         |     |                       |\n",
    "| `**=`    | `x **= 2` | `x = x ** 2`  | Exponent (power) and assign         |         |     |                       |\n",
    "| `&=`     | `x &= y`  | `x = x & y`   | Bitwise AND and assign              |         |     |                       |\n",
    "| \\`       | =\\`       | \\`x           | = y\\`                               | \\`x = x | y\\` | Bitwise OR and assign |\n",
    "| `^=`     | `x ^= y`  | `x = x ^ y`   | Bitwise XOR and assign              |         |     |                       |\n",
    "| `>>=`    | `x >>= 2` | `x = x >> 2`  | Right shift and assign              |         |     |                       |\n",
    "| `<<=`    | `x <<= 2` | `x = x << 2`  | Left shift and assign               |         |     |                       |\n",
    "\n",
    "\n",
    "---\n",
    "\n",
    "### 6. **Control Flow**\n",
    "\n",
    "* **If-else**\n",
    "\n",
    "  ```python\n",
    "  age = 18\n",
    "  if age >= 18:\n",
    "      print(\"Adult\")\n",
    "  else:\n",
    "      print(\"Minor\")\n",
    "  ```\n",
    "* **Loops**\n",
    "\n",
    "  ```python\n",
    "  for i in range(5):\n",
    "      print(i)\n",
    "\n",
    "  while x < 5:\n",
    "      print(x)\n",
    "      x += 1\n",
    "  ```\n",
    "\n",
    "---\n",
    "\n",
    "### 7. **Functions**\n",
    "\n",
    "```python\n",
    "def greet(name):\n",
    "    return \"Hello \" + name\n",
    "\n",
    "print(greet(\"Revathy\"))\n",
    "```\n",
    "\n",
    "---\n",
    "\n",
    "### 8. **Modules & Libraries**\n",
    "\n",
    "* Import built-in or external modules:\n",
    "\n",
    "  ```python\n",
    "  import math\n",
    "  print(math.sqrt(16))\n",
    "  ```\n",
    "\n",
    "---\n",
    "\n",
    "### 9. **File Handling**\n",
    "\n",
    "```python\n",
    "with open(\"data.txt\", \"w\") as f:\n",
    "    f.write(\"Hello Python\")\n",
    "\n",
    "with open(\"data.txt\", \"r\") as f:\n",
    "    print(f.read())\n",
    "```\n",
    "\n",
    "---\n",
    "\n",
    "### 10. **Error Handling**\n",
    "\n",
    "```python\n",
    "try:\n",
    "    num = int(\"abc\")\n",
    "except ValueError:\n",
    "    print(\"Invalid number\")\n",
    "finally:\n",
    "    print(\"Done\")\n",
    "```\n",
    "\n",
    "---"
   ]
  },
  {
   "cell_type": "code",
   "execution_count": 17,
   "id": "4a8ba094-7651-4ab1-9649-e441ee1ad366",
   "metadata": {},
   "outputs": [
    {
     "name": "stdout",
     "output_type": "stream",
     "text": [
      "hello\n"
     ]
    }
   ],
   "source": [
    "print (\"hello\")"
   ]
  },
  {
   "cell_type": "code",
   "execution_count": 18,
   "id": "0aedc853-d4e3-4957-a940-1bb8332358db",
   "metadata": {},
   "outputs": [
    {
     "name": "stdout",
     "output_type": "stream",
     "text": [
      "5\n"
     ]
    }
   ],
   "source": [
    "x=5\n",
    "print(x)"
   ]
  },
  {
   "cell_type": "code",
   "execution_count": 19,
   "id": "f08c5e8f-6927-4ecc-abd9-bf3c941275d2",
   "metadata": {},
   "outputs": [
    {
     "name": "stdout",
     "output_type": "stream",
     "text": [
      "Hello\n"
     ]
    }
   ],
   "source": [
    "z=\"Hello\"\n",
    "print(z)"
   ]
  },
  {
   "cell_type": "code",
   "execution_count": 20,
   "id": "483453a6-f52e-459c-aa28-f11e6f8dc203",
   "metadata": {},
   "outputs": [
    {
     "name": "stdin",
     "output_type": "stream",
     "text": [
      "Enter your name:  Revathy\n"
     ]
    },
    {
     "name": "stdout",
     "output_type": "stream",
     "text": [
      "Revathy\n",
      "The name is Revathy\n"
     ]
    }
   ],
   "source": [
    "z=input(\"Enter your name: \")\n",
    "print(z)\n",
    "print(f\"The name is {z}\")"
   ]
  },
  {
   "cell_type": "code",
   "execution_count": 5,
   "id": "72e53001-eb2e-4ca2-9bd8-a8e71f0615ae",
   "metadata": {},
   "outputs": [
    {
     "name": "stdin",
     "output_type": "stream",
     "text": [
      "Enter the value :  12\n"
     ]
    },
    {
     "name": "stdout",
     "output_type": "stream",
     "text": [
      "12\n"
     ]
    }
   ],
   "source": [
    "z=int(input(\"Enter the value : \"))\n",
    "print(z)"
   ]
  },
  {
   "cell_type": "code",
   "execution_count": 6,
   "id": "c902255f-98fa-489c-8f4b-632291a4029f",
   "metadata": {},
   "outputs": [
    {
     "name": "stdin",
     "output_type": "stream",
     "text": [
      "Enter the value :  12\n"
     ]
    },
    {
     "name": "stdout",
     "output_type": "stream",
     "text": [
      "12.0\n"
     ]
    }
   ],
   "source": [
    "z=float(input(\"Enter the value : \"))\n",
    "print(z)"
   ]
  },
  {
   "cell_type": "code",
   "execution_count": 12,
   "id": "0b06c9dd-7d6e-4dcc-a18e-b5d992d59890",
   "metadata": {},
   "outputs": [
    {
     "name": "stdin",
     "output_type": "stream",
     "text": [
      "Enter two numbers separated by space:  11 12\n"
     ]
    },
    {
     "name": "stdout",
     "output_type": "stream",
     "text": [
      "11 12\n",
      "Sum = 23\n"
     ]
    }
   ],
   "source": [
    "a, b = input(\"Enter two numbers separated by space: \").split()\n",
    "a = int(a)\n",
    "b = int(b)\n",
    "print(a,b)\n",
    "print(\"Sum =\", a + b)"
   ]
  },
  {
   "cell_type": "code",
   "execution_count": 1,
   "id": "fdc4994c-c357-4a1f-b150-082425fd6529",
   "metadata": {},
   "outputs": [],
   "source": [
    "a=12\n",
    "b=13"
   ]
  },
  {
   "cell_type": "code",
   "execution_count": 2,
   "id": "01c24681-93eb-46ba-af5a-68ba81343e10",
   "metadata": {},
   "outputs": [
    {
     "name": "stdout",
     "output_type": "stream",
     "text": [
      "The numbers are  12 , 13\n"
     ]
    }
   ],
   "source": [
    "print(\"The numbers are \",a,\",\",b)"
   ]
  },
  {
   "cell_type": "code",
   "execution_count": 3,
   "id": "a41a5192-337f-410c-85f5-7fbd32096393",
   "metadata": {},
   "outputs": [
    {
     "name": "stdout",
     "output_type": "stream",
     "text": [
      "the numbers are 12,13\n"
     ]
    }
   ],
   "source": [
    "print(f\"the numbers are {a},{b}\")"
   ]
  },
  {
   "cell_type": "markdown",
   "id": "959aa0e9-69fa-425f-bcd1-12faeb2e7afe",
   "metadata": {},
   "source": [
    "# Data Types \n",
    "\n",
    "- number -> int, float, complex\n",
    "- string ->str\n",
    "- boolean -> true, false"
   ]
  },
  {
   "cell_type": "code",
   "execution_count": 40,
   "id": "65d7aa5c-fe9b-45f9-9845-008b1ab68e32",
   "metadata": {},
   "outputs": [],
   "source": [
    "# numbers \n",
    "\n",
    "z=5"
   ]
  },
  {
   "cell_type": "code",
   "execution_count": 41,
   "id": "86dbff8e-e9bf-446f-ab20-d4ab747a9491",
   "metadata": {},
   "outputs": [
    {
     "data": {
      "text/plain": [
       "int"
      ]
     },
     "execution_count": 41,
     "metadata": {},
     "output_type": "execute_result"
    }
   ],
   "source": [
    "type(z)  # used to find the datatype of data given"
   ]
  },
  {
   "cell_type": "code",
   "execution_count": 42,
   "id": "8fe9e5cf-dc0d-42cb-9242-3e8f70b1f7b6",
   "metadata": {},
   "outputs": [
    {
     "data": {
      "text/plain": [
       "float"
      ]
     },
     "execution_count": 42,
     "metadata": {},
     "output_type": "execute_result"
    }
   ],
   "source": [
    "x=3.2\n",
    "type(x)"
   ]
  },
  {
   "cell_type": "code",
   "execution_count": 43,
   "id": "c6edab6f-f397-46be-8f7a-261864c7bf85",
   "metadata": {},
   "outputs": [
    {
     "data": {
      "text/plain": [
       "complex"
      ]
     },
     "execution_count": 43,
     "metadata": {},
     "output_type": "execute_result"
    }
   ],
   "source": [
    "x=5+1j\n",
    "type(x)"
   ]
  },
  {
   "cell_type": "code",
   "execution_count": 44,
   "id": "b8612e25-6100-4423-818e-a6508f3ede0b",
   "metadata": {},
   "outputs": [
    {
     "name": "stdout",
     "output_type": "stream",
     "text": [
      "<class 'int'>\n"
     ]
    }
   ],
   "source": [
    "x=18\n",
    "print(type(x))"
   ]
  },
  {
   "cell_type": "code",
   "execution_count": 45,
   "id": "09f7526c-a009-4629-9262-e2a9fb589ea4",
   "metadata": {},
   "outputs": [
    {
     "name": "stdout",
     "output_type": "stream",
     "text": [
      "<class 'complex'>\n"
     ]
    }
   ],
   "source": [
    "i=2+3j\n",
    "print(type(i))"
   ]
  },
  {
   "cell_type": "code",
   "execution_count": 46,
   "id": "182f764d-e00d-4ce9-9c1e-031df1a5d960",
   "metadata": {},
   "outputs": [
    {
     "data": {
      "text/plain": [
       "str"
      ]
     },
     "execution_count": 46,
     "metadata": {},
     "output_type": "execute_result"
    }
   ],
   "source": [
    "# string\n",
    "\n",
    "x=\"Hello\"\n",
    "type(x)"
   ]
  },
  {
   "cell_type": "markdown",
   "id": "31161d74-4015-4565-babd-d2b1d97b6c74",
   "metadata": {},
   "source": [
    "In **Python**, `bool()` is a **built-in function** that converts a value into its **Boolean equivalent** — either `True` or `False`.\n",
    "\n",
    "---\n",
    "\n",
    "### ✅ Why do we use `bool()`?\n",
    "\n",
    "We use `bool()` when we want to explicitly check or represent whether something is **logically true** or **false**.\n",
    "It is useful for:\n",
    "\n",
    "1. **Type conversion** (casting values to Boolean).\n",
    "2. **Condition checking** (e.g., in `if` statements).\n",
    "3. **Cleaning or validating data** (turning inputs into a strict `True/False` form).\n",
    "\n",
    "---\n",
    "\n",
    "### 🔑 Conversion Rules of `bool()`\n",
    "\n",
    "In Python, values are interpreted as either **truthy** or **falsy**:\n",
    "\n",
    "* **Falsy values** (evaluate to `False`):\n",
    "\n",
    "  * `0` (zero of any numeric type: `0, 0.0, 0j`)\n",
    "  * `None`\n",
    "  * `False`\n",
    "  * Empty sequences/collections (`\"\"`, `[]`, `{}`, `set()`, `()`)\n",
    "  * Objects that implement `__bool__()` or `__len__()` returning `False` or `0`\n",
    "\n",
    "* **Truthy values** (evaluate to `True`):\n",
    "\n",
    "  * Any non-zero number (`1, -5, 3.14`)\n",
    "  * Any non-empty string (`\"hello\"`)\n",
    "  * Any non-empty list, tuple, set, dict, etc.\n",
    "\n",
    "---\n",
    "\n",
    "### 🐍 Examples"
   ]
  },
  {
   "cell_type": "code",
   "execution_count": 47,
   "id": "e7c94d4c-1f3f-4759-b86b-7f1c20313652",
   "metadata": {},
   "outputs": [
    {
     "data": {
      "text/plain": [
       "bool"
      ]
     },
     "execution_count": 47,
     "metadata": {},
     "output_type": "execute_result"
    }
   ],
   "source": [
    "# boolean\n",
    "\n",
    "z=True\n",
    "type(z)"
   ]
  },
  {
   "cell_type": "markdown",
   "id": "978e693c-a5a8-4c7c-bff0-3c51093df058",
   "metadata": {},
   "source": [
    "\n",
    "# 🔹 What is `bool()`?\n",
    "\n",
    "* `bool()` is a **built-in function** in Python.\n",
    "* It converts a value into its **Boolean equivalent** → either `True` or `False`.\n",
    "* The result follows Python’s **truthy / falsy rules**.\n",
    "\n",
    "---\n",
    "\n",
    "# 🔹 Truthy vs Falsy Values\n",
    "\n",
    "### ✅ Falsy values (become `False`):\n",
    "\n",
    "* `0` (zero: int, float, complex → `0, 0.0, 0j`)\n",
    "* `None`\n",
    "* `False`\n",
    "* Empty collections → `\"\"`, `[]`, `{}`, `()`, `set()`\n",
    "* Objects that define `__bool__()` or `__len__()` returning `False` or `0`\n",
    "\n",
    "### ✅ Truthy values (become `True`):\n",
    "\n",
    "* Any non-zero number → `1, -3, 2.5`\n",
    "* Any non-empty string → `\"hello\"`\n",
    "* Any non-empty collection → `[1, 2]`, `{\"a\": 1}`, `(5,)`\n",
    "* Custom objects with `__bool__()` or `__len__()` returning non-zero / True\n",
    "\n",
    "---"
   ]
  },
  {
   "cell_type": "code",
   "execution_count": 176,
   "id": "3eb5b72b-92a1-4c48-b60a-3a2d2b858f2f",
   "metadata": {},
   "outputs": [
    {
     "name": "stdout",
     "output_type": "stream",
     "text": [
      "False\n"
     ]
    }
   ],
   "source": [
    "print(bool(0)) "
   ]
  },
  {
   "cell_type": "code",
   "execution_count": 177,
   "id": "c7418c52-575f-4f26-b3c1-91fd76d0f79c",
   "metadata": {},
   "outputs": [
    {
     "name": "stdout",
     "output_type": "stream",
     "text": [
      "True\n"
     ]
    }
   ],
   "source": [
    "print(bool(1)) "
   ]
  },
  {
   "cell_type": "code",
   "execution_count": 178,
   "id": "c50b32e3-891f-4cca-a5b6-286f14a30d9f",
   "metadata": {},
   "outputs": [
    {
     "name": "stdout",
     "output_type": "stream",
     "text": [
      "True\n"
     ]
    }
   ],
   "source": [
    "print(bool(-5)) "
   ]
  },
  {
   "cell_type": "code",
   "execution_count": 179,
   "id": "35de3931-0305-45fc-aabb-cb745a950c9f",
   "metadata": {},
   "outputs": [
    {
     "name": "stdout",
     "output_type": "stream",
     "text": [
      "False\n"
     ]
    }
   ],
   "source": [
    "print(bool(\"\"))"
   ]
  },
  {
   "cell_type": "code",
   "execution_count": 180,
   "id": "1b83d7c3-ded1-4a47-b606-338274c0df9d",
   "metadata": {},
   "outputs": [
    {
     "name": "stdout",
     "output_type": "stream",
     "text": [
      "True\n"
     ]
    }
   ],
   "source": [
    "print(bool(\"Python\"))"
   ]
  },
  {
   "cell_type": "code",
   "execution_count": 181,
   "id": "020f8986-e3ee-440b-a066-7c71389634ad",
   "metadata": {},
   "outputs": [
    {
     "name": "stdout",
     "output_type": "stream",
     "text": [
      "False\n"
     ]
    }
   ],
   "source": [
    "print(bool([]))   "
   ]
  },
  {
   "cell_type": "code",
   "execution_count": 182,
   "id": "bb4d5f62-0c5c-4c73-91fe-5e8a46c2eeb1",
   "metadata": {},
   "outputs": [
    {
     "name": "stdout",
     "output_type": "stream",
     "text": [
      "True\n"
     ]
    }
   ],
   "source": [
    "print(bool([0]))  "
   ]
  },
  {
   "cell_type": "code",
   "execution_count": 183,
   "id": "bd73fbc6-2ea7-4bf4-b6c5-fed37f25176d",
   "metadata": {},
   "outputs": [
    {
     "name": "stdout",
     "output_type": "stream",
     "text": [
      "False\n"
     ]
    }
   ],
   "source": [
    "print(bool(None))"
   ]
  },
  {
   "cell_type": "markdown",
   "id": "325c4cf5-10d6-479c-964b-2367df6ed388",
   "metadata": {},
   "source": [
    "### ⚡ Where is `bool()` useful?\n",
    "\n",
    "* **Input validation**\n"
   ]
  },
  {
   "cell_type": "code",
   "execution_count": 22,
   "id": "9c9ab5ca-dec0-4634-9dc0-644fc9b0c98f",
   "metadata": {},
   "outputs": [
    {
     "name": "stdout",
     "output_type": "stream",
     "text": [
      "You entered something!\n"
     ]
    }
   ],
   "source": [
    "user_input = \"hello\"\n",
    "if bool(user_input):   # same as if user_input:\n",
    "    print(\"You entered something!\")\n",
    "else:\n",
    "    print(\"You entered nothing.\")\n"
   ]
  },
  {
   "cell_type": "markdown",
   "id": "2aa9f929-29c1-4668-8dfd-a3e504bea038",
   "metadata": {},
   "source": [
    "* **Converting numeric results into strict True/False**"
   ]
  },
  {
   "cell_type": "code",
   "execution_count": 24,
   "id": "acaf5e99-36bf-4c0b-a370-c0d24ae6bcbf",
   "metadata": {},
   "outputs": [
    {
     "name": "stdout",
     "output_type": "stream",
     "text": [
      "True\n"
     ]
    }
   ],
   "source": [
    "x = 25\n",
    "is_positive = bool(x > 0)\n",
    "print(is_positive)  # True\n"
   ]
  },
  {
   "cell_type": "markdown",
   "id": "d3069a91-ab83-45b4-97f0-bbc2ef384989",
   "metadata": {},
   "source": [
    "* **Data cleaning**\n"
   ]
  },
  {
   "cell_type": "code",
   "execution_count": 25,
   "id": "69b49679-677f-491c-9759-4f62acb38bbe",
   "metadata": {},
   "outputs": [
    {
     "name": "stdout",
     "output_type": "stream",
     "text": [
      "[True, False, True, False]\n"
     ]
    }
   ],
   "source": [
    "values = [\"yes\", \"\", \"no\", \" \"]\n",
    "flags = [bool(v.strip()) for v in values]\n",
    "print(flags)  # [True, False, True, False]\n"
   ]
  },
  {
   "cell_type": "markdown",
   "id": "f3484ddf-acbe-4e27-bf21-742d14ac9462",
   "metadata": {},
   "source": [
    "👉 In short:\n",
    "We use `bool()` when we want to **explicitly turn any Python object into a Boolean value (`True` or `False`)**, instead of relying on implicit truthiness.\n",
    "\n",
    "Do you want me to also explain **the difference between using `if x:` vs `if bool(x):`**? That’s a common beginner confusion.\n"
   ]
  },
  {
   "cell_type": "code",
   "execution_count": 36,
   "id": "e9fb90a6-1eef-46c9-bdb9-22168c8e8ae4",
   "metadata": {},
   "outputs": [
    {
     "name": "stdout",
     "output_type": "stream",
     "text": [
      "True\n"
     ]
    }
   ],
   "source": [
    "print(bool(3))"
   ]
  },
  {
   "cell_type": "code",
   "execution_count": 37,
   "id": "bd1fbf1b-4318-4b27-95d7-d0aacebe8e87",
   "metadata": {},
   "outputs": [
    {
     "name": "stdout",
     "output_type": "stream",
     "text": [
      "False\n"
     ]
    }
   ],
   "source": [
    "print(bool())"
   ]
  },
  {
   "cell_type": "code",
   "execution_count": 38,
   "id": "0f10bb1c-4211-432e-81bf-9f501fe1e69e",
   "metadata": {},
   "outputs": [
    {
     "name": "stdout",
     "output_type": "stream",
     "text": [
      "False\n"
     ]
    }
   ],
   "source": [
    "print(bool(0))"
   ]
  },
  {
   "cell_type": "code",
   "execution_count": 39,
   "id": "2c5ea496-be72-4c98-afb9-7bcf83aa4b52",
   "metadata": {},
   "outputs": [
    {
     "name": "stdout",
     "output_type": "stream",
     "text": [
      "False\n"
     ]
    }
   ],
   "source": [
    "print(bool(None))"
   ]
  },
  {
   "cell_type": "code",
   "execution_count": 18,
   "id": "f2e03dfb-6341-4f60-a637-8347b25be87e",
   "metadata": {},
   "outputs": [
    {
     "name": "stdout",
     "output_type": "stream",
     "text": [
      "False\n"
     ]
    }
   ],
   "source": [
    "print(bool(False))"
   ]
  },
  {
   "cell_type": "markdown",
   "id": "11eef50b-f26a-4c2f-9e1a-2887ab8174a1",
   "metadata": {},
   "source": [
    "# Operators"
   ]
  },
  {
   "cell_type": "markdown",
   "id": "8a9cccb8-873a-493b-b1bc-cfde15819679",
   "metadata": {},
   "source": [
    "## 1. Arithmetic Operators\n",
    "\n",
    "Arithmetic → `+ - * / % // **`"
   ]
  },
  {
   "cell_type": "code",
   "execution_count": 101,
   "id": "a09a0bb6-dd85-4113-a6f5-7123421ea075",
   "metadata": {},
   "outputs": [
    {
     "name": "stdout",
     "output_type": "stream",
     "text": [
      "8\n"
     ]
    }
   ],
   "source": [
    "print(3+5)"
   ]
  },
  {
   "cell_type": "code",
   "execution_count": 102,
   "id": "fb28b395-c005-4ad7-9c45-60df0c2e583c",
   "metadata": {},
   "outputs": [
    {
     "name": "stdout",
     "output_type": "stream",
     "text": [
      "2\n"
     ]
    }
   ],
   "source": [
    "print(5-3)"
   ]
  },
  {
   "cell_type": "code",
   "execution_count": 103,
   "id": "175ead06-af5a-402e-9702-3701b55bd6ad",
   "metadata": {},
   "outputs": [
    {
     "name": "stdout",
     "output_type": "stream",
     "text": [
      "6\n"
     ]
    }
   ],
   "source": [
    "print(2*3)"
   ]
  },
  {
   "cell_type": "code",
   "execution_count": 104,
   "id": "58e58c33-a039-4d79-ab20-72eda2711e8a",
   "metadata": {},
   "outputs": [
    {
     "name": "stdout",
     "output_type": "stream",
     "text": [
      "8\n"
     ]
    }
   ],
   "source": [
    "print(2**3)"
   ]
  },
  {
   "cell_type": "code",
   "execution_count": 105,
   "id": "d408f38d-3812-4986-8cd2-6a76e664e14b",
   "metadata": {},
   "outputs": [
    {
     "name": "stdout",
     "output_type": "stream",
     "text": [
      "1.3333333333333333\n"
     ]
    }
   ],
   "source": [
    "print(4/3)"
   ]
  },
  {
   "cell_type": "code",
   "execution_count": 106,
   "id": "3f4b6e8f-d9b2-4a47-a546-db6476ed1c27",
   "metadata": {},
   "outputs": [
    {
     "name": "stdout",
     "output_type": "stream",
     "text": [
      "1\n"
     ]
    }
   ],
   "source": [
    "print(4//3)"
   ]
  },
  {
   "cell_type": "code",
   "execution_count": 107,
   "id": "b743189f-88aa-47b0-8654-478c939e59a6",
   "metadata": {},
   "outputs": [
    {
     "name": "stdout",
     "output_type": "stream",
     "text": [
      "2\n"
     ]
    }
   ],
   "source": [
    "print(5%3) # 5/3 gets remainder 2 modulus(%) gives reminder as result"
   ]
  },
  {
   "cell_type": "markdown",
   "id": "0df24d76-6eab-421f-b708-150205a7b9ed",
   "metadata": {},
   "source": [
    "## Assignment Operator\n",
    "\n",
    "Assignment → = += -= *="
   ]
  },
  {
   "cell_type": "code",
   "execution_count": 109,
   "id": "9d0ca7ac-aacd-434a-a0fd-94b8ec5cb7f8",
   "metadata": {},
   "outputs": [
    {
     "data": {
      "text/plain": [
       "10"
      ]
     },
     "execution_count": 109,
     "metadata": {},
     "output_type": "execute_result"
    }
   ],
   "source": [
    "x = 10      # Assign 10 to x\n",
    "x"
   ]
  },
  {
   "cell_type": "code",
   "execution_count": 111,
   "id": "8d3323b0-60f3-4b69-9ef2-a8e9817a7844",
   "metadata": {},
   "outputs": [
    {
     "data": {
      "text/plain": [
       "'Hi'"
      ]
     },
     "execution_count": 111,
     "metadata": {},
     "output_type": "execute_result"
    }
   ],
   "source": [
    "y = \"Hi\"    # Assign string to y\n",
    "y"
   ]
  },
  {
   "cell_type": "code",
   "execution_count": 112,
   "id": "db5a000a-ff41-4e78-937c-3967b6cd7b6b",
   "metadata": {},
   "outputs": [
    {
     "data": {
      "text/plain": [
       "3.5"
      ]
     },
     "execution_count": 112,
     "metadata": {},
     "output_type": "execute_result"
    }
   ],
   "source": [
    "z = 3.5     # Assign float to z\n",
    "z"
   ]
  },
  {
   "cell_type": "markdown",
   "id": "d323db61-c000-45c2-a391-9f6e002e4af1",
   "metadata": {},
   "source": [
    "# Compound Assignment Operators"
   ]
  },
  {
   "cell_type": "code",
   "execution_count": 133,
   "id": "f6d09f58-f9f0-40c5-854e-03c1f9df4e73",
   "metadata": {},
   "outputs": [],
   "source": [
    "x=5"
   ]
  },
  {
   "cell_type": "code",
   "execution_count": 116,
   "id": "d70041ba-1518-40c5-842c-9d98389d7aec",
   "metadata": {},
   "outputs": [
    {
     "data": {
      "text/plain": [
       "8"
      ]
     },
     "execution_count": 116,
     "metadata": {},
     "output_type": "execute_result"
    }
   ],
   "source": [
    "x += 3 # x = x+3\n",
    "x"
   ]
  },
  {
   "cell_type": "code",
   "execution_count": 118,
   "id": "dd357943-5ffe-49da-a08f-69f7b4a84e79",
   "metadata": {},
   "outputs": [
    {
     "data": {
      "text/plain": [
       "2"
      ]
     },
     "execution_count": 118,
     "metadata": {},
     "output_type": "execute_result"
    }
   ],
   "source": [
    "x -= 3\n",
    "x"
   ]
  },
  {
   "cell_type": "code",
   "execution_count": 122,
   "id": "3715e782-8ec8-42b0-a5f2-c744fc4e05e7",
   "metadata": {},
   "outputs": [
    {
     "data": {
      "text/plain": [
       "20"
      ]
     },
     "execution_count": 122,
     "metadata": {},
     "output_type": "execute_result"
    }
   ],
   "source": [
    "x *= 4 \n",
    "x"
   ]
  },
  {
   "cell_type": "code",
   "execution_count": 125,
   "id": "ff84b5a1-07ab-458a-a1c7-1909efb79170",
   "metadata": {},
   "outputs": [
    {
     "data": {
      "text/plain": [
       "2.5"
      ]
     },
     "execution_count": 125,
     "metadata": {},
     "output_type": "execute_result"
    }
   ],
   "source": [
    "x /= 2\n",
    "x"
   ]
  },
  {
   "cell_type": "code",
   "execution_count": 130,
   "id": "a4f27ac3-6e01-4daa-979d-17276cfed79b",
   "metadata": {},
   "outputs": [
    {
     "data": {
      "text/plain": [
       "2"
      ]
     },
     "execution_count": 130,
     "metadata": {},
     "output_type": "execute_result"
    }
   ],
   "source": [
    "x //= 2\n",
    "x"
   ]
  },
  {
   "cell_type": "code",
   "execution_count": 132,
   "id": "a95c5a80-82ca-463f-9073-ac23d5a2cec4",
   "metadata": {},
   "outputs": [
    {
     "data": {
      "text/plain": [
       "1"
      ]
     },
     "execution_count": 132,
     "metadata": {},
     "output_type": "execute_result"
    }
   ],
   "source": [
    "x %= 2\n",
    "x"
   ]
  },
  {
   "cell_type": "code",
   "execution_count": 134,
   "id": "e29d8b60-6d65-4cb4-8103-d45cdb5bcd2b",
   "metadata": {},
   "outputs": [
    {
     "data": {
      "text/plain": [
       "25"
      ]
     },
     "execution_count": 134,
     "metadata": {},
     "output_type": "execute_result"
    }
   ],
   "source": [
    "x **= 2\n",
    "x"
   ]
  },
  {
   "cell_type": "markdown",
   "id": "ae40e015-e4cf-47ee-930b-d9b793de5676",
   "metadata": {},
   "source": [
    "Bitwise AND &=    eg:- x &= y\n",
    "Bitwise XOR ^=    eg:- x ^= y\n",
    "Right shift >>=   eg:- x >>= 2\n",
    "Left shift <<=    eg:- x <<= 2"
   ]
  },
  {
   "cell_type": "markdown",
   "id": "90b0d095-70cf-4879-bd6c-57284cc3122d",
   "metadata": {},
   "source": [
    "## 2. Comparison Operator\n",
    "\n",
    "Comparison → == != > < >= <="
   ]
  },
  {
   "cell_type": "code",
   "execution_count": 135,
   "id": "8d11fb37-0709-4800-aa70-dd5440c562bb",
   "metadata": {},
   "outputs": [],
   "source": [
    "a = 10\n",
    "b = 20"
   ]
  },
  {
   "cell_type": "code",
   "execution_count": 136,
   "id": "6f50347f-b297-4184-8a77-3226504c2a2f",
   "metadata": {},
   "outputs": [
    {
     "name": "stdout",
     "output_type": "stream",
     "text": [
      "False\n"
     ]
    }
   ],
   "source": [
    "print(a == b)"
   ]
  },
  {
   "cell_type": "code",
   "execution_count": 137,
   "id": "af254a31-a0d3-4983-944c-ffb0ee329456",
   "metadata": {},
   "outputs": [
    {
     "name": "stdout",
     "output_type": "stream",
     "text": [
      "True\n"
     ]
    }
   ],
   "source": [
    "print(a != b)"
   ]
  },
  {
   "cell_type": "code",
   "execution_count": 138,
   "id": "d5541b84-645a-471e-8594-7cce08aa3bef",
   "metadata": {},
   "outputs": [
    {
     "name": "stdout",
     "output_type": "stream",
     "text": [
      "False\n"
     ]
    }
   ],
   "source": [
    "print(a > b) "
   ]
  },
  {
   "cell_type": "code",
   "execution_count": 139,
   "id": "990d5e32-d537-4636-bea5-25be6a823664",
   "metadata": {},
   "outputs": [
    {
     "name": "stdout",
     "output_type": "stream",
     "text": [
      "True\n"
     ]
    }
   ],
   "source": [
    "print(a < b)"
   ]
  },
  {
   "cell_type": "code",
   "execution_count": 140,
   "id": "39328bcf-5525-4f18-bc41-056212fa18c1",
   "metadata": {},
   "outputs": [
    {
     "name": "stdout",
     "output_type": "stream",
     "text": [
      "True\n"
     ]
    }
   ],
   "source": [
    "print(a >= 10)  "
   ]
  },
  {
   "cell_type": "code",
   "execution_count": 141,
   "id": "e72298cf-34a0-485b-99b9-078a4dde3f73",
   "metadata": {},
   "outputs": [
    {
     "name": "stdout",
     "output_type": "stream",
     "text": [
      "False\n"
     ]
    }
   ],
   "source": [
    "print(b <= 15)"
   ]
  },
  {
   "cell_type": "markdown",
   "id": "89596e7c-7fb9-4ca5-a1ef-d3c779c28989",
   "metadata": {},
   "source": [
    "#### Comparing Strings"
   ]
  },
  {
   "cell_type": "code",
   "execution_count": 142,
   "id": "436b6285-0277-48db-8beb-b7694100a5b6",
   "metadata": {},
   "outputs": [
    {
     "name": "stdout",
     "output_type": "stream",
     "text": [
      "True\n"
     ]
    }
   ],
   "source": [
    "print(\"apple\" == \"apple\")"
   ]
  },
  {
   "cell_type": "code",
   "execution_count": 143,
   "id": "94300fce-8df8-48a5-be9c-dd7d3eb1c4fe",
   "metadata": {},
   "outputs": [
    {
     "name": "stdout",
     "output_type": "stream",
     "text": [
      "True\n"
     ]
    }
   ],
   "source": [
    "print(\"apple\" != \"banana\")"
   ]
  },
  {
   "cell_type": "code",
   "execution_count": 144,
   "id": "59821940-646f-489d-8444-6ec765ede927",
   "metadata": {},
   "outputs": [
    {
     "name": "stdout",
     "output_type": "stream",
     "text": [
      "True\n"
     ]
    }
   ],
   "source": [
    "print(\"cat\" > \"bat\")"
   ]
  },
  {
   "cell_type": "code",
   "execution_count": 145,
   "id": "5c0d7fcf-26bd-4415-b3a3-7abd6a028895",
   "metadata": {},
   "outputs": [
    {
     "name": "stdout",
     "output_type": "stream",
     "text": [
      "True\n"
     ]
    }
   ],
   "source": [
    "print(\"dog\" < \"zebra\") "
   ]
  },
  {
   "cell_type": "markdown",
   "id": "15038db1-5112-40b9-a3b9-f2c1c45e58ad",
   "metadata": {},
   "source": [
    "## 3.Logical Operator\n",
    "\n",
    "Logical → and or not"
   ]
  },
  {
   "cell_type": "code",
   "execution_count": 149,
   "id": "b70866dc-1f83-4352-b12f-dc2eed9f7b06",
   "metadata": {},
   "outputs": [],
   "source": [
    "a = 10\n",
    "b = 20\n",
    "c = 5"
   ]
  },
  {
   "cell_type": "code",
   "execution_count": 158,
   "id": "ed6648d5-6e62-4070-89df-25a20b041087",
   "metadata": {},
   "outputs": [
    {
     "name": "stdout",
     "output_type": "stream",
     "text": [
      "True\n"
     ]
    }
   ],
   "source": [
    "# AND Operator -> if both conditions are true\n",
    "\n",
    "print(a>5 and b>15)"
   ]
  },
  {
   "cell_type": "code",
   "execution_count": 159,
   "id": "ef931d4e-a599-44aa-968a-aee5449af411",
   "metadata": {},
   "outputs": [
    {
     "name": "stdout",
     "output_type": "stream",
     "text": [
      "False\n"
     ]
    }
   ],
   "source": [
    "print(a>5 and c>10)"
   ]
  },
  {
   "cell_type": "raw",
   "id": "a2f562f7-b028-4a4c-bcc5-67f9dffd3fee",
   "metadata": {},
   "source": [
    "T F R\n",
    "1 0 0\n",
    "0 1 0\n",
    "1 1 1\n",
    "0 0 0"
   ]
  },
  {
   "cell_type": "code",
   "execution_count": 160,
   "id": "a2a8ace2-dc8c-4800-8d36-5a1156d8907d",
   "metadata": {},
   "outputs": [
    {
     "name": "stdout",
     "output_type": "stream",
     "text": [
      "True\n"
     ]
    }
   ],
   "source": [
    "# OR Operator -> atleast one condition is true\n",
    "\n",
    "print(a>15 or b>15)"
   ]
  },
  {
   "cell_type": "code",
   "execution_count": 161,
   "id": "580ded08-8ed1-4189-b47c-586227bfbb2c",
   "metadata": {},
   "outputs": [
    {
     "name": "stdout",
     "output_type": "stream",
     "text": [
      "False\n"
     ]
    }
   ],
   "source": [
    "print(a<5 or c<2)"
   ]
  },
  {
   "cell_type": "raw",
   "id": "00fe7e54-9326-43b3-bbb0-b6ddc40933bf",
   "metadata": {},
   "source": [
    "T F R\n",
    "1 0 1\n",
    "0 1 1\n",
    "1 1 1\n",
    "0 0 0"
   ]
  },
  {
   "cell_type": "code",
   "execution_count": 162,
   "id": "ccda5a8a-fac2-4a28-869e-77dc0514b181",
   "metadata": {},
   "outputs": [
    {
     "name": "stdout",
     "output_type": "stream",
     "text": [
      "False\n"
     ]
    }
   ],
   "source": [
    "# NOT Operator -> Reverse result\n",
    "\n",
    "print(not(a>5))"
   ]
  },
  {
   "cell_type": "code",
   "execution_count": 163,
   "id": "41446ec4-8171-40f9-9726-93f628259432",
   "metadata": {},
   "outputs": [
    {
     "name": "stdout",
     "output_type": "stream",
     "text": [
      "True\n"
     ]
    }
   ],
   "source": [
    "print(not(b<15))"
   ]
  },
  {
   "cell_type": "raw",
   "id": "d287838d-0263-4dfc-a30d-64b5a0faf239",
   "metadata": {},
   "source": [
    "X R\n",
    "1 0\n",
    "0 1"
   ]
  },
  {
   "cell_type": "markdown",
   "id": "1b56c489-b499-4e7e-8bee-6d31432876a7",
   "metadata": {},
   "source": [
    "# Slicing"
   ]
  },
  {
   "cell_type": "markdown",
   "id": "d7bc6056-0b99-478e-a8fd-778038030925",
   "metadata": {},
   "source": [
    "h e l l o\n",
    "\n",
    "0 1 2 3 4"
   ]
  },
  {
   "cell_type": "code",
   "execution_count": 4,
   "id": "2ec720b3-4cf0-4b26-8dde-edb3a2f7570b",
   "metadata": {},
   "outputs": [],
   "source": [
    "x=\"hello\""
   ]
  },
  {
   "cell_type": "code",
   "execution_count": 5,
   "id": "b24fc722-18be-4707-8702-c4ed6c754c1d",
   "metadata": {},
   "outputs": [
    {
     "name": "stdout",
     "output_type": "stream",
     "text": [
      "hello\n"
     ]
    }
   ],
   "source": [
    "print(x[::])"
   ]
  },
  {
   "cell_type": "code",
   "execution_count": 6,
   "id": "52d07e17-fc15-4cd6-8b45-babb7078d466",
   "metadata": {},
   "outputs": [
    {
     "name": "stdout",
     "output_type": "stream",
     "text": [
      "hello\n"
     ]
    }
   ],
   "source": [
    "print(x[0:5])"
   ]
  },
  {
   "cell_type": "code",
   "execution_count": 7,
   "id": "3c781cae-48f3-4768-8935-1f65a6a955be",
   "metadata": {},
   "outputs": [
    {
     "name": "stdout",
     "output_type": "stream",
     "text": [
      "olleh\n"
     ]
    }
   ],
   "source": [
    "print(x[::-1])"
   ]
  },
  {
   "cell_type": "code",
   "execution_count": 8,
   "id": "d2bcb7da-765a-4ce4-971c-f190c6c51d6c",
   "metadata": {},
   "outputs": [
    {
     "name": "stdout",
     "output_type": "stream",
     "text": [
      "o\n"
     ]
    }
   ],
   "source": [
    "print(x[-1])"
   ]
  },
  {
   "cell_type": "code",
   "execution_count": 164,
   "id": "de19cfb9-2510-42fd-ad7c-bbe6ff8cadf2",
   "metadata": {},
   "outputs": [
    {
     "name": "stdout",
     "output_type": "stream",
     "text": [
      "ll\n"
     ]
    }
   ],
   "source": [
    "x=\"hello\"\n",
    "print(x[2:4])"
   ]
  },
  {
   "cell_type": "code",
   "execution_count": 165,
   "id": "78d56798-90f8-495a-b8fb-14c16b90f109",
   "metadata": {},
   "outputs": [
    {
     "name": "stdout",
     "output_type": "stream",
     "text": [
      "yhtaver\n"
     ]
    }
   ],
   "source": [
    "x=\"revathy\"\n",
    "print(x[::-1])"
   ]
  },
  {
   "cell_type": "code",
   "execution_count": 166,
   "id": "f3991044-2b1b-4f2f-96ee-9100aa78fa12",
   "metadata": {},
   "outputs": [
    {
     "name": "stdout",
     "output_type": "stream",
     "text": [
      "thon\n"
     ]
    }
   ],
   "source": [
    "x=\"python\"\n",
    "print(x[2:])"
   ]
  },
  {
   "cell_type": "code",
   "execution_count": 167,
   "id": "6d7f955e-4179-4040-b8ea-06179603cb3f",
   "metadata": {},
   "outputs": [
    {
     "name": "stdout",
     "output_type": "stream",
     "text": [
      "pyt\n"
     ]
    }
   ],
   "source": [
    "print(x[0:3])"
   ]
  },
  {
   "cell_type": "code",
   "execution_count": 168,
   "id": "b546ace2-234b-45eb-bbb1-41574783dd28",
   "metadata": {},
   "outputs": [
    {
     "name": "stdout",
     "output_type": "stream",
     "text": [
      "pyt\n"
     ]
    }
   ],
   "source": [
    "print(x[:3])"
   ]
  },
  {
   "cell_type": "code",
   "execution_count": 169,
   "id": "36b38d42-e731-44cf-b93f-cc7dbbec7049",
   "metadata": {},
   "outputs": [
    {
     "name": "stdout",
     "output_type": "stream",
     "text": [
      "ABCDEFGHIJKLM\n",
      "NOPQRSTUVWXYZ\n"
     ]
    }
   ],
   "source": [
    "alphabet=\"ABCDEFGHIJKLMNOPQRSTUVWXYZ\"\n",
    "print(alphabet[:13])\n",
    "print(alphabet[13:])"
   ]
  },
  {
   "cell_type": "code",
   "execution_count": 170,
   "id": "5867e407-6351-4757-97bb-0c74fba9fa7b",
   "metadata": {},
   "outputs": [
    {
     "name": "stdout",
     "output_type": "stream",
     "text": [
      "o\n"
     ]
    }
   ],
   "source": [
    "x=\"hello\"\n",
    "print(x[-1])"
   ]
  },
  {
   "cell_type": "markdown",
   "id": "9cfa24c5-a9f5-44d5-8f59-afe68075da3e",
   "metadata": {},
   "source": [
    " p    y   t    h    o   n\n",
    "-6   -5  -4   -3   -2  -1"
   ]
  },
  {
   "cell_type": "code",
   "execution_count": 171,
   "id": "e249e9ba-6c8d-4473-9efe-3c50d7d3d191",
   "metadata": {},
   "outputs": [
    {
     "name": "stdout",
     "output_type": "stream",
     "text": [
      "tho\n"
     ]
    }
   ],
   "source": [
    "x=\"python\"\n",
    "print(x[-4:-1])"
   ]
  },
  {
   "cell_type": "raw",
   "id": "9a17c0b4-a4da-4321-9360-6ab1382bb616",
   "metadata": {},
   "source": [
    "g o d   i s   l o v  e\n",
    "\n",
    "0 1 2 3 4 5 6 7 8 9 10"
   ]
  },
  {
   "cell_type": "code",
   "execution_count": 172,
   "id": "d5023910-f909-4d46-961b-499d73d40373",
   "metadata": {},
   "outputs": [
    {
     "name": "stdout",
     "output_type": "stream",
     "text": [
      "is\n"
     ]
    }
   ],
   "source": [
    "x=\"god is love\"\n",
    "print(x[4:6])"
   ]
  },
  {
   "cell_type": "code",
   "execution_count": 173,
   "id": "575ef95b-cd46-410b-afc4-83a86e903b93",
   "metadata": {},
   "outputs": [
    {
     "name": "stdout",
     "output_type": "stream",
     "text": [
      "fox\n",
      "jumps over\n"
     ]
    }
   ],
   "source": [
    "quote=\"The quick brown fox jumps over the lazy dog\"\n",
    "print(quote[-27:-24])\n",
    "print(quote[20:30])"
   ]
  },
  {
   "cell_type": "code",
   "execution_count": 174,
   "id": "e70eaa78-d5e0-4d66-a3e9-6b6c4883a003",
   "metadata": {},
   "outputs": [
    {
     "name": "stdout",
     "output_type": "stream",
     "text": [
      "nohtyp olleh\n"
     ]
    }
   ],
   "source": [
    "p=\"hello python\"\n",
    "print(p[::-1])"
   ]
  },
  {
   "cell_type": "code",
   "execution_count": 175,
   "id": "46e82fe8-f59b-4607-8361-cdcdffb1d053",
   "metadata": {},
   "outputs": [
    {
     "name": "stdout",
     "output_type": "stream",
     "text": [
      "Slicing text\n"
     ]
    }
   ],
   "source": [
    "scrambled=\"txet gnicilS\"\n",
    "print(scrambled[::-1])"
   ]
  },
  {
   "cell_type": "markdown",
   "id": "972111f1-37bd-4c88-ae09-d179200bd800",
   "metadata": {},
   "source": [
    "# List\n",
    "\n",
    "# 🔹 What is a List in Python?\n",
    "\n",
    "* A **list** is a **collection** in Python that can hold **multiple items** in a single variable.\n",
    "* It is **ordered**, **mutable** (can be changed), and can hold **different data types** together.\n",
    "* Defined using **square brackets `[]`**.\n",
    "\n",
    "---\n",
    "\n",
    "## Example"
   ]
  },
  {
   "cell_type": "code",
   "execution_count": 1,
   "id": "9e80585d-b9ba-4391-bebe-2d5c9b010c61",
   "metadata": {},
   "outputs": [],
   "source": [
    "# Creating a list\n",
    "fruits = [\"apple\", \"banana\", \"cherry\"]"
   ]
  },
  {
   "cell_type": "code",
   "execution_count": 2,
   "id": "b193d91d-e4a8-4fab-a1be-b668a2064e1b",
   "metadata": {},
   "outputs": [
    {
     "data": {
      "text/plain": [
       "'apple'"
      ]
     },
     "execution_count": 2,
     "metadata": {},
     "output_type": "execute_result"
    }
   ],
   "source": [
    "fruits[0]"
   ]
  },
  {
   "cell_type": "code",
   "execution_count": 52,
   "id": "0b606b9b-ffa5-4ecf-9e7b-7a00a9de211c",
   "metadata": {},
   "outputs": [
    {
     "name": "stdout",
     "output_type": "stream",
     "text": [
      "['apple', 'banana', 'cherry']\n"
     ]
    }
   ],
   "source": [
    "print(fruits) "
   ]
  },
  {
   "cell_type": "code",
   "execution_count": 53,
   "id": "22684f21-fa81-4284-9ef7-22c065fd00c9",
   "metadata": {},
   "outputs": [
    {
     "name": "stdout",
     "output_type": "stream",
     "text": [
      "<class 'list'>\n"
     ]
    }
   ],
   "source": [
    "print(type(fruits))"
   ]
  },
  {
   "cell_type": "markdown",
   "id": "fb6c1688-784d-4894-a4fb-1c6d43b49d72",
   "metadata": {},
   "source": [
    "## Characteristics of a List"
   ]
  },
  {
   "cell_type": "code",
   "execution_count": 55,
   "id": "58bc7aec-c674-4ecd-ba90-b2188ba9e471",
   "metadata": {},
   "outputs": [
    {
     "name": "stdout",
     "output_type": "stream",
     "text": [
      "10\n"
     ]
    }
   ],
   "source": [
    "# 1) Ordered → Items keep their order \n",
    "\n",
    "numbers = [10, 20, 30]\n",
    "print(numbers[0])"
   ]
  },
  {
   "cell_type": "code",
   "execution_count": 56,
   "id": "fce852a4-a2b6-4441-aa31-67f4ce4b3509",
   "metadata": {},
   "outputs": [
    {
     "name": "stdout",
     "output_type": "stream",
     "text": [
      "[10, 25, 30]\n"
     ]
    }
   ],
   "source": [
    "# 2) Mutable → We can change, add, or remove elements.\n",
    "\n",
    "numbers[1] = 25\n",
    "print(numbers) "
   ]
  },
  {
   "cell_type": "code",
   "execution_count": 57,
   "id": "8b1a28a0-8521-4581-abd8-e0a98587409a",
   "metadata": {},
   "outputs": [
    {
     "name": "stdout",
     "output_type": "stream",
     "text": [
      "[1, 'hello', 3.14, True]\n"
     ]
    }
   ],
   "source": [
    "# 3) Heterogeneous → Can store multiple data types.\n",
    "\n",
    "mix = [1, \"hello\", 3.14, True]\n",
    "print(mix)"
   ]
  },
  {
   "cell_type": "code",
   "execution_count": 58,
   "id": "8c6d7ef9-5dbf-4cc5-bb4a-c602bd4ab577",
   "metadata": {},
   "outputs": [
    {
     "name": "stdout",
     "output_type": "stream",
     "text": [
      "[1, 1, 2, 2, 3]\n"
     ]
    }
   ],
   "source": [
    "# 4) Allows duplicates → Same value can appear multiple times.\n",
    "\n",
    "dup = [1, 1, 2, 2, 3]\n",
    "print(dup)"
   ]
  },
  {
   "cell_type": "markdown",
   "id": "c5327a5f-ed95-4d93-a419-85c72ad7cfad",
   "metadata": {},
   "source": [
    "## List Operations"
   ]
  },
  {
   "cell_type": "code",
   "execution_count": 3,
   "id": "fdc8103f-7d49-4f72-94b1-322a972c11aa",
   "metadata": {},
   "outputs": [
    {
     "name": "stdout",
     "output_type": "stream",
     "text": [
      "apple\n",
      "cherry\n"
     ]
    }
   ],
   "source": [
    "# 1. Indexing\n",
    "\n",
    "fruits = [\"apple\", \"banana\", \"cherry\"]\n",
    "print(fruits[0])  \n",
    "print(fruits[-1]) "
   ]
  },
  {
   "cell_type": "code",
   "execution_count": 72,
   "id": "b0da8099-e3f1-486c-9f71-2840896a2594",
   "metadata": {},
   "outputs": [
    {
     "name": "stdout",
     "output_type": "stream",
     "text": [
      "[20, 30, 40]\n"
     ]
    }
   ],
   "source": [
    "# 2. Slicing\n",
    "\n",
    "numbers = [10, 20, 30, 40, 50]\n",
    "print(numbers[1:4])   "
   ]
  },
  {
   "cell_type": "code",
   "execution_count": 73,
   "id": "16df9554-ccf3-45db-8659-9cac23060604",
   "metadata": {},
   "outputs": [
    {
     "name": "stdout",
     "output_type": "stream",
     "text": [
      "[10, 20, 30]\n"
     ]
    }
   ],
   "source": [
    "print(numbers[:3])    "
   ]
  },
  {
   "cell_type": "code",
   "execution_count": 74,
   "id": "68ccb2ae-7f2f-4533-8284-5db18d251416",
   "metadata": {},
   "outputs": [
    {
     "name": "stdout",
     "output_type": "stream",
     "text": [
      "[10, 30, 50]\n"
     ]
    }
   ],
   "source": [
    "print(numbers[::2]) "
   ]
  },
  {
   "cell_type": "markdown",
   "id": "a1637f07-5472-4a18-98ff-4d79c062ab84",
   "metadata": {},
   "source": [
    "#### 3. Adding Elements\n",
    "\n",
    "- append()\n",
    "- insert()\n",
    "- extend()"
   ]
  },
  {
   "cell_type": "code",
   "execution_count": 4,
   "id": "c5a12672-024b-492a-85ad-3bbe23552db2",
   "metadata": {},
   "outputs": [
    {
     "name": "stdout",
     "output_type": "stream",
     "text": [
      "['apple', 'banana', 'cherry', 'mango']\n"
     ]
    }
   ],
   "source": [
    "fruits.append(\"mango\") # Add at end\n",
    "print(fruits)"
   ]
  },
  {
   "cell_type": "code",
   "execution_count": 76,
   "id": "24c681b2-7dfa-4fd8-a80d-319f249abaaa",
   "metadata": {},
   "outputs": [
    {
     "name": "stdout",
     "output_type": "stream",
     "text": [
      "['apple', 'orange', 'banana', 'cherry', 'mango']\n"
     ]
    }
   ],
   "source": [
    "fruits.insert(1, \"orange\")   # Add at index 1\n",
    "print(fruits)"
   ]
  },
  {
   "cell_type": "code",
   "execution_count": 77,
   "id": "478827cb-15f6-485d-8e7d-d4dbfa9a8024",
   "metadata": {},
   "outputs": [
    {
     "name": "stdout",
     "output_type": "stream",
     "text": [
      "['apple', 'orange', 'banana', 'cherry', 'mango', 'grape', 'kiwi']\n"
     ]
    }
   ],
   "source": [
    "fruits.extend([\"grape\", \"kiwi\"])  # Add multiple\n",
    "print(fruits)"
   ]
  },
  {
   "cell_type": "markdown",
   "id": "7cc465bc-e296-4541-8cce-c939f9cc1372",
   "metadata": {},
   "source": [
    "#### 4. remove elements\n",
    "- remove()\n",
    "- pop()\n",
    "- del\n",
    "- clear()"
   ]
  },
  {
   "cell_type": "code",
   "execution_count": 78,
   "id": "8a34c80d-107d-4bee-a270-ccf6bf30497e",
   "metadata": {},
   "outputs": [
    {
     "name": "stdout",
     "output_type": "stream",
     "text": [
      "['apple', 'orange', 'cherry', 'mango', 'grape', 'kiwi']\n"
     ]
    }
   ],
   "source": [
    "# 4. Removing Elements\n",
    "\n",
    "fruits.remove(\"banana\")   # Remove by value\n",
    "print(fruits)"
   ]
  },
  {
   "cell_type": "code",
   "execution_count": 79,
   "id": "f696c5d6-1a9c-49a9-a59a-dec13f73aedd",
   "metadata": {},
   "outputs": [
    {
     "name": "stdout",
     "output_type": "stream",
     "text": [
      "['apple', 'orange', 'mango', 'grape', 'kiwi']\n"
     ]
    }
   ],
   "source": [
    "fruits.pop(2)             # Remove by index\n",
    "print(fruits)"
   ]
  },
  {
   "cell_type": "code",
   "execution_count": 80,
   "id": "08ba6c7d-278a-4cc9-acd5-a936490d9c80",
   "metadata": {},
   "outputs": [
    {
     "name": "stdout",
     "output_type": "stream",
     "text": [
      "['orange', 'mango', 'grape', 'kiwi']\n"
     ]
    }
   ],
   "source": [
    "del fruits[0]             # Delete by index\n",
    "print(fruits)"
   ]
  },
  {
   "cell_type": "code",
   "execution_count": 81,
   "id": "36dca54c-0fc3-487a-85bb-c53ca34389ed",
   "metadata": {},
   "outputs": [
    {
     "name": "stdout",
     "output_type": "stream",
     "text": [
      "[]\n"
     ]
    }
   ],
   "source": [
    "fruits.clear()            # Remove all elements\n",
    "print(fruits)"
   ]
  },
  {
   "cell_type": "markdown",
   "id": "96d6cc15-6ebc-4d47-a2aa-c242f859ae13",
   "metadata": {},
   "source": [
    "#### 5. Searching\n",
    "\n",
    "- in\n",
    "- index()"
   ]
  },
  {
   "cell_type": "code",
   "execution_count": 21,
   "id": "1fe19539-ff45-4724-bac4-c78f6f433f8b",
   "metadata": {},
   "outputs": [
    {
     "name": "stdout",
     "output_type": "stream",
     "text": [
      "True\n"
     ]
    }
   ],
   "source": [
    "fruits = [\"apple\", \"banana\", \"cherry\"]\n",
    "print(\"apple\" in fruits) "
   ]
  },
  {
   "cell_type": "code",
   "execution_count": 84,
   "id": "43a2b245-aa00-404f-8d1e-5ac29ff1cc07",
   "metadata": {},
   "outputs": [
    {
     "name": "stdout",
     "output_type": "stream",
     "text": [
      "1\n"
     ]
    }
   ],
   "source": [
    "print(fruits.index(\"banana\"))"
   ]
  },
  {
   "cell_type": "markdown",
   "id": "72fb964c-b2ed-410c-a418-ec5d54ee19f9",
   "metadata": {},
   "source": [
    "#### 6. Other Useful Methods\n",
    "\n",
    "- sort()\n",
    "- reverse()\n",
    "- count()\n",
    "- zip()"
   ]
  },
  {
   "cell_type": "code",
   "execution_count": 22,
   "id": "114a04fc-7626-43fe-af5b-9bcc85065570",
   "metadata": {},
   "outputs": [],
   "source": [
    "nums = [5, 2, 9, 1]\n",
    "nums.sort()  "
   ]
  },
  {
   "cell_type": "code",
   "execution_count": 6,
   "id": "b66d5d04-28bb-42fb-864b-114badf659c1",
   "metadata": {},
   "outputs": [
    {
     "data": {
      "text/plain": [
       "[1, 2, 5, 9]"
      ]
     },
     "execution_count": 6,
     "metadata": {},
     "output_type": "execute_result"
    }
   ],
   "source": [
    "nums"
   ]
  },
  {
   "cell_type": "code",
   "execution_count": 7,
   "id": "3d91faf0-a992-4ef4-9418-10a5f2fc5313",
   "metadata": {},
   "outputs": [],
   "source": [
    "nums.reverse()"
   ]
  },
  {
   "cell_type": "code",
   "execution_count": 8,
   "id": "4250c150-46b4-4999-9f53-74c856cc3708",
   "metadata": {},
   "outputs": [
    {
     "data": {
      "text/plain": [
       "[9, 5, 2, 1]"
      ]
     },
     "execution_count": 8,
     "metadata": {},
     "output_type": "execute_result"
    }
   ],
   "source": [
    "nums"
   ]
  },
  {
   "cell_type": "code",
   "execution_count": 10,
   "id": "3a1bd407-e712-4fac-b30f-b30ca955c314",
   "metadata": {},
   "outputs": [
    {
     "data": {
      "text/plain": [
       "[6, 4, 3, 2, 1, 0]"
      ]
     },
     "execution_count": 10,
     "metadata": {},
     "output_type": "execute_result"
    }
   ],
   "source": [
    "l1=[2,4,6,1,3,0]\n",
    "l1.sort(reverse=True)\n",
    "l1"
   ]
  },
  {
   "cell_type": "code",
   "execution_count": 14,
   "id": "6701e815-f44b-46da-8006-62885f1f692c",
   "metadata": {},
   "outputs": [
    {
     "data": {
      "text/plain": [
       "3"
      ]
     },
     "execution_count": 14,
     "metadata": {},
     "output_type": "execute_result"
    }
   ],
   "source": [
    "# count() -> find no.of repeated values\n",
    "\n",
    "l1=[1,2,4,2,6,2]\n",
    "l1.count(2)"
   ]
  },
  {
   "cell_type": "code",
   "execution_count": 15,
   "id": "cd00c835-6ee0-4b70-9dd4-9548eeae0f61",
   "metadata": {},
   "outputs": [
    {
     "data": {
      "text/plain": [
       "6"
      ]
     },
     "execution_count": 15,
     "metadata": {},
     "output_type": "execute_result"
    }
   ],
   "source": [
    "# len() -> to fint no.of elements in alist\n",
    "\n",
    "len(l1)"
   ]
  },
  {
   "cell_type": "code",
   "execution_count": 20,
   "id": "f327ff54-6ea4-44de-90b0-201a490fa64f",
   "metadata": {},
   "outputs": [
    {
     "name": "stdout",
     "output_type": "stream",
     "text": [
      "1 apple\n",
      "2 orange\n",
      "3 banana\n",
      "4 cherry\n",
      "5 pineapple\n",
      "6 kiwi\n"
     ]
    }
   ],
   "source": [
    "zip()\n",
    "\n",
    "l1=[1,2,3,4,5,6]\n",
    "l2=[\"apple\",\"orange\",\"banana\",\"cherry\",\"pineapple\",\"kiwi\"]\n",
    "\n",
    "for a,b in zip(l1,l2):\n",
    "    print(a,b)"
   ]
  },
  {
   "cell_type": "markdown",
   "id": "dbc1613a-d685-4b01-8d67-94fb1da236be",
   "metadata": {},
   "source": [
    "#### 7. Concatination (+) & Repetition (*)"
   ]
  },
  {
   "cell_type": "code",
   "execution_count": 23,
   "id": "90444faa-2e8e-4abd-89f9-1718218db8e7",
   "metadata": {},
   "outputs": [],
   "source": [
    "l1=[1,2,3,4,5,6]\n",
    "l2=[\"apple\",\"orange\",\"banana\",\"cherry\",\"pineapple\",\"kiwi\"]"
   ]
  },
  {
   "cell_type": "code",
   "execution_count": 24,
   "id": "9a22b2c6-615b-4d69-aa6a-a2356abeafc4",
   "metadata": {},
   "outputs": [],
   "source": [
    "l3=l1+l2 "
   ]
  },
  {
   "cell_type": "code",
   "execution_count": 25,
   "id": "e5e502e4-ad59-49dc-a6b0-233abcdf9030",
   "metadata": {},
   "outputs": [
    {
     "data": {
      "text/plain": [
       "[1, 2, 3, 4, 5, 6, 'apple', 'orange', 'banana', 'cherry', 'pineapple', 'kiwi']"
      ]
     },
     "execution_count": 25,
     "metadata": {},
     "output_type": "execute_result"
    }
   ],
   "source": [
    "l3"
   ]
  },
  {
   "cell_type": "code",
   "execution_count": 26,
   "id": "8105e79c-b53b-42f4-9a66-36798c112d17",
   "metadata": {},
   "outputs": [],
   "source": [
    "l4 = l1 * 3"
   ]
  },
  {
   "cell_type": "code",
   "execution_count": 27,
   "id": "107207b4-afd0-4adb-bf71-de6f754114d1",
   "metadata": {},
   "outputs": [
    {
     "data": {
      "text/plain": [
       "[1, 2, 3, 4, 5, 6, 1, 2, 3, 4, 5, 6, 1, 2, 3, 4, 5, 6]"
      ]
     },
     "execution_count": 27,
     "metadata": {},
     "output_type": "execute_result"
    }
   ],
   "source": [
    "l4"
   ]
  },
  {
   "cell_type": "markdown",
   "id": "975da42e-31f4-49a2-8d67-3378584fdaeb",
   "metadata": {},
   "source": [
    "## List Constructor \n",
    "\n",
    "list() is used to construct a list"
   ]
  },
  {
   "cell_type": "code",
   "execution_count": 31,
   "id": "7bda78db-8f2b-4a0f-8eef-12284ae42d22",
   "metadata": {},
   "outputs": [
    {
     "data": {
      "text/plain": [
       "[0, 1, 2, 3, 4, 5, 6, 7, 8, 9]"
      ]
     },
     "execution_count": 31,
     "metadata": {},
     "output_type": "execute_result"
    }
   ],
   "source": [
    "list(range(10)) #convert range to list"
   ]
  },
  {
   "cell_type": "code",
   "execution_count": 32,
   "id": "71ccb709-a642-4eda-b8ad-1fdf728948a5",
   "metadata": {},
   "outputs": [
    {
     "data": {
      "text/plain": [
       "[1, 2, 3, 4, 5, 6, 7, 8, 9, 10]"
      ]
     },
     "execution_count": 32,
     "metadata": {},
     "output_type": "execute_result"
    }
   ],
   "source": [
    "list(range(1,11))"
   ]
  },
  {
   "cell_type": "code",
   "execution_count": 33,
   "id": "2fa7cf8a-97a2-4a79-b1ef-7fb21b91265e",
   "metadata": {},
   "outputs": [
    {
     "data": {
      "text/plain": [
       "[1, 2, 3, 4, 5, 6, 7, 8, 9, 10]"
      ]
     },
     "execution_count": 33,
     "metadata": {},
     "output_type": "execute_result"
    }
   ],
   "source": [
    "list((1,2,3,4,5,6,7,8,9,10)) #convert tuple to list"
   ]
  },
  {
   "cell_type": "code",
   "execution_count": 34,
   "id": "7e35c5ac-28a2-46e6-a9c6-a16b5fad6f9f",
   "metadata": {},
   "outputs": [
    {
     "data": {
      "text/plain": [
       "[1, 2, 3, 4, 5, 6, 7, 8, 9, 10]"
      ]
     },
     "execution_count": 34,
     "metadata": {},
     "output_type": "execute_result"
    }
   ],
   "source": [
    "list({1,2,3,4,5,6,7,8,9,10}) # convert set to list"
   ]
  },
  {
   "cell_type": "markdown",
   "id": "2e3d3d4d-d2f9-4bea-a59e-a4a54faf8133",
   "metadata": {},
   "source": [
    "Task"
   ]
  },
  {
   "cell_type": "code",
   "execution_count": 9,
   "id": "1ab8c922-7f4e-43b5-83f8-b1b4e3c78631",
   "metadata": {},
   "outputs": [
    {
     "name": "stdout",
     "output_type": "stream",
     "text": [
      "['apple', 'banana', 'cherry']\n"
     ]
    }
   ],
   "source": [
    "mylist=[\"apple\",\"banana\",\"cherry\"]\n",
    "print(mylist)"
   ]
  },
  {
   "cell_type": "code",
   "execution_count": 10,
   "id": "daee4f4b-b829-46b9-a0d7-84a0d818bdcb",
   "metadata": {},
   "outputs": [
    {
     "name": "stdout",
     "output_type": "stream",
     "text": [
      "banana\n"
     ]
    }
   ],
   "source": [
    "mylist=[\"apple\",\"banana\",\"cherry\"]\n",
    "print(mylist[1])"
   ]
  },
  {
   "cell_type": "code",
   "execution_count": 11,
   "id": "e2e6d738-9bb9-4f3c-986f-7994478e1aa8",
   "metadata": {},
   "outputs": [
    {
     "name": "stdout",
     "output_type": "stream",
     "text": [
      "cherry\n"
     ]
    }
   ],
   "source": [
    "mylist=[\"apple\",\"banana\",\"cherry\"]\n",
    "print(mylist[-1])"
   ]
  },
  {
   "cell_type": "code",
   "execution_count": 12,
   "id": "9d05dc6b-576d-49e3-a18e-f996c6cac7e8",
   "metadata": {},
   "outputs": [
    {
     "name": "stdout",
     "output_type": "stream",
     "text": [
      "['cherry', 'orange', 'kiwi']\n"
     ]
    }
   ],
   "source": [
    "mylist=[\"apple\",\"banana\",\"cherry\",\"orange\",\"kiwi\",\"melon\",\"mango\"]\n",
    "print(mylist[2:5])"
   ]
  },
  {
   "cell_type": "code",
   "execution_count": 19,
   "id": "e5fa71a4-5f03-4ef0-9e7f-b1d72f7c8de3",
   "metadata": {},
   "outputs": [
    {
     "name": "stdout",
     "output_type": "stream",
     "text": [
      "['apple', 'blackcurrant', 'cherry']\n",
      "['blackcurrant']\n"
     ]
    }
   ],
   "source": [
    "mylist=[\"apple\",\"banana\",\"cherry\"]\n",
    "mylist[1]=\"blackcurrant\"\n",
    "print(mylist)"
   ]
  },
  {
   "cell_type": "code",
   "execution_count": 23,
   "id": "8d959631-47b9-43b9-b9de-c185564dd3f5",
   "metadata": {},
   "outputs": [
    {
     "name": "stdout",
     "output_type": "stream",
     "text": [
      "['apple', 'orange', 'kiwi', 'pinapple', 'grapes', 'banana']\n",
      "orange\n",
      "banana\n",
      "['orange']\n",
      "['apple', 'orange', 'papaya', 'pinapple', 'grapes', 'banana']\n"
     ]
    }
   ],
   "source": [
    "fruits=['apple','orange','kiwi','pinapple','grapes','banana']\n",
    "print(fruits)\n",
    "print(fruits[1])\n",
    "print(fruits[-1])\n",
    "print(fruits[1:2])\n",
    "fruits[2]='papaya'\n",
    "print(fruits)"
   ]
  },
  {
   "cell_type": "code",
   "execution_count": 25,
   "id": "7fd3368c-2917-4970-a388-c8fd7a67a539",
   "metadata": {},
   "outputs": [
    {
     "name": "stdout",
     "output_type": "stream",
     "text": [
      "['apple', 'banana', 'cherry', 'orange']\n"
     ]
    }
   ],
   "source": [
    "thislist=[\"apple\",\"banana\",\"cherry\"]\n",
    "thislist.append(\"orange\")\n",
    "print(thislist)"
   ]
  },
  {
   "cell_type": "code",
   "execution_count": 27,
   "id": "40f74910-55fd-4be3-b37c-ee8c81e6cced",
   "metadata": {},
   "outputs": [
    {
     "name": "stdout",
     "output_type": "stream",
     "text": [
      "3\n"
     ]
    }
   ],
   "source": [
    "thislist=[\"apple\",\"banana\",\"cherry\"]\n",
    "print(len(thislist))"
   ]
  },
  {
   "cell_type": "code",
   "execution_count": 29,
   "id": "31fa4852-8472-4638-a9f7-88dfdf2a6546",
   "metadata": {},
   "outputs": [
    {
     "name": "stdout",
     "output_type": "stream",
     "text": [
      "3\n"
     ]
    }
   ],
   "source": [
    "thislist=[\"apple\",\"banana\",\"cherry\",\"apple\",\"apple\"]\n",
    "print(thislist.count(\"apple\"))"
   ]
  },
  {
   "cell_type": "code",
   "execution_count": 35,
   "id": "9ace8d98-86bb-4b57-a474-a3c6aadbdee4",
   "metadata": {},
   "outputs": [
    {
     "name": "stdout",
     "output_type": "stream",
     "text": [
      "['apple', 'orange', 'banana', 'cherry']\n"
     ]
    }
   ],
   "source": [
    "thislist=[\"apple\",\"banana\",\"cherry\"]\n",
    "thislist.insert(1,\"orange\")\n",
    "print(thislist)"
   ]
  },
  {
   "cell_type": "code",
   "execution_count": 37,
   "id": "a1f39d52-2352-405c-aceb-80ac9a458ebb",
   "metadata": {},
   "outputs": [
    {
     "name": "stdout",
     "output_type": "stream",
     "text": [
      "['apple', 'banana']\n"
     ]
    }
   ],
   "source": [
    "thislist=[\"apple\",\"banana\",\"cherry\"]\n",
    "thislist.pop()\n",
    "print(thislist)"
   ]
  },
  {
   "cell_type": "code",
   "execution_count": 39,
   "id": "81ba490f-ad06-4e8e-a6a4-c6ff03cc57c3",
   "metadata": {},
   "outputs": [
    {
     "name": "stdout",
     "output_type": "stream",
     "text": [
      "['apple', 'cherry']\n"
     ]
    }
   ],
   "source": [
    "thislist=[\"apple\",\"banana\",\"cherry\"]\n",
    "thislist.remove(\"banana\")\n",
    "print(thislist)"
   ]
  },
  {
   "cell_type": "code",
   "execution_count": 41,
   "id": "ea97539d-e4f0-47a5-9362-863613b9d65d",
   "metadata": {},
   "outputs": [
    {
     "name": "stdout",
     "output_type": "stream",
     "text": [
      "['cherry', 'banana', 'apple']\n"
     ]
    }
   ],
   "source": [
    "thislist=[\"apple\",\"banana\",\"cherry\"]\n",
    "thislist.reverse()\n",
    "print(thislist)"
   ]
  },
  {
   "cell_type": "code",
   "execution_count": 43,
   "id": "3aa5e5c5-3dbe-4df4-9556-08c2063a2d8c",
   "metadata": {},
   "outputs": [
    {
     "name": "stdout",
     "output_type": "stream",
     "text": [
      "['apple', 'banana', 'cherry']\n"
     ]
    }
   ],
   "source": [
    "thislist=[\"apple\",\"banana\",\"cherry\"]\n",
    "mylist=thislist.copy()\n",
    "print(mylist)"
   ]
  },
  {
   "cell_type": "code",
   "execution_count": 47,
   "id": "ad216750-cfba-4dd0-9bda-bcf4eccaa654",
   "metadata": {},
   "outputs": [
    {
     "name": "stdout",
     "output_type": "stream",
     "text": [
      "['BMW', 'Ford', 'Volvo']\n"
     ]
    }
   ],
   "source": [
    "cars=[\"Ford\",\"BMW\",\"Volvo\"]\n",
    "cars.sort()\n",
    "print(cars)"
   ]
  },
  {
   "cell_type": "code",
   "execution_count": 51,
   "id": "0de44746-9e73-4797-b841-1bfb49b5b3b1",
   "metadata": {},
   "outputs": [
    {
     "name": "stdout",
     "output_type": "stream",
     "text": [
      "['a', 'b', 'c', 1, 2, 3]\n"
     ]
    }
   ],
   "source": [
    "list1=[\"a\",\"b\",\"c\"]\n",
    "list2=[1,2,3]\n",
    "list3=list1+list2\n",
    "print(list3)"
   ]
  },
  {
   "cell_type": "code",
   "execution_count": 75,
   "id": "400a6506-5096-4b83-9980-751d72222ea4",
   "metadata": {},
   "outputs": [
    {
     "name": "stdout",
     "output_type": "stream",
     "text": [
      "['apple', 'orange', 'kiwi', 'pineapple', 'grapes', 'banana', 'kiwi']\n",
      "2\n",
      "['apple', 'jackfruit', 'orange', 'kiwi', 'pineapple', 'grapes', 'banana', 'kiwi']\n",
      "['apple', 'orange', 'kiwi', 'pineapple', 'grapes']\n",
      "['apple', 'kiwi', 'pineapple', 'grapes']\n",
      "['grapes', 'pineapple', 'kiwi', 'apple']\n",
      "['grapes', 'pineapple', 'kiwi', 'apple']\n",
      "['apple', 'grapes', 'kiwi', 'pineapple']\n"
     ]
    }
   ],
   "source": [
    "fruits1=[\"apple\",\"orange\",\"kiwi\",\"pineapple\",\"grapes\",\"banana\"]\n",
    "fruits1.append(\"kiwi\")\n",
    "print(fruits1)\n",
    "print(fruits1.count(\"kiwi\"))\n",
    "fruits1.insert(1,\"jackfruit\")\n",
    "print(fruits1)\n",
    "fruits1.pop()\n",
    "fruits2=[\"apple\",\"orange\",\"kiwi\",\"pineapple\",\"grapes\",\"banana\"]\n",
    "fruits2.pop()\n",
    "print(fruits2)\n",
    "#remove\n",
    "fruits2.remove('orange')\n",
    "print(fruits2)\n",
    "#reverse\n",
    "fruits2.reverse()\n",
    "print(fruits2)\n",
    "#copy\n",
    "fruits2.copy()\n",
    "print(fruits2)\n",
    "#sort\n",
    "fruits2.sort()\n",
    "print(fruits2)"
   ]
  },
  {
   "cell_type": "code",
   "execution_count": 79,
   "id": "af197b70-2e7e-4eae-9f8c-3d9eb2d4ce1e",
   "metadata": {},
   "outputs": [
    {
     "name": "stdout",
     "output_type": "stream",
     "text": [
      "[1, 3, 5, 7, 9, [2, 4, 6, 8, 10]]\n",
      "[2, 4]\n"
     ]
    }
   ],
   "source": [
    "b=[2,4,6,8,10]\n",
    "a=[1,3,5,7,9,b]\n",
    "print(a)\n",
    "print(b[0:2])"
   ]
  },
  {
   "cell_type": "code",
   "execution_count": 83,
   "id": "7ad5cd86-a4c0-4d75-baba-b674c6912a73",
   "metadata": {},
   "outputs": [
    {
     "name": "stdout",
     "output_type": "stream",
     "text": [
      "4\n"
     ]
    }
   ],
   "source": [
    "#countlist\n",
    "lis_country=[\"India\",\"UAE\",\"America\",\"China\",\"America\",\"Nepal\",\"Pakistan\",\"America\",\"SriLanka\",\"Afganistan\",\"America\",\"Canada\",\"NewZealand\"]\n",
    "print(lis_country.count(\"America\"))"
   ]
  },
  {
   "cell_type": "code",
   "execution_count": 95,
   "id": "a70e9859-a7dd-4c55-a88d-741b70b5bd9a",
   "metadata": {},
   "outputs": [
    {
     "name": "stdout",
     "output_type": "stream",
     "text": [
      "China\n",
      "China\n"
     ]
    }
   ],
   "source": [
    "#index & negative index in list\n",
    "lis_country=[\"India\",\"UAE\",\"America\",\"China\",\"Nepal\",\"Pakistan\",\"SriLanka\",\"Afganistan\",\"Canada\",\"NewZealand\"]\n",
    "print(lis_country[3])\n",
    "print(lis_country[-7])"
   ]
  },
  {
   "cell_type": "code",
   "execution_count": 97,
   "id": "5a4a1b1c-0230-4805-a3fd-36f40a9133c0",
   "metadata": {},
   "outputs": [
    {
     "name": "stdout",
     "output_type": "stream",
     "text": [
      "['Pakistan', 'SriLanka', 'Afganistan', 'Canada']\n"
     ]
    }
   ],
   "source": [
    "#slicing\n",
    "lis_country=[\"India\",\"UAE\",\"America\",\"China\",\"Nepal\",\"Pakistan\",\"SriLanka\",\"Afganistan\",\"Canada\",\"NewZealand\"]\n",
    "print(lis_country[5:9])"
   ]
  },
  {
   "cell_type": "code",
   "execution_count": 101,
   "id": "23b6c281-d14a-49b7-a0d1-b400da2a87ce",
   "metadata": {},
   "outputs": [
    {
     "name": "stdout",
     "output_type": "stream",
     "text": [
      "['India', 'UAE', 'America', 'China', 'Nepal', 'Pakistan', 'SriLanka', 'Afganistan', 'Canada', 'NewZealand', 'UK']\n"
     ]
    }
   ],
   "source": [
    "#append\n",
    "lis_country=[\"India\",\"UAE\",\"America\",\"China\",\"Nepal\",\"Pakistan\",\"SriLanka\",\"Afganistan\",\"Canada\",\"NewZealand\"]\n",
    "lis_country.append(\"UK\")\n",
    "print(lis_country)"
   ]
  },
  {
   "cell_type": "code",
   "execution_count": 107,
   "id": "b40d31c8-61d4-4ca8-86b6-910ec9e2c06a",
   "metadata": {},
   "outputs": [
    {
     "name": "stdout",
     "output_type": "stream",
     "text": [
      "['India', 'UAE', 'America', 'China', 'Nepal', 'UK', 'Pakistan', 'SriLanka', 'Afganistan', 'Canada', 'NewZealand']\n"
     ]
    }
   ],
   "source": [
    "#insert\n",
    "lis_country=[\"India\",\"UAE\",\"America\",\"China\",\"Nepal\",\"Pakistan\",\"SriLanka\",\"Afganistan\",\"Canada\",\"NewZealand\"]\n",
    "#position is 6 so n-1 is position 5\n",
    "lis_country.insert(5,\"UK\")\n",
    "print(lis_country)"
   ]
  },
  {
   "cell_type": "code",
   "execution_count": 111,
   "id": "0f5acfd5-effc-4ab3-95a5-0e02e52cf266",
   "metadata": {},
   "outputs": [
    {
     "name": "stdout",
     "output_type": "stream",
     "text": [
      "['Afganistan', 'America', 'Canada', 'China', 'India', 'Nepal', 'NewZealand', 'Pakistan', 'SriLanka', 'UAE']\n"
     ]
    }
   ],
   "source": [
    "#sort the list in ascending order\n",
    "lis_country=[\"India\",\"UAE\",\"America\",\"China\",\"Nepal\",\"Pakistan\",\"SriLanka\",\"Afganistan\",\"Canada\",\"NewZealand\"]\n",
    "lis_country.sort()\n",
    "print(lis_country)"
   ]
  },
  {
   "cell_type": "code",
   "execution_count": 123,
   "id": "77122794-8b5e-426e-9b4d-a631152e6ca3",
   "metadata": {},
   "outputs": [
    {
     "name": "stdout",
     "output_type": "stream",
     "text": [
      "['UAE', 'SriLanka', 'Pakistan', 'NewZealand', 'Nepal', 'India', 'China', 'Canada', 'America', 'Afganistan']\n"
     ]
    }
   ],
   "source": [
    "#sorted list in decenting order\n",
    "lis_country=[\"India\",\"UAE\",\"America\",\"China\",\"Nepal\",\"Pakistan\",\"SriLanka\",\"Afganistan\",\"Canada\",\"NewZealand\"]\n",
    "lis_country.sort(reverse=\"true\")\n",
    "print(lis_country)"
   ]
  },
  {
   "cell_type": "markdown",
   "id": "a43c3a85-84dd-4ec1-b561-60e9688eda3a",
   "metadata": {},
   "source": [
    "#### zip()\n",
    "\n",
    "In Python, the `zip()` function is used to **combine multiple iterables (like lists, tuples, etc.) element-wise** into an iterator of tuples. Each tuple contains elements from the corresponding positions of the input iterables.\n",
    "\n",
    "---\n",
    "\n",
    "### **Syntax**\n",
    "\n",
    "```python\n",
    "zip(iterable1, iterable2, ...)\n",
    "```\n",
    "\n",
    "* **iterable1, iterable2, …**: Any number of iterable objects (lists, tuples, strings, etc.)\n",
    "* Returns a **zip object**, which is an iterator of tuples.\n",
    "\n",
    "---"
   ]
  },
  {
   "cell_type": "code",
   "execution_count": 3,
   "id": "f6da492f-79a2-4120-a868-8504b4cd3bdf",
   "metadata": {},
   "outputs": [
    {
     "name": "stdout",
     "output_type": "stream",
     "text": [
      "[(1, 'a'), (2, 'b'), (3, 'c')]\n"
     ]
    }
   ],
   "source": [
    "# Example 1: Basic usage\n",
    "\n",
    "list1 = [1, 2, 3]\n",
    "list2 = ['a', 'b', 'c']\n",
    "\n",
    "zipped = zip(list1, list2)\n",
    "print(list(zipped))\n"
   ]
  },
  {
   "cell_type": "code",
   "execution_count": 4,
   "id": "f9ba4747-760b-412d-b82e-f48dccfcf4ff",
   "metadata": {},
   "outputs": [
    {
     "name": "stdout",
     "output_type": "stream",
     "text": [
      "[(1, 'x', True), (2, 'y', False), (3, 'z', True)]\n"
     ]
    }
   ],
   "source": [
    "# Example 2: More than two lists\n",
    "\n",
    "list1 = [1, 2, 3]\n",
    "list2 = ['x', 'y', 'z']\n",
    "list3 = [True, False, True]\n",
    "\n",
    "zipped = zip(list1, list2, list3)\n",
    "print(list(zipped))\n"
   ]
  },
  {
   "cell_type": "code",
   "execution_count": 5,
   "id": "98b01117-f640-4577-b861-88e761c3fcf1",
   "metadata": {},
   "outputs": [
    {
     "name": "stdout",
     "output_type": "stream",
     "text": [
      "[(1, 'a'), (2, 'b')]\n"
     ]
    }
   ],
   "source": [
    "# Example 3: Lists of unequal length\n",
    "\n",
    "list1 = [1, 2, 3, 4]\n",
    "list2 = ['a', 'b']\n",
    "\n",
    "zipped = zip(list1, list2)\n",
    "print(list(zipped))\n"
   ]
  },
  {
   "cell_type": "code",
   "execution_count": 6,
   "id": "1f66d48d-c027-4383-b404-acea43fb451c",
   "metadata": {},
   "outputs": [
    {
     "name": "stdout",
     "output_type": "stream",
     "text": [
      "(1, 2, 3)\n",
      "('a', 'b', 'c')\n"
     ]
    }
   ],
   "source": [
    "# Example 4: Unzipping\n",
    "\n",
    "pairs = [(1, 'a'), (2, 'b'), (3, 'c')]\n",
    "nums, letters = zip(*pairs)\n",
    "print(nums)     # (1, 2, 3)\n",
    "print(letters)  # ('a', 'b', 'c')\n"
   ]
  },
  {
   "cell_type": "markdown",
   "id": "39c4c7aa-837b-4d39-8eb7-12d845de536b",
   "metadata": {},
   "source": [
    "`zip()` is often used for:\n",
    "\n",
    "* Iterating multiple lists simultaneously.\n",
    "* Creating dictionaries from two lists:\n"
   ]
  },
  {
   "cell_type": "code",
   "execution_count": 1,
   "id": "0ef835f1-ce52-45df-a465-836f0b930396",
   "metadata": {},
   "outputs": [
    {
     "name": "stdout",
     "output_type": "stream",
     "text": [
      "{'name': 'Alice', 'age': 25, 'city': 'NY'}\n"
     ]
    }
   ],
   "source": [
    "keys = ['name', 'age', 'city']\n",
    "values = ['Alice', 25, 'NY']\n",
    "\n",
    "my_dict = dict(zip(keys, values))\n",
    "print(my_dict)"
   ]
  },
  {
   "cell_type": "code",
   "execution_count": 137,
   "id": "e8e2ff2a-7b2b-4d65-8278-24ef6598cc1e",
   "metadata": {},
   "outputs": [
    {
     "name": "stdout",
     "output_type": "stream",
     "text": [
      "[('India', 0), ('UAE', 1), ('America', 2), ('China', 3), ('Nepal', 4), ('Pakistan', 5), ('SriLanka', 6), ('Afganistan', 7), ('Canada', 8), ('NewZealand', 9), ('UK', 10)]\n"
     ]
    }
   ],
   "source": [
    "#zip funtion\n",
    "lis_country=[\"India\",\"UAE\",\"America\",\"China\",\"Nepal\",\"Pakistan\",\"SriLanka\",\"Afganistan\",\"Canada\",\"NewZealand\",\"UK\",\"Saudi\"]\n",
    "index_country=list(range(11))\n",
    "print(list(zip(lis_country,index_country)))"
   ]
  },
  {
   "cell_type": "markdown",
   "id": "4ef523b5-ea57-42d3-8685-4c8053224161",
   "metadata": {},
   "source": [
    "# Tuple\n",
    "\n",
    "In Python, a **tuple** is a built-in **immutable** sequence type, similar to a list, but **cannot be changed after creation**. Tuples are often used to store **related pieces of information** and can contain **heterogeneous elements** (different data types).\n",
    "\n",
    "---\n",
    "\n",
    "## **1. Creating a Tuple**\n",
    "\n",
    "### **Syntax**\n",
    "\n",
    "```python\n",
    "tuple_name = (element1, element2, ...)\n",
    "```\n",
    "\n",
    "### **Examples**"
   ]
  },
  {
   "cell_type": "code",
   "execution_count": 26,
   "id": "3c1f8d45-ec83-44a5-9d08-9257f2db2aaf",
   "metadata": {},
   "outputs": [],
   "source": [
    "# Empty tuple\n",
    "t1 = ()"
   ]
  },
  {
   "cell_type": "code",
   "execution_count": 27,
   "id": "4a9d9fa6-6525-42b7-9f06-6c55d36595ef",
   "metadata": {},
   "outputs": [],
   "source": [
    "# Tuple with integers\n",
    "t2 = (1, 2, 3, 4)\n"
   ]
  },
  {
   "cell_type": "code",
   "execution_count": 28,
   "id": "3f33b4fd-4993-45f8-8306-75ae3691f8d9",
   "metadata": {},
   "outputs": [],
   "source": [
    "# Tuple with mixed data types\n",
    "t3 = (1, \"hello\", 3.5, True)\n"
   ]
  },
  {
   "cell_type": "code",
   "execution_count": 29,
   "id": "06688c7d-9002-4958-b3c2-8b3e5e10c568",
   "metadata": {},
   "outputs": [],
   "source": [
    "# Single element tuple (comma is necessary!)\n",
    "t4 = (5,)"
   ]
  },
  {
   "cell_type": "markdown",
   "id": "806fa906-0265-4b17-92dc-63173c30fdd4",
   "metadata": {},
   "source": [
    "## **2. Accessing Elements**\n",
    "\n",
    "Tuples support **indexing and slicing** like lists.\n"
   ]
  },
  {
   "cell_type": "code",
   "execution_count": 30,
   "id": "217d7e5e-de0b-4f41-9613-d4de0dfcfd94",
   "metadata": {},
   "outputs": [],
   "source": [
    "t = (10, 20, 30, 40, 50)"
   ]
  },
  {
   "cell_type": "code",
   "execution_count": 31,
   "id": "5ce686c1-2b8f-4a47-9f29-2f793d0fed9a",
   "metadata": {},
   "outputs": [
    {
     "name": "stdout",
     "output_type": "stream",
     "text": [
      "10\n"
     ]
    }
   ],
   "source": [
    "print(t[0]) "
   ]
  },
  {
   "cell_type": "code",
   "execution_count": 32,
   "id": "1daa05a5-a7e7-4978-a837-3fd38fba4a05",
   "metadata": {},
   "outputs": [
    {
     "name": "stdout",
     "output_type": "stream",
     "text": [
      "50\n"
     ]
    }
   ],
   "source": [
    "print(t[-1]) "
   ]
  },
  {
   "cell_type": "code",
   "execution_count": 33,
   "id": "caad41c2-b742-482e-95ba-191f638c8b47",
   "metadata": {},
   "outputs": [
    {
     "name": "stdout",
     "output_type": "stream",
     "text": [
      "(20, 30, 40)\n"
     ]
    }
   ],
   "source": [
    "print(t[1:4])"
   ]
  },
  {
   "cell_type": "markdown",
   "id": "3f68124c-5ae2-4d34-9634-444e9d09d919",
   "metadata": {},
   "source": [
    "## **3. Tuple Operations**"
   ]
  },
  {
   "cell_type": "code",
   "execution_count": 34,
   "id": "db3a7d55-179a-400a-87e7-c137df8431df",
   "metadata": {},
   "outputs": [],
   "source": [
    "t1 = (1, 2, 3)\n",
    "t2 = (4, 5)"
   ]
  },
  {
   "cell_type": "code",
   "execution_count": 35,
   "id": "3b06e229-b762-4d3f-9b57-566e11ea501e",
   "metadata": {},
   "outputs": [
    {
     "name": "stdout",
     "output_type": "stream",
     "text": [
      "(1, 2, 3, 4, 5)\n"
     ]
    }
   ],
   "source": [
    "# Concatenation\n",
    "t3 = t1 + t2\n",
    "print(t3)  \n"
   ]
  },
  {
   "cell_type": "code",
   "execution_count": 36,
   "id": "30cd9c4c-a620-4fc7-a11e-3772bc408118",
   "metadata": {},
   "outputs": [
    {
     "name": "stdout",
     "output_type": "stream",
     "text": [
      "(4, 5, 4, 5, 4, 5)\n"
     ]
    }
   ],
   "source": [
    "# Repetition\n",
    "print(t2 * 3) \n"
   ]
  },
  {
   "cell_type": "code",
   "execution_count": 37,
   "id": "08b5b69c-9086-4432-9869-815975ae4a4c",
   "metadata": {},
   "outputs": [
    {
     "name": "stdout",
     "output_type": "stream",
     "text": [
      "True\n",
      "False\n"
     ]
    }
   ],
   "source": [
    "# Membership\n",
    "print(3 in t1)  \n",
    "print(6 in t2)  \n"
   ]
  },
  {
   "cell_type": "markdown",
   "id": "8105bb01-8609-4fb9-bfcf-7a1707fd60c6",
   "metadata": {},
   "source": [
    "## **4. Tuple Methods**\n",
    "\n",
    "Tuples have **only two built-in methods**:\n",
    "\n",
    "1. `count()` – Counts occurrences of a value"
   ]
  },
  {
   "cell_type": "code",
   "execution_count": 39,
   "id": "31a063a6-48aa-4467-b0c1-eda0ff47678d",
   "metadata": {},
   "outputs": [
    {
     "name": "stdout",
     "output_type": "stream",
     "text": [
      "2\n"
     ]
    }
   ],
   "source": [
    "t = (1, 2, 2, 3)\n",
    "print(t.count(2))  \n"
   ]
  },
  {
   "cell_type": "markdown",
   "id": "19306564-0137-44b8-82b3-1695b6082acf",
   "metadata": {},
   "source": [
    "2. `index()` – Returns first index of a value"
   ]
  },
  {
   "cell_type": "code",
   "execution_count": 40,
   "id": "d726985c-8b86-49ed-abb2-58f510ce4970",
   "metadata": {},
   "outputs": [
    {
     "name": "stdout",
     "output_type": "stream",
     "text": [
      "1\n"
     ]
    }
   ],
   "source": [
    "t = (10, 20, 30)\n",
    "print(t.index(20)) \n"
   ]
  },
  {
   "cell_type": "markdown",
   "id": "be9f2e59-e977-4a6a-af1a-0d499d8e38f8",
   "metadata": {},
   "source": [
    "## **5. Why Use Tuples?**\n",
    "\n",
    "* **Immutable:** Cannot accidentally change data.\n",
    "* **Faster** than lists for iteration.\n",
    "* Can be used as **keys in dictionaries** (lists cannot).\n",
    "* Good for **grouping related data**.\n",
    "\n",
    "---\n",
    "\n",
    "## **6. Tuple Unpacking**\n",
    "\n",
    "You can assign tuple elements to variables directly:\n"
   ]
  },
  {
   "cell_type": "code",
   "execution_count": 41,
   "id": "72a87699-262c-4851-8793-663fe71e51c6",
   "metadata": {},
   "outputs": [
    {
     "name": "stdout",
     "output_type": "stream",
     "text": [
      "1 2 3\n"
     ]
    }
   ],
   "source": [
    "t = (1, 2, 3)\n",
    "a, b, c = t\n",
    "print(a, b, c)  \n"
   ]
  },
  {
   "cell_type": "code",
   "execution_count": 44,
   "id": "f7664041-58b8-449f-a7ee-e729e08b44fd",
   "metadata": {},
   "outputs": [],
   "source": [
    "# tuple task\n",
    "\n",
    "tuple1=(2.3,6.9,25,67,26,7)\n",
    "tuple2=(\"s\",'er','r','ggy','h')"
   ]
  },
  {
   "cell_type": "code",
   "execution_count": 43,
   "id": "9c72c026-1433-423d-99e6-11545dfd03e4",
   "metadata": {},
   "outputs": [
    {
     "name": "stdout",
     "output_type": "stream",
     "text": [
      "tuple1[0]: 2.3\n",
      "last item: 7\n",
      "selected items: ('er', 'r')\n",
      "(2.3, 6.9, 25, 67, 26, 7, 's', 'er', 'r', 'ggy', 'h')\n"
     ]
    }
   ],
   "source": [
    "print(\"tuple1[0]:\",tuple1[0])\n",
    "print(\"last item:\",tuple1[5])\n",
    "print(\"selected items:\",tuple2[1:3])\n",
    "tuple3=tuple1+tuple2\n",
    "print(tuple3)"
   ]
  },
  {
   "cell_type": "code",
   "execution_count": 25,
   "id": "9b1465e2-43ee-4122-a346-c4fe9240729f",
   "metadata": {},
   "outputs": [
    {
     "name": "stdout",
     "output_type": "stream",
     "text": [
      "6\n"
     ]
    }
   ],
   "source": [
    "#length\n",
    "print(len(tuple1))"
   ]
  },
  {
   "cell_type": "code",
   "execution_count": 10,
   "id": "c8f95196-80a6-4e24-8e56-c9801e178386",
   "metadata": {},
   "outputs": [
    {
     "name": "stdout",
     "output_type": "stream",
     "text": [
      "<class 'tuple'>\n"
     ]
    }
   ],
   "source": [
    "#type\n",
    "print(type(tuple2))"
   ]
  },
  {
   "cell_type": "code",
   "execution_count": 11,
   "id": "f5bd36c5-f1f6-4508-95b5-fbd32d3b1621",
   "metadata": {},
   "outputs": [
    {
     "name": "stdout",
     "output_type": "stream",
     "text": [
      "[2.3, 6.9, 25, 67, 26, 7]\n"
     ]
    }
   ],
   "source": [
    "#change tuple to list\n",
    "list1=list(tuple1)\n",
    "print(list1)"
   ]
  },
  {
   "cell_type": "code",
   "execution_count": 12,
   "id": "27ad522f-0af2-40e9-bf1f-5869b0bd226d",
   "metadata": {},
   "outputs": [
    {
     "name": "stdout",
     "output_type": "stream",
     "text": [
      "[2.3, 6.9, 25, 67, 26, 7, 999]\n",
      "[2.3, 6.9, 25, 67, 26, 7, 999, 99]\n"
     ]
    }
   ],
   "source": [
    "#adding values to list using append(). append() add values at the last of the list.\n",
    "list1.append(999)\n",
    "print(list1)\n",
    "list1.append(99)\n",
    "print(list1)"
   ]
  },
  {
   "cell_type": "code",
   "execution_count": 13,
   "id": "a2eb8df3-0e5e-45c3-a30a-dea94aa32bd4",
   "metadata": {},
   "outputs": [
    {
     "name": "stdout",
     "output_type": "stream",
     "text": [
      "(2.3, 6.9, 25, 67, 26, 7, 999, 99)\n"
     ]
    }
   ],
   "source": [
    "#change list to tuple\n",
    "tuple11=tuple(list1)\n",
    "print(tuple11)"
   ]
  },
  {
   "cell_type": "code",
   "execution_count": 14,
   "id": "8771f118-46ab-490c-8809-c4e0180741a3",
   "metadata": {},
   "outputs": [
    {
     "name": "stdout",
     "output_type": "stream",
     "text": [
      "('apple', 'banana', 'cherry')\n"
     ]
    }
   ],
   "source": [
    "#tuple() constructor\n",
    "thistuple=tuple((\"apple\",\"banana\",\"cherry\"))\n",
    "print(thistuple)"
   ]
  },
  {
   "cell_type": "code",
   "execution_count": 27,
   "id": "576214d3-2c62-4bb1-890b-b467db5d3a90",
   "metadata": {},
   "outputs": [
    {
     "name": "stdout",
     "output_type": "stream",
     "text": [
      "3\n",
      "1\n",
      "0\n",
      "3\n"
     ]
    }
   ],
   "source": [
    "#count tuple. count() used to find the no.of times the entries are repeated\n",
    "tuple4=(2,2,2,5,7,8,90)\n",
    "print(tuple4.count(2))\n",
    "print(tuple4.count(5))\n",
    "print(tuple4.count(9))\n",
    "thistuple=(1,3,7,8,7,5,4,7,6,8,5)\n",
    "x=thistuple.count(7)\n",
    "print(x)"
   ]
  },
  {
   "cell_type": "code",
   "execution_count": 31,
   "id": "48902ab4-5168-4282-95e0-1f4d95d1ebde",
   "metadata": {},
   "outputs": [
    {
     "name": "stdout",
     "output_type": "stream",
     "text": [
      "apple\n",
      "orange\n"
     ]
    }
   ],
   "source": [
    "#unpacking\n",
    "fruits2=('apple','orange','kiwi','pineapple')# This is packing\n",
    "(red,orange,green,yellow)=fruits2 #this is unpacking that means assigning values to the packed tuples to this tuple if we want to print red it will show corresponding packed variable apple the balance variables also  like thateach are assigned to the corresponding positions\n",
    "print(red)\n",
    "print(orange)\n",
    "print(yellow)"
   ]
  },
  {
   "cell_type": "code",
   "execution_count": 5,
   "id": "b84460a1-f549-44dc-a756-fc5d19faab83",
   "metadata": {},
   "outputs": [
    {
     "name": "stdout",
     "output_type": "stream",
     "text": [
      "mango\n",
      "grapes\n",
      "['avacado', 'banana']\n"
     ]
    }
   ],
   "source": [
    "fruits=(\"mango\",\"avacado\",\"banana\",\"grapes\")\n",
    "(fiber,*healthy,sweet)=fruits# * sign is used to store the balance variable of the the tuple unless first & last variable\n",
    "print(fiber)\n",
    "print(sweet)\n",
    "print(healthy)"
   ]
  },
  {
   "cell_type": "markdown",
   "id": "745b939f-1e23-458c-8603-63fdea74fadc",
   "metadata": {},
   "source": [
    "\n",
    "# Set \n",
    "\n",
    "A **set** is a built-in data type in Python that represents an **unordered collection of unique elements**.\n",
    "\n",
    "---\n",
    "\n",
    "## ✅ 1. **Creating a Set**"
   ]
  },
  {
   "cell_type": "code",
   "execution_count": 52,
   "id": "d0680445-8b8c-4c3e-bb43-5e1690d95c17",
   "metadata": {},
   "outputs": [],
   "source": [
    "# Empty set\n",
    "s1 = set()"
   ]
  },
  {
   "cell_type": "code",
   "execution_count": 53,
   "id": "0112f5b5-8e2f-4b36-b564-ecf701d611d4",
   "metadata": {},
   "outputs": [],
   "source": [
    "# With elements\n",
    "s2 = {1, 2, 3, 4}"
   ]
  },
  {
   "cell_type": "code",
   "execution_count": 54,
   "id": "6a7b3f94-95f8-4470-9045-e002a84f6683",
   "metadata": {},
   "outputs": [
    {
     "name": "stdout",
     "output_type": "stream",
     "text": [
      "{1, 2, 3, 4}\n"
     ]
    }
   ],
   "source": [
    "# Duplicate values are removed automatically\n",
    "s3 = {1, 2, 2, 3, 4}\n",
    "print(s3)"
   ]
  },
  {
   "cell_type": "markdown",
   "id": "4875e34b-c006-4533-8619-be69189517bb",
   "metadata": {},
   "source": [
    "---\n",
    "\n",
    "## ✅ 2. **Properties of Sets**\n",
    "\n",
    "* **Unordered** → no indexing (`s[0]` ❌).\n",
    "* **Unique values** only (no duplicates).\n",
    "* **Mutable** → you can add or remove elements.\n",
    "* Can only contain **immutable** objects (no lists or dicts inside a set).\n",
    "\n",
    "---"
   ]
  },
  {
   "cell_type": "markdown",
   "id": "06f7e7e9-7a8b-4c11-9458-5a57847c9538",
   "metadata": {},
   "source": [
    "## ✅ 3. **Set Operations**\n",
    "\n",
    "Sets are mostly used in **mathematical operations**.\n"
   ]
  },
  {
   "cell_type": "code",
   "execution_count": 55,
   "id": "85c50049-a227-4d09-a425-2b0f49b24eff",
   "metadata": {},
   "outputs": [],
   "source": [
    "A = {1, 2, 3, 4}\n",
    "B = {3, 4, 5, 6}"
   ]
  },
  {
   "cell_type": "code",
   "execution_count": 56,
   "id": "268f807e-89c6-4112-aa0b-ae8812dbe80f",
   "metadata": {},
   "outputs": [
    {
     "name": "stdout",
     "output_type": "stream",
     "text": [
      "{1, 2, 3, 4, 5, 6}\n"
     ]
    }
   ],
   "source": [
    "print(A | B)   # Union"
   ]
  },
  {
   "cell_type": "code",
   "execution_count": 57,
   "id": "054857bc-464c-4939-9ad3-5a43df492d5d",
   "metadata": {},
   "outputs": [
    {
     "name": "stdout",
     "output_type": "stream",
     "text": [
      "{3, 4}\n"
     ]
    }
   ],
   "source": [
    "print(A & B)   # Intersection"
   ]
  },
  {
   "cell_type": "code",
   "execution_count": 58,
   "id": "ce7984aa-51e6-4504-ac86-8f5a21fee223",
   "metadata": {},
   "outputs": [
    {
     "name": "stdout",
     "output_type": "stream",
     "text": [
      "{1, 2}\n"
     ]
    }
   ],
   "source": [
    "print(A - B)   # Difference"
   ]
  },
  {
   "cell_type": "code",
   "execution_count": 59,
   "id": "110828a0-8b5c-4e8a-95e4-e0a12f50f436",
   "metadata": {},
   "outputs": [
    {
     "name": "stdout",
     "output_type": "stream",
     "text": [
      "{1, 2, 5, 6}\n"
     ]
    }
   ],
   "source": [
    "print(A ^ B)   # Symmetric Difference"
   ]
  },
  {
   "cell_type": "markdown",
   "id": "4db48a47-9842-482e-8f69-38545d7372b3",
   "metadata": {},
   "source": [
    "## ✅ 4. **Set Methods**"
   ]
  },
  {
   "cell_type": "code",
   "execution_count": 66,
   "id": "ad1bf080-2c12-45d3-ac77-948077405240",
   "metadata": {},
   "outputs": [],
   "source": [
    "s = {10, 20, 30}"
   ]
  },
  {
   "cell_type": "code",
   "execution_count": 67,
   "id": "02ea43d0-4013-4a31-a7bc-b924525737f9",
   "metadata": {},
   "outputs": [
    {
     "data": {
      "text/plain": [
       "{10, 20, 30, 40}"
      ]
     },
     "execution_count": 67,
     "metadata": {},
     "output_type": "execute_result"
    }
   ],
   "source": [
    "s.add(40)        # Add element\n",
    "s"
   ]
  },
  {
   "cell_type": "code",
   "execution_count": 68,
   "id": "1be2fba5-97b7-47cd-aab6-cbcc57132acf",
   "metadata": {},
   "outputs": [
    {
     "data": {
      "text/plain": [
       "{10, 30, 40}"
      ]
     },
     "execution_count": 68,
     "metadata": {},
     "output_type": "execute_result"
    }
   ],
   "source": [
    "s.remove(20)     # Remove (error if not found)\n",
    "s"
   ]
  },
  {
   "cell_type": "code",
   "execution_count": 69,
   "id": "f84a655a-80cc-4790-810e-ecc83c517cea",
   "metadata": {},
   "outputs": [
    {
     "data": {
      "text/plain": [
       "{10, 30, 40}"
      ]
     },
     "execution_count": 69,
     "metadata": {},
     "output_type": "execute_result"
    }
   ],
   "source": [
    "s.discard(50)    # Remove safely (no error)\n",
    "s"
   ]
  },
  {
   "cell_type": "code",
   "execution_count": 70,
   "id": "ebf90cbd-06b7-4a11-a406-862cad0e6bbb",
   "metadata": {},
   "outputs": [
    {
     "data": {
      "text/plain": [
       "{10, 30}"
      ]
     },
     "execution_count": 70,
     "metadata": {},
     "output_type": "execute_result"
    }
   ],
   "source": [
    "s.pop()          # Remove random element\n",
    "s"
   ]
  },
  {
   "cell_type": "code",
   "execution_count": 71,
   "id": "0e172a1b-daeb-4dee-94aa-b83cc0eee50d",
   "metadata": {},
   "outputs": [
    {
     "data": {
      "text/plain": [
       "set()"
      ]
     },
     "execution_count": 71,
     "metadata": {},
     "output_type": "execute_result"
    }
   ],
   "source": [
    "s.clear()        # Empty the set\n",
    "s"
   ]
  },
  {
   "cell_type": "markdown",
   "id": "948ec6e9-a08a-4ad2-847a-fce077a4e660",
   "metadata": {},
   "source": [
    "## ✅ 5. **Use Cases of Sets**\n",
    "\n",
    "* Removing duplicates from a list:\n"
   ]
  },
  {
   "cell_type": "code",
   "execution_count": 72,
   "id": "440ec77e-189d-4333-b5ab-40ef78cdb856",
   "metadata": {},
   "outputs": [
    {
     "name": "stdout",
     "output_type": "stream",
     "text": [
      "[1, 2, 3, 4, 5]\n"
     ]
    }
   ],
   "source": [
    "nums = [1, 2, 2, 3, 4, 4, 5]\n",
    "unique_nums = list(set(nums))\n",
    "print(unique_nums)"
   ]
  },
  {
   "cell_type": "markdown",
   "id": "0b0ccc5e-fec4-46cb-8834-f18836818f0e",
   "metadata": {},
   "source": [
    "* Fast membership testing (`in` is faster with sets than lists).\n",
    "* Performing math-like operations on data.\n",
    "\n",
    "---"
   ]
  },
  {
   "cell_type": "markdown",
   "id": "a03103b6-48f5-42ef-b239-dd0ce8ddbd0f",
   "metadata": {},
   "source": [
    "\n",
    "# Dictionary (`dict`)\n",
    "\n",
    "A **dictionary** is a built-in Python data type that stores data in **key-value pairs**.\n",
    "It is also called an **associative array** or **hash map** in other languages.\n",
    "\n",
    "---\n",
    "\n",
    "## ✅ 1. **Creating a Dictionary**"
   ]
  },
  {
   "cell_type": "code",
   "execution_count": 74,
   "id": "0e3189d3-da65-4345-8ad0-4fea88eb73e5",
   "metadata": {},
   "outputs": [],
   "source": [
    "# Empty dictionary\n",
    "d1 = {}"
   ]
  },
  {
   "cell_type": "code",
   "execution_count": 75,
   "id": "b4f46186-59bd-4e90-950e-22400361d0a4",
   "metadata": {},
   "outputs": [],
   "source": [
    "# With values\n",
    "d2 = {\"name\": \"Alice\", \"age\": 25, \"city\": \"New York\"}"
   ]
  },
  {
   "cell_type": "code",
   "execution_count": 76,
   "id": "da4d3063-ec38-4323-902b-eed4c58fcb71",
   "metadata": {},
   "outputs": [],
   "source": [
    "# Using dict() function\n",
    "d3 = dict([(\"a\", 1), (\"b\", 2)])"
   ]
  },
  {
   "cell_type": "markdown",
   "id": "60a10a00-c7dd-4611-821e-93e1b4ae9933",
   "metadata": {},
   "source": [
    "## ✅ 2. **Accessing Values**"
   ]
  },
  {
   "cell_type": "code",
   "execution_count": 77,
   "id": "a8ea29f2-e9e7-4035-8faa-3ddd2a7b1c4b",
   "metadata": {},
   "outputs": [],
   "source": [
    "person = {\"name\": \"Bob\", \"age\": 30}"
   ]
  },
  {
   "cell_type": "code",
   "execution_count": 78,
   "id": "e3260ae9-616c-4fe0-8790-7aa70154db46",
   "metadata": {},
   "outputs": [
    {
     "name": "stdout",
     "output_type": "stream",
     "text": [
      "Bob\n"
     ]
    }
   ],
   "source": [
    "print(person[\"name\"])"
   ]
  },
  {
   "cell_type": "code",
   "execution_count": 79,
   "id": "ed86e9a3-33ae-465c-b0ab-c30358eb7f02",
   "metadata": {},
   "outputs": [
    {
     "name": "stdout",
     "output_type": "stream",
     "text": [
      "30\n"
     ]
    }
   ],
   "source": [
    "print(person.get(\"age\")) "
   ]
  },
  {
   "cell_type": "code",
   "execution_count": 80,
   "id": "5dca39e2-b40a-4906-a1db-52556a7ee132",
   "metadata": {},
   "outputs": [
    {
     "name": "stdout",
     "output_type": "stream",
     "text": [
      "Not found\n"
     ]
    }
   ],
   "source": [
    "print(person.get(\"gender\", \"Not found\"))"
   ]
  },
  {
   "cell_type": "markdown",
   "id": "09f06882-efb6-4487-8220-59dab8614f55",
   "metadata": {},
   "source": [
    "## ✅ 3. **Adding / Updating**"
   ]
  },
  {
   "cell_type": "code",
   "execution_count": 83,
   "id": "cf66272b-267f-48eb-87c9-22af362bae1e",
   "metadata": {},
   "outputs": [],
   "source": [
    "person = {\"name\": \"Bob\", \"age\": 30}"
   ]
  },
  {
   "cell_type": "code",
   "execution_count": 84,
   "id": "44501c77-7951-4e40-856e-7658ba78f6e6",
   "metadata": {},
   "outputs": [
    {
     "data": {
      "text/plain": [
       "{'name': 'Bob', 'age': 31}"
      ]
     },
     "execution_count": 84,
     "metadata": {},
     "output_type": "execute_result"
    }
   ],
   "source": [
    "person[\"age\"] = 31         # update value\n",
    "person"
   ]
  },
  {
   "cell_type": "code",
   "execution_count": 85,
   "id": "e47f73f6-8d0f-40f2-aa9c-ffef276be9b7",
   "metadata": {},
   "outputs": [
    {
     "data": {
      "text/plain": [
       "{'name': 'Bob', 'age': 31, 'city': 'Paris'}"
      ]
     },
     "execution_count": 85,
     "metadata": {},
     "output_type": "execute_result"
    }
   ],
   "source": [
    "person[\"city\"] = \"Paris\"   # add new key-value\n",
    "person"
   ]
  },
  {
   "cell_type": "code",
   "execution_count": 86,
   "id": "59b58ffd-0dd2-497c-895a-86cf167baa9c",
   "metadata": {},
   "outputs": [
    {
     "name": "stdout",
     "output_type": "stream",
     "text": [
      "{'name': 'Bob', 'age': 31, 'city': 'Paris'}\n"
     ]
    }
   ],
   "source": [
    "print(person)  "
   ]
  },
  {
   "cell_type": "markdown",
   "id": "ef895237-8a61-4f29-93b2-a4834804f395",
   "metadata": {},
   "source": [
    "## ✅ 4. **Deleting**"
   ]
  },
  {
   "cell_type": "code",
   "execution_count": 87,
   "id": "ada2147c-5c9b-4a7f-a617-0ce0940e406c",
   "metadata": {},
   "outputs": [],
   "source": [
    "person = {\"name\": \"Bob\", \"age\": 31, \"city\": \"Paris\"}"
   ]
  },
  {
   "cell_type": "code",
   "execution_count": 88,
   "id": "e157847e-aba4-4837-ae42-0380234af4c0",
   "metadata": {},
   "outputs": [
    {
     "data": {
      "text/plain": [
       "{'name': 'Bob', 'age': 31}"
      ]
     },
     "execution_count": 88,
     "metadata": {},
     "output_type": "execute_result"
    }
   ],
   "source": [
    "del person[\"city\"]    # remove by key\n",
    "person"
   ]
  },
  {
   "cell_type": "code",
   "execution_count": 89,
   "id": "90f807f9-4e00-4888-9d90-5f57afbefe90",
   "metadata": {},
   "outputs": [
    {
     "data": {
      "text/plain": [
       "{'name': 'Bob'}"
      ]
     },
     "execution_count": 89,
     "metadata": {},
     "output_type": "execute_result"
    }
   ],
   "source": [
    "age = person.pop(\"age\")  # remove & return value\n",
    "person"
   ]
  },
  {
   "cell_type": "code",
   "execution_count": 90,
   "id": "116ac2a0-67de-4bb8-80cd-60b17711fb07",
   "metadata": {},
   "outputs": [
    {
     "data": {
      "text/plain": [
       "{}"
      ]
     },
     "execution_count": 90,
     "metadata": {},
     "output_type": "execute_result"
    }
   ],
   "source": [
    "person.clear()        # empty dictionary\n",
    "person"
   ]
  },
  {
   "cell_type": "markdown",
   "id": "6adce54a-77f6-4bc4-bfb5-455b5b8c41b4",
   "metadata": {},
   "source": [
    "## ✅ 5. **Dictionary Methods**\n",
    "\n",
    "* `keys()` → returns all keys\n",
    "* `values()` → returns all values\n",
    "* `items()` → returns all key-value pairs\n",
    "* `update()` → merges another dictionary\n",
    "* `pop()` → removes a key and returns its value\n"
   ]
  },
  {
   "cell_type": "code",
   "execution_count": 5,
   "id": "d28c209d-edcb-44eb-a486-98dc861e301c",
   "metadata": {},
   "outputs": [],
   "source": [
    "# Sample dictionary\n",
    "student = {\n",
    "    \"name\": \"Revathy\",\n",
    "    \"age\": 22,\n",
    "    \"course\": \"Data Science\"\n",
    "}\n"
   ]
  },
  {
   "cell_type": "code",
   "execution_count": 6,
   "id": "3437430f-687b-4493-88b6-dec195eb245f",
   "metadata": {},
   "outputs": [
    {
     "name": "stdout",
     "output_type": "stream",
     "text": [
      "dict_keys(['name', 'age', 'course'])\n"
     ]
    }
   ],
   "source": [
    "# keys()\n",
    "\n",
    "print(student.keys())\n"
   ]
  },
  {
   "cell_type": "code",
   "execution_count": 7,
   "id": "9c4add09-3053-419f-9c9a-76910e5eadf0",
   "metadata": {},
   "outputs": [
    {
     "name": "stdout",
     "output_type": "stream",
     "text": [
      "dict_values(['Revathy', 22, 'Data Science'])\n"
     ]
    }
   ],
   "source": [
    "# vaues()\n",
    "\n",
    "print(student.values())\n"
   ]
  },
  {
   "cell_type": "code",
   "execution_count": 8,
   "id": "adcf91fe-e4d9-430f-8bee-998e0e31f680",
   "metadata": {},
   "outputs": [
    {
     "name": "stdout",
     "output_type": "stream",
     "text": [
      "dict_items([('name', 'Revathy'), ('age', 22), ('course', 'Data Science')])\n"
     ]
    }
   ],
   "source": [
    "# items()\n",
    "\n",
    "print(student.items())\n"
   ]
  },
  {
   "cell_type": "code",
   "execution_count": 9,
   "id": "d3f0daf2-fd74-49e1-a408-10eec9e06db0",
   "metadata": {},
   "outputs": [
    {
     "name": "stdout",
     "output_type": "stream",
     "text": [
      "{'name': 'Revathy', 'age': 23, 'course': 'Data Science', 'city': 'Chennai'}\n"
     ]
    }
   ],
   "source": [
    "# update()\n",
    "\n",
    "student.update({\"age\": 23, \"city\": \"Chennai\"})\n",
    "print(student)\n"
   ]
  },
  {
   "cell_type": "code",
   "execution_count": 10,
   "id": "bacad9af-4708-4084-a392-18582cebc2d0",
   "metadata": {},
   "outputs": [
    {
     "name": "stdout",
     "output_type": "stream",
     "text": [
      "Removed value: Data Science\n",
      "Updated dictionary: {'name': 'Revathy', 'age': 23, 'city': 'Chennai'}\n"
     ]
    }
   ],
   "source": [
    "# pop()\n",
    "\n",
    "removed = student.pop(\"course\")\n",
    "print(\"Removed value:\", removed)\n",
    "print(\"Updated dictionary:\", student)\n"
   ]
  },
  {
   "cell_type": "code",
   "execution_count": 11,
   "id": "ca2e0805-0e77-4384-8044-9dc6d0014f45",
   "metadata": {},
   "outputs": [
    {
     "name": "stdout",
     "output_type": "stream",
     "text": [
      "{'a': 1, 'b': 3, 'c': 4}\n"
     ]
    }
   ],
   "source": [
    "d = {\"a\": 1, \"b\": 2}\n",
    "d.update({\"b\": 3, \"c\": 4})\n",
    "print(d)   # {'a': 1, 'b': 3, 'c': 4}\n"
   ]
  },
  {
   "cell_type": "markdown",
   "id": "82642910-321e-4f90-8eac-dbcc97bddb2e",
   "metadata": {},
   "source": [
    "## ✅ 6. **Looping through Dictionary**"
   ]
  },
  {
   "cell_type": "code",
   "execution_count": 12,
   "id": "a09e4fac-6075-4792-b415-b9eb85eedc8a",
   "metadata": {},
   "outputs": [],
   "source": [
    "student = {\"id\": 101, \"name\": \"Alice\", \"marks\": 85}"
   ]
  },
  {
   "cell_type": "code",
   "execution_count": 13,
   "id": "bd11bd4c-e25e-4b56-96d5-864b986c147a",
   "metadata": {},
   "outputs": [
    {
     "name": "stdout",
     "output_type": "stream",
     "text": [
      "id\n",
      "name\n",
      "marks\n"
     ]
    }
   ],
   "source": [
    "# Keys\n",
    "for k in student.keys():\n",
    "    print(k)\n"
   ]
  },
  {
   "cell_type": "code",
   "execution_count": 14,
   "id": "e2466bb5-f77f-4fab-8c09-f3b9bd387f1c",
   "metadata": {},
   "outputs": [
    {
     "name": "stdout",
     "output_type": "stream",
     "text": [
      "101\n",
      "Alice\n",
      "85\n"
     ]
    }
   ],
   "source": [
    "# Values\n",
    "for v in student.values():\n",
    "    print(v)"
   ]
  },
  {
   "cell_type": "code",
   "execution_count": 15,
   "id": "3dd83cf6-801a-4ae1-8423-84e2354fa0e0",
   "metadata": {},
   "outputs": [
    {
     "name": "stdout",
     "output_type": "stream",
     "text": [
      "id : 101\n",
      "name : Alice\n",
      "marks : 85\n"
     ]
    }
   ],
   "source": [
    "# Both\n",
    "for k, v in student.items():\n",
    "    print(k, \":\", v)\n"
   ]
  },
  {
   "cell_type": "markdown",
   "id": "09c8c996-4b3b-491c-9dad-8ce9d6c0c27f",
   "metadata": {},
   "source": [
    "## ✅ 7. **Nesting**\n",
    "\n",
    "Dictionaries can hold lists or other dictionaries inside:"
   ]
  },
  {
   "cell_type": "code",
   "execution_count": 19,
   "id": "3b4a0844-0b6f-4930-93a9-6edf34929f4b",
   "metadata": {},
   "outputs": [
    {
     "name": "stdout",
     "output_type": "stream",
     "text": [
      "Alice\n"
     ]
    }
   ],
   "source": [
    "students = {\n",
    "    1: {\"name\": \"Alice\", \"marks\": 90},\n",
    "    2: {\"name\": \"Bob\", \"marks\": 85}\n",
    "}\n",
    "\n",
    "print(students[1][\"name\"])   # Alice\n"
   ]
  },
  {
   "cell_type": "markdown",
   "id": "1479e3e1-ef93-4fab-9c15-dd9d00e24d3a",
   "metadata": {},
   "source": [
    "---\n",
    "\n",
    "## ✅ 8. **Why use Dictionaries?**\n",
    "\n",
    "* Fast lookups by key (much faster than searching in lists).\n",
    "* Perfect for **real-world data representation** (like database rows, JSON, configs).\n",
    "\n",
    "---\n",
    "\n",
    "👉 So far you’ve learned:\n",
    "\n",
    "* **list** → ordered, mutable\n",
    "* **tuple** → ordered, immutable\n",
    "* **set** → unordered, unique elements\n",
    "* **dict** → unordered key-value pairs\n"
   ]
  },
  {
   "cell_type": "code",
   "execution_count": 17,
   "id": "1f2838d0-427f-4b9d-b0d9-82012f3e5e84",
   "metadata": {},
   "outputs": [
    {
     "name": "stdout",
     "output_type": "stream",
     "text": [
      " The  10 is\n"
     ]
    }
   ],
   "source": [
    "n=10\n",
    "print(\" The \" ,n,\"is\")"
   ]
  },
  {
   "cell_type": "code",
   "execution_count": 18,
   "id": "767cdc4a-d15b-4d8c-bc37-57d58567de9c",
   "metadata": {},
   "outputs": [
    {
     "name": "stdout",
     "output_type": "stream",
     "text": [
      "The 10 is\n"
     ]
    }
   ],
   "source": [
    "print(f\"The {n} is\")"
   ]
  },
  {
   "cell_type": "markdown",
   "id": "dcf60d59-7cab-4f8d-9ff7-6d2f8d499c0e",
   "metadata": {},
   "source": [
    "f\"...\": This is an f-string, introduced in Python 3.6, allowing expressions inside {} to be evaluated and included in the string.\n",
    "\n",
    "{n}: This placeholder gets replaced by the value of the variable n.\n",
    "\n",
    "If n = 5, the output would be:\n",
    "\n",
    "The 5 is"
   ]
  },
  {
   "cell_type": "markdown",
   "id": "0b315aad-8bfa-4232-b7ab-7e7a9315e042",
   "metadata": {},
   "source": [
    "# join()\n",
    "\n",
    "## 🔹 What is `join()`?\n",
    "\n",
    "* `join()` is a **string method** in Python.\n",
    "* It **joins (concatenates) elements of an iterable (like a list, tuple, or set) into a single string**.\n",
    "* You specify a **separator string** (the string that will be placed between elements).\n",
    "\n",
    "---\n",
    "\n",
    "## 🔹 Syntax:\n",
    "\n",
    "```python\n",
    "separator.join(iterable)\n",
    "```\n",
    "\n",
    "* **`separator`** → string to place between items (e.g., space `\" \"`, comma `\",\"`, hyphen `\"-\"`, etc.).\n",
    "* **`iterable`** → collection of strings (like a list, tuple, or generator).\n",
    "  ⚠️ Elements **must be strings**, otherwise you’ll get a `TypeError`.\n",
    "\n",
    "---\n"
   ]
  },
  {
   "cell_type": "code",
   "execution_count": 14,
   "id": "bc80e2b7-6b26-4165-8bb2-3de57faa5b1d",
   "metadata": {},
   "outputs": [
    {
     "name": "stdout",
     "output_type": "stream",
     "text": [
      "Python is fun\n"
     ]
    }
   ],
   "source": [
    "# Example 1: Join a list with spaces\n",
    "\n",
    "words = [\"Python\", \"is\", \"fun\"]\n",
    "sentence = \" \".join(words)\n",
    "print(sentence)\n"
   ]
  },
  {
   "cell_type": "code",
   "execution_count": 15,
   "id": "a5d0eea7-4aea-4e59-ad69-5f9904e3b8cf",
   "metadata": {},
   "outputs": [
    {
     "name": "stdout",
     "output_type": "stream",
     "text": [
      "apple, banana, cherry\n"
     ]
    }
   ],
   "source": [
    "# Example 2: Join with commas\n",
    "\n",
    "items = [\"apple\", \"banana\", \"cherry\"]\n",
    "result = \", \".join(items)\n",
    "print(result)\n"
   ]
  },
  {
   "cell_type": "code",
   "execution_count": 16,
   "id": "3a359df3-b1db-447c-bc15-2cd421423398",
   "metadata": {},
   "outputs": [
    {
     "name": "stdout",
     "output_type": "stream",
     "text": [
      "Python\n"
     ]
    }
   ],
   "source": [
    "# Example 3: Join with no separator\n",
    "\n",
    "letters = [\"P\", \"y\", \"t\", \"h\", \"o\", \"n\"]\n",
    "result = \"\".join(letters)\n",
    "print(result)\n"
   ]
  },
  {
   "cell_type": "code",
   "execution_count": 17,
   "id": "57fb3d5e-3cbf-485e-8d86-0ffd4e05968e",
   "metadata": {},
   "outputs": [
    {
     "name": "stdout",
     "output_type": "stream",
     "text": [
      "1-2-3-4\n"
     ]
    }
   ],
   "source": [
    "# Example 4: Join numbers (need conversion to string)\n",
    "\n",
    "numbers = [1, 2, 3, 4]\n",
    "# Convert to string before joining\n",
    "result = \"-\".join(map(str, numbers))\n",
    "print(result)\n"
   ]
  },
  {
   "cell_type": "code",
   "execution_count": 18,
   "id": "1ecee98c-354a-4edf-9567-6e6cc205c9c0",
   "metadata": {},
   "outputs": [
    {
     "name": "stdout",
     "output_type": "stream",
     "text": [
      "nohtyP\n"
     ]
    }
   ],
   "source": [
    "# Reverse a String using join()\n",
    "\n",
    "text = \"Python\"\n",
    "rev = \"\".join(reversed(text))\n",
    "print(rev)\n"
   ]
  },
  {
   "cell_type": "code",
   "execution_count": 19,
   "id": "a56dae40-0050-44af-b5e4-c9c5a0933830",
   "metadata": {},
   "outputs": [
    {
     "name": "stdout",
     "output_type": "stream",
     "text": [
      "fun is Python\n"
     ]
    }
   ],
   "source": [
    "# Reverse a List of Strings and Join\n",
    "\n",
    "words = [\"Python\", \"is\", \"fun\"]\n",
    "rev = \" \".join(reversed(words))\n",
    "print(rev)\n"
   ]
  },
  {
   "cell_type": "code",
   "execution_count": 21,
   "id": "6e9ba793-3888-47e8-b278-f3ba3201c1ca",
   "metadata": {},
   "outputs": [
    {
     "name": "stdout",
     "output_type": "stream",
     "text": [
      "fun is Python\n"
     ]
    }
   ],
   "source": [
    "# Reverse Words in a Sentence\n",
    "\n",
    "sentence = \"Python is fun\"\n",
    "rev_sentence = \" \".join(reversed(sentence.split()))\n",
    "print(rev_sentence)\n"
   ]
  },
  {
   "cell_type": "code",
   "execution_count": 22,
   "id": "8a982625-7f05-4723-a40a-8cb3a59d1ce6",
   "metadata": {},
   "outputs": [
    {
     "name": "stdout",
     "output_type": "stream",
     "text": [
      "nohtyP si nuf\n"
     ]
    }
   ],
   "source": [
    "# Reverse Characters of Each Word\n",
    "\n",
    "sentence = \"Python is fun\"\n",
    "rev_each = \" \".join(word[::-1] for word in sentence.split())\n",
    "print(rev_each)\n"
   ]
  },
  {
   "cell_type": "code",
   "execution_count": 23,
   "id": "069b0f4e-e95e-48b5-8512-542543408fbc",
   "metadata": {},
   "outputs": [
    {
     "name": "stdout",
     "output_type": "stream",
     "text": [
      "54321\n"
     ]
    }
   ],
   "source": [
    "# Reverse Digits in a Number (convert to string first)\n",
    "\n",
    "num = 12345\n",
    "rev_num = \"\".join(reversed(str(num)))\n",
    "print(rev_num)\n"
   ]
  },
  {
   "cell_type": "code",
   "execution_count": 24,
   "id": "e6b26ccb-0ef9-44b4-8dce-f2613ac90741",
   "metadata": {},
   "outputs": [
    {
     "name": "stdout",
     "output_type": "stream",
     "text": [
      "d-c-b-a\n"
     ]
    }
   ],
   "source": [
    "# Reverse with Custom Separator\n",
    "\n",
    "letters = [\"a\", \"b\", \"c\", \"d\"]\n",
    "rev = \"-\".join(reversed(letters))\n",
    "print(rev)\n"
   ]
  },
  {
   "cell_type": "code",
   "execution_count": 25,
   "id": "5be210fc-ccf4-4051-983b-2ae99f2e2e5f",
   "metadata": {},
   "outputs": [
    {
     "name": "stdout",
     "output_type": "stream",
     "text": [
      "True\n"
     ]
    }
   ],
   "source": [
    "# Palindrome Check using Reverse + Join\n",
    "\n",
    "word = \"madam\"\n",
    "is_palindrome = word == \"\".join(reversed(word))\n",
    "print(is_palindrome)\n"
   ]
  },
  {
   "cell_type": "code",
   "execution_count": 26,
   "id": "9b93ee0d-a894-4d1f-94e9-c8a879585985",
   "metadata": {},
   "outputs": [
    {
     "name": "stdout",
     "output_type": "stream",
     "text": [
      "cherry | banana | apple\n"
     ]
    }
   ],
   "source": [
    "# List + join() + reversed()\n",
    "\n",
    "fruits = [\"apple\", \"banana\", \"cherry\"]\n",
    "rev = \" | \".join(reversed(fruits))\n",
    "print(rev)\n"
   ]
  },
  {
   "cell_type": "code",
   "execution_count": 28,
   "id": "a78e0f3b-d52f-4c92-b0e0-26774524f10b",
   "metadata": {},
   "outputs": [
    {
     "name": "stdout",
     "output_type": "stream",
     "text": [
      "blue, green, red\n"
     ]
    }
   ],
   "source": [
    "# Tuple + join()\n",
    "\n",
    "colors = (\"red\", \"green\", \"blue\")\n",
    "rev = \", \".join(reversed(colors))\n",
    "print(rev)\n"
   ]
  },
  {
   "cell_type": "code",
   "execution_count": 29,
   "id": "95ecb537-56c9-44bb-936c-ce39c60f4cfd",
   "metadata": {},
   "outputs": [
    {
     "name": "stdout",
     "output_type": "stream",
     "text": [
      "elephant - dog - cat\n"
     ]
    }
   ],
   "source": [
    "# Set + join()\n",
    "\n",
    "animals = {\"dog\", \"cat\", \"elephant\"}\n",
    "rev = \" - \".join(reversed(sorted(animals)))\n",
    "print(rev)\n"
   ]
  },
  {
   "cell_type": "code",
   "execution_count": 30,
   "id": "36cfd27b-33be-423f-9749-c1a6c494f33a",
   "metadata": {},
   "outputs": [
    {
     "name": "stdout",
     "output_type": "stream",
     "text": [
      "city, age, name\n"
     ]
    }
   ],
   "source": [
    "# Dictionary + join()\n",
    "\n",
    "# Reverse keys\n",
    "\n",
    "person = {\"name\": \"Alice\", \"age\": \"25\", \"city\": \"Paris\"}\n",
    "rev_keys = \", \".join(reversed(person.keys()))\n",
    "print(rev_keys)\n"
   ]
  },
  {
   "cell_type": "code",
   "execution_count": 31,
   "id": "83d14bb2-417c-4a1a-bac4-ed39e1a1153d",
   "metadata": {},
   "outputs": [
    {
     "name": "stdout",
     "output_type": "stream",
     "text": [
      "Paris 25 Alice\n"
     ]
    }
   ],
   "source": [
    "# Reverse values\n",
    "\n",
    "rev_values = \" \".join(reversed(person.values()))\n",
    "print(rev_values)\n"
   ]
  },
  {
   "cell_type": "code",
   "execution_count": 32,
   "id": "3fcaebe0-9b4f-4602-a42f-2fbe8275a64f",
   "metadata": {},
   "outputs": [
    {
     "name": "stdout",
     "output_type": "stream",
     "text": [
      "city:Paris | age:25 | name:Alice\n"
     ]
    }
   ],
   "source": [
    "# Reverse key-value pairs\n",
    "\n",
    "rev_items = \" | \".join(f\"{k}:{v}\" for k, v in reversed(person.items()))\n",
    "print(rev_items)\n"
   ]
  },
  {
   "cell_type": "code",
   "execution_count": 33,
   "id": "6967b867-2558-4352-8e80-69a469990349",
   "metadata": {},
   "outputs": [
    {
     "name": "stdout",
     "output_type": "stream",
     "text": [
      "40 -> 30 -> 20 -> 10\n"
     ]
    }
   ],
   "source": [
    "# Mixed Example: Numbers in a List\n",
    "\n",
    "numbers = [10, 20, 30, 40]\n",
    "rev = \" -> \".join(map(str, reversed(numbers)))\n",
    "print(rev)\n"
   ]
  },
  {
   "cell_type": "code",
   "execution_count": 20,
   "id": "6f7d0577-e221-4480-a661-21fd10239ff5",
   "metadata": {},
   "outputs": [
    {
     "name": "stdout",
     "output_type": "stream",
     "text": [
      "nohtyP si nuf\n"
     ]
    }
   ],
   "source": [
    "# Reverse Characters in Each Word\n",
    "\n",
    "words = [\"Python\", \"is\", \"fun\"]\n",
    "rev_each = \" \".join(word[::-1] for word in words)\n",
    "print(rev_each)\n"
   ]
  },
  {
   "cell_type": "markdown",
   "id": "62440e78-7170-4578-94d4-74c1c8e446ec",
   "metadata": {},
   "source": [
    "## 🔹 When to use `join()`?\n",
    "\n",
    "* When you need to **combine strings from a list/tuple into one string**.\n",
    "* Useful in:\n",
    "\n",
    "  * Making sentences from word lists\n",
    "  * Creating CSV-like strings\n",
    "  * Efficient string concatenation in loops (faster than `+`)\n",
    "\n",
    "---\n",
    "\n",
    "\n",
    "✅ **Summary of Techniques**:\n",
    "\n",
    "* **List/Tuple** → `reversed()` + `join()` directly.\n",
    "* **Set** → convert to `sorted()` list first, then reverse + join.\n",
    "* **Dictionary** → you can reverse keys, values, or items and join as string.\n",
    "\n",
    "---"
   ]
  },
  {
   "cell_type": "code",
   "execution_count": null,
   "id": "127ea754-c38e-4096-9f11-e5f62edb9427",
   "metadata": {},
   "outputs": [],
   "source": []
  }
 ],
 "metadata": {
  "kernelspec": {
   "display_name": "Python 3 (ipykernel)",
   "language": "python",
   "name": "python3"
  },
  "language_info": {
   "codemirror_mode": {
    "name": "ipython",
    "version": 3
   },
   "file_extension": ".py",
   "mimetype": "text/x-python",
   "name": "python",
   "nbconvert_exporter": "python",
   "pygments_lexer": "ipython3",
   "version": "3.13.5"
  }
 },
 "nbformat": 4,
 "nbformat_minor": 5
}
