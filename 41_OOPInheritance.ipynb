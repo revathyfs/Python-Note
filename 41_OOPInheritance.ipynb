{
 "cells": [
  {
   "cell_type": "markdown",
   "id": "31e0850e-9550-49b1-b917-d37be0047f88",
   "metadata": {},
   "source": [
    "INHERITANCE"
   ]
  },
  {
   "cell_type": "code",
   "execution_count": 10,
   "id": "cd7d4e11-1766-4d97-b12c-4cf7a9c89e37",
   "metadata": {},
   "outputs": [
    {
     "name": "stdout",
     "output_type": "stream",
     "text": [
      "this function is in parent class\n",
      "this function is in child class\n"
     ]
    }
   ],
   "source": [
    "#Single Inheritance \n",
    "#In python single inheritance, a derived class is derived only from a single parent class and allows the class to derive behaviour and \n",
    "#properties from a single base class. \n",
    "#base class or parent class \n",
    "class parent: \n",
    "    def func1(self):\n",
    "        print(\"this function is in parent class\") \n",
    "#derived class \n",
    "class child(parent): \n",
    "    def func2(self): \n",
    "        print(\"this function is in child class\") \n",
    "#Driver's code \n",
    "object=child() \n",
    "object.func1()  # Inherited from Parent\n",
    "object.func2()  # Defined in Child"
   ]
  },
  {
   "cell_type": "code",
   "execution_count": 5,
   "id": "0c500dff-7126-489a-84d5-3581d958b934",
   "metadata": {},
   "outputs": [
    {
     "name": "stdout",
     "output_type": "stream",
     "text": [
      "Father: RAM\n",
      "Mother: SITA\n"
     ]
    }
   ],
   "source": [
    "# Multiple Inheritance: \n",
    "# A class can be derived from more than one base class in Python. \n",
    "# In multiple inheritance, the features of all the base classes are inherited into the derived class. The syntax for multiple inheritance \n",
    "# is similar to single inheritance. \n",
    "\n",
    "# Base class 1\n",
    "class Mother:\n",
    "    mothername = \"\"\n",
    "\n",
    "    def mother(self):\n",
    "        print(self.mothername)\n",
    "\n",
    "# Base class 2\n",
    "class Father:\n",
    "    fathername = \"\"\n",
    "\n",
    "    def father(self):\n",
    "        print(self.fathername)\n",
    "\n",
    "# Derived class\n",
    "class Son(Mother, Father):\n",
    "    def parents(self):\n",
    "        print(\"Father:\", self.fathername)\n",
    "        print(\"Mother:\", self.mothername)\n",
    "\n",
    "# Driver code\n",
    "s1 = Son()\n",
    "s1.fathername = \"RAM\"\n",
    "s1.mothername = \"SITA\"\n",
    "s1.parents()\n",
    "\n",
    "\n",
    "# Mother and Father are two independent base classes.\n",
    "\n",
    "# Son inherits from both, so it has access to the attributes and methods of both Mother and Father.\n",
    "\n",
    "# In the driver code, we create an instance of Son, assign names to fathername and mothername, and call parents()."
   ]
  },
  {
   "cell_type": "code",
   "execution_count": 8,
   "id": "4a5e2cb1-7763-4150-9ee9-4cd8a1f48e1f",
   "metadata": {},
   "outputs": [
    {
     "name": "stdout",
     "output_type": "stream",
     "text": [
      "Grandfather name: Rammaunkutty\n",
      "Father name: Ramachandran\n",
      "Son name: Akhil\n"
     ]
    }
   ],
   "source": [
    "# Muliti-level inheritance \n",
    "# a class is derived from a class which is also derived from another class is called multi-level inheritance. In simple words, we can \n",
    "# say that a class that has more than one parent class is called multi-level inheritance. Note that the classes must be at different \n",
    "# levels. Hence, there exists a single base class and single derived class but multiple intermediate base classes. \n",
    "\n",
    "# Base class\n",
    "class Grandfather:\n",
    "    def __init__(self, grandfathername):\n",
    "        self.grandfathername = grandfathername\n",
    "\n",
    "# Intermediate class\n",
    "class Father(Grandfather):\n",
    "    def __init__(self, fathername, grandfathername):\n",
    "        self.fathername = fathername\n",
    "        # Call constructor of Grandfather\n",
    "        Grandfather.__init__(self, grandfathername)\n",
    "\n",
    "# Derived class\n",
    "class Son(Father):\n",
    "    def __init__(self, sonname, fathername, grandfathername):\n",
    "        self.sonname = sonname\n",
    "        # Call constructor of Father\n",
    "        Father.__init__(self, fathername, grandfathername)\n",
    "\n",
    "    def print_name(self):\n",
    "        print(\"Grandfather name:\", self.grandfathername)\n",
    "        print(\"Father name:\", self.fathername)\n",
    "        print(\"Son name:\", self.sonname)\n",
    "\n",
    "# Driver code\n",
    "s1 = Son(\"Akhil\", \"Ramachandran\", \"Rammaunkutty\")\n",
    "s1.print_name()\n",
    "\n",
    "\n",
    "\n",
    "# Grandfather is the base class.\n",
    "\n",
    "# Father inherits from Grandfather, and calls its constructor using Grandfather.__init__().\n",
    "\n",
    "#In inheritance, __init__() lets a child class initialize its own attributes and those of the parent.\n",
    "\n",
    "# Son inherits from Father, and also ensures to call the constructor of its parent (Father) to chain the initialization process.\n",
    "\n",
    "# The method print_name() in Son accesses all inherited attributes."
   ]
  },
  {
   "cell_type": "code",
   "execution_count": 7,
   "id": "42dc9ec6-aca4-4338-a015-9f13208daebc",
   "metadata": {},
   "outputs": [
    {
     "name": "stdout",
     "output_type": "stream",
     "text": [
      "this function is in parent class\n",
      "this function is in child 1\n",
      "this function is in parent class\n",
      "this function is in child 2.\n"
     ]
    }
   ],
   "source": [
    "# Hierarchical Inheritance \n",
    "# If a number of classes are derived from a single base class, it is called hierarchical inheritance. \n",
    "\n",
    "    \n",
    "class parent: \n",
    "    def func1(self): \n",
    "        print(\"this function is in parent class\") \n",
    "class child1(parent): \n",
    "    def func2(self): \n",
    "        print(\"this function is in child 1\") \n",
    "class child2(parent): \n",
    "    def func3(self): \n",
    "        print(\"this function is in child 2.\") \n",
    "object1= child1() \n",
    "object2= child2() \n",
    "object1.func1() \n",
    "object1.func2() \n",
    "object2.func1() \n",
    "object2.func3()"
   ]
  },
  {
   "cell_type": "code",
   "execution_count": 9,
   "id": "e68fdb99-0af8-40ed-9ea7-dd0d6ba9d676",
   "metadata": {},
   "outputs": [
    {
     "name": "stdout",
     "output_type": "stream",
     "text": [
      "this function is in school\n",
      "this function is in student1.\n"
     ]
    }
   ],
   "source": [
    "# Hybrid inheritance \n",
    "# GrandFather is a super class. The Father class inherits the properties of the GrandFather class. Since Father and GrandFather \n",
    "# represents single inheritance. Further, the Father class is inherited by the Son and Daughter class. Thus, the Father becomes the \n",
    "# parent class for Son and Daughter. These classes represent the hierarchical inheritance. Combinedly, it denotes the hybrid \n",
    "# inheritance.\n",
    "\n",
    "\n",
    "#Hybrid Inheritance(single+Hierarchical+multiple) \n",
    "class school: \n",
    "    def func1(self): \n",
    "        print(\"this function is in school\") \n",
    "\n",
    "\n",
    "class student1(school): \n",
    "    def func2(self):      \n",
    "        print(\"this function is in student1.\")\n",
    "\n",
    "\n",
    "class student2(school): \n",
    "    def func3(self): \n",
    "        print(\"this function is in student2.\") \n",
    "\n",
    "#driver class\n",
    "class student3(student1,school): \n",
    "    def func4(self): \n",
    "        print(\"this function is in student 3.\") \n",
    "object = student3() \n",
    "object.func1() \n",
    "object.func2()"
   ]
  },
  {
   "cell_type": "code",
   "execution_count": null,
   "id": "29062135-ab07-415d-a015-d4db8afda253",
   "metadata": {},
   "outputs": [],
   "source": []
  }
 ],
 "metadata": {
  "kernelspec": {
   "display_name": "Python 3 (ipykernel)",
   "language": "python",
   "name": "python3"
  },
  "language_info": {
   "codemirror_mode": {
    "name": "ipython",
    "version": 3
   },
   "file_extension": ".py",
   "mimetype": "text/x-python",
   "name": "python",
   "nbconvert_exporter": "python",
   "pygments_lexer": "ipython3",
   "version": "3.13.5"
  }
 },
 "nbformat": 4,
 "nbformat_minor": 5
}
