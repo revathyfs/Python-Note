{
 "cells": [
  {
   "cell_type": "raw",
   "id": "fd48df5d-c52e-4ec8-ad00-99945817fec4",
   "metadata": {},
   "source": [
    "Python’s random Module\n",
    "\n",
    "Python does not have a built-in random() function by itself, but it provides a random module to generate random numbers."
   ]
  },
  {
   "cell_type": "code",
   "execution_count": 2,
   "id": "83f055a2-8215-44de-85aa-40df3b03062d",
   "metadata": {},
   "outputs": [],
   "source": [
    "import random"
   ]
  },
  {
   "cell_type": "markdown",
   "id": "bccb6464-32b5-4496-84e8-6b19e823bf7c",
   "metadata": {},
   "source": [
    "Key Functions in random Module"
   ]
  },
  {
   "cell_type": "raw",
   "id": "fb485982-2bec-4d53-9f86-2045a61287df",
   "metadata": {},
   "source": [
    "1. randrange(start, stop)\n",
    "\n",
    " Returns a random integer from start up to (but not including) stop."
   ]
  },
  {
   "cell_type": "code",
   "execution_count": 2,
   "id": "527e4a4f-8955-4f4a-ba40-50309433e544",
   "metadata": {},
   "outputs": [
    {
     "name": "stdout",
     "output_type": "stream",
     "text": [
      "1\n"
     ]
    }
   ],
   "source": [
    "import random\n",
    "print(random.randrange(1, 10))  # Random number between 1 and 9"
   ]
  },
  {
   "cell_type": "raw",
   "id": "1c006971-50dc-43b4-ae77-9841e3cca5eb",
   "metadata": {},
   "source": [
    "2. random()\n",
    " \n",
    " Returns a random floating-point number between 0.0 (inclusive) and 1.0 (exclusive)."
   ]
  },
  {
   "cell_type": "code",
   "execution_count": 10,
   "id": "e10622fb-0bfd-49ad-b469-41326356f93d",
   "metadata": {},
   "outputs": [
    {
     "name": "stdout",
     "output_type": "stream",
     "text": [
      "0.5692038748222122\n"
     ]
    }
   ],
   "source": [
    "import random\n",
    "print(random.random())  # Example: 0.37444887175646646"
   ]
  },
  {
   "cell_type": "raw",
   "id": "43ce87c6-0586-4e42-a1f7-1c1a66367c3d",
   "metadata": {},
   "source": [
    "3. randint(a, b)\n",
    "\n",
    " Returns a random integer between a and b (both included)."
   ]
  },
  {
   "cell_type": "code",
   "execution_count": 16,
   "id": "7498ad81-988a-48df-8706-8e8d06d5fc12",
   "metadata": {},
   "outputs": [
    {
     "name": "stdout",
     "output_type": "stream",
     "text": [
      "4\n"
     ]
    }
   ],
   "source": [
    "import random\n",
    "print(random.randint(3, 9))  # Random number between 3 and 9 (inclusive)"
   ]
  },
  {
   "cell_type": "raw",
   "id": "72d8559a-6f68-48b3-9fd0-d664218316c5",
   "metadata": {},
   "source": [
    "4. seed(value)\n",
    " \n",
    " Sets the starting point for the random number generator. Using the same seed value will produce the same sequence of random numbers — useful for reproducibility."
   ]
  },
  {
   "cell_type": "code",
   "execution_count": 19,
   "id": "dbb5be6e-9282-4535-bba9-aa5a181e6486",
   "metadata": {},
   "outputs": [
    {
     "name": "stdout",
     "output_type": "stream",
     "text": [
      "0.5714025946899135\n"
     ]
    }
   ],
   "source": [
    "import random\n",
    "random.seed(10)\n",
    "print(random.random())  # Will always output the same number for seed=10"
   ]
  },
  {
   "cell_type": "code",
   "execution_count": 1,
   "id": "cf197a6c-b42c-4085-ad54-10396d1e9e0d",
   "metadata": {},
   "outputs": [
    {
     "name": "stdout",
     "output_type": "stream",
     "text": [
      "Random number between 1 and 9: 1\n",
      "Random float between 0.0 and 1.0: 0.4288890546751146\n",
      "Random integer between 3 and 9: 7\n"
     ]
    }
   ],
   "source": [
    "import random\n",
    "\n",
    "random.seed(10)  # Set seed for reproducibility\n",
    "\n",
    "print(\"Random number between 1 and 9:\", random.randrange(1, 10))\n",
    "print(\"Random float between 0.0 and 1.0:\", random.random())\n",
    "print(\"Random integer between 3 and 9:\", random.randint(3, 9))\n"
   ]
  },
  {
   "cell_type": "code",
   "execution_count": 2,
   "id": "22c2a54d-e905-4bf4-8bd9-d08de55c5344",
   "metadata": {},
   "outputs": [
    {
     "name": "stdout",
     "output_type": "stream",
     "text": [
      "Random number between 1 and 9: 3\n",
      "Random float between 0.0 and 1.0: 0.5692038748222122\n",
      "Random integer between 3 and 9: 9\n"
     ]
    }
   ],
   "source": [
    "random.seed(1)  # Set seed for reproducibility\n",
    "\n",
    "print(\"Random number between 1 and 9:\", random.randrange(1, 10))\n",
    "print(\"Random float between 0.0 and 1.0:\", random.random())\n",
    "print(\"Random integer between 3 and 9:\", random.randint(3, 9))\n"
   ]
  },
  {
   "cell_type": "code",
   "execution_count": 11,
   "id": "88b39c2f-7ba8-4770-bc7f-38ad8fa7b392",
   "metadata": {},
   "outputs": [
    {
     "name": "stdout",
     "output_type": "stream",
     "text": [
      "1\n"
     ]
    }
   ],
   "source": [
    "random.seed(10)  # Set seed for reproducibility\n",
    "print(random.randrange(1,10))"
   ]
  },
  {
   "cell_type": "code",
   "execution_count": 12,
   "id": "048437ec-7846-49c4-829e-a9dd00f5e614",
   "metadata": {},
   "outputs": [
    {
     "name": "stdout",
     "output_type": "stream",
     "text": [
      "3\n"
     ]
    }
   ],
   "source": [
    "random.seed(1)  # Set seed for reproducibility\n",
    "print(random.randrange(1,10))"
   ]
  },
  {
   "cell_type": "markdown",
   "id": "37105775-49a0-4f30-971d-d8b60bb621bd",
   "metadata": {},
   "source": [
    "Why Use seed()?\n",
    "\n",
    "It can get the same random numbers every time.\n",
    "\n",
    "It helps to testing or sharing your code with others.\n",
    "\n",
    "If we don’t set a seed, the random numbers will change every time you run the code."
   ]
  },
  {
   "cell_type": "markdown",
   "id": "6b0539f6-552e-43e4-ab71-f85a147185bf",
   "metadata": {},
   "source": [
    "#### 1. Random Numbers"
   ]
  },
  {
   "cell_type": "code",
   "execution_count": 3,
   "id": "95f22f58-ac35-48ca-bc9c-dc5283c35893",
   "metadata": {},
   "outputs": [
    {
     "name": "stdout",
     "output_type": "stream",
     "text": [
      "0.20717862440071777\n"
     ]
    }
   ],
   "source": [
    "# (a) Random float between 0 and 1\n",
    "\n",
    "print(random.random())  \n"
   ]
  },
  {
   "cell_type": "code",
   "execution_count": 4,
   "id": "5bd50a43-2446-4368-9189-03ae782f4eb1",
   "metadata": {},
   "outputs": [
    {
     "name": "stdout",
     "output_type": "stream",
     "text": [
      "1\n"
     ]
    }
   ],
   "source": [
    "# (b) Random integer in range\n",
    "\n",
    "print(random.randint(1, 10))  \n"
   ]
  },
  {
   "cell_type": "code",
   "execution_count": 5,
   "id": "dc626ff1-941f-4499-a2af-28f2a712e3c1",
   "metadata": {},
   "outputs": [
    {
     "name": "stdout",
     "output_type": "stream",
     "text": [
      "5\n"
     ]
    }
   ],
   "source": [
    "# (c) Random integer with step\n",
    "\n",
    "print(random.randrange(0, 20, 5))  \n"
   ]
  },
  {
   "cell_type": "code",
   "execution_count": 6,
   "id": "3d8715b5-86d8-4e97-992e-15fc9a7e87c4",
   "metadata": {},
   "outputs": [
    {
     "name": "stdout",
     "output_type": "stream",
     "text": [
      "3.5807936584333144\n"
     ]
    }
   ],
   "source": [
    "# (d) Random float in range\n",
    "\n",
    "print(random.uniform(1, 5))  \n"
   ]
  },
  {
   "cell_type": "markdown",
   "id": "1cd0f362-247c-4e68-8567-11cb2257d947",
   "metadata": {},
   "source": [
    "#### 2. Random Choice"
   ]
  },
  {
   "cell_type": "code",
   "execution_count": 7,
   "id": "3982c638-56a3-4cef-a121-62d59d8b0e66",
   "metadata": {},
   "outputs": [
    {
     "name": "stdout",
     "output_type": "stream",
     "text": [
      "mango\n"
     ]
    }
   ],
   "source": [
    "# (a) From a list\n",
    "\n",
    "fruits = [\"apple\", \"banana\", \"cherry\", \"mango\"]\n",
    "print(random.choice(fruits))\n"
   ]
  },
  {
   "cell_type": "code",
   "execution_count": 8,
   "id": "af38739d-3f76-447a-b153-af54c1ac2c77",
   "metadata": {},
   "outputs": [
    {
     "name": "stdout",
     "output_type": "stream",
     "text": [
      "['apple', 'mango', 'mango']\n"
     ]
    }
   ],
   "source": [
    "# (b) Multiple choices (with replacement)\n",
    "\n",
    "print(random.choices(fruits, k=3))\n"
   ]
  },
  {
   "cell_type": "code",
   "execution_count": 9,
   "id": "edf9ea18-99cd-4c02-8853-8a1c343f13a3",
   "metadata": {},
   "outputs": [
    {
     "name": "stdout",
     "output_type": "stream",
     "text": [
      "['mango', 'cherry']\n"
     ]
    }
   ],
   "source": [
    "# (c) Sample without replacement\n",
    "\n",
    "print(random.sample(fruits, 2))\n"
   ]
  },
  {
   "cell_type": "markdown",
   "id": "47464ea3-c48f-45c7-9e19-940d1ff37d6a",
   "metadata": {},
   "source": [
    "#### 3. Shuffle"
   ]
  },
  {
   "cell_type": "code",
   "execution_count": 10,
   "id": "46c22740-09e6-4882-a502-2b5f5daffe43",
   "metadata": {},
   "outputs": [
    {
     "name": "stdout",
     "output_type": "stream",
     "text": [
      "[2, 3, 4, 1, 5]\n"
     ]
    }
   ],
   "source": [
    "nums = [1, 2, 3, 4, 5]\n",
    "random.shuffle(nums)\n",
    "print(nums)\n"
   ]
  },
  {
   "cell_type": "markdown",
   "id": "bb60867d-91d4-4088-9223-c55b3a679e18",
   "metadata": {},
   "source": [
    "#### 4. Random from Tuple, Set, Dict"
   ]
  },
  {
   "cell_type": "code",
   "execution_count": 11,
   "id": "be276c73-aad3-42dd-b98d-3b92b804927f",
   "metadata": {},
   "outputs": [
    {
     "name": "stdout",
     "output_type": "stream",
     "text": [
      "blue\n"
     ]
    }
   ],
   "source": [
    "# (a) Tuple\n",
    "\n",
    "colors = (\"red\", \"green\", \"blue\")\n",
    "print(random.choice(colors))\n"
   ]
  },
  {
   "cell_type": "code",
   "execution_count": 12,
   "id": "9a3d93f5-cbf5-431b-935d-921fd7c04d26",
   "metadata": {},
   "outputs": [
    {
     "name": "stdout",
     "output_type": "stream",
     "text": [
      "cat\n"
     ]
    }
   ],
   "source": [
    "# (b) Set → convert to list\n",
    "\n",
    "animals = {\"dog\", \"cat\", \"lion\"}\n",
    "print(random.choice(list(animals)))\n"
   ]
  },
  {
   "cell_type": "code",
   "execution_count": 13,
   "id": "1de18096-b01f-4db7-afe2-4a770209cb2b",
   "metadata": {},
   "outputs": [
    {
     "name": "stdout",
     "output_type": "stream",
     "text": [
      "age\n",
      "Paris\n"
     ]
    }
   ],
   "source": [
    "# (c) Dictionary key/value\n",
    "\n",
    "person = {\"name\": \"Alice\", \"age\": 25, \"city\": \"Paris\"}\n",
    "print(random.choice(list(person.keys())))   # random key\n",
    "print(random.choice(list(person.values()))) # random value\n"
   ]
  },
  {
   "cell_type": "markdown",
   "id": "b2f21596-29ef-44bd-88fb-5a46bc2d9522",
   "metadata": {},
   "source": [
    "#### 5. Random Strings"
   ]
  },
  {
   "cell_type": "code",
   "execution_count": 14,
   "id": "3ab17e8c-f9b0-4d54-8243-eed6b37f4a18",
   "metadata": {},
   "outputs": [
    {
     "name": "stdout",
     "output_type": "stream",
     "text": [
      "J\n"
     ]
    }
   ],
   "source": [
    "# (a) Random character\n",
    "\n",
    "import string\n",
    "print(random.choice(string.ascii_letters))  \n"
   ]
  },
  {
   "cell_type": "code",
   "execution_count": 16,
   "id": "b3400148-e0ff-4e93-a100-cc977d9aff87",
   "metadata": {},
   "outputs": [
    {
     "name": "stdout",
     "output_type": "stream",
     "text": [
      "8TGV6IvP\n"
     ]
    }
   ],
   "source": [
    "# (b) Random password\n",
    "\n",
    "import string\n",
    "c=string.ascii_letters + string.digits\n",
    "password = \"\".join(random.choices(c, k=8))\n",
    "print(password)\n"
   ]
  },
  {
   "cell_type": "code",
   "execution_count": 15,
   "id": "eacb0b96-9104-423c-b518-d2bdb17cb975",
   "metadata": {},
   "outputs": [
    {
     "name": "stdout",
     "output_type": "stream",
     "text": [
      "3jDc9a?#\n"
     ]
    }
   ],
   "source": [
    "import random\n",
    "import string\n",
    "\n",
    "# Include letters, digits, and special characters\n",
    "characters = string.ascii_letters + string.digits + string.punctuation\n",
    "\n",
    "# Generate random password of length 8\n",
    "password = \"\".join(random.choices(characters, k=8))\n",
    "\n",
    "print(password)\n"
   ]
  },
  {
   "cell_type": "markdown",
   "id": "9fdf1e86-42ca-484a-a3c0-70ef5013c265",
   "metadata": {},
   "source": [
    "#### 6. Random Boolean"
   ]
  },
  {
   "cell_type": "code",
   "execution_count": 16,
   "id": "c9cca528-a088-4f9a-911c-86d65f7cd886",
   "metadata": {},
   "outputs": [
    {
     "name": "stdout",
     "output_type": "stream",
     "text": [
      "False\n"
     ]
    }
   ],
   "source": [
    "print(random.choice([True, False]))\n"
   ]
  }
 ],
 "metadata": {
  "kernelspec": {
   "display_name": "Python 3 (ipykernel)",
   "language": "python",
   "name": "python3"
  },
  "language_info": {
   "codemirror_mode": {
    "name": "ipython",
    "version": 3
   },
   "file_extension": ".py",
   "mimetype": "text/x-python",
   "name": "python",
   "nbconvert_exporter": "python",
   "pygments_lexer": "ipython3",
   "version": "3.13.5"
  }
 },
 "nbformat": 4,
 "nbformat_minor": 5
}
