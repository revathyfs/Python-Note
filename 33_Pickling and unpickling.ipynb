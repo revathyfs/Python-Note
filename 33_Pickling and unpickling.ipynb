{
 "cells": [
  {
   "cell_type": "markdown",
   "id": "0e49d496",
   "metadata": {},
   "source": [
    "# Pickling"
   ]
  },
  {
   "cell_type": "raw",
   "id": "81a1b7eb",
   "metadata": {},
   "source": [
    "“Pickling” is the process whereby a Python object hierarchy is converted into a byte stream, and “unpickling” is the inverse operation, whereby a byte stream (from a binary file or bytes-like object) is converted back into an object hierarchy.\n",
    "Definition: Pickling is the process of converting a Python object into a byte stream. This byte stream can then be saved to a file or transmitted over a network.\n",
    "Purpose: The primary purpose of pickling is to save the state of an object so that it can be reloaded later or transferred to another system.\n",
    "Saving Model State: Machine learning models are often pickled to save their state after training so they can be reloaded and used later without retraining.\n",
    "Data Persistence: Complex data structures can be saved to a file and reloaded, preserving the state across different runs of a program.\n",
    "Inter-process Communication: Objects can be pickled and sent over a network to be unpickled by another process, facilitating communication between distributed systems."
   ]
  },
  {
   "cell_type": "code",
   "execution_count": 2,
   "id": "1ca6ab59",
   "metadata": {},
   "outputs": [],
   "source": [
    "import pickle"
   ]
  },
  {
   "cell_type": "code",
   "execution_count": null,
   "id": "01cfe5b9",
   "metadata": {},
   "outputs": [],
   "source": []
  },
  {
   "cell_type": "code",
   "execution_count": 3,
   "id": "834efa15",
   "metadata": {},
   "outputs": [],
   "source": [
    "s=[1,2,3,4,5,5,7,8,8,5,98,9,4,5,\"gfghj\",5678,9]\n",
    "#s=\"orange\"\n",
    "filename=\"D:\\class\\sample.txt\"\n",
    "f1=open(filename,'wb')#wb=write binary(not a binary value)\n",
    "#dump information to that file\\\n",
    "\n",
    "pickle.dump(s,f1)\n",
    "f1.close()"
   ]
  },
  {
   "cell_type": "code",
   "execution_count": null,
   "id": "4d69f815",
   "metadata": {},
   "outputs": [],
   "source": []
  },
  {
   "cell_type": "markdown",
   "id": "7761c27e",
   "metadata": {},
   "source": [
    "# Unpickling"
   ]
  },
  {
   "cell_type": "code",
   "execution_count": 4,
   "id": "5f7add30",
   "metadata": {},
   "outputs": [
    {
     "name": "stdout",
     "output_type": "stream",
     "text": [
      "[1, 2, 3, 4, 5, 5, 7, 8, 8, 5, 98, 9, 4, 5, 'gfghj', 5678, 9]\n",
      "True\n"
     ]
    }
   ],
   "source": [
    "filename=\"D:\\class\\sample.txt\"\n",
    "f2=open(filename,'rb')#rb=read binary\n",
    "new_list=pickle.load(f2)\n",
    "print(new_list)\n",
    "print(new_list==s)"
   ]
  },
  {
   "cell_type": "code",
   "execution_count": 5,
   "id": "55f48514",
   "metadata": {},
   "outputs": [
    {
     "name": "stdout",
     "output_type": "stream",
     "text": [
      "enter the name:veena\n",
      "enter rollno:4\n",
      "enter the age: 4\n",
      "enter the marks: 56\n",
      "Name:  4\n",
      "Rollno: veena\n",
      "Age:  4\n",
      "Mark:  56\n"
     ]
    }
   ],
   "source": [
    "class student:\n",
    "    def __init__(self,roll,name):\n",
    "        self.name=name\n",
    "        self.roll=roll\n",
    "    def setAge(self):\n",
    "        self.age=int(input(\"enter the age: \"))\n",
    "        return\n",
    "    def setMarks(self):\n",
    "        self.marks=int(input(\"enter the marks: \"))\n",
    "        return\n",
    "    def display(self):\n",
    "        print(\"Name: \", self.name)\n",
    "        print(\"Rollno:\", self.roll)\n",
    "        print(\"Age: \", self.age)\n",
    "        print(\"Mark: \", self.marks)\n",
    "s1=student(input(\"enter the name:\"),input(\"enter rollno:\"))\n",
    "s1.setAge()\n",
    "s1.setMarks()\n",
    "s1.display()\n"
   ]
  },
  {
   "cell_type": "code",
   "execution_count": null,
   "id": "91d33217",
   "metadata": {},
   "outputs": [],
   "source": []
  }
 ],
 "metadata": {
  "kernelspec": {
   "display_name": "Python 3 (ipykernel)",
   "language": "python",
   "name": "python3"
  },
  "language_info": {
   "codemirror_mode": {
    "name": "ipython",
    "version": 3
   },
   "file_extension": ".py",
   "mimetype": "text/x-python",
   "name": "python",
   "nbconvert_exporter": "python",
   "pygments_lexer": "ipython3",
   "version": "3.13.5"
  }
 },
 "nbformat": 4,
 "nbformat_minor": 5
}
