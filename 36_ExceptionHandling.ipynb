{
 "cells": [
  {
   "cell_type": "markdown",
   "id": "cb148b11-0df0-4035-bf3b-d0dd4db0d518",
   "metadata": {},
   "source": [
    " Exception Handling \n",
    "\n",
    "Exception handling in Python is a way to manage errors that may occur during the execution of a program—without crashing the whole program.\n",
    "\n",
    "Instead of stopping execution when an error occurs, Python lets you catch and handle the error gracefully using the try, except, else, and finally blocks."
   ]
  },
  {
   "cell_type": "markdown",
   "id": "47d8c423-0a4c-4f64-88a5-5f1ef518d8d8",
   "metadata": {},
   "source": [
    "Use\n",
    "\n",
    "- To prevent the program from crashing.\n",
    "\n",
    "- To give users friendly error messages.\n",
    "\n",
    "- To handle unexpected inputs or situations (e.g., dividing by zero, missing files)."
   ]
  },
  {
   "cell_type": "raw",
   "id": "56580f32-9b8f-4278-ba9b-ff645f70952e",
   "metadata": {},
   "source": [
    "- Basic Syntax\n",
    "\n",
    "try:\n",
    "    # Code that might raise an exception\n",
    "except SomeError:\n",
    "    # Code to handle the error\n"
   ]
  },
  {
   "cell_type": "raw",
   "id": "7c3022ec-f87e-4c0b-a94d-75a5a1fa5033",
   "metadata": {},
   "source": [
    "- Full Structure\n",
    "\n",
    "try:\n",
    "    # Code that may raise an error\n",
    "except ExceptionType1:\n",
    "    # Handle specific error\n",
    "except ExceptionType2:\n",
    "    # Handle another specific error\n",
    "else:\n",
    "    # Runs if no exception occurs\n",
    "finally:\n",
    "    # Runs no matter what (clean-up code)\n"
   ]
  },
  {
   "cell_type": "markdown",
   "id": "b5871ac6-9f2a-4d1a-9c69-40c44f09165a",
   "metadata": {},
   "source": [
    "| Block     | Purpose                                              |\n",
    "| --------- | ---------------------------------------------------- |\n",
    "| `try`     | Code that may raise an exception                     |\n",
    "| `except`  | Handles the error                                    |\n",
    "| `else`    | Runs if no exception occurs                          |\n",
    "| `finally` | Always runs (useful for cleanup, closing files etc.) |\n"
   ]
  },
  {
   "cell_type": "raw",
   "id": "7b1e4128-0113-4b57-931a-be4023e8843d",
   "metadata": {},
   "source": [
    "A runtime error in Python is an error that occurs during the execution of a program, after the code has been successfully parsed and deemed syntactically correct by the interpreter. Unlike syntax errors, which prevent the program from even starting, runtime errors appear when the program attempts an operation that is illegal or impossible at that point in time. This typically causes the program to terminate unexpectedly.\n",
    "\n",
    "Common types of Python runtime errors include:\n",
    "\n",
    "TypeError:\n",
    "Occurs when an operation is performed on an object of an inappropriate or incompatible data type (e.g., trying to add a string and an integer).\n",
    "\n",
    "NameError:\n",
    "Arises when a variable or function name is used before it has been defined or if it is misspelled.\n",
    "\n",
    "ZeroDivisionError:\n",
    "Occurs when an attempt is made to divide a number by zero.\n",
    "\n",
    "IndexError:\n",
    "Raised when trying to access an index of a sequence (like a list or string) that is outside the valid range. \n",
    "\n",
    "AttributeError:\n",
    "Occurs when attempting to access an attribute or method of an object that does not exist for that object. \n",
    "\n",
    "FileNotFoundError:\n",
    "Raised when the program tries to access a file that does not exist at the specified path.\n",
    "\n",
    "To troubleshoot and fix runtime errors, one should:\n",
    "\n",
    "Read the traceback:\n",
    "Python provides a traceback that indicates the file, line number, and type of error, which is crucial for identifying the source of the issue.\n",
    "\n",
    "Examine the code at the indicated line:\n",
    "Understand what operation is being performed and why it might be invalid.\n",
    "\n",
    "Consider edge cases:\n",
    "Think about potential input values or conditions that might lead to unexpected behavior and cause the error.\n",
    "\n",
    "Implement error handling:\n",
    "Use try-except blocks to gracefully handle potential exceptions and prevent program crashes.\n",
    "\n",
    "Debug with print statements or a debugger:\n",
    "Use these tools to inspect variable values and program flow at different stages to pinpoint the problem."
   ]
  },
  {
   "cell_type": "code",
   "execution_count": 2,
   "id": "a3fbf698-3b97-4ae6-9a62-0424f73b72c3",
   "metadata": {},
   "outputs": [
    {
     "name": "stdout",
     "output_type": "stream",
     "text": [
      "Hello world\n"
     ]
    },
    {
     "ename": "ZeroDivisionError",
     "evalue": "division by zero",
     "output_type": "error",
     "traceback": [
      "\u001b[1;31m---------------------------------------------------------------------------\u001b[0m",
      "\u001b[1;31mZeroDivisionError\u001b[0m                         Traceback (most recent call last)",
      "Cell \u001b[1;32mIn[2], line 4\u001b[0m\n\u001b[0;32m      2\u001b[0m a\u001b[38;5;241m=\u001b[39m\u001b[38;5;241m2\u001b[39m\n\u001b[0;32m      3\u001b[0m \u001b[38;5;28;01mif\u001b[39;00m a\u001b[38;5;241m>\u001b[39m\u001b[38;5;241m0\u001b[39m:\n\u001b[1;32m----> 4\u001b[0m     n\u001b[38;5;241m=\u001b[39ma\u001b[38;5;241m/\u001b[39m\u001b[38;5;241m0\u001b[39m\n\u001b[0;32m      5\u001b[0m     \u001b[38;5;28mprint\u001b[39m(n)\n\u001b[0;32m      7\u001b[0m \u001b[38;5;28;01melse\u001b[39;00m:\n",
      "\u001b[1;31mZeroDivisionError\u001b[0m: division by zero"
     ]
    }
   ],
   "source": [
    "print(\"Hello world\")\n",
    "a=2\n",
    "if a>0:\n",
    "    n=a/0\n",
    "    print(n)\n",
    "\n",
    "else:\n",
    "    print(\"enter positive values\")"
   ]
  },
  {
   "cell_type": "code",
   "execution_count": 1,
   "id": "fa4241ee-5484-4338-b209-e6ea21c11db1",
   "metadata": {},
   "outputs": [
    {
     "ename": "ZeroDivisionError",
     "evalue": "division by zero",
     "output_type": "error",
     "traceback": [
      "\u001b[1;31m---------------------------------------------------------------------------\u001b[0m",
      "\u001b[1;31mZeroDivisionError\u001b[0m                         Traceback (most recent call last)",
      "Cell \u001b[1;32mIn[1], line 1\u001b[0m\n\u001b[1;32m----> 1\u001b[0m a\u001b[38;5;241m=\u001b[39m\u001b[38;5;241m1\u001b[39m\u001b[38;5;241m/\u001b[39m\u001b[38;5;241m0\u001b[39m\n",
      "\u001b[1;31mZeroDivisionError\u001b[0m: division by zero"
     ]
    }
   ],
   "source": [
    "a=1/0"
   ]
  },
  {
   "cell_type": "code",
   "execution_count": 4,
   "id": "a611fe8f-4fa8-4257-a80e-d74b7d882436",
   "metadata": {},
   "outputs": [
    {
     "name": "stdout",
     "output_type": "stream",
     "text": [
      "ZeroDivisionError\n"
     ]
    }
   ],
   "source": [
    "#Example 1: Handling ZeroDivisionError\n",
    "\n",
    "try:\n",
    "    \n",
    "    result = 1/0\n",
    "except ZeroDivisionError:\n",
    "    print(\"ZeroDivisionError\")\n",
    "   "
   ]
  },
  {
   "cell_type": "code",
   "execution_count": 4,
   "id": "721c9878-07fd-4d9d-af71-56fb6ea4144e",
   "metadata": {},
   "outputs": [
    {
     "name": "stdin",
     "output_type": "stream",
     "text": [
      "Enter a number:  5\n"
     ]
    },
    {
     "name": "stdout",
     "output_type": "stream",
     "text": [
      "The result is 20.0\n"
     ]
    }
   ],
   "source": [
    "#Example 2: Handling Multiple Exceptions\n",
    "\n",
    "try:\n",
    "    num = int(input(\"Enter a number: \"))\n",
    "    result = 100 / num\n",
    "except ZeroDivisionError:\n",
    "    print(\"You can't divide by zero!\")\n",
    "except ValueError:\n",
    "    print(\"Invalid input. Please enter a number.\")\n",
    "else:\n",
    "    print(f\"The result is {result}\")\n"
   ]
  },
  {
   "cell_type": "code",
   "execution_count": 7,
   "id": "8f0785ba-f6c7-4ad7-b9fa-ea711b3c6d92",
   "metadata": {},
   "outputs": [
    {
     "name": "stdin",
     "output_type": "stream",
     "text": [
      "Enter a number:  5\n"
     ]
    },
    {
     "name": "stdout",
     "output_type": "stream",
     "text": [
      "The result is 20.0\n",
      "This block always runs.\n"
     ]
    }
   ],
   "source": [
    "# Example 3: Using else and finally\n",
    "\n",
    "try:\n",
    "    num = int(input(\"Enter a number: \"))\n",
    "    result = 100 / num\n",
    "except ZeroDivisionError:\n",
    "    print(\"You can't divide by zero!\")\n",
    "except ValueError:\n",
    "    print(\"That's not a number!\")\n",
    "else:\n",
    "    print(f\"The result is {result}\")\n",
    "finally:\n",
    "    print(\"This block always runs.\")\n"
   ]
  },
  {
   "cell_type": "code",
   "execution_count": 7,
   "id": "ae5d6313-cd9f-4ae6-be62-eac2f883c399",
   "metadata": {},
   "outputs": [
    {
     "name": "stdout",
     "output_type": "stream",
     "text": [
      "division by zero\n"
     ]
    }
   ],
   "source": [
    "try:\n",
    "    a=1/0\n",
    "except SyntaxError as e:\n",
    "    print(e)\n",
    "except ZeroDivisionError as e:\n",
    "    print(e)"
   ]
  },
  {
   "cell_type": "code",
   "execution_count": null,
   "id": "872f1190-595b-4232-97e6-a56790421f22",
   "metadata": {},
   "outputs": [],
   "source": [
    "try:\n",
    "    a=1/0\n",
    "except Excepetion as e:\n",
    "    print(e)"
   ]
  },
  {
   "cell_type": "code",
   "execution_count": 13,
   "id": "1ab0b48f-f689-4b55-9921-2631368df4fd",
   "metadata": {},
   "outputs": [
    {
     "name": "stdout",
     "output_type": "stream",
     "text": [
      "division by zero\n",
      "Final\n"
     ]
    }
   ],
   "source": [
    "try:\n",
    "    a=2/0\n",
    "except Exception as e:\n",
    "    print(e)\n",
    "else:\n",
    "    print(\"No error\")\n",
    "finally:\n",
    "    print(\"Final\")\n"
   ]
  },
  {
   "cell_type": "code",
   "execution_count": null,
   "id": "475f5ab5-a4af-4cb0-b738-c013c06d5ef0",
   "metadata": {},
   "outputs": [],
   "source": [
    "try:\n",
    "    # some code\n",
    "    pass\n",
    "except (TypeError, ValueError):\n",
    "    print(\"Caught a TypeError or ValueError\")\n"
   ]
  },
  {
   "cell_type": "code",
   "execution_count": 31,
   "id": "218b32e8-90e6-4fb2-ad2e-f65cd7361f7e",
   "metadata": {},
   "outputs": [
    {
     "name": "stdout",
     "output_type": "stream",
     "text": [
      "This is a custom Exception\n"
     ]
    }
   ],
   "source": [
    "try:\n",
    "    raise MyCustomException(\"This is a custom Exception\")\n",
    "except SyntaxError as e:\n",
    "    print(e)\n",
    "except ZeroDivisionError as e:\n",
    "    print(e)\n",
    "except MyCustomException as e:\n",
    "    print(e)"
   ]
  },
  {
   "cell_type": "code",
   "execution_count": 29,
   "id": "16139576-65ec-44c6-8243-df1179da1284",
   "metadata": {},
   "outputs": [],
   "source": [
    "class MyCustomException(Exception):\n",
    "    def __init__(self, message):\n",
    "        self.message = message\n",
    "        super().__init__(self.message)\n",
    "\n",
    "\n",
    "        \n",
    "        "
   ]
  },
  {
   "cell_type": "code",
   "execution_count": 25,
   "id": "5ef06a87-26c9-45b8-ad8a-2fcc2e4cbb5e",
   "metadata": {},
   "outputs": [],
   "source": [
    "account2=Bank()\n"
   ]
  },
  {
   "cell_type": "code",
   "execution_count": 27,
   "id": "da3397a0-f3f8-4014-8cf9-9b1abc2b43d1",
   "metadata": {},
   "outputs": [
    {
     "name": "stdout",
     "output_type": "stream",
     "text": [
      "1000\n",
      "20\n"
     ]
    }
   ],
   "source": [
    "account1.display(20)"
   ]
  },
  {
   "cell_type": "code",
   "execution_count": 1,
   "id": "cf836f1f-5791-42fc-b9a8-1f643147ff62",
   "metadata": {},
   "outputs": [
    {
     "name": "stdout",
     "output_type": "stream",
     "text": [
      "Zerro division Error\n"
     ]
    }
   ],
   "source": [
    "# Exception Handling\n",
    "\n",
    "try: #try block\n",
    "    x=2/0\n",
    "    print(x)\n",
    "except: #exception block\n",
    "    print(\"Zerro division Error\")"
   ]
  },
  {
   "cell_type": "code",
   "execution_count": 3,
   "id": "5ed55b66-3321-4abd-94da-cc256040b404",
   "metadata": {},
   "outputs": [
    {
     "name": "stdout",
     "output_type": "stream",
     "text": [
      "Name Error\n"
     ]
    }
   ],
   "source": [
    "try:\n",
    "    print(name)\n",
    "except NameError:\n",
    "    print(\"Name Error\")"
   ]
  },
  {
   "cell_type": "code",
   "execution_count": null,
   "id": "af036d11-6b14-4481-8a90-f0ad49e75094",
   "metadata": {},
   "outputs": [
    {
     "name": "stdin",
     "output_type": "stream",
     "text": [
      "Enter the first number :  1\n"
     ]
    }
   ],
   "source": [
    "try:\n",
    "    x=int(input(\"Enter the first number : \"))\n",
    "    y=int(input(\"Enter the second number : \"))\n",
    "    z=x/y\n",
    "except ZeroDivisionError as e:\n",
    "    print(e)\n",
    "else:\n",
    "    print(f\"Result={z}\")"
   ]
  }
 ],
 "metadata": {
  "kernelspec": {
   "display_name": "Python 3 (ipykernel)",
   "language": "python",
   "name": "python3"
  },
  "language_info": {
   "codemirror_mode": {
    "name": "ipython",
    "version": 3
   },
   "file_extension": ".py",
   "mimetype": "text/x-python",
   "name": "python",
   "nbconvert_exporter": "python",
   "pygments_lexer": "ipython3",
   "version": "3.13.5"
  }
 },
 "nbformat": 4,
 "nbformat_minor": 5
}
