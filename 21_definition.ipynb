{
 "cells": [
  {
   "cell_type": "markdown",
   "id": "f869c716-3e9a-4da6-92c4-b6dc29c6e805",
   "metadata": {},
   "source": [
    "Definition funtion\n",
    "\n",
    "syntax\n",
    "\n",
    "def functionname(parameters):\n",
    "\n",
    "    function_suite\n",
    "    \n",
    "    return[expression]"
   ]
  },
  {
   "cell_type": "code",
   "execution_count": 3,
   "id": "39df836a-14a4-4f17-900f-f04483c1a830",
   "metadata": {},
   "outputs": [],
   "source": [
    "def printme(str):\n",
    "    print(str)\n",
    "    return;"
   ]
  },
  {
   "cell_type": "code",
   "execution_count": 5,
   "id": "e7d66c41-774a-48ee-a062-7cf195799946",
   "metadata": {},
   "outputs": [
    {
     "name": "stdout",
     "output_type": "stream",
     "text": [
      "I'm first call to user defined funtion!\n",
      "Again second call to the same funtion\n"
     ]
    }
   ],
   "source": [
    "#calling function\n",
    "\n",
    "def printme(str):\n",
    "    print(str)\n",
    "    return;\n",
    "\n",
    "#now call printme funtion\n",
    "\n",
    "printme(\"I'm first call to user defined funtion!\")\n",
    "printme(\"Again second call to the same funtion\")"
   ]
  },
  {
   "cell_type": "markdown",
   "id": "7059e656-c462-414d-aaf8-a1c658b45ce1",
   "metadata": {},
   "source": [
    "Function arguments \n",
    "1) Required arguments\n",
    "2) Keyword arguments\n",
    "3) Default arguments\n",
    "4) Variable-length arguments"
   ]
  },
  {
   "cell_type": "code",
   "execution_count": 2,
   "id": "6ed19a5d-f434-4d8d-b5c1-2c2a1582761d",
   "metadata": {},
   "outputs": [
    {
     "name": "stdout",
     "output_type": "stream",
     "text": [
      "Default message\n"
     ]
    }
   ],
   "source": [
    "#required arguments\n",
    "\n",
    "#function definition\n",
    "def printme(str=\"Default message\"):\n",
    "    print(str)\n",
    "    return\n",
    "#call printme fuction\n",
    "printme()  # Uses default value"
   ]
  },
  {
   "cell_type": "code",
   "execution_count": 11,
   "id": "081694c6-62f5-4cdf-b4bb-8c8d3a695f4c",
   "metadata": {},
   "outputs": [
    {
     "name": "stdout",
     "output_type": "stream",
     "text": [
      "Name :  miki\n",
      "Age :  50\n"
     ]
    }
   ],
   "source": [
    "#keyword argument\n",
    "\n",
    "#function definition\n",
    "\n",
    "def printinfo(name,age):\n",
    "    print(\"Name : \",name)\n",
    "    print(\"Age : \",age)\n",
    "    return;\n",
    "\n",
    "#now call printinfo funtion\n",
    "\n",
    "printinfo(age=50,name=\"miki\")"
   ]
  },
  {
   "cell_type": "code",
   "execution_count": 3,
   "id": "6af8452a-1514-472b-8528-4021f4973823",
   "metadata": {},
   "outputs": [
    {
     "name": "stdout",
     "output_type": "stream",
     "text": [
      "Name :  miki\n",
      "Age :  50\n",
      "Name :  minni\n",
      "Age :  35\n"
     ]
    }
   ],
   "source": [
    "#default argument\n",
    "\n",
    "#funtion definition\n",
    "\n",
    "def printinfo(name,age=35):\n",
    "    print(\"Name : \",name)\n",
    "    print(\"Age : \",age)\n",
    "    return;\n",
    "\n",
    "#call printinfo function\n",
    "\n",
    "printinfo(age=50,name=\"miki\")\n",
    "printinfo(name=\"minni\") #here age is not inserted so it display default value of age in printinfo function we given"
   ]
  },
  {
   "cell_type": "code",
   "execution_count": 15,
   "id": "d1e851c5-7f75-4046-938e-a6457ce2c8e1",
   "metadata": {},
   "outputs": [
    {
     "name": "stdout",
     "output_type": "stream",
     "text": [
      "hello\n",
      "welcome\n",
      "to\n",
      "python\n",
      "programming\n"
     ]
    }
   ],
   "source": [
    "#variable length arguments(*args and **kwargs)\n",
    "# *args used to store multiple variables\n",
    "# **kwargs is used to enter variables using multiple keyvalues\n",
    "\n",
    "def myfun(*args):\n",
    "    for arg in args:\n",
    "        print(arg)\n",
    "\n",
    "myfun(\"hello\",\"welcome\",\"to\",\"python\",\"programming\")"
   ]
  },
  {
   "cell_type": "code",
   "execution_count": 19,
   "id": "17a0705e-0960-465d-b7c8-10d17328868d",
   "metadata": {},
   "outputs": [
    {
     "name": "stdout",
     "output_type": "stream",
     "text": [
      "First argument:  hello\n",
      "Next argument through *argv:  welcome\n",
      "Next argument through *argv:  to\n",
      "Next argument through *argv:  python\n"
     ]
    }
   ],
   "source": [
    "#python prgram to illustrate *args with first extra argument\n",
    "\n",
    "def myfun(arg1,*argv):\n",
    "    print(\"First argument: \",arg1)\n",
    "    for arg in argv:\n",
    "        print(\"Next argument through *argv: \",arg)\n",
    "\n",
    "\n",
    "myfun(\"hello\",\"welcome\",\"to\",\"python\")"
   ]
  },
  {
   "cell_type": "code",
   "execution_count": 21,
   "id": "798951c7-fd5b-4f87-b9c5-ed9a9f9b84d7",
   "metadata": {},
   "outputs": [
    {
     "name": "stdout",
     "output_type": "stream",
     "text": [
      "first == geeks\n",
      "mid == for\n",
      "last == geeks\n"
     ]
    }
   ],
   "source": [
    "# using **kwargs\n",
    "\n",
    "def myfun(**kwargs):\n",
    "    for key,value in kwargs.items():\n",
    "        print(\"%s == %s\"%(key,value))\n",
    "\n",
    "\n",
    "myfun(first='geeks',mid='for',last='geeks')"
   ]
  },
  {
   "cell_type": "code",
   "execution_count": 25,
   "id": "eb193fd2-a9eb-4a20-8d38-49a783b545e4",
   "metadata": {},
   "outputs": [
    {
     "name": "stdout",
     "output_type": "stream",
     "text": [
      "first argument: hi\n",
      "first==greeks\n",
      "mid==for\n",
      "last==geeks\n"
     ]
    }
   ],
   "source": [
    "def myfun(arg1,**kwargs):\n",
    "    print(\"first argument:\",arg1)\n",
    "    for key,value in kwargs.items():\n",
    "        print(\"%s==%s\"%(key,value))\n",
    "\n",
    "#driver code\n",
    "myfun(\"hi\",first=\"greeks\",mid=\"for\",last=\"geeks\")\n",
    "    "
   ]
  },
  {
   "cell_type": "code",
   "execution_count": 4,
   "id": "685d9efc-e2d3-415a-9c10-5ca7d7c86dbd",
   "metadata": {},
   "outputs": [
    {
     "name": "stdout",
     "output_type": "stream",
     "text": [
      "first==me hi\n",
      "mid==for hi\n",
      "last==myself hi\n"
     ]
    }
   ],
   "source": [
    "def myfun(**a):\n",
    "    for key,value in a.items():\n",
    "        print(\"%s==%s\"%(key,value))\n",
    "\n",
    "myfun(first=\"me hi\",mid=\"for hi\",last=\"myself hi\")"
   ]
  },
  {
   "cell_type": "code",
   "execution_count": 6,
   "id": "62d13b8a-d48c-4ccb-8ee1-cdd3f839993c",
   "metadata": {},
   "outputs": [
    {
     "name": "stdout",
     "output_type": "stream",
     "text": [
      "first == me Hi neethu\n",
      "mid == for Hi neethu\n",
      "last == myself Hi neethu\n"
     ]
    }
   ],
   "source": [
    "def myFun(*x,**y):\n",
    "    for key,value in y.items():\n",
    "        print (\"%s == %s\" %(key, value),*x)\n",
    "\n",
    "myFun(\"Hi\",\"neethu\",first ='me',mid ='for',last='myself')\n"
   ]
  },
  {
   "cell_type": "code",
   "execution_count": 7,
   "id": "41ed9012-b55c-42e0-ac2e-d2caedfcd022",
   "metadata": {},
   "outputs": [
    {
     "name": "stdout",
     "output_type": "stream",
     "text": [
      "first == me\n",
      "mid == for\n",
      "last == myself\n"
     ]
    }
   ],
   "source": [
    "def myFun(*a,**k):\n",
    "    for key,value in k.items():\n",
    "        print (\"%s == %s\" %(key, value))\n",
    "\n",
    "myFun(\"Hi\",\"neethu\",first ='me',mid ='for',last='myself')#the above cell code and this cell code is same but we delete *argv from print statement so it doesn't show Hi and neethu\n"
   ]
  },
  {
   "cell_type": "markdown",
   "id": "930a525f-3304-4fe5-ad95-2f15563ca03d",
   "metadata": {},
   "source": [
    "### Local and Global variable"
   ]
  },
  {
   "cell_type": "markdown",
   "id": "c91b3941-b8d5-4c7c-adfe-0e9042e4bb6f",
   "metadata": {},
   "source": [
    "What is the difference between local and global variable?\n",
    "\n",
    "Local variable is defined inside the function whereas global variable is defined or declared outside of the function. A local variable is always created during the start of function execution. And is destroyed automatically when the function terminates.\n",
    "\n",
    "And global variable is created when execution starts and terminates when the program execution ends. A global variable is common for all program members but the scope of the local variable is limited to its own function only where it is defined."
   ]
  },
  {
   "cell_type": "markdown",
   "id": "d9681e9f-3fae-4e0f-86c1-f695de8c2bb3",
   "metadata": {},
   "source": [
    "### Scope of a variable (in function)"
   ]
  },
  {
   "cell_type": "markdown",
   "id": "d803277e-0b55-4693-aa65-39f7ebc18e40",
   "metadata": {},
   "source": [
    "What is the scope of a variable (in function)?\n",
    "\n",
    "If we are talking about scope, it means we are referring to the visibility of a variable in function. If a variable is defined inside the function then it is called a local variable and its scope is limited to its own function only.\n",
    "\n",
    "And if the variable is defined outside of the function then it is said to be a global variable that is accessible for every member and its scope is available throughout the program."
   ]
  },
  {
   "cell_type": "markdown",
   "id": "fe398b0d-54ee-40c7-97be-819e4a3c0059",
   "metadata": {},
   "source": [
    "### Parameter and Argument"
   ]
  },
  {
   "cell_type": "markdown",
   "id": "13e76707-fc1f-4225-bd08-3cfb5c6611f1",
   "metadata": {},
   "source": [
    "What is the difference between a parameter and an argument?\n",
    "\n",
    "Likewise parameter and arguments are similar terms but there is a slight difference between both of them. Parameters are may be a variable or a value passed through the parenthesis of a function.\n",
    "\n",
    "And the argument is the value to the variable that is sent to the function when it is called."
   ]
  },
  {
   "cell_type": "markdown",
   "id": "c9dd97f7-a83b-4856-9d4f-29502a2aa589",
   "metadata": {},
   "source": [
    "### Object in Python"
   ]
  },
  {
   "cell_type": "markdown",
   "id": "9aa31724-30ff-46ea-9e1f-3536e0732275",
   "metadata": {},
   "source": [
    "Name three iterable object in Python?\n",
    "\n",
    "Iterable objects are the objects whose values or elements can be iterable using a loop i.e. for loop or while loop etc. Three types of iterable object in python are list, tuples and dictionaries etc."
   ]
  },
  {
   "cell_type": "markdown",
   "id": "30697f4a-80ea-4af8-8c80-903ec9552323",
   "metadata": {},
   "source": [
    "### Function returns by default in Python"
   ]
  },
  {
   "cell_type": "markdown",
   "id": "b109761d-5044-49ed-b643-9a8b6a1db14a",
   "metadata": {},
   "source": [
    "What does function returns by default in Python?\n",
    "\n",
    "A function should always return a value. If we do not explicitly return a value or statement after the execution of a function then it returns a default value as None implicitly."
   ]
  },
  {
   "cell_type": "code",
   "execution_count": null,
   "id": "b2511a2a-3b91-469c-b22d-864a0f2564a6",
   "metadata": {},
   "outputs": [],
   "source": []
  }
 ],
 "metadata": {
  "kernelspec": {
   "display_name": "Python 3 (ipykernel)",
   "language": "python",
   "name": "python3"
  },
  "language_info": {
   "codemirror_mode": {
    "name": "ipython",
    "version": 3
   },
   "file_extension": ".py",
   "mimetype": "text/x-python",
   "name": "python",
   "nbconvert_exporter": "python",
   "pygments_lexer": "ipython3",
   "version": "3.13.5"
  }
 },
 "nbformat": 4,
 "nbformat_minor": 5
}
