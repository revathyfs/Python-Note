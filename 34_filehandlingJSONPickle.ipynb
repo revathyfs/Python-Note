{
 "cells": [
  {
   "cell_type": "markdown",
   "id": "dc4bf8c0-7945-472a-8efb-132d9cbe164d",
   "metadata": {},
   "source": [
    "🔷 What is JSON?\n",
    "\n",
    "✅ JSON stands for JavaScript Object Notation.\n",
    "It is a text-based, language-independent data format used for storing and exchanging data, especially in web apps.\n",
    "\n",
    "✔️ Features of JSON:\n",
    "\n",
    "- Human-readable (you can open and edit it easily).\n",
    "\n",
    "- Stores basic data types: dict, list, str, int, float, bool, None.\n",
    "\n",
    "- Cross-language compatible (used in Python, JavaScript, Java, etc.).\n",
    "\n",
    "- Does NOT support set, tuple, or custom Python objects directly.\n",
    "\n",
    "🧠 When to use JSON:\n",
    "\n",
    "- Saving data to be shared with other systems (e.g., APIs, frontends).\n",
    "\n",
    "- Need for readability or manual editing.\n",
    "\n",
    "- Portable storage format."
   ]
  },
  {
   "cell_type": "markdown",
   "id": "f2ffa2fc-b227-434e-a180-369e222f4c24",
   "metadata": {},
   "source": [
    "Using json Module\n",
    "\n",
    "Supported Types: dict, list\n",
    "(Note: set is not supported directly in JSON)"
   ]
  },
  {
   "cell_type": "code",
   "execution_count": 7,
   "id": "04cab3a4-ffe9-4222-992d-2d58a356d139",
   "metadata": {},
   "outputs": [],
   "source": [
    "#Write to File (JSON Dump)\n",
    "\n",
    "import json\n",
    "\n",
    "d = {\n",
    "    \"name\": \"Alice\",\n",
    "    \"scores\": [85, 90, 78]\n",
    "}\n",
    "\n",
    "with open(\"data.json\", \"w\") as f:\n",
    "    json.dump(d, f)\n"
   ]
  },
  {
   "cell_type": "code",
   "execution_count": 13,
   "id": "17554e9c-4e28-4c44-b55a-6053df858bee",
   "metadata": {},
   "outputs": [
    {
     "name": "stdout",
     "output_type": "stream",
     "text": [
      "{'name': 'Alice', 'scores': [85, 90, 78]}\n"
     ]
    }
   ],
   "source": [
    " # Read from File (JSON Load)\n",
    "\n",
    "with open(\"data.json\", \"r\") as g:\n",
    "    b=json.load(g)\n",
    "    \n",
    "print(b)\n"
   ]
  },
  {
   "cell_type": "code",
   "execution_count": 6,
   "id": "e0c26ce8-65d3-4659-ad38-0515e27a6f9d",
   "metadata": {},
   "outputs": [],
   "source": [
    "#To Store a Set with JSON (Convert Manually)\n",
    "\n",
    "data = {\"fruits\": list({\"apple\", \"banana\", \"cherry\"})}\n",
    "\n",
    "with open(\"set_data.json\", \"w\") as f:\n",
    "    json.dump(data, f)\n"
   ]
  },
  {
   "cell_type": "code",
   "execution_count": 7,
   "id": "36f04d8a-5606-4a40-8c3c-9af3045c703f",
   "metadata": {},
   "outputs": [
    {
     "name": "stdout",
     "output_type": "stream",
     "text": [
      "{'fruits': {'banana', 'apple', 'cherry'}}\n"
     ]
    }
   ],
   "source": [
    "#To read and convert back to a set:\n",
    "\n",
    "with open(\"set_data.json\", \"r\") as f:\n",
    "    data = json.load(f)\n",
    "    data[\"fruits\"] = set(data[\"fruits\"])\n",
    "print(data)"
   ]
  },
  {
   "cell_type": "markdown",
   "id": "946c193d-3376-41ca-84ce-abb4bffb19c2",
   "metadata": {},
   "source": [
    "🔶 What is Pickle?\n",
    "\n",
    "✅ Pickle is a Python-specific binary format for serializing and deserializing Python objects.\n",
    "\n",
    "✔️ Features of Pickle:\n",
    "                                           \n",
    "- Can store any Python object, including:\n",
    "\n",
    "    - set, tuple\n",
    "\n",
    "    - Custom classes/objects\n",
    "\n",
    "    - Nested or complex structures\n",
    "\n",
    "- Not human-readable (stored in binary).\n",
    "\n",
    "- Only works in Python (not cross-language).\n",
    "\n",
    "- Security warning: Don’t load pickle files from untrusted sources.\n",
    "\n",
    "🧠 When to use Pickle:\n",
    "                                           \n",
    "- Need to save full Python objects (e.g., machine learning models, sets, or custom classes).\n",
    "\n",
    "- Don’t need to share the file outside of Python.\n",
    "\n",
    "- Don’t care about human-readability.\n",
    "\n"
   ]
  },
  {
   "cell_type": "markdown",
   "id": "2a864a22-187a-4c6c-b180-6dcb39b90b98",
   "metadata": {},
   "source": [
    "Using pickle Module\n",
    "\n",
    "Supports: dict, list, set, and more complex objects"
   ]
  },
  {
   "cell_type": "code",
   "execution_count": 8,
   "id": "a93361f4-4a8c-4343-a21b-05fa4b76bf9e",
   "metadata": {},
   "outputs": [],
   "source": [
    "# Write to File (Pickle Dump)\n",
    "\n",
    "import pickle\n",
    "\n",
    "data = {\n",
    "    \"students\": {\"Alice\": 85, \"Bob\": 90},\n",
    "    \"fruits\": {\"apple\", \"banana\"},\n",
    "    \"marks\": [95, 88, 76]\n",
    "}\n",
    "\n",
    "with open(\"data.pkl\", \"wb\") as f:\n",
    "    pickle.dump(data, f)\n"
   ]
  },
  {
   "cell_type": "code",
   "execution_count": 9,
   "id": "22c4a735-a5f8-40d9-ba08-c8c088117ff9",
   "metadata": {},
   "outputs": [
    {
     "name": "stdout",
     "output_type": "stream",
     "text": [
      "{'students': {'Alice': 85, 'Bob': 90}, 'fruits': {'banana', 'apple'}, 'marks': [95, 88, 76]}\n"
     ]
    }
   ],
   "source": [
    "# Read from File (Pickle Load)\n",
    "\n",
    "with open(\"data.pkl\", \"rb\") as f:\n",
    "    data = pickle.load(f)\n",
    "\n",
    "print(data)\n"
   ]
  },
  {
   "cell_type": "markdown",
   "id": "06bcb8b7-574e-4e0b-b683-077c049fbf6e",
   "metadata": {},
   "source": [
    "| Feature        | JSON                      | Pickle                        |\n",
    "| -------------- | ------------------------- | ----------------------------- |\n",
    "| Human-readable | ✅ Yes                     | ❌ No (binary format)          |\n",
    "| Speed          | ❌ Slower                  | ✅ Faster                      |\n",
    "| Cross-language | ✅ Yes (universal)         | ❌ No (Python-only)            |\n",
    "| Supports `set` | ❌ No (need convert)       | ✅ Yes                         |\n",
    "| Security risk  | ✅ Safe with trusted input | ❌ Unsafe with untrusted input |\n"
   ]
  },
  {
   "cell_type": "code",
   "execution_count": null,
   "id": "ad73cf6e-980a-4a1f-96da-6a202ae327a6",
   "metadata": {},
   "outputs": [],
   "source": []
  }
 ],
 "metadata": {
  "kernelspec": {
   "display_name": "Python 3 (ipykernel)",
   "language": "python",
   "name": "python3"
  },
  "language_info": {
   "codemirror_mode": {
    "name": "ipython",
    "version": 3
   },
   "file_extension": ".py",
   "mimetype": "text/x-python",
   "name": "python",
   "nbconvert_exporter": "python",
   "pygments_lexer": "ipython3",
   "version": "3.13.5"
  }
 },
 "nbformat": 4,
 "nbformat_minor": 5
}
