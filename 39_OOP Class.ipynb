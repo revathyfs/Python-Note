{
 "cells": [
  {
   "cell_type": "markdown",
   "id": "e65be6c8-a70d-4936-84c1-0a0830a38af8",
   "metadata": {},
   "source": [
    "Class \n",
    "\n",
    "The class can be defined as a collection of objects. It is a logical entity that has some specific attributes and methods. \n",
    "\n",
    "A class is a special datatype which defines how to build a certain kind of object.\n",
    "\n",
    "The class also stores some data items that are shared by all the instances of this class."
   ]
  },
  {
   "cell_type": "code",
   "execution_count": 4,
   "id": "d1215076-0839-4aeb-9d51-ead82d5f908d",
   "metadata": {},
   "outputs": [],
   "source": [
    "#class concept \n",
    "class myclass:    #keyword class <space> class_name \n",
    "    x=5           #class variable  , data members \n",
    "    text=\"tinta\"  #data members \n"
   ]
  },
  {
   "cell_type": "code",
   "execution_count": 5,
   "id": "51d5dd4b-58a8-4af5-a16b-d4be7d7ba197",
   "metadata": {},
   "outputs": [],
   "source": [
    "# print(myclass)  #can't print any data members \n"
   ]
  },
  {
   "cell_type": "code",
   "execution_count": 6,
   "id": "218e0600-6c53-4bef-89b3-d73502ffa238",
   "metadata": {},
   "outputs": [
    {
     "name": "stdout",
     "output_type": "stream",
     "text": [
      "5\n"
     ]
    }
   ],
   "source": [
    "print(myclass.x)  #class_name.variable_name "
   ]
  },
  {
   "cell_type": "code",
   "execution_count": 7,
   "id": "01c04bb1-7332-41b1-bb4b-480ebcf2be40",
   "metadata": {},
   "outputs": [
    {
     "name": "stdout",
     "output_type": "stream",
     "text": [
      "tinta\n"
     ]
    }
   ],
   "source": [
    "print((myclass.text)) "
   ]
  },
  {
   "cell_type": "code",
   "execution_count": 8,
   "id": "63a06345-77dd-4e8c-8fcf-6247e4bb47d2",
   "metadata": {},
   "outputs": [],
   "source": [
    "a=myclass()"
   ]
  },
  {
   "cell_type": "code",
   "execution_count": 9,
   "id": "4c543aaa-96ea-407f-997c-6795cf73103d",
   "metadata": {},
   "outputs": [
    {
     "data": {
      "text/plain": [
       "5"
      ]
     },
     "execution_count": 9,
     "metadata": {},
     "output_type": "execute_result"
    }
   ],
   "source": [
    "a.x"
   ]
  },
  {
   "cell_type": "code",
   "execution_count": 10,
   "id": "7f9e07e0-1cd7-4320-b024-0908ffc50097",
   "metadata": {},
   "outputs": [
    {
     "data": {
      "text/plain": [
       "'tinta'"
      ]
     },
     "execution_count": 10,
     "metadata": {},
     "output_type": "execute_result"
    }
   ],
   "source": [
    "a.text"
   ]
  },
  {
   "cell_type": "code",
   "execution_count": 4,
   "id": "0270170d-d60f-4f22-ae1c-48ad348c5ffb",
   "metadata": {},
   "outputs": [
    {
     "name": "stdout",
     "output_type": "stream",
     "text": [
      "hello world\n",
      "hello world\n"
     ]
    }
   ],
   "source": [
    "# #class object creating #instance method \n",
    "class myclass1: \n",
    "     def printString(self):    #member_function \n",
    "         self.grt=\"hello world\" \n",
    "         print(self.grt) \n",
    "obj=myclass1()              #object name obj is a representative of myclass1 \n",
    "myclass1.printString(obj)   #object calling method 1 \n",
    "obj.printString()           #object calling method 2 "
   ]
  },
  {
   "cell_type": "code",
   "execution_count": 7,
   "id": "b183b756-8e54-4ca6-9833-cddf5c40fa96",
   "metadata": {},
   "outputs": [
    {
     "name": "stdout",
     "output_type": "stream",
     "text": [
      "hello tinta\n",
      "hello tinta\n"
     ]
    }
   ],
   "source": [
    "# #creating 2 objects in a class \n",
    "class myclass1: \n",
    "     def printString(self):    #member_function \n",
    "         self.grt=\"hello tinta\" \n",
    "         print(self.grt) \n",
    "obj1=myclass1()   #object name obj1 is a representative of myclass1 \n",
    "obj2=myclass1()    #object name obj2 is a representative of myclass1 \n",
    "myclass1.printString(obj1)   #object calling method 1 \n",
    "obj2.printString() "
   ]
  },
  {
   "cell_type": "code",
   "execution_count": 15,
   "id": "35ecde9d-2226-4af9-86b6-226267c0ba39",
   "metadata": {},
   "outputs": [
    {
     "name": "stdout",
     "output_type": "stream",
     "text": [
      "hello,how are you\n",
      "tinta\n",
      "=============\n",
      "hello,how are you\n",
      "tinta\n",
      "-----------\n",
      "===========\n",
      "hello,how are you\n",
      "mynew text\n"
     ]
    }
   ],
   "source": [
    "#rewrite class object value \n",
    "class printText: \n",
    "    txt=\"hello,how are you\" \n",
    "    def fnname(self): \n",
    "        x=\"tinta\" \n",
    "        return x \n",
    "obj1=printText() \n",
    "obj2=printText() \n",
    "print(obj1.txt) \n",
    "print(obj1.fnname()) \n",
    "print(\"=============\") \n",
    "print(obj2.txt) \n",
    "print(obj2.fnname()) \n",
    "print(\"-----------\") \n",
    "obj2.txt=\"mynew text\" \n",
    "obj1.fnname() \n",
    "obj2.fnname() \n",
    "print(\"===========\") \n",
    "print(obj1.txt) \n",
    "print(obj2.txt) "
   ]
  },
  {
   "cell_type": "code",
   "execution_count": null,
   "id": "3e0100dc-3fb1-4c1c-ac84-2de03de28eaa",
   "metadata": {},
   "outputs": [],
   "source": []
  }
 ],
 "metadata": {
  "kernelspec": {
   "display_name": "Python 3 (ipykernel)",
   "language": "python",
   "name": "python3"
  },
  "language_info": {
   "codemirror_mode": {
    "name": "ipython",
    "version": 3
   },
   "file_extension": ".py",
   "mimetype": "text/x-python",
   "name": "python",
   "nbconvert_exporter": "python",
   "pygments_lexer": "ipython3",
   "version": "3.13.5"
  }
 },
 "nbformat": 4,
 "nbformat_minor": 5
}
