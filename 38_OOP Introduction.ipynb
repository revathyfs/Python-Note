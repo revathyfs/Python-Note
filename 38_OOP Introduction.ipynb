{
 "cells": [
  {
   "cell_type": "markdown",
   "id": "d5c95fa8-c0f1-407f-a8ed-d8b1ecf213fa",
   "metadata": {},
   "source": [
    "OOP--object-oriented programming\n",
    "\n",
    "One of the popular approaches to solve a programming problem is by creating objects. This is known as OOP\n",
    "\n",
    "The concept of OOP in python focuses on creating reusable code. Like other general-purpose programming languages, Python is also an object-oriented language since its beginning. It allows us to develop applications using an Object-Oriented approach. In python, we can easily create and use classes and objects.\n",
    "\n",
    "Major principles of object-oriented programming system are given below.\n",
    "\n",
    "1. Class\n",
    "\n",
    "2. Object\n",
    "\n",
    "3. Method\n",
    "\n",
    "4. Inheritance\n",
    "\n",
    "5. Polymorphism\n",
    "\n",
    "6. Data Abstraction\n",
    "\n",
    "7. Encapsulation"
   ]
  },
  {
   "cell_type": "markdown",
   "id": "f4a2f975-2416-4734-85da-559fa9e3e9f5",
   "metadata": {},
   "source": [
    "🔹 1. Class"
   ]
  },
  {
   "cell_type": "raw",
   "id": "4ebde976-123d-481f-a842-a5f9ff90cab4",
   "metadata": {},
   "source": [
    "🔷Class – The Blueprint\n",
    "\n",
    "🔹 What it is:\n",
    "A class is a template used to create objects. It defines:\n",
    "    - The attributes (variables/data)\n",
    "    - The methods (functions/behavior)\n",
    "\n",
    "🔹 Why it's important:\n",
    "It allows you to organize and reuse code logically, especially for modeling real-world things (e.g., a Car, a User, an Employee)."
   ]
  },
  {
   "cell_type": "code",
   "execution_count": 3,
   "id": "462a6b10-f661-4643-9310-11ee48b67db7",
   "metadata": {},
   "outputs": [],
   "source": [
    "class Car:\n",
    "    def __init__(self, brand, model):\n",
    "        self.brand = brand\n",
    "        self.model = model\n"
   ]
  },
  {
   "cell_type": "markdown",
   "id": "400ffc37-effb-44c6-b1b8-98dffd57ba6e",
   "metadata": {},
   "source": [
    "🔹 2. Object"
   ]
  },
  {
   "cell_type": "raw",
   "id": "3240dbdf-cb5f-4ab8-8266-ce28da733671",
   "metadata": {},
   "source": [
    "🔷Object – The Real Entity\n",
    "\n",
    "🔹 What it is:\n",
    "An object is a concrete instance of a class. It stores actual data and can call the class’s methods.It represents a specific entity with values assigned to the attributes defined in the class.\n",
    "\n",
    "🔹 Why it's important:\n",
    "Objects allow you to work with real data, based on the class blueprint."
   ]
  },
  {
   "cell_type": "code",
   "execution_count": 4,
   "id": "e0f91ca6-132f-4620-98cb-af2acfcf0193",
   "metadata": {},
   "outputs": [],
   "source": [
    "car1 = Car(\"Toyota\", \"Corolla\")\n",
    "car2 = Car(\"Honda\", \"Civic\")\n"
   ]
  },
  {
   "cell_type": "raw",
   "id": "001da5e3-9b34-4151-8b11-843c446bbb96",
   "metadata": {},
   "source": [
    "Here, car1 and car2 are objects of the class Car."
   ]
  },
  {
   "cell_type": "markdown",
   "id": "0a72a39a-8c57-4c62-9322-f7136e3bda43",
   "metadata": {},
   "source": [
    "🔹 3. Method"
   ]
  },
  {
   "cell_type": "raw",
   "id": "fa714d3b-57a9-45fe-b9b3-936c2fcf8fa4",
   "metadata": {},
   "source": [
    "🔷Method – What an Object Can Do\n",
    "\n",
    "🔹 What it is:\n",
    "A method is a function defined in a class that operates on an object’s data. It describes the behavior or action that objects of the class can perform.\n",
    "\n",
    "🔹 Why it's important:\n",
    "It defines behavior for objects, allowing interaction with their internal data."
   ]
  },
  {
   "cell_type": "code",
   "execution_count": 5,
   "id": "4505aba8-4175-4ff2-9ac4-d4a86a8636c0",
   "metadata": {},
   "outputs": [],
   "source": [
    "class Car:\n",
    "    def __init__(self, brand, model):\n",
    "        self.brand = brand\n",
    "        self.model = model\n",
    "\n",
    "    def start_engine(self):\n",
    "        print(f\"{self.brand} {self.model} engine started.\")\n"
   ]
  },
  {
   "cell_type": "code",
   "execution_count": 1,
   "id": "3cf05b11-542f-4748-b549-777594145760",
   "metadata": {},
   "outputs": [],
   "source": [
    "class BankAccount:\n",
    "    def __init__(self, name, balance=0):\n",
    "        self.name = name\n",
    "        self.balance = balance\n",
    "\n",
    "    def deposit(self, amount):\n",
    "        self.balance += amount\n",
    "        print(f\"{amount} deposited. New balance: {self.balance}\")\n"
   ]
  },
  {
   "cell_type": "raw",
   "id": "150f3247-bcbf-46ca-83c6-e3ad454c99fd",
   "metadata": {},
   "source": [
    "- deposit is a method that uses the object’s balance attribute.\n",
    "- It changes the object’s state — a core concept in OOP."
   ]
  },
  {
   "cell_type": "markdown",
   "id": "32d97e87-5b0e-4eeb-ad03-5bfb385615c5",
   "metadata": {},
   "source": [
    "🔹 4. Inheritance"
   ]
  },
  {
   "cell_type": "raw",
   "id": "028d40c8-0a59-491a-9931-05d76a713321",
   "metadata": {},
   "source": [
    "🔷Inheritance – Reusing Code\n",
    "\n",
    "🔹 What it is:\n",
    "Inheritance allows one class (child) to inherit attributes and methods from another class (parent).\n",
    "\n",
    "🔹 Why it's important:\n",
    "It promotes code reusability and avoids duplication."
   ]
  },
  {
   "cell_type": "code",
   "execution_count": 6,
   "id": "76b057ba-165d-42fb-abd2-c6bc483d5230",
   "metadata": {},
   "outputs": [
    {
     "name": "stdout",
     "output_type": "stream",
     "text": [
      "Vehicle is moving\n",
      "Car is honking\n"
     ]
    }
   ],
   "source": [
    "class Vehicle:\n",
    "    def move(self):\n",
    "        print(\"Vehicle is moving\")\n",
    "\n",
    "class Car(Vehicle):  # Inherits from Vehicle\n",
    "    def honk(self):\n",
    "        print(\"Car is honking\")\n",
    "\n",
    "my_car = Car()\n",
    "my_car.move()  # Inherited method\n",
    "my_car.honk()\n"
   ]
  },
  {
   "cell_type": "raw",
   "id": "7ef02988-82a8-4560-bb11-4311ec812c51",
   "metadata": {},
   "source": [
    "🔹 Real-world use:\n",
    "If you’re building a system for a zoo, you can create one Animal class and then let Dog, Cat, Lion, etc., inherit from it — avoiding repeated code."
   ]
  },
  {
   "cell_type": "markdown",
   "id": "8b465b6a-1afb-43c8-aa3c-6337ccda0144",
   "metadata": {},
   "source": [
    "🔹 5. Polymorphism"
   ]
  },
  {
   "cell_type": "raw",
   "id": "ecdb9742-6ecd-4c45-8b7f-28cbbab5dd5d",
   "metadata": {},
   "source": [
    "🔷Polymorphism – Many Forms\n",
    "\n",
    "🔹 What it is:\n",
    "Polymorphism means using the same method name but having different behaviors depending on the object that calls it.\n",
    "\n",
    "🔹 Why it's important:\n",
    "It allows flexible and extensible code. You can write code that works on objects of different classes, as long as they implement the same interface."
   ]
  },
  {
   "cell_type": "code",
   "execution_count": 7,
   "id": "e85d0948-356d-4775-b415-197e36c641ea",
   "metadata": {},
   "outputs": [
    {
     "name": "stdout",
     "output_type": "stream",
     "text": [
      "Woof!\n",
      "Meow!\n"
     ]
    }
   ],
   "source": [
    "class Dog:\n",
    "    def speak(self):\n",
    "        print(\"Woof!\")\n",
    "\n",
    "class Cat:\n",
    "    def speak(self):\n",
    "        print(\"Meow!\")\n",
    "\n",
    "def make_animal_speak(animal):\n",
    "    animal.speak()\n",
    "\n",
    "dog = Dog()\n",
    "cat = Cat()\n",
    "\n",
    "make_animal_speak(dog)  # Woof!\n",
    "make_animal_speak(cat)  # Meow!\n"
   ]
  },
  {
   "cell_type": "raw",
   "id": "8ce8fa73-22dd-4c84-8813-1c8873dbd194",
   "metadata": {},
   "source": [
    "🔹 Key Idea:\n",
    "Even though the object types differ, they share a common interface (make_sound()), allowing unified code."
   ]
  },
  {
   "cell_type": "markdown",
   "id": "eb97a9df-e462-47e0-9874-e7b249961cb7",
   "metadata": {},
   "source": [
    "🔹 6. Data Abstraction"
   ]
  },
  {
   "cell_type": "raw",
   "id": "92913ff7-7a07-4947-acde-c1226ac5e164",
   "metadata": {},
   "source": [
    "🔷Abstraction – Hiding Complexity\n",
    "\n",
    "🔹 What it is:\n",
    "Abstraction means exposing only the necessary parts of a system to the user and hiding the internal details. In other words abstraction hides complex internal details and only shows essential features. In Python, it’s often implemented using abstract base classes.\n",
    "\n",
    "🔹 Why it's important:\n",
    "It reduces complexity, protects the user from seeing unnecessary details, and improves maintainability."
   ]
  },
  {
   "cell_type": "code",
   "execution_count": 8,
   "id": "045b2073-e3ed-4ec5-af8e-b10e81a0f6d1",
   "metadata": {},
   "outputs": [
    {
     "name": "stdout",
     "output_type": "stream",
     "text": [
      "Moo\n"
     ]
    }
   ],
   "source": [
    "from abc import ABC, abstractmethod\n",
    "\n",
    "class Animal(ABC):\n",
    "    @abstractmethod\n",
    "    def make_sound(self):\n",
    "        pass\n",
    "\n",
    "class Cow(Animal):\n",
    "    def make_sound(self):\n",
    "        print(\"Moo\")\n",
    "\n",
    "cow = Cow()\n",
    "cow.make_sound()  # Moo\n"
   ]
  },
  {
   "cell_type": "code",
   "execution_count": 11,
   "id": "394c20f5-b69a-456c-9cab-01a4b7f87428",
   "metadata": {},
   "outputs": [
    {
     "name": "stdout",
     "output_type": "stream",
     "text": [
      "Paid 1000 using Credit Card.\n"
     ]
    }
   ],
   "source": [
    "from abc import ABC, abstractmethod\n",
    "\n",
    "class Payment(ABC):\n",
    "    @abstractmethod\n",
    "    def pay(self, amount):\n",
    "        pass\n",
    "\n",
    "class CreditCardPayment(Payment):\n",
    "    def pay(self, amount):\n",
    "        print(f\"Paid {amount} using Credit Card.\")\n",
    "\n",
    "payment = CreditCardPayment()\n",
    "payment.pay(1000)\n"
   ]
  },
  {
   "cell_type": "raw",
   "id": "fcd66b67-1e36-425a-9acf-481720e3de3a",
   "metadata": {},
   "source": [
    "🔹 Key Point:\n",
    "The abstract class Payment defines the structure, but not the implementation.\n",
    "\n",
    "Subclasses must implement the pay method."
   ]
  },
  {
   "cell_type": "markdown",
   "id": "d8e680a5-2b50-42f7-be2a-3f70f50d7eb9",
   "metadata": {},
   "source": [
    "🔹 7. Encapsulation"
   ]
  },
  {
   "cell_type": "raw",
   "id": "0f200f02-e432-49b1-82f2-8635450af8a7",
   "metadata": {},
   "source": [
    "🔷 Encapsulation – Protecting Data\n",
    "\n",
    "🔹 What it is:\n",
    "Encapsulation means restricting direct access to some parts of an object and using getter/setter methods to interact with them. In oter words encapsulation means hiding the internal state of an object and only allowing access through methods. This protects data from unintended interference.\n",
    "\n",
    "🔹 Why it's important:\n",
    "It ensures data protection and prevents accidental modification."
   ]
  },
  {
   "cell_type": "code",
   "execution_count": 9,
   "id": "09218062-2e77-4434-bf93-d95566332626",
   "metadata": {},
   "outputs": [
    {
     "name": "stdout",
     "output_type": "stream",
     "text": [
      "1000\n"
     ]
    }
   ],
   "source": [
    "class BankAccount:\n",
    "    def __init__(self):\n",
    "        self.__balance = 0  # private variable\n",
    "\n",
    "    def deposit(self, amount):\n",
    "        if amount > 0:\n",
    "            self.__balance += amount\n",
    "\n",
    "    def get_balance(self):\n",
    "        return self.__balance\n",
    "\n",
    "account = BankAccount()\n",
    "account.deposit(1000)\n",
    "print(account.get_balance())  # 1000\n"
   ]
  },
  {
   "cell_type": "code",
   "execution_count": 1,
   "id": "68f9bb25-c812-4b53-86cc-65f96fc46bf0",
   "metadata": {},
   "outputs": [
    {
     "name": "stdout",
     "output_type": "stream",
     "text": [
      "5000\n"
     ]
    }
   ],
   "source": [
    "class Employee:\n",
    "    def __init__(self):\n",
    "        self.__salary = 0  # private variable\n",
    "\n",
    "    def set_salary(self, amount):\n",
    "        if amount > 0:\n",
    "            self.__salary = amount\n",
    "\n",
    "    def get_salary(self):\n",
    "        return self.__salary\n",
    "\n",
    "emp = Employee()\n",
    "emp.set_salary(5000)\n",
    "print(emp.get_salary())  # Output: 5000\n"
   ]
  },
  {
   "cell_type": "raw",
   "id": "86ed16a2-edd0-464d-a1f8-c4fc245487f5",
   "metadata": {},
   "source": [
    "__salary is private — can't be accessed directly from outside.\n",
    "\n",
    "Methods set_salary() and get_salary() safely interact with it."
   ]
  },
  {
   "cell_type": "markdown",
   "id": "ad6d54d2-b305-477b-9b28-9733eeb6a853",
   "metadata": {},
   "source": [
    "| 🔑 OOP Concept    | 🧠 Meaning                      | 📌 Real Use                    |\n",
    "| ----------------- | ------------------------------- | ------------------------------ |\n",
    "| **Class**         | Blueprint for objects           | Model entities (Car, User)     |\n",
    "| **Object**        | Instance of a class             | Real data holder               |\n",
    "| **Method**        | Behavior/function in a class    | Defines object actions         |\n",
    "| **Inheritance**   | Reuse code from a parent class  | Child classes extend features  |\n",
    "| **Polymorphism**  | Same method, different behavior | Flexible function calling      |\n",
    "| **Abstraction**   | Hiding internal complexity      | Shows only important info      |\n",
    "| **Encapsulation** | Protects object data            | Controlled access to variables |\n"
   ]
  },
  {
   "cell_type": "code",
   "execution_count": null,
   "id": "c3933063-693b-4830-b69c-994a746b19b8",
   "metadata": {},
   "outputs": [],
   "source": []
  }
 ],
 "metadata": {
  "kernelspec": {
   "display_name": "Python 3 (ipykernel)",
   "language": "python",
   "name": "python3"
  },
  "language_info": {
   "codemirror_mode": {
    "name": "ipython",
    "version": 3
   },
   "file_extension": ".py",
   "mimetype": "text/x-python",
   "name": "python",
   "nbconvert_exporter": "python",
   "pygments_lexer": "ipython3",
   "version": "3.13.5"
  }
 },
 "nbformat": 4,
 "nbformat_minor": 5
}
