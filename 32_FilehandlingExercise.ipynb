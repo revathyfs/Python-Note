{
 "cells": [
  {
   "cell_type": "markdown",
   "id": "caf77ed4-da18-40ec-a5d4-cd903efcbfe1",
   "metadata": {},
   "source": [
    "To read a file we use read() \"\" "
   ]
  },
  {
   "cell_type": "code",
   "execution_count": 1,
   "id": "9faade5f-799e-4c48-8b18-c5ac7c6a7059",
   "metadata": {},
   "outputs": [
    {
     "name": "stdout",
     "output_type": "stream",
     "text": [
      "hello world\n"
     ]
    }
   ],
   "source": [
    "f=open(\"E:\\\\ClassDemo\\\\demo.txt\").read()\n",
    "print(f)"
   ]
  },
  {
   "cell_type": "code",
   "execution_count": 2,
   "id": "5848a152-2d1d-4046-979b-8cebb95fbf1d",
   "metadata": {},
   "outputs": [
    {
     "name": "stdout",
     "output_type": "stream",
     "text": [
      "hello world\n"
     ]
    }
   ],
   "source": [
    "f=open(\"E:\\\\ClassDemo\\\\demo.txt\",\"r\").read() # r is used to file for read.File must exist;otherwise, it raises an error.\n",
    "print(f)"
   ]
  },
  {
   "cell_type": "markdown",
   "id": "1d88d1fd-ad4b-4681-a8df-ce5b09a126f6",
   "metadata": {},
   "source": [
    "Write text file using write() and inside the open()write w as write mode opens the file for writing. creates a new file or truncates the existing file."
   ]
  },
  {
   "cell_type": "code",
   "execution_count": 5,
   "id": "0b46f860-1c9a-4069-a592-b909043f07a8",
   "metadata": {},
   "outputs": [
    {
     "name": "stdout",
     "output_type": "stream",
     "text": [
      "<_io.TextIOWrapper name='E:\\\\ClassDemo\\\\demo.txt' mode='w' encoding='cp1252'>\n"
     ]
    }
   ],
   "source": [
    "f=open(\"E:\\\\ClassDemo\\\\demo.txt\",\"w\") #open file\n",
    "f.write(\"Welcome to the world\") #write the content to the file (the old script will replaced)\n",
    "f.close() #used to close a file\n",
    "print(f)"
   ]
  },
  {
   "cell_type": "code",
   "execution_count": 6,
   "id": "af6dfc04-68da-46fa-b823-06f27221adfd",
   "metadata": {},
   "outputs": [
    {
     "name": "stdout",
     "output_type": "stream",
     "text": [
      "Welcome to the world\n"
     ]
    }
   ],
   "source": [
    "f=open(\"E:\\\\ClassDemo\\\\demo.txt\",\"r\") #open the file to read the file after changing the content\n",
    "p=f.read()\n",
    "print(p)"
   ]
  },
  {
   "cell_type": "code",
   "execution_count": 7,
   "id": "69f75b5d-b316-470e-b20a-bd5262ebfed3",
   "metadata": {},
   "outputs": [
    {
     "name": "stdout",
     "output_type": "stream",
     "text": [
      "<_io.TextIOWrapper name='E:\\\\ClassDemo\\\\demo.txt' mode='a' encoding='cp1252'>\n"
     ]
    }
   ],
   "source": [
    "# append to a txt file\n",
    "\n",
    "g=open(\"E:\\\\ClassDemo\\\\demo.txt\",\"a\")\n",
    "g.write(\"Hello world\")\n",
    "g.close()\n",
    "print(g)"
   ]
  },
  {
   "cell_type": "code",
   "execution_count": 10,
   "id": "3eaac7d5-9fbc-4593-8565-c3341577c682",
   "metadata": {},
   "outputs": [
    {
     "name": "stdout",
     "output_type": "stream",
     "text": [
      "Welcome to the worldHello world\n"
     ]
    }
   ],
   "source": [
    "# read the txt file\n",
    "g=open(\"E:\\\\ClassDemo\\\\demo.txt\",\"r\")\n",
    "q=g.read()\n",
    "print(q)"
   ]
  },
  {
   "cell_type": "code",
   "execution_count": 11,
   "id": "a99cf251-ac51-4cdf-b88b-c5abb9171a84",
   "metadata": {},
   "outputs": [
    {
     "name": "stdout",
     "output_type": "stream",
     "text": [
      "['Welcome to the worldHello world']\n"
     ]
    }
   ],
   "source": [
    "#read a line(lines means read all lines)\n",
    "a=open(\"E:\\\\ClassDemo\\\\demo.txt\").readlines()\n",
    "print(a)"
   ]
  },
  {
   "cell_type": "code",
   "execution_count": 13,
   "id": "2dd80f00-cd93-41be-97c6-36562b34436d",
   "metadata": {},
   "outputs": [
    {
     "name": "stdout",
     "output_type": "stream",
     "text": [
      "31\n"
     ]
    }
   ],
   "source": [
    "#character count\n",
    "\n",
    "def char_count(filename):\n",
    "    return len(open(filename).read())\n",
    "print(char_count(\"E:\\\\ClassDemo\\\\demo.txt\"))"
   ]
  },
  {
   "cell_type": "code",
   "execution_count": 14,
   "id": "263da293-c3b5-4212-af7a-5aee7a99acac",
   "metadata": {},
   "outputs": [
    {
     "name": "stdout",
     "output_type": "stream",
     "text": [
      "5\n"
     ]
    }
   ],
   "source": [
    "# word count\n",
    "\n",
    "def word_count(filename):\n",
    "    return len(open(filename).read().split())\n",
    "print(word_count(\"E:\\\\ClassDemo\\\\demo.txt\"))"
   ]
  },
  {
   "cell_type": "code",
   "execution_count": 15,
   "id": "d130edbd-0249-4c47-af1e-7061d2cdc165",
   "metadata": {},
   "outputs": [
    {
     "name": "stdout",
     "output_type": "stream",
     "text": [
      "1\n"
     ]
    }
   ],
   "source": [
    "#line count\n",
    "\n",
    "def line_count(filename):\n",
    "    return len(open(filename).readlines())\n",
    "print(line_count(\"E:\\\\ClassDemo\\\\demo.txt\"))"
   ]
  },
  {
   "cell_type": "code",
   "execution_count": 16,
   "id": "31c1144c-a20c-4875-a7a2-beb884829c8e",
   "metadata": {},
   "outputs": [
    {
     "name": "stdout",
     "output_type": "stream",
     "text": [
      "Welcome to the worldHello world\n"
     ]
    }
   ],
   "source": [
    "# reverse with by alignation of sentence\n",
    "\n",
    "a=open(\"E:\\\\ClassDemo\\\\demo.txt\").read()\n",
    "def reverse(a):\n",
    "    a=a.split('\\n')\n",
    "    a.reverse()\n",
    "    b='\\n'.join(a)\n",
    "    return b\n",
    "print(reverse(a))"
   ]
  },
  {
   "cell_type": "code",
   "execution_count": 17,
   "id": "102f9fbe-6756-442c-b6cf-21c1b5d7a556",
   "metadata": {},
   "outputs": [
    {
     "name": "stdout",
     "output_type": "stream",
     "text": [
      "<_io.TextIOWrapper name='E:\\\\ClassDemo\\\\demo.txt' mode='a' encoding='cp1252'>\n"
     ]
    }
   ],
   "source": [
    "c=open(\"E:\\\\ClassDemo\\\\demo.txt\",\"a\")\n",
    "c.write(\"Thanks\")\n",
    "c.close()\n",
    "print(c)"
   ]
  },
  {
   "cell_type": "code",
   "execution_count": 18,
   "id": "911cb26d-129f-4dfe-8e51-ddd05d27f660",
   "metadata": {},
   "outputs": [
    {
     "name": "stdout",
     "output_type": "stream",
     "text": [
      "Welcome to the worldHello worldThanks\n"
     ]
    }
   ],
   "source": [
    "f=open(\"E:\\\\ClassDemo\\\\demo.txt\").read()\n",
    "print(f)"
   ]
  },
  {
   "cell_type": "code",
   "execution_count": 19,
   "id": "0dc5d940-4db4-4380-b58d-30f1ec2b3d01",
   "metadata": {},
   "outputs": [
    {
     "name": "stdout",
     "output_type": "stream",
     "text": [
      "Welcome to the worldHello worldThanks\n"
     ]
    }
   ],
   "source": [
    "a=open(\"E:\\\\ClassDemo\\\\demo.txt\").read()\n",
    "def reverse(a):\n",
    "    a=a.split('\\n')\n",
    "    a.reverse()\n",
    "    b='\\n'.join(a)\n",
    "    return b\n",
    "print(reverse(a))"
   ]
  },
  {
   "cell_type": "code",
   "execution_count": 21,
   "id": "100fc488-93c3-43a9-b852-9fb672df9bee",
   "metadata": {},
   "outputs": [
    {
     "name": "stdout",
     "output_type": "stream",
     "text": [
      "Welcome to the worldHello worldThanks\n"
     ]
    }
   ],
   "source": [
    "# Read the file\n",
    "with open(\"E:\\\\ClassDemo\\\\demo.txt\", \"r\") as file:\n",
    "    a = file.read()\n",
    "\n",
    "# Define the function to reverse lines\n",
    "def reverse_fun(a):\n",
    "    a = a.split('\\n')\n",
    "    a.reverse()\n",
    "    b = '\\n'.join(a)\n",
    "    return b\n",
    "\n",
    "# Print the reversed content\n",
    "print(reverse_fun(a))"
   ]
  },
  {
   "cell_type": "markdown",
   "id": "b2cc8065-08e7-46c2-9b43-ec5aa0acecdb",
   "metadata": {},
   "source": [
    "File has only one line: Nothing to reverse.\n",
    "\n",
    "File lines are symmetric (e.g., same forward and backward).\n",
    "\n",
    "Extra blank lines might hide the fact that the order has changed visually."
   ]
  },
  {
   "cell_type": "code",
   "execution_count": 22,
   "id": "b6b5d70b-7e4f-4704-bf1f-7bfd6025e37c",
   "metadata": {},
   "outputs": [
    {
     "name": "stdout",
     "output_type": "stream",
     "text": [
      "Welcome to the worldHello worldThanks\n"
     ]
    }
   ],
   "source": [
    "with open(\"E:\\\\ClassDemo\\\\demo.txt\", \"r\") as file:\n",
    "    a=file.read()\n",
    "    print(a)"
   ]
  },
  {
   "cell_type": "code",
   "execution_count": 2,
   "id": "29f2eb0c-ec04-4d52-8f95-bf93c4575f60",
   "metadata": {},
   "outputs": [
    {
     "name": "stdout",
     "output_type": "stream",
     "text": [
      "sknahTdlrow olleHdlrow eht ot emocleW\n"
     ]
    }
   ],
   "source": [
    "a=open(\"E:\\\\ClassDemo\\\\demo.txt\", \"r\").read()\n",
    "re_cont=a[::-1]\n",
    "print(re_cont)"
   ]
  },
  {
   "cell_type": "code",
   "execution_count": null,
   "id": "d508d2d2-f4a8-4c89-a13e-639ac4f9c6fa",
   "metadata": {},
   "outputs": [],
   "source": []
  }
 ],
 "metadata": {
  "kernelspec": {
   "display_name": "Python 3 (ipykernel)",
   "language": "python",
   "name": "python3"
  },
  "language_info": {
   "codemirror_mode": {
    "name": "ipython",
    "version": 3
   },
   "file_extension": ".py",
   "mimetype": "text/x-python",
   "name": "python",
   "nbconvert_exporter": "python",
   "pygments_lexer": "ipython3",
   "version": "3.13.5"
  }
 },
 "nbformat": 4,
 "nbformat_minor": 5
}
