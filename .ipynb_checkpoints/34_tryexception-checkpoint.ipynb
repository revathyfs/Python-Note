{
 "cells": [
  {
   "cell_type": "code",
   "execution_count": 1,
   "id": "fa4241ee-5484-4338-b209-e6ea21c11db1",
   "metadata": {},
   "outputs": [
    {
     "ename": "ZeroDivisionError",
     "evalue": "division by zero",
     "output_type": "error",
     "traceback": [
      "\u001b[1;31m---------------------------------------------------------------------------\u001b[0m",
      "\u001b[1;31mZeroDivisionError\u001b[0m                         Traceback (most recent call last)",
      "Cell \u001b[1;32mIn[1], line 1\u001b[0m\n\u001b[1;32m----> 1\u001b[0m a\u001b[38;5;241m=\u001b[39m\u001b[38;5;241m1\u001b[39m\u001b[38;5;241m/\u001b[39m\u001b[38;5;241m0\u001b[39m\n",
      "\u001b[1;31mZeroDivisionError\u001b[0m: division by zero"
     ]
    }
   ],
   "source": [
    "a=1/0"
   ]
  },
  {
   "cell_type": "code",
   "execution_count": 7,
   "id": "ae5d6313-cd9f-4ae6-be62-eac2f883c399",
   "metadata": {},
   "outputs": [
    {
     "name": "stdout",
     "output_type": "stream",
     "text": [
      "division by zero\n"
     ]
    }
   ],
   "source": [
    "try:\n",
    "    a=1/0\n",
    "except SyntaxError as e:\n",
    "    print(e)\n",
    "except ZeroDivisionError as e:\n",
    "    print(e)"
   ]
  },
  {
   "cell_type": "code",
   "execution_count": null,
   "id": "872f1190-595b-4232-97e6-a56790421f22",
   "metadata": {},
   "outputs": [],
   "source": [
    "try:\n",
    "    a=1/0\n",
    "except Excepetion as e:\n",
    "    print(e)"
   ]
  },
  {
   "cell_type": "code",
   "execution_count": 13,
   "id": "1ab0b48f-f689-4b55-9921-2631368df4fd",
   "metadata": {},
   "outputs": [
    {
     "name": "stdout",
     "output_type": "stream",
     "text": [
      "division by zero\n",
      "Final\n"
     ]
    }
   ],
   "source": [
    "try:\n",
    "    a=2/0\n",
    "except Exception as e:\n",
    "    print(e)\n",
    "else:\n",
    "    print(\"No error\")\n",
    "finally:\n",
    "    print(\"Final\")\n"
   ]
  },
  {
   "cell_type": "code",
   "execution_count": 33,
   "id": "475f5ab5-a4af-4cb0-b738-c013c06d5ef0",
   "metadata": {},
   "outputs": [],
   "source": [
    "try:\n",
    "    # some code\n",
    "    pass\n",
    "except (TypeError, ValueError):\n",
    "    print(\"Caught a TypeError or ValueError\")\n"
   ]
  },
  {
   "cell_type": "code",
   "execution_count": 31,
   "id": "218b32e8-90e6-4fb2-ad2e-f65cd7361f7e",
   "metadata": {},
   "outputs": [
    {
     "name": "stdout",
     "output_type": "stream",
     "text": [
      "This is a custom Exception\n"
     ]
    }
   ],
   "source": [
    "try:\n",
    "    raise MyCustomException(\"This is a custom Exception\")\n",
    "except SyntaxError as e:\n",
    "    print(e)\n",
    "except ZeroDivisionError as e:\n",
    "    print(e)\n",
    "except MyCustomException as e:\n",
    "    print(e)"
   ]
  },
  {
   "cell_type": "code",
   "execution_count": 29,
   "id": "16139576-65ec-44c6-8243-df1179da1284",
   "metadata": {},
   "outputs": [],
   "source": [
    "class MyCustomException(Exception):\n",
    "    def __init__(self, message):\n",
    "        self.message = message\n",
    "        super().__init__(self.message)\n",
    "\n",
    "\n",
    "        \n",
    "        "
   ]
  },
  {
   "cell_type": "code",
   "execution_count": 23,
   "id": "c673ccfd-0325-432d-a2c0-6b2857557375",
   "metadata": {},
   "outputs": [],
   "source": []
  },
  {
   "cell_type": "code",
   "execution_count": 25,
   "id": "5ef06a87-26c9-45b8-ad8a-2fcc2e4cbb5e",
   "metadata": {},
   "outputs": [],
   "source": [
    "account2=Bank()\n"
   ]
  },
  {
   "cell_type": "code",
   "execution_count": 27,
   "id": "da3397a0-f3f8-4014-8cf9-9b1abc2b43d1",
   "metadata": {},
   "outputs": [
    {
     "name": "stdout",
     "output_type": "stream",
     "text": [
      "1000\n",
      "20\n"
     ]
    }
   ],
   "source": [
    "account1.display(20)"
   ]
  },
  {
   "cell_type": "code",
   "execution_count": null,
   "id": "cf836f1f-5791-42fc-b9a8-1f643147ff62",
   "metadata": {},
   "outputs": [],
   "source": []
  }
 ],
 "metadata": {
  "kernelspec": {
   "display_name": "Python [conda env:base] *",
   "language": "python",
   "name": "conda-base-py"
  },
  "language_info": {
   "codemirror_mode": {
    "name": "ipython",
    "version": 3
   },
   "file_extension": ".py",
   "mimetype": "text/x-python",
   "name": "python",
   "nbconvert_exporter": "python",
   "pygments_lexer": "ipython3",
   "version": "3.12.7"
  }
 },
 "nbformat": 4,
 "nbformat_minor": 5
}
