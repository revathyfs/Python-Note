{
 "cells": [
  {
   "cell_type": "markdown",
   "id": "17fd3618-0633-4aed-8357-0bda233c5839",
   "metadata": {},
   "source": [
    "enumerate() function\n",
    "\n",
    "The enumerate() function is a built-in Python function used when you need to loop through a list (or any iterable) and also track the index of each item.\n",
    "\n",
    "Instead of using a separate counter variable, enumerate() automatically provides both the index and the value of each element in the loop.\n",
    "\n",
    "Syntax\n",
    "\n",
    "enumerate(iterable, start=0)\n",
    "\n",
    "- iterable: A sequence (like a list, tuple, or string).\n",
    "\n",
    "- start (optional): The starting index number (default is 0).\n",
    "\n"
   ]
  },
  {
   "cell_type": "code",
   "execution_count": 1,
   "id": "fe86499e-8df8-4806-b5ad-3d216714f5a4",
   "metadata": {},
   "outputs": [
    {
     "name": "stdout",
     "output_type": "stream",
     "text": [
      "0 apple\n",
      "1 banana\n",
      "2 cherry\n"
     ]
    }
   ],
   "source": [
    "# simple example\n",
    "\n",
    "fruits = ['apple', 'banana', 'cherry']\n",
    "\n",
    "for index, fruit in enumerate(fruits):\n",
    "    print(index, fruit)\n"
   ]
  },
  {
   "cell_type": "code",
   "execution_count": 2,
   "id": "6ef08de8-c988-4471-a721-351d952b5119",
   "metadata": {},
   "outputs": [
    {
     "name": "stdout",
     "output_type": "stream",
     "text": [
      "1 apple\n",
      "2 banana\n",
      "3 cherry\n"
     ]
    }
   ],
   "source": [
    "fruits = ['apple', 'banana', 'cherry']\n",
    "\n",
    "for index, fruit in enumerate(fruits, start=1):\n",
    "    print(index, fruit)\n"
   ]
  },
  {
   "cell_type": "code",
   "execution_count": 3,
   "id": "70870d22-5b09-4003-b2fc-c9334926da32",
   "metadata": {},
   "outputs": [
    {
     "name": "stdout",
     "output_type": "stream",
     "text": [
      "1 apple\n",
      "2 banana\n",
      "3 cherry\n"
     ]
    }
   ],
   "source": [
    "fruits = ['apple', 'banana', 'cherry']\n",
    "\n",
    "for index, fruit in enumerate(fruits, start=1):\n",
    "    print(index, fruit)\n"
   ]
  },
  {
   "cell_type": "code",
   "execution_count": 3,
   "id": "8ddf115b-3923-4179-98d6-7f28b1be7c85",
   "metadata": {},
   "outputs": [
    {
     "name": "stdout",
     "output_type": "stream",
     "text": [
      "Index: 0, Color: red\n",
      "Index: 1, Color: green\n",
      "Index: 2, Color: blue\n"
     ]
    }
   ],
   "source": [
    "# Example tuple\n",
    "colors = (\"red\", \"green\", \"blue\")\n",
    "\n",
    "# Using enumerate with a tuple\n",
    "for index, color in enumerate(colors):\n",
    "    print(f\"Index: {index}, Color: {color}\")"
   ]
  },
  {
   "cell_type": "code",
   "execution_count": 5,
   "id": "8eb1e94c-00ce-4c8b-9e54-ba1cf89a4e48",
   "metadata": {},
   "outputs": [
    {
     "name": "stdout",
     "output_type": "stream",
     "text": [
      "[(0, 'Alice'), (1, 'Bob'), (2, 'Charlie')]\n"
     ]
    }
   ],
   "source": [
    "# Example list\n",
    "names = [\"Alice\", \"Bob\", \"Charlie\"]\n",
    "\n",
    "# Using enumerate in a list comprehension\n",
    "indexed_names = [(index, name) for index, name in enumerate(names)]\n",
    "\n",
    "print(indexed_names)"
   ]
  },
  {
   "cell_type": "code",
   "execution_count": 1,
   "id": "b3610840-e6fc-4c15-bcc8-d2ef96f2991b",
   "metadata": {},
   "outputs": [
    {
     "name": "stdout",
     "output_type": "stream",
     "text": [
      "['green', 'white', 'black']\n"
     ]
    }
   ],
   "source": [
    "color = ['red','green','white','black','pink','yellow']\n",
    "color = [x for (i,x) in enumerate(color) if i not in (0,4,5)]\n",
    "print(color)"
   ]
  },
  {
   "cell_type": "code",
   "execution_count": 3,
   "id": "b058920b-6987-435a-93dc-828fbd10f104",
   "metadata": {},
   "outputs": [
    {
     "name": "stdout",
     "output_type": "stream",
     "text": [
      "[0, 1, 2, 3, 4, 5, 6, 7, 8, 9]\n"
     ]
    }
   ],
   "source": [
    "a=range(10)\n",
    "print(list(a))"
   ]
  },
  {
   "cell_type": "code",
   "execution_count": 5,
   "id": "0d88857c-bbd6-4c97-b4b7-0f6a619b7207",
   "metadata": {},
   "outputs": [
    {
     "name": "stdout",
     "output_type": "stream",
     "text": [
      "[0, 1, 2, 3, 4, 5, 6, 7, 8, 9]\n"
     ]
    }
   ],
   "source": [
    "b=[x for x in a]\n",
    "print(b)"
   ]
  },
  {
   "cell_type": "code",
   "execution_count": 7,
   "id": "25922054-d8c8-453c-ba1b-ca448feefd10",
   "metadata": {},
   "outputs": [
    {
     "name": "stdout",
     "output_type": "stream",
     "text": [
      "[0, 1, 4, 9, 16, 25, 36, 49, 64, 81]\n"
     ]
    }
   ],
   "source": [
    "c=[x*x for x in a]\n",
    "print(c)"
   ]
  },
  {
   "cell_type": "code",
   "execution_count": 9,
   "id": "3f231a67-da94-480b-936d-5668d5181263",
   "metadata": {},
   "outputs": [],
   "source": [
    "d=[x+1 for x in a]"
   ]
  },
  {
   "cell_type": "code",
   "execution_count": 11,
   "id": "6df31601-6366-41b6-961f-48275c242cf5",
   "metadata": {},
   "outputs": [
    {
     "name": "stdout",
     "output_type": "stream",
     "text": [
      "[1, 2, 3, 4, 5, 6, 7, 8, 9, 10]\n"
     ]
    }
   ],
   "source": [
    "print(d)"
   ]
  },
  {
   "cell_type": "code",
   "execution_count": 13,
   "id": "fc038823-dbd0-4156-b15c-d7915ed52c6b",
   "metadata": {},
   "outputs": [
    {
     "name": "stdout",
     "output_type": "stream",
     "text": [
      "[0, 2, 4, 6, 8]\n"
     ]
    }
   ],
   "source": [
    "e=[x for x in a if x%2==0]\n",
    "print(e)"
   ]
  },
  {
   "cell_type": "code",
   "execution_count": 15,
   "id": "b1ba1cbb-1666-4c7d-8272-e4ec4ea8d6a6",
   "metadata": {},
   "outputs": [
    {
     "name": "stdout",
     "output_type": "stream",
     "text": [
      "[0, 4, 16, 36, 64]\n"
     ]
    }
   ],
   "source": [
    "f=[x*x for x in a if x%2==0]\n",
    "print(f)"
   ]
  },
  {
   "cell_type": "code",
   "execution_count": 17,
   "id": "40875559-4655-4b27-8e23-50987a3f6f47",
   "metadata": {},
   "outputs": [
    {
     "name": "stdout",
     "output_type": "stream",
     "text": [
      "<zip object at 0x0000023F83592DC0>\n"
     ]
    }
   ],
   "source": [
    "g=[1,2,3,4]\n",
    "h=[2,3,5,7]\n",
    "i=zip(a,b)\n",
    "print(i)"
   ]
  },
  {
   "cell_type": "code",
   "execution_count": 23,
   "id": "501f6c36-6e9a-4f82-bc17-641d208f5d88",
   "metadata": {},
   "outputs": [
    {
     "name": "stdout",
     "output_type": "stream",
     "text": [
      "[0, 2, 4, 6, 8, 10, 12, 14, 16, 18]\n"
     ]
    }
   ],
   "source": [
    "j=[x+y for x,y in zip(a,b)]\n",
    "print(j)"
   ]
  },
  {
   "cell_type": "code",
   "execution_count": 25,
   "id": "dd72eb82-b4ee-46db-8b56-9e275617bdec",
   "metadata": {},
   "outputs": [
    {
     "name": "stdout",
     "output_type": "stream",
     "text": [
      "[(0, 0), (0, 1), (0, 2), (1, 0), (1, 1), (1, 2), (2, 0), (2, 1), (2, 2), (3, 0), (3, 1), (3, 2), (4, 0), (4, 1), (4, 2)]\n"
     ]
    }
   ],
   "source": [
    "k=[(x,y) for x in range(5) for y in range(3)]\n",
    "print(k)"
   ]
  },
  {
   "cell_type": "code",
   "execution_count": 27,
   "id": "5c6a4461-27fe-4f1c-bcef-6671eec3f6aa",
   "metadata": {},
   "outputs": [
    {
     "name": "stdout",
     "output_type": "stream",
     "text": [
      "[(0, 0), (0, 1), (1, 0), (1, 1), (2, 0), (2, 1), (3, 0), (3, 1), (4, 0), (4, 1)]\n"
     ]
    }
   ],
   "source": [
    "l=[(x,y) for x in range(5) for y in range(2)]\n",
    "print(l)"
   ]
  },
  {
   "cell_type": "code",
   "execution_count": 29,
   "id": "8c4b5d54-2c01-4ada-ac8d-fb8cbc13c47d",
   "metadata": {},
   "outputs": [
    {
     "name": "stdout",
     "output_type": "stream",
     "text": [
      "[(0, 0), (1, 0), (2, 0), (3, 0), (4, 0)]\n"
     ]
    }
   ],
   "source": [
    "m=[(x,y) for x in range(5) for y in range(1)]\n",
    "print(m)"
   ]
  },
  {
   "cell_type": "code",
   "execution_count": 31,
   "id": "8e85991b-5735-4f83-be54-11f78ba76505",
   "metadata": {},
   "outputs": [
    {
     "ename": "TypeError",
     "evalue": "'list' object cannot be interpreted as an integer",
     "output_type": "error",
     "traceback": [
      "\u001b[1;31m---------------------------------------------------------------------------\u001b[0m",
      "\u001b[1;31mTypeError\u001b[0m                                 Traceback (most recent call last)",
      "Cell \u001b[1;32mIn[31], line 2\u001b[0m\n\u001b[0;32m      1\u001b[0m n\u001b[38;5;241m=\u001b[39m\u001b[38;5;241m25\u001b[39m\n\u001b[1;32m----> 2\u001b[0m o\u001b[38;5;241m=\u001b[39m[(x,y,z) \u001b[38;5;28;01mfor\u001b[39;00m x \u001b[38;5;129;01min\u001b[39;00m \u001b[38;5;28mrange\u001b[39m(l,n) \u001b[38;5;28;01mfor\u001b[39;00m y \u001b[38;5;129;01min\u001b[39;00m \u001b[38;5;28mrange\u001b[39m(x,n) \u001b[38;5;28;01mfor\u001b[39;00m z \u001b[38;5;129;01min\u001b[39;00m \u001b[38;5;28mrange\u001b[39m(y,n) \u001b[38;5;28;01mif\u001b[39;00m x\u001b[38;5;241m*\u001b[39mx\u001b[38;5;241m+\u001b[39my\u001b[38;5;241m*\u001b[39my\u001b[38;5;241m==\u001b[39mz\u001b[38;5;241m*\u001b[39mz]\n\u001b[0;32m      3\u001b[0m \u001b[38;5;28mprint\u001b[39m(o)\n",
      "\u001b[1;31mTypeError\u001b[0m: 'list' object cannot be interpreted as an integer"
     ]
    }
   ],
   "source": [
    "n=25\n",
    "o=[(x,y,z) for x in range(l,n) for y in range(x,n) for z in range(y,n) if x*x+y*y==z*z]\n",
    "print(o)"
   ]
  },
  {
   "cell_type": "code",
   "execution_count": null,
   "id": "43fe0863-b8cc-47ea-9662-ba0512594fdd",
   "metadata": {},
   "outputs": [],
   "source": []
  }
 ],
 "metadata": {
  "kernelspec": {
   "display_name": "Python 3 (ipykernel)",
   "language": "python",
   "name": "python3"
  },
  "language_info": {
   "codemirror_mode": {
    "name": "ipython",
    "version": 3
   },
   "file_extension": ".py",
   "mimetype": "text/x-python",
   "name": "python",
   "nbconvert_exporter": "python",
   "pygments_lexer": "ipython3",
   "version": "3.13.5"
  }
 },
 "nbformat": 4,
 "nbformat_minor": 5
}
