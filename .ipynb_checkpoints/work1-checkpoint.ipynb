{
 "cells": [
  {
   "cell_type": "markdown",
   "id": "2edbd016",
   "metadata": {},
   "source": [
    "Write a Python program to demonstrate multiple inheritance.\n",
    "1. Employee class has 3 data members EmployeeID, Gender (String), Salary and\n",
    "PerformanceRating(Out of 5) of type int. It has a get() function to get these details from\n",
    "the user.\n",
    "2. JoiningDetail class has a data member DateOfJoining of type Date and a function\n",
    "getDoJ to get the Date of joining of employees.\n",
    "3. Information Class uses the marks from Employee class and the DateOfJoining date\n",
    "from the JoiningDetail class to calculate the top 3 Employees based on their Ratings\n",
    "and then Display, using readData, all the details on these employees in Ascending\n",
    "order of their Date Of Joining."
   ]
  },
  {
   "cell_type": "markdown",
   "id": "872eda8d",
   "metadata": {},
   "source": [
    "Employee → Employee details\n",
    "\n",
    "JoiningDetail → Joining date\n",
    "\n",
    "Information → inherits from both, calculates top 3 employees by rating, sorts them by joining date, and displays them."
   ]
  },
  {
   "cell_type": "markdown",
   "id": "e83630f3",
   "metadata": {},
   "source": []
  }
 ],
 "metadata": {
  "language_info": {
   "name": "python"
  }
 },
 "nbformat": 4,
 "nbformat_minor": 5
}
