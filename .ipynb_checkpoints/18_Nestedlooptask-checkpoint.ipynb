{
 "cells": [
  {
   "cell_type": "code",
   "execution_count": 1,
   "id": "cca1dcf3-7385-4aea-be1f-a5b1e86d6d3a",
   "metadata": {},
   "outputs": [
    {
     "name": "stdin",
     "output_type": "stream",
     "text": [
      "Enter the number :  20\n"
     ]
    },
    {
     "name": "stdout",
     "output_type": "stream",
     "text": [
      "2\n",
      "3\n",
      "5\n",
      "7\n",
      "11\n",
      "13\n",
      "17\n",
      "19\n"
     ]
    }
   ],
   "source": [
    "#prime number or not \n",
    "num=int(input(\"Enter the number : \"))\n",
    "for n in range(2,num+1):\n",
    " for i in range(2,n):\n",
    "     if n%i==0:\n",
    "         break\n",
    " else:\n",
    "    print(n)"
   ]
  },
  {
   "cell_type": "code",
   "execution_count": 124,
   "id": "d99d6825-3548-4a5d-a075-1790731f601c",
   "metadata": {},
   "outputs": [
    {
     "name": "stdin",
     "output_type": "stream",
     "text": [
      "Enter the number: 10\n"
     ]
    },
    {
     "name": "stdout",
     "output_type": "stream",
     "text": [
      "0\n",
      "1\n",
      "1\n",
      "2\n",
      "3\n",
      "5\n",
      "8\n",
      "13\n",
      "21\n",
      "34\n"
     ]
    }
   ],
   "source": [
    "#Fibnocci series\n",
    "fn=int(input(\"Enter the number:\"))\n",
    "for i in range(fn):\n",
    "    a,b=0,1\n",
    "    for j in range(i):\n",
    "      a,b=b,a+b\n",
    "    print(a)"
   ]
  },
  {
   "cell_type": "code",
   "execution_count": 224,
   "id": "2785318d-43ee-4209-9624-4023734297e0",
   "metadata": {},
   "outputs": [
    {
     "name": "stdin",
     "output_type": "stream",
     "text": [
      "Enter the number : 153\n"
     ]
    },
    {
     "name": "stdout",
     "output_type": "stream",
     "text": [
      "Its Armstrong\n"
     ]
    }
   ],
   "source": [
    "#write a program to check if a given number is amstrong number using nested loops\n",
    "\n",
    "n=int(input(\"Enter the number :\"))\n",
    "st=str(n)\n",
    "l=len(str(n))\n",
    "lst=str(l)\n",
    "s=0\n",
    "for i in st:\n",
    "    for num in i:\n",
    "        num=int(i)%10\n",
    "        s=num**int(l)+s\n",
    "        int(num)==int(num)//10\n",
    "if (s==n):\n",
    "    print(\"Its Armstrong\")\n",
    "else:\n",
    "    print(\"Not Armstrong\")"
   ]
  },
  {
   "cell_type": "code",
   "execution_count": 259,
   "id": "e83ef016-761d-4e52-8dd2-e2cbc294b8ba",
   "metadata": {},
   "outputs": [
    {
     "name": "stdin",
     "output_type": "stream",
     "text": [
      "Ener the limit 6\n"
     ]
    },
    {
     "name": "stdout",
     "output_type": "stream",
     "text": [
      "******\n",
      "*****\n",
      "****\n",
      "***\n",
      "**\n",
      "*\n"
     ]
    }
   ],
   "source": [
    "n=int(input(\"Ener the limit\"))\n",
    "for i in range(n,0,-1):\n",
    "    for j in range(i):\n",
    "        print(\"*\",end=\"\")\n",
    "    print()"
   ]
  },
  {
   "cell_type": "code",
   "execution_count": 257,
   "id": "65835fcc-9646-410d-aefe-b79531872112",
   "metadata": {},
   "outputs": [
    {
     "name": "stdin",
     "output_type": "stream",
     "text": [
      "Ener the limit 6\n"
     ]
    },
    {
     "name": "stdout",
     "output_type": "stream",
     "text": [
      "\n",
      "*\n",
      "**\n",
      "***\n",
      "****\n",
      "*****\n",
      "******\n"
     ]
    }
   ],
   "source": [
    "n=int(input(\"Ener the limit\"))\n",
    "for i in range(n+1):\n",
    "    for j in range(i):\n",
    "        print(\"*\",end=\"\")\n",
    "    print()"
   ]
  },
  {
   "cell_type": "code",
   "execution_count": 285,
   "id": "5b9844ed-a3ca-4fbc-a924-eb573035450e",
   "metadata": {},
   "outputs": [
    {
     "name": "stdin",
     "output_type": "stream",
     "text": [
      "Ener the limit 5\n"
     ]
    },
    {
     "name": "stdout",
     "output_type": "stream",
     "text": [
      "**\n",
      "*\n",
      "*\n",
      "*\n",
      "*\n"
     ]
    }
   ],
   "source": [
    "n=int(input(\"Ener the limit\"))\n",
    "for i in range(n,0,-1):\n",
    "    for j in range(i):\n",
    "        print(\"\",end=\"\")\n",
    "    for j in range(i):\n",
    "        if j==0 or j==n-1 or j==n:\n",
    "            print(\"*\",end=\"\")\n",
    "        else:\n",
    "            print(\"\",end=\"\")\n",
    "    print()"
   ]
  },
  {
   "cell_type": "code",
   "execution_count": 128,
   "id": "e743a11a-223a-4a62-88e3-94c418ef6c96",
   "metadata": {},
   "outputs": [
    {
     "name": "stdin",
     "output_type": "stream",
     "text": [
      "Enter the starting of the range :  1\n",
      "Enter the end of the range :  300\n",
      "Enter the digit to count :  3\n"
     ]
    },
    {
     "name": "stdout",
     "output_type": "stream",
     "text": [
      "60\n"
     ]
    }
   ],
   "source": [
    "s=int(input(\"Enter the starting of the range : \"))\n",
    "e=int(input(\"Enter the end of the range : \"))\n",
    "d=int(input(\"Enter the digit to count : \"))\n",
    "count=0\n",
    "for i in range(s,e):\n",
    "    for j in str(i):\n",
    "        if j==str(d):\n",
    "           count=count+1\n",
    "print(count)"
   ]
  },
  {
   "cell_type": "code",
   "execution_count": 2,
   "id": "733ae6be-cd42-40d3-a3cd-a5cd779afed5",
   "metadata": {},
   "outputs": [
    {
     "name": "stdin",
     "output_type": "stream",
     "text": [
      "Enter the size of row :  2\n",
      "Enter the size of column :  4\n"
     ]
    },
    {
     "name": "stdout",
     "output_type": "stream",
     "text": [
      "Enter the entries row-wise:\n"
     ]
    },
    {
     "name": "stdin",
     "output_type": "stream",
     "text": [
      "Enter element [0][0] :  1\n",
      "Enter element [0][1] :  2\n",
      "Enter element [0][2] :  3\n",
      "Enter element [0][3] :  4\n",
      "Enter element [1][0] :  5\n",
      "Enter element [1][1] :  6\n",
      "Enter element [1][2] :  7\n",
      "Enter element [1][3] :  8\n"
     ]
    },
    {
     "name": "stdout",
     "output_type": "stream",
     "text": [
      "1 2 3 4 \n",
      "5 6 7 8 \n"
     ]
    }
   ],
   "source": [
    "m = int(input(\"Enter the size of row : \"))\n",
    "n = int(input(\"Enter the size of column : \"))\n",
    "matrix = []\n",
    "\n",
    "print(\"Enter the entries row-wise:\")\n",
    "for i in range(m):\n",
    "    r = []\n",
    "    for j in range(n):\n",
    "        r.append(int(input(f\"Enter element [{i}][{j}] : \")))\n",
    "    matrix.append(r)   # append row only once (after finishing the row)\n",
    "\n",
    "\n",
    "for i in range(m):\n",
    "    for j in range(n):\n",
    "        print(matrix[i][j], end=\" \")\n",
    "    print()\n"
   ]
  },
  {
   "cell_type": "code",
   "execution_count": null,
   "id": "6b1f76ae-4aff-46ea-bf23-f0e49e48ebcc",
   "metadata": {},
   "outputs": [],
   "source": []
  }
 ],
 "metadata": {
  "kernelspec": {
   "display_name": "Python 3 (ipykernel)",
   "language": "python",
   "name": "python3"
  },
  "language_info": {
   "codemirror_mode": {
    "name": "ipython",
    "version": 3
   },
   "file_extension": ".py",
   "mimetype": "text/x-python",
   "name": "python",
   "nbconvert_exporter": "python",
   "pygments_lexer": "ipython3",
   "version": "3.13.5"
  }
 },
 "nbformat": 4,
 "nbformat_minor": 5
}
