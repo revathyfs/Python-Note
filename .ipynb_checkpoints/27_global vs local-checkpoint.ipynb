{
 "cells": [
  {
   "cell_type": "code",
   "execution_count": 9,
   "id": "1cd1e4a8-113c-4415-99bf-ccb9efb40e21",
   "metadata": {},
   "outputs": [
    {
     "name": "stdout",
     "output_type": "stream",
     "text": [
      "x inside: global\n",
      "x outside:  global\n"
     ]
    }
   ],
   "source": [
    "#global variables\n",
    "\n",
    "x=\"global\"\n",
    "def foo():\n",
    "    print(\"x inside:\",x)\n",
    "foo()\n",
    "print(\"x outside: \",x)"
   ]
  },
  {
   "cell_type": "code",
   "execution_count": 1,
   "id": "2bd2e8de-d002-4147-91aa-8d472755a705",
   "metadata": {},
   "outputs": [
    {
     "name": "stdout",
     "output_type": "stream",
     "text": [
      "globalglobal\n"
     ]
    }
   ],
   "source": [
    "#change value inside a function\n",
    "\n",
    "x=\"global\"\n",
    "def foo():\n",
    "    y=x*2\n",
    "    print(y)\n",
    "foo()"
   ]
  },
  {
   "cell_type": "code",
   "execution_count": 3,
   "id": "63184ad5-5f61-48ec-bec8-4bf7597c1e37",
   "metadata": {},
   "outputs": [
    {
     "name": "stdout",
     "output_type": "stream",
     "text": [
      "local\n"
     ]
    },
    {
     "ename": "NameError",
     "evalue": "name 'y' is not defined",
     "output_type": "error",
     "traceback": [
      "\u001b[1;31m---------------------------------------------------------------------------\u001b[0m",
      "\u001b[1;31mNameError\u001b[0m                                 Traceback (most recent call last)",
      "Cell \u001b[1;32mIn[3], line 9\u001b[0m\n\u001b[0;32m      6\u001b[0m     \u001b[38;5;28mprint\u001b[39m(y)\n\u001b[0;32m      8\u001b[0m foo() \u001b[38;5;66;03m# run only for this statement\u001b[39;00m\n\u001b[1;32m----> 9\u001b[0m \u001b[38;5;28mprint\u001b[39m(y)\n",
      "\u001b[1;31mNameError\u001b[0m: name 'y' is not defined"
     ]
    }
   ],
   "source": [
    "#local variable\n",
    "#False True\n",
    "\n",
    "def foo():\n",
    "    y=\"local\"\n",
    "    print(y)\n",
    "    \n",
    "foo() # run only for this statement\n",
    "print(y) # shows error"
   ]
  },
  {
   "cell_type": "code",
   "execution_count": 4,
   "id": "8fabdc05-7957-4321-a9ab-89cef998075b",
   "metadata": {},
   "outputs": [
    {
     "name": "stdout",
     "output_type": "stream",
     "text": [
      "local\n"
     ]
    }
   ],
   "source": [
    "def foo():\n",
    "    y=\"local\"\n",
    "    print(y)\n",
    "foo()"
   ]
  },
  {
   "cell_type": "code",
   "execution_count": 5,
   "id": "f6eadd50-ff21-43f1-a485-ff0dcb52857a",
   "metadata": {},
   "outputs": [
    {
     "name": "stdout",
     "output_type": "stream",
     "text": [
      "globalglobal\n",
      "local\n",
      "globalglobal\n"
     ]
    }
   ],
   "source": [
    "# global and local variable\n",
    "\n",
    "x=\"global\"\n",
    "def foo():\n",
    "    global x\n",
    "    y=\"local\"\n",
    "    x=x*2\n",
    "    print(x)\n",
    "    print(y)\n",
    "foo()\n",
    "print(x)"
   ]
  },
  {
   "cell_type": "code",
   "execution_count": 21,
   "id": "84ce2f4e-dcca-4fe9-a90e-79cdaf7858c1",
   "metadata": {},
   "outputs": [
    {
     "name": "stdout",
     "output_type": "stream",
     "text": [
      "x inside :  global\n",
      "x outside:  global\n"
     ]
    }
   ],
   "source": [
    "x=\"global\"\n",
    "def foo():\n",
    "    print(\"x inside : \",x)\n",
    "foo()\n",
    "print(\"x outside: \",x)"
   ]
  },
  {
   "cell_type": "code",
   "execution_count": 23,
   "id": "197569c1-2bae-4017-ac50-d7bb68593cfa",
   "metadata": {},
   "outputs": [
    {
     "name": "stdout",
     "output_type": "stream",
     "text": [
      "local\n"
     ]
    }
   ],
   "source": [
    "def foo():\n",
    "    y=\"local\"\n",
    "    print(y)\n",
    "foo()"
   ]
  },
  {
   "cell_type": "code",
   "execution_count": 27,
   "id": "c588e2db-c248-4fbb-96b1-856469ae2867",
   "metadata": {},
   "outputs": [
    {
     "name": "stdout",
     "output_type": "stream",
     "text": [
      "globalglobal\n",
      "local\n",
      "globalglobal\n"
     ]
    }
   ],
   "source": [
    "x=\"global\"\n",
    "def foo():\n",
    "    global x\n",
    "    y=\"local\"\n",
    "    x=x*2\n",
    "    print(x)\n",
    "    print(y)\n",
    "foo()\n",
    "print(x)"
   ]
  },
  {
   "cell_type": "code",
   "execution_count": null,
   "id": "40d5d801-c7ff-4739-837a-62e9a1ff678e",
   "metadata": {},
   "outputs": [],
   "source": []
  }
 ],
 "metadata": {
  "kernelspec": {
   "display_name": "Python 3 (ipykernel)",
   "language": "python",
   "name": "python3"
  },
  "language_info": {
   "codemirror_mode": {
    "name": "ipython",
    "version": 3
   },
   "file_extension": ".py",
   "mimetype": "text/x-python",
   "name": "python",
   "nbconvert_exporter": "python",
   "pygments_lexer": "ipython3",
   "version": "3.13.5"
  }
 },
 "nbformat": 4,
 "nbformat_minor": 5
}
