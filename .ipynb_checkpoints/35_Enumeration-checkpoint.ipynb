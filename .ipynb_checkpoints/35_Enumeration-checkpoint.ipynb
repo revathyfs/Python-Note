{
 "cells": [
  {
   "cell_type": "markdown",
   "id": "17fd3618-0633-4aed-8357-0bda233c5839",
   "metadata": {},
   "source": [
    "enumerate() function\n",
    "\n",
    "The enumerate() function is a built-in Python function used when you need to loop through a list (or any iterable) and also track the index of each item.\n",
    "\n",
    "Instead of using a separate counter variable, enumerate() automatically provides both the index and the value of each element in the loop.\n",
    "\n",
    "Syntax\n",
    "\n",
    "enumerate(iterable, start=0)\n",
    "\n",
    "- iterable: A sequence (like a list, tuple, or string).\n",
    "\n",
    "- start (optional): The starting index number (default is 0).\n",
    "\n"
   ]
  },
  {
   "cell_type": "markdown",
   "id": "ee702c7e-ad6b-4c85-8b47-e281e6221961",
   "metadata": {},
   "source": [
    "| Feature       | Description                           |\n",
    "| ------------- | ------------------------------------- |\n",
    "| Function name | `enumerate()`                         |\n",
    "| Purpose       | Loop with both index and value        |\n",
    "| Return type   | An iterator of `(index, item)` tuples |\n",
    "| Default start | 0                                     |\n",
    "| Common usage  | Clean indexing in `for` loops         |\n"
   ]
  },
  {
   "cell_type": "markdown",
   "id": "5b2edcc5-5ec7-40ea-9ed9-f1bc3d368c89",
   "metadata": {},
   "source": [
    "List Comprehension\n",
    "\n",
    "List comprehension in Python offers a concise and efficient way to create new lists based on existing iterables (like lists, tuples, or strings). It combines the functionality of for loops and optional if conditions into a single line of code, leading to more readable and often faster code compared to traditional loop-based approaches.\n",
    "\n",
    "The general syntax of a list comprehension is:\n",
    "\n",
    "[expression for item in iterable if condition]\n",
    "\n",
    "Here's a breakdown of its components:\n",
    "\n",
    "- Brackets []:\n",
    "\n",
    "  The entire construct is enclosed in square brackets, indicating that the result will be a new list.\n",
    "  \n",
    "- expression:\n",
    "\n",
    "    This defines what value will be included in the new list for each item. It can be the item itself, an operation performed on the item, or a more complex expression.\n",
    "\n",
    "- for item in iterable:\n",
    "\n",
    "    This is the core iteration part, similar to a for loop. It specifies the iterable over which to iterate and assigns each element to the item variable.\n",
    "\n",
    "- if condition (optional):\n",
    "\n",
    "    This is a conditional statement that acts as a filter. Only items for which the condition evaluates to True will be included in the new list.\n"
   ]
  },
  {
   "cell_type": "code",
   "execution_count": 77,
   "id": "7ff1f369-1fce-4ed5-9605-1168c491871f",
   "metadata": {},
   "outputs": [
    {
     "name": "stdout",
     "output_type": "stream",
     "text": [
      "[1, 4, 9, 16, 25]\n"
     ]
    }
   ],
   "source": [
    "#Creating a list of squares\n",
    "numbers = [1, 2, 3, 4, 5]\n",
    "squares = [x**2 for x in numbers]\n",
    "print(squares)"
   ]
  },
  {
   "cell_type": "code",
   "execution_count": 78,
   "id": "1a331e11-3a29-4bc2-afeb-034fb963c8f3",
   "metadata": {},
   "outputs": [
    {
     "name": "stdout",
     "output_type": "stream",
     "text": [
      "[2, 4, 6]\n"
     ]
    }
   ],
   "source": [
    "#Filtering even numbers\n",
    "numbers = [1, 2, 3, 4, 5, 6]\n",
    "even_numbers = [x for x in numbers if x % 2 == 0]\n",
    "print(even_numbers)"
   ]
  },
  {
   "cell_type": "code",
   "execution_count": 79,
   "id": "e89346e6-5102-4412-9488-7263c314c406",
   "metadata": {},
   "outputs": [
    {
     "name": "stdout",
     "output_type": "stream",
     "text": [
      "['BANANA', 'CHERRY']\n"
     ]
    }
   ],
   "source": [
    "#Applying a transformation with a condition\n",
    "words = [\"apple\", \"banana\", \"cherry\", \"kiwi\"]\n",
    "long_words_upper = [word.upper() for word in words if len(word) > 5]\n",
    "print(long_words_upper)"
   ]
  },
  {
   "cell_type": "code",
   "execution_count": 1,
   "id": "fe86499e-8df8-4806-b5ad-3d216714f5a4",
   "metadata": {},
   "outputs": [
    {
     "name": "stdout",
     "output_type": "stream",
     "text": [
      "0 apple\n",
      "1 banana\n",
      "2 cherry\n"
     ]
    }
   ],
   "source": [
    "# simple example\n",
    "\n",
    "fruits = ['apple', 'banana', 'cherry']\n",
    "\n",
    "for index, fruit in enumerate(fruits):\n",
    "    print(index, fruit)\n"
   ]
  },
  {
   "cell_type": "code",
   "execution_count": 6,
   "id": "6ef08de8-c988-4471-a721-351d952b5119",
   "metadata": {},
   "outputs": [
    {
     "name": "stdout",
     "output_type": "stream",
     "text": [
      "1 apple\n",
      "2 banana\n",
      "3 cherry\n"
     ]
    }
   ],
   "source": [
    "fruits = ['apple', 'banana', 'cherry']\n",
    "\n",
    "for index, fruit in enumerate(fruits, start=1):\n",
    "    print(index, fruit)\n"
   ]
  },
  {
   "cell_type": "code",
   "execution_count": 12,
   "id": "70870d22-5b09-4003-b2fc-c9334926da32",
   "metadata": {},
   "outputs": [
    {
     "name": "stdout",
     "output_type": "stream",
     "text": [
      "Index : 0, Fruit: apple\n",
      "Index : 1, Fruit: banana\n",
      "Index : 2, Fruit: cherry\n"
     ]
    }
   ],
   "source": [
    "# Example list\n",
    "fruits = [\"apple\", \"banana\", \"cherry\"]\n",
    "\n",
    "# Using enumerate in a for loop\n",
    "for index, fruit in enumerate(fruits):\n",
    "    print(f\"Index : {index}, Fruit: {fruit}\")"
   ]
  },
  {
   "cell_type": "code",
   "execution_count": 3,
   "id": "8ddf115b-3923-4179-98d6-7f28b1be7c85",
   "metadata": {},
   "outputs": [
    {
     "name": "stdout",
     "output_type": "stream",
     "text": [
      "Index: 0, Color: red\n",
      "Index: 1, Color: green\n",
      "Index: 2, Color: blue\n"
     ]
    }
   ],
   "source": [
    "# Example tuple\n",
    "colors = (\"red\", \"green\", \"blue\")\n",
    "\n",
    "# Using enumerate with a tuple\n",
    "for index, color in enumerate(colors):\n",
    "    print(f\"Index: {index}, Color: {color}\")"
   ]
  },
  {
   "cell_type": "code",
   "execution_count": 5,
   "id": "8eb1e94c-00ce-4c8b-9e54-ba1cf89a4e48",
   "metadata": {},
   "outputs": [
    {
     "name": "stdout",
     "output_type": "stream",
     "text": [
      "[(0, 'Alice'), (1, 'Bob'), (2, 'Charlie')]\n"
     ]
    }
   ],
   "source": [
    "# Example list\n",
    "names = [\"Alice\", \"Bob\", \"Charlie\"]\n",
    "\n",
    "# Using enumerate in a list comprehension\n",
    "indexed_names = [(index, name) for index, name in enumerate(names)]\n",
    "\n",
    "print(indexed_names)"
   ]
  },
  {
   "cell_type": "code",
   "execution_count": 14,
   "id": "b3610840-e6fc-4c15-bcc8-d2ef96f2991b",
   "metadata": {},
   "outputs": [
    {
     "name": "stdout",
     "output_type": "stream",
     "text": [
      "['green', 'white', 'black']\n"
     ]
    }
   ],
   "source": [
    "color = ['red','green','white','black','pink','yellow']\n",
    "color = [x for (i,x) in enumerate(color) if i not in (0,4,5)]\n",
    "print(color)"
   ]
  },
  {
   "cell_type": "code",
   "execution_count": 3,
   "id": "b058920b-6987-435a-93dc-828fbd10f104",
   "metadata": {},
   "outputs": [
    {
     "name": "stdout",
     "output_type": "stream",
     "text": [
      "[0, 1, 2, 3, 4, 5, 6, 7, 8, 9]\n"
     ]
    }
   ],
   "source": [
    "a=range(10)\n",
    "print(list(a))"
   ]
  },
  {
   "cell_type": "code",
   "execution_count": 5,
   "id": "0d88857c-bbd6-4c97-b4b7-0f6a619b7207",
   "metadata": {},
   "outputs": [
    {
     "name": "stdout",
     "output_type": "stream",
     "text": [
      "[0, 1, 2, 3, 4, 5, 6, 7, 8, 9]\n"
     ]
    }
   ],
   "source": [
    "b=[x for x in a]\n",
    "print(b)"
   ]
  },
  {
   "cell_type": "code",
   "execution_count": 7,
   "id": "25922054-d8c8-453c-ba1b-ca448feefd10",
   "metadata": {},
   "outputs": [
    {
     "name": "stdout",
     "output_type": "stream",
     "text": [
      "[0, 1, 4, 9, 16, 25, 36, 49, 64, 81]\n"
     ]
    }
   ],
   "source": [
    "c=[x*x for x in a]\n",
    "print(c)"
   ]
  },
  {
   "cell_type": "code",
   "execution_count": 9,
   "id": "3f231a67-da94-480b-936d-5668d5181263",
   "metadata": {},
   "outputs": [],
   "source": [
    "d=[x+1 for x in a]"
   ]
  },
  {
   "cell_type": "code",
   "execution_count": 11,
   "id": "6df31601-6366-41b6-961f-48275c242cf5",
   "metadata": {},
   "outputs": [
    {
     "name": "stdout",
     "output_type": "stream",
     "text": [
      "[1, 2, 3, 4, 5, 6, 7, 8, 9, 10]\n"
     ]
    }
   ],
   "source": [
    "print(d)"
   ]
  },
  {
   "cell_type": "code",
   "execution_count": 13,
   "id": "fc038823-dbd0-4156-b15c-d7915ed52c6b",
   "metadata": {},
   "outputs": [
    {
     "name": "stdout",
     "output_type": "stream",
     "text": [
      "[0, 2, 4, 6, 8]\n"
     ]
    }
   ],
   "source": [
    "e=[x for x in a if x%2==0]\n",
    "print(e)"
   ]
  },
  {
   "cell_type": "code",
   "execution_count": 15,
   "id": "b1ba1cbb-1666-4c7d-8272-e4ec4ea8d6a6",
   "metadata": {},
   "outputs": [
    {
     "name": "stdout",
     "output_type": "stream",
     "text": [
      "[0, 4, 16, 36, 64]\n"
     ]
    }
   ],
   "source": [
    "f=[x*x for x in a if x%2==0]\n",
    "print(f)"
   ]
  },
  {
   "cell_type": "markdown",
   "id": "12938eb1-d408-4b58-8faf-e0e8aed2b692",
   "metadata": {},
   "source": [
    "Zip()\n",
    "\n",
    "The zip() function in Python is a built-in function that aggregates elements from multiple iterables into a single iterable of tuples. It takes two or more iterables (such as lists, tuples, or strings) as arguments and returns an iterator of tuples. \n",
    "\n",
    "How it works:\n",
    "\n",
    "- zip() pairs corresponding elements from each input iterable. The first element of all input iterables are combined into the first tuple, the second elements into the second tuple, and so on.\n",
    "\n",
    "- The process continues until the shortest input iterable is exhausted. Any remaining elements in longer iterables are ignored by default.\n",
    "\n",
    "- The function returns a \"zip object,\" which is an iterator. This object can then be converted into other data structures like a list of tuples or used directly in a for loop.\n",
    "\n",
    "Key features and uses:\n",
    "\n",
    "- Combining related data:\n",
    "\n",
    "  It's useful for combining elements from different sources that are logically related, like names and ages, or cities and temperatures.\n",
    "  \n",
    "- Simultaneous iteration:\n",
    "\n",
    "\n",
    "  It allows for easy simultaneous iteration over multiple iterables in a for loop.\n",
    "\n",
    "  \n",
    "- Creating dictionaries:\n",
    "\n",
    "\n",
    "  It can be used in conjunction with dict() to create dictionaries from two lists, one for keys and one for values.\n",
    "\n",
    "  \n",
    "- Handling unequal lengths:\n",
    "\n",
    "\n",
    "   While zip() stops at the shortest iterable, itertools.zip_longest() can be used to handle unequal length iterables by filling in missing values.\n",
    "\n",
    "  "
   ]
  },
  {
   "cell_type": "code",
   "execution_count": 71,
   "id": "40875559-4655-4b27-8e23-50987a3f6f47",
   "metadata": {},
   "outputs": [
    {
     "name": "stdout",
     "output_type": "stream",
     "text": [
      "<zip object at 0x0000014910553080>\n"
     ]
    }
   ],
   "source": [
    "a=[1,2,3,4]\n",
    "b=[2,3,5,7]\n",
    "i=zip(a,b)\n",
    "print(i)"
   ]
  },
  {
   "cell_type": "code",
   "execution_count": 70,
   "id": "ba3ba9a8-9511-4006-a789-a38b4af3f4e7",
   "metadata": {},
   "outputs": [
    {
     "name": "stdout",
     "output_type": "stream",
     "text": [
      "[(1, 2), (2, 3), (3, 5), (4, 7)]\n"
     ]
    }
   ],
   "source": [
    "#list in zip()\n",
    "# run after above a,b declared code\n",
    "\n",
    "print(list(i))"
   ]
  },
  {
   "cell_type": "code",
   "execution_count": 72,
   "id": "95baef26-4e32-4311-8757-91d6bd8a88d3",
   "metadata": {},
   "outputs": [
    {
     "name": "stdout",
     "output_type": "stream",
     "text": [
      "{1: 2, 2: 3, 3: 5, 4: 7}\n"
     ]
    }
   ],
   "source": [
    "#dictionary in zip()\n",
    "# run after above a,b declared code\n",
    "\n",
    "print(dict(i))"
   ]
  },
  {
   "cell_type": "code",
   "execution_count": 60,
   "id": "501f6c36-6e9a-4f82-bc17-641d208f5d88",
   "metadata": {},
   "outputs": [
    {
     "name": "stdout",
     "output_type": "stream",
     "text": [
      "[3, 5, 8, 11]\n"
     ]
    }
   ],
   "source": [
    "j=[x+y for x,y in i]\n",
    "print(j)"
   ]
  },
  {
   "cell_type": "code",
   "execution_count": 55,
   "id": "129c7ac7-69c3-4f48-931a-392420b026c8",
   "metadata": {},
   "outputs": [
    {
     "name": "stdout",
     "output_type": "stream",
     "text": [
      "{'product': 'Laptop', 'price': 1200, 'quantity': 5}\n"
     ]
    }
   ],
   "source": [
    "# dictionary in zip()\n",
    "\n",
    "keys = ['product', 'price', 'quantity']\n",
    "values = ['Laptop', 1200, 5]\n",
    "\n",
    "# Combine keys and values using zip()\n",
    "combined_data = zip(keys, values)\n",
    "\n",
    "# Convert the zipped object to a dictionary\n",
    "inventory_dict = dict(combined_data)\n",
    "\n",
    "print(inventory_dict)"
   ]
  },
  {
   "cell_type": "code",
   "execution_count": 25,
   "id": "dd72eb82-b4ee-46db-8b56-9e275617bdec",
   "metadata": {},
   "outputs": [
    {
     "name": "stdout",
     "output_type": "stream",
     "text": [
      "[(0, 0), (0, 1), (0, 2), (1, 0), (1, 1), (1, 2), (2, 0), (2, 1), (2, 2), (3, 0), (3, 1), (3, 2), (4, 0), (4, 1), (4, 2)]\n"
     ]
    }
   ],
   "source": [
    "k=[(x,y) for x in range(5) for y in range(3)]\n",
    "print(k)"
   ]
  },
  {
   "cell_type": "code",
   "execution_count": 27,
   "id": "5c6a4461-27fe-4f1c-bcef-6671eec3f6aa",
   "metadata": {},
   "outputs": [
    {
     "name": "stdout",
     "output_type": "stream",
     "text": [
      "[(0, 0), (0, 1), (1, 0), (1, 1), (2, 0), (2, 1), (3, 0), (3, 1), (4, 0), (4, 1)]\n"
     ]
    }
   ],
   "source": [
    "l=[(x,y) for x in range(5) for y in range(2)]\n",
    "print(l)"
   ]
  },
  {
   "cell_type": "code",
   "execution_count": 29,
   "id": "8c4b5d54-2c01-4ada-ac8d-fb8cbc13c47d",
   "metadata": {},
   "outputs": [
    {
     "name": "stdout",
     "output_type": "stream",
     "text": [
      "[(0, 0), (1, 0), (2, 0), (3, 0), (4, 0)]\n"
     ]
    }
   ],
   "source": [
    "m=[(x,y) for x in range(5) for y in range(1)]\n",
    "print(m)"
   ]
  },
  {
   "cell_type": "code",
   "execution_count": 52,
   "id": "8e85991b-5735-4f83-be54-11f78ba76505",
   "metadata": {},
   "outputs": [
    {
     "name": "stdout",
     "output_type": "stream",
     "text": [
      "[(0, 0, 0), (0, 1, 1), (0, 2, 2), (0, 3, 3), (0, 4, 4), (0, 5, 5), (0, 6, 6), (0, 7, 7), (0, 8, 8), (0, 9, 9), (0, 10, 10), (0, 11, 11), (0, 12, 12), (0, 13, 13), (0, 14, 14), (0, 15, 15), (0, 16, 16), (0, 17, 17), (0, 18, 18), (0, 19, 19), (0, 20, 20), (0, 21, 21), (0, 22, 22), (0, 23, 23), (0, 24, 24), (3, 4, 5), (5, 12, 13), (6, 8, 10), (8, 15, 17), (9, 12, 15), (12, 16, 20)]\n"
     ]
    }
   ],
   "source": [
    "l=0\n",
    "n=25\n",
    "o=[(x,y,z) for x in range(l,n) for y in range(x,n) for z in range(y,n)  if x*x+y*y==z*z]\n",
    "print(o)"
   ]
  },
  {
   "cell_type": "code",
   "execution_count": 54,
   "id": "43fe0863-b8cc-47ea-9662-ba0512594fdd",
   "metadata": {},
   "outputs": [
    {
     "name": "stdout",
     "output_type": "stream",
     "text": [
      "[(0, 1, 1), (0, 2, 2), (0, 3, 3), (0, 4, 4), (0, 5, 5), (0, 6, 6), (0, 7, 7), (0, 8, 8), (0, 9, 9), (0, 10, 10), (0, 11, 11), (0, 12, 12), (0, 13, 13), (0, 14, 14), (0, 15, 15), (0, 16, 16), (0, 17, 17), (0, 18, 18), (0, 19, 19), (0, 20, 20), (0, 21, 21), (0, 22, 22), (0, 23, 23), (0, 24, 24), (3, 4, 5), (5, 12, 13), (6, 8, 10), (8, 15, 17), (9, 12, 15), (12, 16, 20)]\n"
     ]
    }
   ],
   "source": [
    "l=0\n",
    "n=25\n",
    "o=[(x,y,z) for x in range(l,n) for y in range(x,n) for z in range(y,n)  if x*x+y*y==z*z not in (0,0,0)]\n",
    "print(o)"
   ]
  },
  {
   "cell_type": "code",
   "execution_count": null,
   "id": "d664baa9-d7f1-401a-bab1-7f7670b7b10a",
   "metadata": {},
   "outputs": [],
   "source": []
  }
 ],
 "metadata": {
  "kernelspec": {
   "display_name": "Python 3 (ipykernel)",
   "language": "python",
   "name": "python3"
  },
  "language_info": {
   "codemirror_mode": {
    "name": "ipython",
    "version": 3
   },
   "file_extension": ".py",
   "mimetype": "text/x-python",
   "name": "python",
   "nbconvert_exporter": "python",
   "pygments_lexer": "ipython3",
   "version": "3.13.5"
  }
 },
 "nbformat": 4,
 "nbformat_minor": 5
}
