{
 "cells": [
  {
   "cell_type": "code",
   "execution_count": 1,
   "id": "d68c4876-f6b1-4a45-9b87-2059cdec3d75",
   "metadata": {},
   "outputs": [
    {
     "name": "stdout",
     "output_type": "stream",
     "text": [
      "b\n",
      "a\n",
      "n\n",
      "a\n",
      "n\n",
      "a\n"
     ]
    }
   ],
   "source": [
    "#For loop\n",
    "#string execution\n",
    "for x in \"banana\":\n",
    "    print(x)"
   ]
  },
  {
   "cell_type": "code",
   "execution_count": 1,
   "id": "94fddd75-001d-45cc-b408-a4d4c229e872",
   "metadata": {},
   "outputs": [
    {
     "name": "stdout",
     "output_type": "stream",
     "text": [
      "b\n",
      "a\n",
      "n\n",
      "a\n",
      "n\n",
      "a\n"
     ]
    }
   ],
   "source": [
    "s=\"banana\"\n",
    "for x in s:\n",
    "    print(x)"
   ]
  },
  {
   "cell_type": "code",
   "execution_count": 3,
   "id": "3c2e236a-5d88-41ed-8a14-c405d23e707e",
   "metadata": {},
   "outputs": [
    {
     "name": "stdout",
     "output_type": "stream",
     "text": [
      "1\n",
      "2\n",
      "3\n",
      "4\n",
      "5\n"
     ]
    }
   ],
   "source": [
    "#list execution\n",
    "l=[1,2,3,4,5]\n",
    "for i in l:\n",
    "    print(i)"
   ]
  },
  {
   "cell_type": "code",
   "execution_count": 2,
   "id": "89d08b28-1437-4eb4-bd2d-b66f8332758b",
   "metadata": {},
   "outputs": [
    {
     "name": "stdout",
     "output_type": "stream",
     "text": [
      "apple\n",
      "banana\n",
      "cherry\n"
     ]
    }
   ],
   "source": [
    "fruits=[\"apple\",\"banana\",\"cherry\"]\n",
    "for i in fruits:\n",
    "    print(i)"
   ]
  },
  {
   "cell_type": "code",
   "execution_count": 19,
   "id": "5233e6a6-3879-4269-be3e-f1aabfb81115",
   "metadata": {},
   "outputs": [
    {
     "name": "stdout",
     "output_type": "stream",
     "text": [
      "apple\n",
      "banana\n"
     ]
    }
   ],
   "source": [
    "#break in for loop print statement \n",
    "fruits=[\"apple\",\"banana\",\"cherry\"]\n",
    "for i in fruits:\n",
    "    print(i)\n",
    "    if i==\"banana\":\n",
    "        break"
   ]
  },
  {
   "cell_type": "code",
   "execution_count": 25,
   "id": "28887f5d-f6d9-48c3-bdcd-4303081e14fb",
   "metadata": {},
   "outputs": [
    {
     "name": "stdout",
     "output_type": "stream",
     "text": [
      "apple\n"
     ]
    }
   ],
   "source": [
    "#break before print statement\n",
    "fruits=[\"apple\",\"banana\",\"cherry\"]\n",
    "for i in fruits:\n",
    "    if i==\"banana\":\n",
    "        break\n",
    "    print(i)"
   ]
  },
  {
   "cell_type": "code",
   "execution_count": 27,
   "id": "ec2bd5dd-b702-401c-9e69-cb0d1bcd3482",
   "metadata": {},
   "outputs": [
    {
     "name": "stdout",
     "output_type": "stream",
     "text": [
      "apple\n",
      "cherry\n"
     ]
    }
   ],
   "source": [
    "# continue statement in for loop\n",
    "fruits=[\"apple\",\"banana\",\"cherry\"]\n",
    "for i in fruits:\n",
    "    if i==\"banana\":\n",
    "        continue\n",
    "    print(i)"
   ]
  },
  {
   "cell_type": "code",
   "execution_count": 30,
   "id": "c8fe08c8-1eef-49bb-b66d-f768c1b2a346",
   "metadata": {},
   "outputs": [
    {
     "name": "stdout",
     "output_type": "stream",
     "text": [
      "Current letter p\n",
      "Current letter y\n",
      "Current letter t\n",
      "Current letter o\n",
      "Current letter n\n"
     ]
    }
   ],
   "source": [
    "#continue in for loop\n",
    "for letter in \"python\":\n",
    "    if letter==\"h\":\n",
    "        continue\n",
    "    print(\"Current letter\",letter)"
   ]
  },
  {
   "cell_type": "code",
   "execution_count": 32,
   "id": "c7dcd2c3-600d-4c8c-a75e-6743f01c4ad8",
   "metadata": {},
   "outputs": [
    {
     "name": "stdout",
     "output_type": "stream",
     "text": [
      "1\n",
      "2\n",
      "3\n",
      "4\n",
      "5\n",
      "7\n",
      "8\n",
      "9\n",
      "10\n"
     ]
    }
   ],
   "source": [
    "#range in for loop + condition statement\n",
    "for i in range(1,11):\n",
    "    if i==6:\n",
    "        continue\n",
    "    else:\n",
    "        print(i)"
   ]
  },
  {
   "cell_type": "code",
   "execution_count": 34,
   "id": "57e84311-9d93-4fba-980d-bfcfa3bfcfeb",
   "metadata": {},
   "outputs": [
    {
     "name": "stdout",
     "output_type": "stream",
     "text": [
      "s\n",
      "t\n"
     ]
    }
   ],
   "source": [
    "for v in \"string\":\n",
    "    print(v)\n",
    "    if v==\"t\":\n",
    "        break"
   ]
  },
  {
   "cell_type": "code",
   "execution_count": 36,
   "id": "0aeff1e3-2ca6-443e-b128-536762d5b87f",
   "metadata": {},
   "outputs": [
    {
     "name": "stdout",
     "output_type": "stream",
     "text": [
      "s\n"
     ]
    }
   ],
   "source": [
    "for v in \"string\":\n",
    "    if v==\"t\":\n",
    "        break\n",
    "    print(v)"
   ]
  },
  {
   "cell_type": "code",
   "execution_count": 44,
   "id": "8a756786-f908-4ff5-b0a8-dfa81746acc8",
   "metadata": {},
   "outputs": [
    {
     "name": "stdout",
     "output_type": "stream",
     "text": [
      "g\n",
      "e\n",
      "out of for loop\n"
     ]
    }
   ],
   "source": [
    "s=\"geeksforgeeks\"\n",
    "for letter in s:\n",
    "    print(letter)\n",
    "    if letter==\"e\" or letter==\"s\":\n",
    "        break\n",
    "print(\"out of for loop\")"
   ]
  },
  {
   "cell_type": "markdown",
   "id": "59e8973b-99c1-48d7-99f4-4720592e7b42",
   "metadata": {},
   "source": [
    "The range() Function \n",
    "\n",
    "To loop through a set of code a specified number of times, we can use the range() function, \n",
    "The range() function returns a sequence of numbers, starting from 0 by default, and increments by 1 (by default), and \n",
    "ends at a specified number."
   ]
  },
  {
   "cell_type": "code",
   "execution_count": 40,
   "id": "b8fc5754-5563-46a4-851c-998b512cb5f8",
   "metadata": {},
   "outputs": [
    {
     "name": "stdout",
     "output_type": "stream",
     "text": [
      "0\n",
      "1\n",
      "2\n",
      "3\n",
      "4\n",
      "5\n"
     ]
    }
   ],
   "source": [
    "#range() in for loop\n",
    "for i in range(6):\n",
    "    print(i)"
   ]
  },
  {
   "cell_type": "code",
   "execution_count": 42,
   "id": "b1986c26-59e7-4237-961d-5dda6e0f1503",
   "metadata": {},
   "outputs": [
    {
     "name": "stdout",
     "output_type": "stream",
     "text": [
      "2\n",
      "3\n",
      "4\n",
      "5\n"
     ]
    }
   ],
   "source": [
    "#using the start parameter in for loop using range()\n",
    "for x in range(2,6):\n",
    "    print(x)"
   ]
  },
  {
   "cell_type": "code",
   "execution_count": 1,
   "id": "dfec4666-a530-4b9b-8236-7ce6a92bd8ff",
   "metadata": {},
   "outputs": [
    {
     "name": "stdout",
     "output_type": "stream",
     "text": [
      "0\n",
      "1\n",
      "2\n",
      "3\n",
      "4\n",
      "5\n",
      "6\n",
      "7\n",
      "8\n",
      "9\n"
     ]
    }
   ],
   "source": [
    "#while loop is used for checking the condition and execution\n",
    "# syntax is similar to c,c++ \n",
    "#i++ is not accepted in while loop we can use by i+=1 or i=i+1 increment \n",
    "#syntax\n",
    "#initialization\n",
    "#while(condition):\n",
    "#     statement(n)\n",
    "#     increment/decrement\n",
    "\n",
    "\n",
    "i=0\n",
    "while(i<10):\n",
    "    print(i)\n",
    "    i=i+1"
   ]
  },
  {
   "cell_type": "code",
   "execution_count": 58,
   "id": "7f88bb9a-f87a-4e64-a836-08c11a3b6b26",
   "metadata": {},
   "outputs": [
    {
     "name": "stdout",
     "output_type": "stream",
     "text": [
      "1\n",
      "2\n",
      "3\n",
      "4\n",
      "5\n"
     ]
    }
   ],
   "source": [
    "i=1\n",
    "while(i<6):\n",
    "    print(i)\n",
    "    i+=1"
   ]
  },
  {
   "cell_type": "code",
   "execution_count": 60,
   "id": "bed1f814-4328-453b-a632-dfc75c0f474a",
   "metadata": {},
   "outputs": [
    {
     "name": "stdout",
     "output_type": "stream",
     "text": [
      "1\n",
      "2\n",
      "3\n"
     ]
    }
   ],
   "source": [
    "i=1\n",
    "while(i<6):\n",
    "    print(i)\n",
    "    if i==3:\n",
    "        break\n",
    "    i+=1"
   ]
  },
  {
   "cell_type": "code",
   "execution_count": 4,
   "id": "7494ed5c-229b-41eb-adad-90bf6dad7c5a",
   "metadata": {},
   "outputs": [
    {
     "name": "stdin",
     "output_type": "stream",
     "text": [
      "Enter n: 10\n"
     ]
    },
    {
     "name": "stdout",
     "output_type": "stream",
     "text": [
      "The sum is  1\n",
      "The sum is  3\n",
      "The sum is  6\n",
      "The sum is  10\n",
      "The sum is  15\n",
      "The sum is  21\n",
      "The sum is  28\n",
      "The sum is  36\n",
      "The sum is  45\n",
      "The sum is  55\n"
     ]
    }
   ],
   "source": [
    "#print() stmt within for loop execute each time till exit from the loop\n",
    "n=int(input(\"Enter n:\"))\n",
    "sum=0\n",
    "i=1\n",
    "while i<=n:\n",
    "    sum=sum+i\n",
    "    i+=1\n",
    "    print(\"The sum is \",sum)"
   ]
  },
  {
   "cell_type": "code",
   "execution_count": 5,
   "id": "05f293b5-7fe5-4ed6-8423-883ade2abb01",
   "metadata": {},
   "outputs": [
    {
     "name": "stdin",
     "output_type": "stream",
     "text": [
      "Enter n: 10\n"
     ]
    },
    {
     "name": "stdout",
     "output_type": "stream",
     "text": [
      "The sum is  55\n"
     ]
    }
   ],
   "source": [
    "#print() stmt outside the while loop execute only the final stmt of the loop after the exit from the loop\n",
    "n=int(input(\"Enter n:\"))\n",
    "sum=0\n",
    "i=1\n",
    "while i<=n:\n",
    "    sum=sum+i\n",
    "    i+=1\n",
    "print(\"The sum is \",sum)"
   ]
  },
  {
   "cell_type": "code",
   "execution_count": 70,
   "id": "4a91d88b-190f-4828-afec-2fef7ca14eff",
   "metadata": {},
   "outputs": [
    {
     "name": "stdout",
     "output_type": "stream",
     "text": [
      "The sum is  55\n"
     ]
    }
   ],
   "source": [
    "n=10\n",
    "sum=0\n",
    "i=1\n",
    "while i<=n:\n",
    "    sum=sum+i\n",
    "    i+=1\n",
    "print(\"The sum is \",sum)"
   ]
  },
  {
   "cell_type": "code",
   "execution_count": 72,
   "id": "71154f39-9e46-4e8f-ae54-ef25e296b8cf",
   "metadata": {},
   "outputs": [
    {
     "name": "stdout",
     "output_type": "stream",
     "text": [
      "Inside loop\n",
      "Inside loop\n",
      "Inside loop\n",
      "Inside else\n"
     ]
    }
   ],
   "source": [
    "#while else loop\n",
    "c=0\n",
    "while c<3:\n",
    "    print(\"Inside loop\")\n",
    "    c+=1\n",
    "else:\n",
    "    print(\"Inside else\")\n",
    "    "
   ]
  },
  {
   "cell_type": "code",
   "execution_count": 1,
   "id": "2f394a36-987d-4d86-8929-6e05e3b0337c",
   "metadata": {},
   "outputs": [
    {
     "name": "stdout",
     "output_type": "stream",
     "text": [
      "apple\n",
      "banana\n",
      "cherry\n"
     ]
    }
   ],
   "source": [
    "#for loop in list\n",
    "\n",
    "fruits=[\"apple\",\"banana\",\"cherry\"]\n",
    "for i in fruits:\n",
    "    print(i)"
   ]
  },
  {
   "cell_type": "code",
   "execution_count": 9,
   "id": "159effca-f9ed-4a25-8d22-fa5aea7a776c",
   "metadata": {},
   "outputs": [
    {
     "name": "stdout",
     "output_type": "stream",
     "text": [
      "apple\n",
      "cherry\n"
     ]
    }
   ],
   "source": [
    "fruits=[\"apple\",\"banana\",\"cherry\"]\n",
    "for i in fruits:\n",
    "    if i==\"banana\":\n",
    "        continue\n",
    "    print(i)"
   ]
  },
  {
   "cell_type": "code",
   "execution_count": 6,
   "id": "be9525eb-bb1c-4bd1-8ed9-442f10eaefdf",
   "metadata": {},
   "outputs": [
    {
     "name": "stdout",
     "output_type": "stream",
     "text": [
      "cherry\n"
     ]
    }
   ],
   "source": [
    "#if print stmt is outside the loop it only diplay the values after the condition checked by the for loop and continue statement\n",
    "fruits=[\"apple\",\"banana\",\"cherry\"]\n",
    "for i in fruits:\n",
    "    if i==\"banana\":\n",
    "        continue\n",
    "\n",
    "print(i)"
   ]
  },
  {
   "cell_type": "code",
   "execution_count": 21,
   "id": "327a5458-ee50-45b4-9650-45738d4264c4",
   "metadata": {},
   "outputs": [
    {
     "name": "stdout",
     "output_type": "stream",
     "text": [
      "g\n",
      "e\n",
      "out of for loop\n",
      "\n"
     ]
    }
   ],
   "source": [
    "s=\"geeksforgeeks\"\n",
    "for letter in s:\n",
    "    print(letter)\n",
    "    if letter==\"e\" or letter==\"s\":\n",
    "        break\n",
    "\n",
    "print(\"out of for loop\")\n",
    "print()"
   ]
  },
  {
   "cell_type": "markdown",
   "id": "bdd1685b-8cf1-417f-b50b-f8d2eddd837c",
   "metadata": {},
   "source": [
    "### ✅ **Nested `for` Loop in Python:**\n",
    "\n",
    "A **nested `for` loop** is a loop **inside another loop**.\n",
    "It allows you to repeat a block of code **multiple times for each item** in another loop.\n",
    "\n",
    "---\n",
    "\n",
    "### 🔣 **Syntax:**\n",
    "\n",
    "```python\n",
    "for outer_variable in outer_sequence:\n",
    "    for inner_variable in inner_sequence:\n",
    "        # Code block to execute\n",
    "```\n",
    "\n",
    "---\n"
   ]
  },
  {
   "cell_type": "code",
   "execution_count": 29,
   "id": "4a43fce6-6bde-44e4-8613-1af9361da339",
   "metadata": {},
   "outputs": [
    {
     "name": "stdout",
     "output_type": "stream",
     "text": [
      "red apple\n",
      "red banana\n",
      "red cherry\n",
      "big apple\n",
      "big banana\n",
      "big cherry\n",
      "tasty apple\n",
      "tasty banana\n",
      "tasty cherry\n"
     ]
    }
   ],
   "source": [
    "# list using nested for loop\n",
    "\n",
    "adj=[\"red\",\"big\",\"tasty\"]\n",
    "fruits=[\"apple\",\"banana\",\"cherry\"]\n",
    "for i in adj:\n",
    "    for j in fruits:\n",
    "        print(i,j)"
   ]
  },
  {
   "cell_type": "markdown",
   "id": "cc447f71-bc36-4798-8085-0b41f37eff58",
   "metadata": {},
   "source": [
    "### ✅ **List Comprehension in Python**\n",
    "\n",
    "**List comprehension** is a **short and elegant way** to create a new list by performing an operation on each item in an existing list or iterable.\n",
    "\n",
    "---\n",
    "\n",
    "### 🔣 **Syntax:**\n",
    "\n",
    "```python\n",
    "new_list = [expression for item in iterable]\n",
    "```\n",
    "\n",
    "You can also add a condition:\n",
    "\n",
    "```python\n",
    "new_list = [expression for item in iterable if condition]\n",
    "```\n",
    "\n",
    "---"
   ]
  },
  {
   "cell_type": "code",
   "execution_count": 8,
   "id": "ee50868d-848b-432c-b07b-d8abdb84403a",
   "metadata": {},
   "outputs": [
    {
     "name": "stdout",
     "output_type": "stream",
     "text": [
      "[1, 4, 9, 16, 25]\n"
     ]
    }
   ],
   "source": [
    "#basic example\n",
    "nums = [1, 2, 3, 4, 5]\n",
    "squares = [x*x for x in nums]\n",
    "print(squares)"
   ]
  },
  {
   "cell_type": "code",
   "execution_count": 9,
   "id": "d4e58bc6-50fb-48f9-a74a-e888d18b2310",
   "metadata": {},
   "outputs": [
    {
     "name": "stdout",
     "output_type": "stream",
     "text": [
      "[2, 4]\n"
     ]
    }
   ],
   "source": [
    "#with a condition\n",
    "\n",
    "even_numbers = [x for x in nums if x % 2 == 0]\n",
    "print(even_numbers)"
   ]
  },
  {
   "cell_type": "code",
   "execution_count": 31,
   "id": "29ce7ba5-e05a-43b1-a23a-938d5daebc51",
   "metadata": {},
   "outputs": [
    {
     "name": "stdout",
     "output_type": "stream",
     "text": [
      "['apple', 'banana', 'mango']\n"
     ]
    }
   ],
   "source": [
    "#list comprehension\n",
    "\n",
    "#newlist = [expression for item in iterable if condition==True]\n",
    "\n",
    "fruits = [\"apple\",\"banana\",\"cherry\",\"kiwi\",\"mango\"]\n",
    "newlist = [x for x in fruits if \"a\" in x]\n",
    "print(newlist)"
   ]
  },
  {
   "cell_type": "code",
   "execution_count": 33,
   "id": "a4fec8bb-a77b-40a3-b3a0-c4e0a37384bb",
   "metadata": {},
   "outputs": [
    {
     "name": "stdout",
     "output_type": "stream",
     "text": [
      "apple\n",
      "orange\n",
      "kiwi\n",
      "pineapple\n",
      "apple\n"
     ]
    }
   ],
   "source": [
    "#looping through indexing\n",
    "\n",
    "fruits=(\"apple\",\"orange\",\"kiwi\",\"pineapple\")\n",
    "for i in range(len(fruits)):\n",
    "    print(fruits[i])\n",
    "\n",
    "print(fruits[0])"
   ]
  },
  {
   "cell_type": "code",
   "execution_count": 35,
   "id": "955efeaf-0677-4870-abb1-fc24eb061c03",
   "metadata": {},
   "outputs": [
    {
     "name": "stdout",
     "output_type": "stream",
     "text": [
      "[1, 4, 9, 16, 25]\n"
     ]
    }
   ],
   "source": [
    "squares=[x**2 for x in range(1,6)]\n",
    "print(squares)"
   ]
  },
  {
   "cell_type": "code",
   "execution_count": 45,
   "id": "e093228a-f141-43da-92b8-009b051d4fc4",
   "metadata": {},
   "outputs": [
    {
     "name": "stdout",
     "output_type": "stream",
     "text": [
      "[1, 8, 27, 64, 125, 216, 343, 512, 729, 1000]\n"
     ]
    }
   ],
   "source": [
    "cube=[x**3 for x in range(1,11)]\n",
    "print(cube)"
   ]
  },
  {
   "cell_type": "code",
   "execution_count": 101,
   "id": "ce20c548-bece-426d-8068-c471748b107d",
   "metadata": {},
   "outputs": [
    {
     "name": "stdout",
     "output_type": "stream",
     "text": [
      "1\n",
      "3\n",
      "5\n",
      "7\n",
      "9\n",
      "11\n",
      "13\n",
      "15\n",
      "17\n",
      "19\n",
      "21\n",
      "23\n",
      "25\n",
      "27\n",
      "29\n",
      "31\n",
      "33\n",
      "35\n",
      "37\n",
      "39\n",
      "41\n",
      "43\n",
      "45\n",
      "47\n",
      "49\n"
     ]
    }
   ],
   "source": [
    "l=[x for x in range(1,51)]\n",
    "for i in l:\n",
    "    if i%2!=0:\n",
    "        print(i)\n"
   ]
  },
  {
   "cell_type": "code",
   "execution_count": 145,
   "id": "873f5126-696b-4a8d-a9a2-63846c743f6b",
   "metadata": {},
   "outputs": [
    {
     "name": "stdin",
     "output_type": "stream",
     "text": [
      "Enter the string :  jesus\n"
     ]
    },
    {
     "name": "stdout",
     "output_type": "stream",
     "text": [
      "e\n",
      "u\n"
     ]
    }
   ],
   "source": [
    "string=(input(\"Enter the string : \")).lower()\n",
    "consonants=[\"a\",\"e\",\"i\",\"o\",\"u\"]\n",
    "for i in range(len(string)):\n",
    "    for j in range(len(consonants)):\n",
    "        if consonants[j]==string[i]:\n",
    "            print(consonants[j])"
   ]
  },
  {
   "cell_type": "code",
   "execution_count": 185,
   "id": "f4d627b1-7aa1-4486-9ecb-0cdd0d50e6ba",
   "metadata": {},
   "outputs": [
    {
     "name": "stdin",
     "output_type": "stream",
     "text": [
      "Enter the number words to be enter:  1\n",
      "Enter the words :  GOD\n"
     ]
    },
    {
     "ename": "IndexError",
     "evalue": "string index out of range",
     "output_type": "error",
     "traceback": [
      "\u001b[1;31m---------------------------------------------------------------------------\u001b[0m",
      "\u001b[1;31mIndexError\u001b[0m                                Traceback (most recent call last)",
      "Cell \u001b[1;32mIn[185], line 5\u001b[0m\n\u001b[0;32m      3\u001b[0m \u001b[38;5;28minput\u001b[39m(\u001b[38;5;124m\"\u001b[39m\u001b[38;5;124mEnter the words : \u001b[39m\u001b[38;5;124m\"\u001b[39m)\n\u001b[0;32m      4\u001b[0m \u001b[38;5;28;01mfor\u001b[39;00m j \u001b[38;5;129;01min\u001b[39;00m \u001b[38;5;28mstr\u001b[39m(i):\n\u001b[1;32m----> 5\u001b[0m     j[n]\u001b[38;5;241m==\u001b[39m\u001b[38;5;28mstr\u001b[39m(i)\u001b[38;5;241m.\u001b[39mlower()\n\u001b[0;32m      6\u001b[0m     \u001b[38;5;28mprint\u001b[39m(j[n])\n",
      "\u001b[1;31mIndexError\u001b[0m: string index out of range"
     ]
    }
   ],
   "source": [
    "n=int(input(\"Enter the number words to be enter: \"))\n",
    "for i in range(n):\n",
    "    input(\"Enter the words : \")\n",
    "    for j in str(i):\n",
    "        j[n]==str(i).lower()\n",
    "        print(j[n])"
   ]
  },
  {
   "cell_type": "code",
   "execution_count": 187,
   "id": "a327447b-5ef7-47cf-b882-8817e8ca4b45",
   "metadata": {},
   "outputs": [
    {
     "name": "stdout",
     "output_type": "stream",
     "text": [
      "5\n",
      "10\n",
      "15\n",
      "20\n",
      "25\n",
      "30\n",
      "35\n",
      "40\n",
      "45\n",
      "50\n",
      "55\n",
      "60\n",
      "65\n",
      "70\n",
      "75\n",
      "80\n",
      "85\n",
      "90\n",
      "95\n",
      "100\n"
     ]
    }
   ],
   "source": [
    "l=[x for x in range(1,101)]\n",
    "for i in l:\n",
    "    if i%5==0:\n",
    "        print(i)\n"
   ]
  },
  {
   "cell_type": "code",
   "execution_count": null,
   "id": "c54596dc-fe79-4610-9fc8-d5f71f518fa0",
   "metadata": {},
   "outputs": [],
   "source": []
  }
 ],
 "metadata": {
  "kernelspec": {
   "display_name": "Python 3 (ipykernel)",
   "language": "python",
   "name": "python3"
  },
  "language_info": {
   "codemirror_mode": {
    "name": "ipython",
    "version": 3
   },
   "file_extension": ".py",
   "mimetype": "text/x-python",
   "name": "python",
   "nbconvert_exporter": "python",
   "pygments_lexer": "ipython3",
   "version": "3.13.5"
  }
 },
 "nbformat": 4,
 "nbformat_minor": 5
}
