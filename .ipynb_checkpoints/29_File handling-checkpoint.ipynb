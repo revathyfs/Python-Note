{
 "cells": [
  {
   "cell_type": "markdown",
   "id": "0a897c23-578a-44a3-b451-cf7d8cacc9e7",
   "metadata": {},
   "source": [
    "# FILE HANDLING\n",
    "\n",
    "File handling in Python refers to the process of creating, opening, reading, writing, and closing files using built-in functions like open(), along with different modes ('r', 'w', 'a', etc.). It allows programs to store, retrieve, and manipulate data in files."
   ]
  },
  {
   "cell_type": "markdown",
   "id": "a9de9c91-21bb-41ca-ad1e-86cf63e1bb5f",
   "metadata": {},
   "source": [
    "\n",
    "---\n",
    "\n",
    "## **File Handling Modes in Python**\n",
    "\n",
    "Python uses **modes** with the `open()` function to decide **how** a file should be opened and what operations are allowed.\n",
    "\n",
    "### **1. Text Modes (default)**\n",
    "\n",
    "| Mode   | Description                                                                                                      |\n",
    "| ------ | ---------------------------------------------------------------------------------------------------------------- |\n",
    "| `'r'`  | **Read** mode (default). Opens an existing file for reading. Error if file does not exist.                       |\n",
    "| `'w'`  | **Write** mode. Creates a new file or overwrites an existing file.                                               |\n",
    "| `'a'`  | **Append** mode. Adds data to the end of the file; creates file if it doesn’t exist.                             |\n",
    "| `'r+'` | Read & Write mode. File must exist.                                                                              |\n",
    "| `'w+'` | Write & Read mode. Creates new file or overwrites existing one.                                                  |\n",
    "| `'a+'` | Append & Read mode. Creates file if it doesn’t exist; reading starts from beginning, writing always goes to end. |\n",
    "\n",
    "---\n",
    "\n",
    "### **2. Binary Modes**\n",
    "\n",
    "Add **`'b'`** to any mode to work with binary files (images, audio, etc.).\n",
    "Examples:\n",
    "\n",
    "* `'rb'` → Read binary file\n",
    "* `'wb'` → Write binary file\n",
    "* `'ab'` → Append binary file\n",
    "\n",
    "---\n"
   ]
  },
  {
   "cell_type": "markdown",
   "id": "5f5f51d0-50e3-45bf-9392-d77ed2f28f61",
   "metadata": {},
   "source": [
    "To read a file we use read() or r letter inside \"\""
   ]
  },
  {
   "cell_type": "code",
   "execution_count": 4,
   "id": "7a3073a8-3023-4e88-a434-a0788968999c",
   "metadata": {},
   "outputs": [],
   "source": [
    "a=open(\"C:\\\\Users\\\\Hello\\\\OneDrive\\\\Desktop\\\\Ethqan\\\\Python\\\\My note\\\\demo.txt\",'r').read()\n"
   ]
  },
  {
   "cell_type": "code",
   "execution_count": 5,
   "id": "6904234f-00bc-483e-9200-aa4fcc9bb965",
   "metadata": {},
   "outputs": [
    {
     "name": "stdout",
     "output_type": "stream",
     "text": [
      "file handling\n"
     ]
    }
   ],
   "source": [
    "print(a)"
   ]
  },
  {
   "cell_type": "code",
   "execution_count": 6,
   "id": "91f16b4b-3c9e-4ecf-8384-7b802e6725b5",
   "metadata": {},
   "outputs": [],
   "source": [
    "f=open(\"C:\\\\Users\\\\Hello\\\\OneDrive\\\\Desktop\\\\Ethqan\\\\Python\\\\My note\\\\demo.txt\",'w')"
   ]
  },
  {
   "cell_type": "code",
   "execution_count": 7,
   "id": "0ab9ce9d-1cd0-4ad1-9fdf-dc94b362fa07",
   "metadata": {},
   "outputs": [],
   "source": [
    "f.write(\"Good morning\")\n",
    "f.close()"
   ]
  },
  {
   "cell_type": "code",
   "execution_count": 8,
   "id": "67991a64-d91e-42d0-a964-6474ddecf0f4",
   "metadata": {},
   "outputs": [
    {
     "name": "stdout",
     "output_type": "stream",
     "text": [
      "<_io.TextIOWrapper name='C:\\\\Users\\\\Hello\\\\OneDrive\\\\Desktop\\\\Ethqan\\\\Python\\\\My note\\\\demo.txt' mode='w' encoding='cp1252'>\n"
     ]
    }
   ],
   "source": [
    "print(f)"
   ]
  },
  {
   "cell_type": "code",
   "execution_count": 9,
   "id": "004494aa-8715-4109-9498-1fbce46da9b7",
   "metadata": {},
   "outputs": [
    {
     "name": "stdout",
     "output_type": "stream",
     "text": [
      "Good morning\n"
     ]
    }
   ],
   "source": [
    "g=open(\"C:\\\\Users\\\\Hello\\\\OneDrive\\\\Desktop\\\\Ethqan\\\\Python\\\\My note\\\\demo.txt\",'r').read()\n",
    "print(g)"
   ]
  },
  {
   "cell_type": "code",
   "execution_count": 12,
   "id": "e8464016-bdf8-4b87-8007-11cf5a7c2bf5",
   "metadata": {},
   "outputs": [],
   "source": [
    "h=open(\"C:\\\\Users\\\\Hello\\\\OneDrive\\\\Desktop\\\\Ethqan\\\\Python\\\\My note\\\\demo.txt\",'a')"
   ]
  },
  {
   "cell_type": "code",
   "execution_count": 14,
   "id": "90658436-b1a3-4f13-a1da-6c06e80faaaf",
   "metadata": {},
   "outputs": [],
   "source": [
    "h.write(\"Good day\")\n",
    "h.close()"
   ]
  },
  {
   "cell_type": "code",
   "execution_count": 15,
   "id": "7dc7dd3d-01cd-4c3a-ae37-7d84cf7114ed",
   "metadata": {},
   "outputs": [
    {
     "name": "stdout",
     "output_type": "stream",
     "text": [
      "<_io.TextIOWrapper name='C:\\\\Users\\\\Hello\\\\OneDrive\\\\Desktop\\\\Ethqan\\\\Python\\\\My note\\\\demo.txt' mode='a' encoding='cp1252'>\n"
     ]
    }
   ],
   "source": [
    "print(h)"
   ]
  },
  {
   "cell_type": "code",
   "execution_count": 18,
   "id": "e3d82353-91b5-4d3b-95a6-065c9341594b",
   "metadata": {},
   "outputs": [
    {
     "name": "stdout",
     "output_type": "stream",
     "text": [
      "Good morningGood dayGood dayGood day\n"
     ]
    }
   ],
   "source": [
    "c=open(\"C:\\\\Users\\\\Hello\\\\OneDrive\\\\Desktop\\\\Ethqan\\\\Python\\\\My note\\\\demo.txt\",'r').read()\n",
    "print(c)"
   ]
  },
  {
   "cell_type": "code",
   "execution_count": 39,
   "id": "26e9c074-12db-4ae1-9d3a-b2ca8a4755be",
   "metadata": {},
   "outputs": [
    {
     "name": "stdout",
     "output_type": "stream",
     "text": [
      "God is great\n"
     ]
    }
   ],
   "source": [
    "f=open(\"C:\\\\Users\\\\Zartech\\\\Revathy\\\\Python\\\\python.txt\").read()\n",
    "print(f)"
   ]
  },
  {
   "cell_type": "code",
   "execution_count": 31,
   "id": "49f3f57a-3190-47fb-afee-9fd0a816aaea",
   "metadata": {},
   "outputs": [
    {
     "name": "stdout",
     "output_type": "stream",
     "text": [
      "God is great\n"
     ]
    }
   ],
   "source": [
    "f=open(\"C:\\\\Users\\\\Zartech\\\\Revathy\\\\Python\\\\python.txt\",\"r\")\n",
    "p=f.read()\n",
    "print(p)"
   ]
  },
  {
   "cell_type": "markdown",
   "id": "9ac12f77-c546-4689-a954-45f4533e73c6",
   "metadata": {},
   "source": [
    "Write text file using write() or w inside \"\""
   ]
  },
  {
   "cell_type": "code",
   "execution_count": 33,
   "id": "01885488-5eb7-4f53-b180-3b04f19f08d4",
   "metadata": {},
   "outputs": [
    {
     "name": "stdout",
     "output_type": "stream",
     "text": [
      "<_io.TextIOWrapper name='C:\\\\Users\\\\Zartech\\\\Revathy\\\\Python\\\\python.txt' mode='w' encoding='cp1252'>\n"
     ]
    }
   ],
   "source": [
    "f=open(\"C:\\\\Users\\\\Zartech\\\\Revathy\\\\Python\\\\python.txt\",\"w\")\n",
    "f.write(\"God is great\")\n",
    "f.close()\n",
    "print(f)"
   ]
  },
  {
   "cell_type": "code",
   "execution_count": 35,
   "id": "86b808e4-76ca-43f5-b715-3eb893429a51",
   "metadata": {},
   "outputs": [
    {
     "name": "stdout",
     "output_type": "stream",
     "text": [
      "God is great\n"
     ]
    }
   ],
   "source": [
    "f=open(\"C:\\\\Users\\\\Zartech\\\\Revathy\\\\Python\\\\python.txt\",\"r\")\n",
    "p=f.read()\n",
    "print(p)"
   ]
  },
  {
   "cell_type": "code",
   "execution_count": 45,
   "id": "842580dc-28cc-47ef-98fe-a1fa3a6b9aa8",
   "metadata": {},
   "outputs": [
    {
     "name": "stdout",
     "output_type": "stream",
     "text": [
      "<_io.TextIOWrapper name='C:\\\\Users\\\\Zartech\\\\Revathy\\\\Python\\\\python.txt' mode='a' encoding='cp1252'>\n"
     ]
    }
   ],
   "source": [
    "#append to txt file\n",
    "\n",
    "g=open(\"C:\\\\Users\\\\Zartech\\\\Revathy\\\\Python\\\\python.txt\",\"a\")\n",
    "g.write(\"God is love\")\n",
    "g.close()\n",
    "print(g)"
   ]
  },
  {
   "cell_type": "code",
   "execution_count": 51,
   "id": "b831f70b-b7a2-49d7-92db-9e76023ad80c",
   "metadata": {},
   "outputs": [
    {
     "name": "stdout",
     "output_type": "stream",
     "text": [
      "God is Love.God is loveGod is loveGod is love\n"
     ]
    }
   ],
   "source": [
    "#read a txt file\n",
    "g=open(\"python.txt\",\"r\")\n",
    "q=g.read()\n",
    "print(q)"
   ]
  },
  {
   "cell_type": "code",
   "execution_count": 53,
   "id": "e8f9bf7e-e6dc-438f-a24d-d4a4cddb1fef",
   "metadata": {},
   "outputs": [
    {
     "name": "stdout",
     "output_type": "stream",
     "text": [
      "God is Love.God is loveGod is loveGod is love\n"
     ]
    }
   ],
   "source": [
    "#read a line(lines means read all lines)\n",
    "a=open(\"C:\\\\Users\\\\Zartech\\\\Revathy\\\\Python\\\\python.txt\").readline()\n",
    "print(a)"
   ]
  },
  {
   "cell_type": "code",
   "execution_count": 57,
   "id": "c30b7b31-af18-4365-953b-488603140043",
   "metadata": {},
   "outputs": [
    {
     "name": "stdout",
     "output_type": "stream",
     "text": [
      "45\n"
     ]
    }
   ],
   "source": [
    "#character count\n",
    "\n",
    "def char_count(filename):\n",
    "    return len(open(filename).read())\n",
    "print(char_count(\"C:\\\\Users\\\\Zartech\\\\Revathy\\\\Python\\\\python.txt\"))"
   ]
  },
  {
   "cell_type": "code",
   "execution_count": 59,
   "id": "1cefe66e-74f3-419b-95dc-e66aeead9f33",
   "metadata": {},
   "outputs": [
    {
     "name": "stdout",
     "output_type": "stream",
     "text": [
      "9\n"
     ]
    }
   ],
   "source": [
    "#word count\n",
    "\n",
    "def word_count(filename):\n",
    "    return len(open(filename).read().split())\n",
    "print(word_count(\"C:\\\\Users\\\\Zartech\\\\Revathy\\\\Python\\\\python.txt\"))"
   ]
  },
  {
   "cell_type": "code",
   "execution_count": 63,
   "id": "09d67871-f5b3-4d1e-ad1f-306eb7a65c05",
   "metadata": {},
   "outputs": [
    {
     "name": "stdout",
     "output_type": "stream",
     "text": [
      "1\n"
     ]
    }
   ],
   "source": [
    "#line count\n",
    "\n",
    "def line_count(filename):\n",
    "    return len(open(filename).readlines())\n",
    "print(line_count(\"C:\\\\Users\\\\Zartech\\\\Revathy\\\\Python\\\\python.txt\"))"
   ]
  },
  {
   "cell_type": "code",
   "execution_count": 31,
   "id": "14605472-67fe-47e8-a1da-738e84a0c5ef",
   "metadata": {},
   "outputs": [
    {
     "name": "stdout",
     "output_type": "stream",
     "text": [
      "God is loveGod is loveGod is love\n",
      "God is Love.\n"
     ]
    }
   ],
   "source": [
    "#reverse with by alignation of sentence\n",
    "\n",
    "a=open(\"C:\\\\Users\\\\Zartech\\\\Revathy\\\\Python\\\\python.txt\").read()\n",
    "def reverse(a):\n",
    "    a=a.split('\\n')\n",
    "    a.reverse()\n",
    "    b='\\n'.join(a)\n",
    "    return b\n",
    "print(reverse(a))"
   ]
  },
  {
   "cell_type": "code",
   "execution_count": 39,
   "id": "eee11875-472d-4246-a46c-1df13db8a842",
   "metadata": {},
   "outputs": [
    {
     "name": "stdout",
     "output_type": "stream",
     "text": [
      "evol si doGevol si doGevol si doG\n",
      ".evoL si doG\n"
     ]
    }
   ],
   "source": [
    "#reverse within words\n",
    "\n",
    "a=open(\"C:\\\\Users\\\\Zartech\\\\Revathy\\\\Python\\\\python.txt\").read()\n",
    "re_cont=a[::-1]\n",
    "print(re_cont)"
   ]
  },
  {
   "cell_type": "code",
   "execution_count": 4,
   "id": "ad90b5a8-c11b-4178-bfa4-83fbb169cce4",
   "metadata": {},
   "outputs": [],
   "source": [
    "a=open(\"E:\\\\demo.txt\",'r').read()"
   ]
  },
  {
   "cell_type": "code",
   "execution_count": 5,
   "id": "5a8b49b5-9ccb-48bf-9500-4a0a507ebe70",
   "metadata": {},
   "outputs": [],
   "source": [
    "def r(b):\n",
    "    b=b.split('\\n')\n",
    "    b.reverse()\n",
    "    c='\\n'.join(b)\n",
    "    return c"
   ]
  },
  {
   "cell_type": "code",
   "execution_count": 6,
   "id": "bb5b5542-4e39-423b-94f4-c2b2f359ef1d",
   "metadata": {},
   "outputs": [
    {
     "name": "stdout",
     "output_type": "stream",
     "text": [
      "God is Great.\n",
      "\n",
      "This world is beautiful.\n",
      "\n",
      "God is Love.\n"
     ]
    }
   ],
   "source": [
    "print(r(a))"
   ]
  },
  {
   "cell_type": "code",
   "execution_count": 7,
   "id": "7cf64a31-0359-4128-810d-10e037fb5787",
   "metadata": {},
   "outputs": [],
   "source": [
    "a=open(\"E:\\\\demo.txt\",'r').read()"
   ]
  },
  {
   "cell_type": "code",
   "execution_count": 8,
   "id": "ba1cb21b-2eb9-4794-b991-eb640fa1d521",
   "metadata": {},
   "outputs": [],
   "source": [
    "m=a[::-1]"
   ]
  },
  {
   "cell_type": "code",
   "execution_count": 9,
   "id": "01a2b775-3f8c-456d-b960-a66ebcbbb02a",
   "metadata": {},
   "outputs": [
    {
     "name": "stdout",
     "output_type": "stream",
     "text": [
      ".taerG si doG\n",
      "\n",
      ".lufituaeb si dlrow sihT\n",
      "\n",
      ".evoL si doG\n"
     ]
    }
   ],
   "source": [
    "print(m)"
   ]
  },
  {
   "cell_type": "code",
   "execution_count": null,
   "id": "3449a183-d7fb-4d09-b989-e3e923c3481c",
   "metadata": {},
   "outputs": [],
   "source": []
  }
 ],
 "metadata": {
  "kernelspec": {
   "display_name": "Python 3 (ipykernel)",
   "language": "python",
   "name": "python3"
  },
  "language_info": {
   "codemirror_mode": {
    "name": "ipython",
    "version": 3
   },
   "file_extension": ".py",
   "mimetype": "text/x-python",
   "name": "python",
   "nbconvert_exporter": "python",
   "pygments_lexer": "ipython3",
   "version": "3.13.5"
  }
 },
 "nbformat": 4,
 "nbformat_minor": 5
}
