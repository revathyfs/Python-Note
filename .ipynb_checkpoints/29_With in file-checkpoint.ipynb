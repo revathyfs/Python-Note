{
 "cells": [
  {
   "cell_type": "markdown",
   "id": "c24083e2-9178-43f8-a255-640be1a32b73",
   "metadata": {},
   "source": [
    "\n",
    "---\n",
    "\n",
    "> In Python file handling, the **`with` statement** is used to open a file as a context manager.\n",
    "> It **automatically opens the file**, lets you perform read/write operations inside its block, and **automatically closes the file** once the block is finished — even if an error occurs.\n",
    "\n",
    "---\n",
    "\n",
    "**Syntax:**\n",
    "\n",
    "```python\n",
    "with open('filename', 'mode') as file_object:\n",
    "    # read or write to the file\n",
    "```\n",
    "\n",
    "**Example:**\n",
    "\n",
    "```python\n",
    "with open('example.txt', 'r') as file:\n",
    "    content = file.read()\n",
    "    print(content)\n",
    "# file is automatically closed here\n",
    "```\n",
    "\n",
    "**Why it’s used in file handling:**\n",
    "\n",
    "* ✅ No need to explicitly call `file.close()`\n",
    "* ✅ Prevents resource leaks\n",
    "* ✅ Safer and cleaner than manually opening and closing files\n",
    "\n",
    "---\n"
   ]
  },
  {
   "cell_type": "code",
   "execution_count": 2,
   "id": "bfaebc58-ea5d-4a4c-b616-14934bbfcb9e",
   "metadata": {},
   "outputs": [
    {
     "name": "stdout",
     "output_type": "stream",
     "text": [
      "\n"
     ]
    }
   ],
   "source": [
    "#Reading a file\n",
    "# Using 'with' to open a file in read mode\n",
    "\n",
    "with open('example.txt', 'r') as file:\n",
    "    content = file.read()  # Read the entire file content\n",
    "    print(content)  # Output the content of the file\n",
    "#explanation\n",
    "#open('example.txt', 'r') opens the file in read mode.\n",
    "#The with statement automatically takes care of closing the file when you're done with it (even if an exception occurs inside the block)."
   ]
  },
  {
   "cell_type": "code",
   "execution_count": 3,
   "id": "9982da49-83f3-460c-86f4-372ce1c294d5",
   "metadata": {},
   "outputs": [],
   "source": [
    "# Writing to a file\n",
    "# Using 'with' to open a file in write mode\n",
    "\n",
    "with open('output.txt', 'w') as file:\n",
    "    file.write(\"Hello, this is a test line.\")  # Write a line to the file"
   ]
  },
  {
   "cell_type": "code",
   "execution_count": 4,
   "id": "00c7dea1-aaf2-4823-bcb7-f32173eccdf7",
   "metadata": {},
   "outputs": [],
   "source": [
    "# Appending to a file\n",
    "# Using 'with' to open a file in append mode\n",
    "\n",
    "with open('output.txt', 'a') as file:\n",
    "    file.write(\"\\nAppended line.\")  # Append a new line to the file"
   ]
  },
  {
   "cell_type": "code",
   "execution_count": 5,
   "id": "6386d375-fedc-4962-b046-9c6911eaaa85",
   "metadata": {},
   "outputs": [],
   "source": [
    "# Reading line by line\n",
    "# Using 'with' to open a file and read it line by line\n",
    "\n",
    "\n",
    "with open('example.txt', 'r') as file:\n",
    "    for line in file:\n",
    "        print(line.strip())  # Strip the newline character at the end of each line\n"
   ]
  },
  {
   "cell_type": "raw",
   "id": "3112f66c-079c-46c0-a5e8-1ad9416965ec",
   "metadata": {},
   "source": [
    "Key Points:\n",
    "'r': Read mode (default).\n",
    "'w': Write mode (if the file exists, it will be overwritten).\n",
    "'a': Append mode (new data is added at the end).\n",
    "'b': Binary mode (e.g., 'rb', 'wb').\n",
    "The file is automatically closed after the block of code inside the with statement is executed."
   ]
  }
 ],
 "metadata": {
  "kernelspec": {
   "display_name": "Python 3 (ipykernel)",
   "language": "python",
   "name": "python3"
  },
  "language_info": {
   "codemirror_mode": {
    "name": "ipython",
    "version": 3
   },
   "file_extension": ".py",
   "mimetype": "text/x-python",
   "name": "python",
   "nbconvert_exporter": "python",
   "pygments_lexer": "ipython3",
   "version": "3.13.5"
  }
 },
 "nbformat": 4,
 "nbformat_minor": 5
}
