{
 "cells": [
  {
   "cell_type": "code",
   "execution_count": null,
   "id": "be9efa85-b212-4a11-a288-71314193c078",
   "metadata": {},
   "outputs": [],
   "source": [
    "CONDITION STATEMENT\n",
    "\n",
    "if-elif-if(SYNTAX)\n",
    "\n",
    "if(condition):\n",
    "    statement1\n",
    "elif(condition):\n",
    "    statement2\n",
    "else:\n",
    "    statementN"
   ]
  },
  {
   "cell_type": "code",
   "execution_count": 9,
   "id": "cd974e62-06c4-49ca-9fd7-6735d7c1a0be",
   "metadata": {},
   "outputs": [
    {
     "name": "stdin",
     "output_type": "stream",
     "text": [
      "Enter the color of the light :  brown\n"
     ]
    },
    {
     "name": "stdout",
     "output_type": "stream",
     "text": [
      "LIGHT IS BROKEN\n"
     ]
    }
   ],
   "source": [
    "# traffic lights code\n",
    "\n",
    "light=input(\"Enter the color of the light : \")\n",
    "\n",
    "if(light==\"red\"):\n",
    "    print(\"STOP\")\n",
    "elif(light==\"yellow\"):\n",
    "    print(\"LOOK\")\n",
    "elif(light==\"green\"):\n",
    "    print(\"GO\")\n",
    "else:\n",
    "    print(\"LIGHT IS BROKEN\")"
   ]
  },
  {
   "cell_type": "code",
   "execution_count": 27,
   "id": "c38de834-728f-40b0-b940-26a3bf6234de",
   "metadata": {},
   "outputs": [
    {
     "name": "stdin",
     "output_type": "stream",
     "text": [
      "Enter the mark:  100\n"
     ]
    },
    {
     "name": "stdout",
     "output_type": "stream",
     "text": [
      "A GRADE\n"
     ]
    }
   ],
   "source": [
    "# grades of students\n",
    "\n",
    "mark=int(input(\"Enter the mark: \"))\n",
    "if(mark>=90):\n",
    "    print(\"A GRADE\")\n",
    "elif(mark>=80 and mark<90):\n",
    "    print(\"B GRADE\")\n",
    "elif(mark>=70 and mark<80):\n",
    "    print(\"C GRADE\")\n",
    "else:\n",
    "    print(\"D GRADE\")"
   ]
  },
  {
   "cell_type": "code",
   "execution_count": null,
   "id": "de5c8981-1a7b-426e-a108-ce770cf9be1a",
   "metadata": {},
   "outputs": [],
   "source": []
  }
 ],
 "metadata": {
  "kernelspec": {
   "display_name": "Python 3 (ipykernel)",
   "language": "python",
   "name": "python3"
  },
  "language_info": {
   "codemirror_mode": {
    "name": "ipython",
    "version": 3
   },
   "file_extension": ".py",
   "mimetype": "text/x-python",
   "name": "python",
   "nbconvert_exporter": "python",
   "pygments_lexer": "ipython3",
   "version": "3.13.5"
  }
 },
 "nbformat": 4,
 "nbformat_minor": 5
}
