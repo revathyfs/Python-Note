{
 "cells": [
  {
   "cell_type": "markdown",
   "id": "501886a5-e3b9-4d4b-a92b-2d29436c1df4",
   "metadata": {},
   "source": [
    "Anonymous function"
   ]
  },
  {
   "cell_type": "code",
   "execution_count": 2,
   "id": "44a8fdf1-7131-40e6-9474-11fed047c30d",
   "metadata": {},
   "outputs": [
    {
     "name": "stdout",
     "output_type": "stream",
     "text": [
      "Value of total :  12\n",
      "Value of total :  22\n"
     ]
    }
   ],
   "source": [
    "#lambda arguments\n",
    "#lambda[arg1[,arg2,....argn]]:expression;\n",
    "\n",
    "sum=lambda arg1,arg2:arg1+2;\n",
    "print(\"Value of total : \",sum(10,20))\n",
    "print(\"Value of total : \",sum(20,20))"
   ]
  },
  {
   "cell_type": "code",
   "execution_count": 4,
   "id": "a58d851a-89df-4f0d-9602-7946703ad7c5",
   "metadata": {},
   "outputs": [
    {
     "name": "stdout",
     "output_type": "stream",
     "text": [
      "Values of total :  30\n",
      "Values of total :  40\n"
     ]
    }
   ],
   "source": [
    "#sum of the 2 number\n",
    "sum=lambda arg1,arg2:arg1+arg2;\n",
    "print(\"Values of total : \",sum(10,20))\n",
    "print(\"Values of total : \",sum(20,20))"
   ]
  },
  {
   "cell_type": "markdown",
   "id": "8be0921a-c2c6-41e4-a5d4-49eea2b38b98",
   "metadata": {},
   "source": [
    "python code to illustrate cube of a number showing the difference between def() and lambda"
   ]
  },
  {
   "cell_type": "code",
   "execution_count": 3,
   "id": "cc1c252b-ec13-405f-9fee-6c9bd1d1c28a",
   "metadata": {},
   "outputs": [],
   "source": [
    "def cube(y):\n",
    "    return y*y*y;\n"
   ]
  },
  {
   "cell_type": "code",
   "execution_count": 9,
   "id": "dd1e1625-f2ec-47a5-86b5-c92a59ff7ef6",
   "metadata": {},
   "outputs": [],
   "source": [
    "g=lambda x:x*x*x;\n"
   ]
  },
  {
   "cell_type": "code",
   "execution_count": 10,
   "id": "2cfdf300-e182-4c70-8f06-bdc59a65873a",
   "metadata": {},
   "outputs": [
    {
     "name": "stdout",
     "output_type": "stream",
     "text": [
      "343\n"
     ]
    }
   ],
   "source": [
    "print(g(7))"
   ]
  },
  {
   "cell_type": "code",
   "execution_count": 6,
   "id": "48b65c95-8245-4aa0-858e-5517ff4a5041",
   "metadata": {},
   "outputs": [
    {
     "name": "stdout",
     "output_type": "stream",
     "text": [
      "125\n"
     ]
    }
   ],
   "source": [
    "print(cube(5))"
   ]
  },
  {
   "cell_type": "code",
   "execution_count": 22,
   "id": "ce528513-6708-4c39-a959-4906013e36d4",
   "metadata": {},
   "outputs": [
    {
     "name": "stdin",
     "output_type": "stream",
     "text": [
      "Enter the 1st value :  30\n",
      "Enter the 2nd value :  50\n"
     ]
    },
    {
     "name": "stdout",
     "output_type": "stream",
     "text": [
      "Sum of the number is :  80.0\n"
     ]
    }
   ],
   "source": [
    "#Write a lambda function to add two numbers\n",
    "\n",
    "sum=lambda arg1,arg2:arg1+arg2;\n",
    "arg1 =float(input(\"Enter the 1st value : \"))\n",
    "arg2 =float(input(\"Enter the 2nd value : \"))\n",
    "print(\"Sum of the number is : \",sum(arg1,arg2)) "
   ]
  },
  {
   "cell_type": "code",
   "execution_count": 132,
   "id": "66ecb4c4-6ad5-468f-9647-2f9b3ae40a3a",
   "metadata": {},
   "outputs": [
    {
     "name": "stdin",
     "output_type": "stream",
     "text": [
      "Enter the 1st value :  7\n",
      "Enter the 2nd value :  5\n"
     ]
    },
    {
     "name": "stdout",
     "output_type": "stream",
     "text": [
      "Maximum of the number is :  7.0\n"
     ]
    }
   ],
   "source": [
    "#write a lambda function to find the maximum of two numbers\n",
    "max=lambda arg1,arg2:arg1<arg2;\n",
    "arg1 =float(input(\"Enter the 1st value : \"))\n",
    "arg2 =float(input(\"Enter the 2nd value : \"))\n",
    "if max(arg1,arg2)==1:\n",
    "    print(\"Maximum of the number is : \",arg2) \n",
    "else:\n",
    "    print(\"Maximum of the number is : \",arg1)"
   ]
  },
  {
   "cell_type": "code",
   "execution_count": 52,
   "id": "8ee3fe6e-4902-462a-ba6a-4e911432b400",
   "metadata": {},
   "outputs": [
    {
     "name": "stdin",
     "output_type": "stream",
     "text": [
      "Enter the value:  5\n"
     ]
    },
    {
     "name": "stdout",
     "output_type": "stream",
     "text": [
      "The square of the number is:  25\n"
     ]
    }
   ],
   "source": [
    "#Write a lambda function to calculate the square of a number\n",
    "s=lambda x:x*x;\n",
    "x=int(input(\"Enter the value: \"))\n",
    "print(\"The square of the number is: \",s(x))"
   ]
  },
  {
   "cell_type": "code",
   "execution_count": 106,
   "id": "eb1e5f98-e21c-4c4f-ba47-b8dfc9f78309",
   "metadata": {},
   "outputs": [
    {
     "name": "stdin",
     "output_type": "stream",
     "text": [
      "Enter the number:  2\n"
     ]
    },
    {
     "name": "stdout",
     "output_type": "stream",
     "text": [
      "The number is EVEN\n"
     ]
    }
   ],
   "source": [
    "#write a lambda function to check if a number is even or odd\n",
    "n=lambda x:x%2==0;\n",
    "x=int(input(\"Enter the number: \"))\n",
    "if n(x)==1:#here 1 is the boolean value to \n",
    "    print(\"The number is EVEN\",)\n",
    "else:\n",
    "    print(\"The number is ODD\")"
   ]
  },
  {
   "cell_type": "code",
   "execution_count": 118,
   "id": "dedddc8a-dd27-4c44-b4af-b61c721c5553",
   "metadata": {},
   "outputs": [
    {
     "name": "stdin",
     "output_type": "stream",
     "text": [
      "Enter the number :  4\n"
     ]
    },
    {
     "name": "stdout",
     "output_type": "stream",
     "text": [
      "The cube of the number is :  64\n"
     ]
    }
   ],
   "source": [
    "#write a lambda function to find the cube of a number\n",
    "s=lambda x:x**3;\n",
    "x=int(input(\"Enter the number : \"))\n",
    "print(\"The cube of the number is : \",s(x))\n",
    "            "
   ]
  }
 ],
 "metadata": {
  "kernelspec": {
   "display_name": "Python 3 (ipykernel)",
   "language": "python",
   "name": "python3"
  },
  "language_info": {
   "codemirror_mode": {
    "name": "ipython",
    "version": 3
   },
   "file_extension": ".py",
   "mimetype": "text/x-python",
   "name": "python",
   "nbconvert_exporter": "python",
   "pygments_lexer": "ipython3",
   "version": "3.13.5"
  }
 },
 "nbformat": 4,
 "nbformat_minor": 5
}
