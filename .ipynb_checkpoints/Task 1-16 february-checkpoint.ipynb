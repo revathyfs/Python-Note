{
 "cells": [
  {
   "cell_type": "code",
   "execution_count": 1,
   "id": "c45768bb-6695-4a53-b6eb-b8b449284a2c",
   "metadata": {},
   "outputs": [
    {
     "name": "stdin",
     "output_type": "stream",
     "text": [
      "Enter the number:  10\n"
     ]
    },
    {
     "name": "stdout",
     "output_type": "stream",
     "text": [
      "10 is EVEN\n"
     ]
    }
   ],
   "source": [
    "# Python program to check if a number is odd or even\n",
    "\n",
    "n=int(input(\"Enter the number: \"))\n",
    "if n%2==0:\n",
    "    print(n,\"is EVEN\")\n",
    "else:\n",
    "    print(n,\"is ODD\")"
   ]
  },
  {
   "cell_type": "code",
   "execution_count": 2,
   "id": "f180ee04-088c-460d-8caf-b6fd382239ff",
   "metadata": {},
   "outputs": [
    {
     "name": "stdin",
     "output_type": "stream",
     "text": [
      "Enter the 1st number:  5\n",
      "Enter the 2nd number:  8\n",
      "Enter the 3rd number:  10\n"
     ]
    },
    {
     "name": "stdout",
     "output_type": "stream",
     "text": [
      "10 is the LARGEST\n"
     ]
    }
   ],
   "source": [
    "# Python program to find the largest among three numbers\n",
    "\n",
    "a=int(input(\"Enter the 1st number: \"))\n",
    "b=int(input(\"Enter the 2nd number: \"))\n",
    "c=int(input(\"Enter the 3rd number: \"))\n",
    "if (a>b and a>c):\n",
    "    print(a,\"is the LARGEST\")\n",
    "elif (b>a and b>c):\n",
    "    print(b,\"is the LARGEST\")\n",
    "else:\n",
    "    print(c,\"is the LARGEST\")"
   ]
  },
  {
   "cell_type": "code",
   "execution_count": 3,
   "id": "f26c9b61-73eb-4782-a538-119881b7f86e",
   "metadata": {},
   "outputs": [
    {
     "name": "stdin",
     "output_type": "stream",
     "text": [
      "Enter the number to check:  7\n"
     ]
    },
    {
     "name": "stdout",
     "output_type": "stream",
     "text": [
      "It is PRIME NUMBER\n"
     ]
    }
   ],
   "source": [
    "# Python program to Check prime number\n",
    "\n",
    "n=int(input(\"Enter the number to check: \"))\n",
    "c=0\n",
    "for i in range(1,n):\n",
    "    if n%i==0:\n",
    "        c+=1\n",
    "if c<2:\n",
    "    print(\"It is PRIME NUMBER\")\n",
    "else:\n",
    "     print(\"It is NOT PRIME NUMBER\")           "
   ]
  },
  {
   "cell_type": "code",
   "execution_count": 13,
   "id": "50c8204e-123d-460b-908c-389c01ddbd74",
   "metadata": {},
   "outputs": [
    {
     "name": "stdin",
     "output_type": "stream",
     "text": [
      "Enter the starting limit:  1\n",
      "Enter the stop limit:  20\n"
     ]
    },
    {
     "name": "stdout",
     "output_type": "stream",
     "text": [
      "1\n",
      "2\n",
      "3\n",
      "5\n",
      "7\n",
      "11\n",
      "13\n",
      "17\n",
      "19\n"
     ]
    }
   ],
   "source": [
    "# Python Program to Print all Prime Numbers in an Interval \n",
    "\n",
    "l=int(input(\"Enter the starting limit: \"))\n",
    "u=int(input(\"Enter the stop limit: \"))\n",
    "for i in range(l,u+1):\n",
    "    for j in range(2,i):\n",
    "        if i%j==0:\n",
    "            break\n",
    "    else:\n",
    "        print(i)"
   ]
  },
  {
   "cell_type": "code",
   "execution_count": 5,
   "id": "8f8b9ad2-004b-4fe8-b081-6f035989dcf0",
   "metadata": {},
   "outputs": [
    {
     "name": "stdin",
     "output_type": "stream",
     "text": [
      "Enter the number :  4\n"
     ]
    },
    {
     "name": "stdout",
     "output_type": "stream",
     "text": [
      "24\n"
     ]
    }
   ],
   "source": [
    "#pyhton program to find the factorial of a number\n",
    "\n",
    "n=int(input(\"Enter the number : \"))\n",
    "f=1\n",
    "for i in range(1,n+1):\n",
    "    f=f*i\n",
    "print(f)\n",
    "    "
   ]
  },
  {
   "cell_type": "code",
   "execution_count": 6,
   "id": "ae521383-23d6-46b3-a51a-0f162987da9c",
   "metadata": {},
   "outputs": [
    {
     "name": "stdin",
     "output_type": "stream",
     "text": [
      "Enter the number:  1\n"
     ]
    },
    {
     "name": "stdout",
     "output_type": "stream",
     "text": [
      "1 * 1 = 1\n",
      "2 * 1 = 2\n",
      "3 * 1 = 3\n",
      "4 * 1 = 4\n",
      "5 * 1 = 5\n",
      "6 * 1 = 6\n",
      "7 * 1 = 7\n",
      "8 * 1 = 8\n",
      "9 * 1 = 9\n",
      "10 * 1 = 10\n"
     ]
    }
   ],
   "source": [
    "# Python Program to Display the multiplication Table\n",
    "\n",
    "n=int(input(\"Enter the number: \"))\n",
    "for i in range(1,11):\n",
    "    print(i,\"*\",n,\"=\",i*n)"
   ]
  },
  {
   "cell_type": "code",
   "execution_count": 7,
   "id": "c032fdf0-b040-4f37-a59e-dde4861f66b8",
   "metadata": {},
   "outputs": [
    {
     "name": "stdin",
     "output_type": "stream",
     "text": [
      "Enter the limit :  4\n"
     ]
    },
    {
     "name": "stdout",
     "output_type": "stream",
     "text": [
      "0\n",
      "1\n",
      "1\n",
      "2\n",
      "3\n"
     ]
    }
   ],
   "source": [
    "#  Python Program to Print the Fibonacci sequence \n",
    "\n",
    "n=int(input(\"Enter the limit : \"))\n",
    "for i in range(n+1):\n",
    "    a,b=0,1\n",
    "    for j in range(i):\n",
    "        a,b=b,a+b\n",
    "    print(a)"
   ]
  },
  {
   "cell_type": "code",
   "execution_count": 8,
   "id": "69e6f2e4-4107-489f-930e-4e2a3958dc7d",
   "metadata": {},
   "outputs": [
    {
     "name": "stdin",
     "output_type": "stream",
     "text": [
      "Enter the number :  9\n"
     ]
    },
    {
     "name": "stdout",
     "output_type": "stream",
     "text": [
      "45\n"
     ]
    }
   ],
   "source": [
    "# Python Program to Find the Sum of Natural Numbers\n",
    "\n",
    "n=int(input(\"Enter the number : \"))\n",
    "s=0\n",
    "for i in range(n+1):\n",
    "    s=s+i\n",
    "print(s)"
   ]
  },
  {
   "cell_type": "code",
   "execution_count": 9,
   "id": "b47d2831-b84f-4b8d-8cd6-8d7a204baacd",
   "metadata": {},
   "outputs": [
    {
     "name": "stdout",
     "output_type": "stream",
     "text": [
      "1.Addition \n",
      "2.Subtraction\n",
      "3.Multipication\n",
      "4.Divition\n",
      "5.Remainder\n"
     ]
    },
    {
     "name": "stdin",
     "output_type": "stream",
     "text": [
      "Choose the process : 3\n",
      "Enter the 1st digit:  4\n",
      "Enter the 2nd digit:  2\n"
     ]
    },
    {
     "name": "stdout",
     "output_type": "stream",
     "text": [
      "The product is :  8\n"
     ]
    }
   ],
   "source": [
    "#Python Program to Make a Simple Calculator \n",
    "\n",
    "print(\"\"\"1.Addition \n",
    "2.Subtraction\n",
    "3.Multipication\n",
    "4.Divition\n",
    "5.Remainder\"\"\")\n",
    "x=int(input(\"Choose the process :\"))\n",
    "if x<=5:\n",
    "    a=int(input(\"Enter the 1st digit: \"))\n",
    "    b=int(input(\"Enter the 2nd digit: \"))\n",
    "    s=0\n",
    "    f=1\n",
    "    if x==1:\n",
    "        print(\"The sum is : \",a+b)\n",
    "    elif x==2:\n",
    "        print(\"The difference is : \",a-b)\n",
    "    elif x==3:\n",
    "        print(\"The product is : \",a*b)\n",
    "    elif x==4:\n",
    "        print(\"The result is : \",a//b)\n",
    "    else:\n",
    "        print(\"The remainder is : \",a%b)\n",
    "else:\n",
    "    print(\"Wrong input\")\n"
   ]
  },
  {
   "cell_type": "code",
   "execution_count": 13,
   "id": "125374b8-07a3-47da-9dc0-84ad0bd989b7",
   "metadata": {},
   "outputs": [
    {
     "name": "stdin",
     "output_type": "stream",
     "text": [
      "Enter the string :  Malayalam\n"
     ]
    },
    {
     "name": "stdout",
     "output_type": "stream",
     "text": [
      "The string is palindrome\n"
     ]
    }
   ],
   "source": [
    "#Python Program to Check Whether a String is Palindrome or Not\n",
    "\n",
    "string=input(\"Enter the string : \").lower()\n",
    "reverse=string[::-1]\n",
    "if reverse==string:\n",
    "    print(\"The string is palindrome\")\n",
    "else:\n",
    "    print(\"The string is not palindrome\")"
   ]
  },
  {
   "cell_type": "code",
   "execution_count": 43,
   "id": "9f8b79b6-341e-4deb-b944-9faf025d19c8",
   "metadata": {},
   "outputs": [
    {
     "name": "stdin",
     "output_type": "stream",
     "text": [
      "Enter the limit :  5\n",
      "Enter the word to list :  mango\n",
      "Enter the word to list :  kiwi\n",
      "Enter the word to list :  avacado\n",
      "Enter the word to list :  apple\n",
      "Enter the word to list :  orange\n"
     ]
    },
    {
     "name": "stdout",
     "output_type": "stream",
     "text": [
      "['mango', 'kiwi', 'avacado', 'apple', 'orange']\n",
      "['apple', 'avacado', 'kiwi', 'mango', 'orange']\n"
     ]
    }
   ],
   "source": [
    "# Python Program to Sort Words in Alphabetical Order \n",
    "\n",
    "n=int(input(\"Enter the limit : \"))\n",
    "w=[]\n",
    "for i in range(n):\n",
    "    w.append(str(input(\"Enter the word to list : \")))\n",
    "print(w)\n",
    "w.sort()\n",
    "print(w)"
   ]
  },
  {
   "cell_type": "code",
   "execution_count": 5,
   "id": "f44fc0ba-baf4-47cd-9056-d33d71759135",
   "metadata": {},
   "outputs": [
    {
     "name": "stdin",
     "output_type": "stream",
     "text": [
      "Enter the string :  Confident\n"
     ]
    },
    {
     "name": "stdout",
     "output_type": "stream",
     "text": [
      "3\n"
     ]
    }
   ],
   "source": [
    "# Python Program to Count the Number of Each Vowel\n",
    "\n",
    "string=(input(\"Enter the string : \")).lower()\n",
    "consonants=[\"a\",\"e\",\"i\",\"o\",\"u\"]\n",
    "count=0\n",
    "for i in range(len(string)):\n",
    "    for j in range(len(consonants)):\n",
    "        if consonants[j]==string[i]:\n",
    "            count+=1\n",
    "print(count)"
   ]
  },
  {
   "cell_type": "code",
   "execution_count": 17,
   "id": "cd184ca6-6474-4f4f-8b8f-e32b793f1f0f",
   "metadata": {},
   "outputs": [
    {
     "name": "stdin",
     "output_type": "stream",
     "text": [
      "Enter the starting limit:  1\n",
      "Enter the stop limit:  20\n",
      "Enter the interval:  3\n"
     ]
    },
    {
     "name": "stdout",
     "output_type": "stream",
     "text": [
      "1\n",
      "7\n",
      "13\n",
      "19\n"
     ]
    }
   ],
   "source": [
    "# Python Program to Find the prime numbers with in an interval \n",
    "\n",
    "l=int(input(\"Enter the starting limit: \"))\n",
    "u=int(input(\"Enter the stop limit: \"))\n",
    "x=int(input(\"Enter the interval: \"))\n",
    "for i in range(l,u+1,x):\n",
    "    for j in range(2,i):\n",
    "        if i%j==0:\n",
    "            break\n",
    "    else:\n",
    "        print(i)"
   ]
  },
  {
   "cell_type": "code",
   "execution_count": 23,
   "id": "6075ac54-ec11-4c81-a8d6-4bfeed5944ea",
   "metadata": {},
   "outputs": [
    {
     "name": "stdin",
     "output_type": "stream",
     "text": [
      "Enter the lower limit:  20\n",
      "Enter the upper limit:  30\n"
     ]
    },
    {
     "name": "stdout",
     "output_type": "stream",
     "text": [
      "The sum is :  275\n"
     ]
    }
   ],
   "source": [
    "# Python Program to add Elements within a given limit. \n",
    "\n",
    "l=int(input(\"Enter the lower limit: \"))\n",
    "u=int(input(\"Enter the upper limit: \"))\n",
    "s=0\n",
    "for i in range(l,u+1):\n",
    "    s=s+i\n",
    "print(\"The sum is : \",s)"
   ]
  },
  {
   "cell_type": "code",
   "execution_count": null,
   "id": "6c756ad0-ea53-4d93-9f26-abdcc99e2843",
   "metadata": {},
   "outputs": [],
   "source": []
  },
  {
   "cell_type": "code",
   "execution_count": 16,
   "id": "65ab041b-964b-4ee5-a2c0-e8aede77f39d",
   "metadata": {},
   "outputs": [
    {
     "name": "stdin",
     "output_type": "stream",
     "text": [
      "Enter the limit :  5\n",
      "Enter the word to list :  hen\n",
      "Enter the word to list :  duck\n",
      "Enter the word to list :  parrot\n",
      "Enter the word to list :  kiwi\n",
      "Enter the word to list :  parrot\n"
     ]
    },
    {
     "name": "stdout",
     "output_type": "stream",
     "text": [
      "['hen', 'duck', 'parrot', 'kiwi', 'parrot']\n",
      "After removing duplicate element :  ['kiwi', 'hen', 'parrot', 'duck']\n"
     ]
    }
   ],
   "source": [
    "# Python Program to Remove duplicate elements from a list. \n",
    "\n",
    "n=int(input(\"Enter the limit : \"))\n",
    "w=[]\n",
    "count=0\n",
    "for i in range(n):\n",
    "    w.append(str(input(\"Enter the word to list : \")))\n",
    "print(w)   \n",
    "print(\"After removing duplicate element : \",list(set(w)))"
   ]
  },
  {
   "cell_type": "code",
   "execution_count": 37,
   "id": "6545b014-8c11-4eb6-9a2d-d2852b6a57da",
   "metadata": {},
   "outputs": [
    {
     "name": "stdin",
     "output_type": "stream",
     "text": [
      "Enter the limit of the list:  5\n",
      "Enter the values to the 1st list:  1\n",
      "Enter the values to the 2nd list:  2\n",
      "Enter the values to the 1st list:  3\n",
      "Enter the values to the 2nd list:  4\n",
      "Enter the values to the 1st list:  5\n",
      "Enter the values to the 2nd list:  6\n",
      "Enter the values to the 1st list:  7\n",
      "Enter the values to the 2nd list:  8\n",
      "Enter the values to the 1st list:  9\n",
      "Enter the values to the 2nd list:  10\n"
     ]
    },
    {
     "name": "stdout",
     "output_type": "stream",
     "text": [
      "[1, 3, 5, 7, 9]\n",
      "[2, 4, 6, 8, 10]\n",
      "[3, 7, 11, 15, 19]\n"
     ]
    }
   ],
   "source": [
    "# Python Program to Add the elements of two lists.\n",
    "\n",
    "l=int(input(\"Enter the limit of the list: \"))\n",
    "l1=[]\n",
    "l2=[]\n",
    "sum=[]\n",
    "for i in range(l):\n",
    "    l1.append(int(input(\"Enter the values to the 1st list: \")))\n",
    "    l2.append(int(input(\"Enter the values to the 2nd list: \")))\n",
    "for i in range(len(l1)):\n",
    "    sum.append(l1[i]+l2[i])\n",
    "print(l1)\n",
    "print(l2)\n",
    "print(sum)"
   ]
  },
  {
   "cell_type": "markdown",
   "id": "b660fbf5-15bf-4fc7-aeeb-c499c6421fbc",
   "metadata": {},
   "source": [
    "### Above Programs using def functions method"
   ]
  },
  {
   "cell_type": "code",
   "execution_count": 2,
   "id": "21dc234a-2d17-4702-a42f-d6f0c5282ea8",
   "metadata": {},
   "outputs": [
    {
     "name": "stdout",
     "output_type": "stream",
     "text": [
      "7 is Odd\n"
     ]
    }
   ],
   "source": [
    "# Check if a Number is Odd or Even\n",
    "\n",
    "def check_odd_even(num):\n",
    "    if num % 2 == 0:\n",
    "        print(f\"{num} is Even\")\n",
    "    else:\n",
    "        print(f\"{num} is Odd\")\n",
    "\n",
    "check_odd_even(7)\n"
   ]
  },
  {
   "cell_type": "code",
   "execution_count": 3,
   "id": "1b25fd3a-9b2e-4ea0-870f-a144486fca8e",
   "metadata": {},
   "outputs": [
    {
     "name": "stdout",
     "output_type": "stream",
     "text": [
      "Largest is: 25\n"
     ]
    }
   ],
   "source": [
    "# Find the Largest Among Three Numbers\n",
    "\n",
    "def find_largest(a, b, c):\n",
    "    if a >= b and a >= c:\n",
    "        print(f\"Largest is: {a}\")\n",
    "    elif b >= a and b >= c:\n",
    "        print(f\"Largest is: {b}\")\n",
    "    else:\n",
    "        print(f\"Largest is: {c}\")\n",
    "\n",
    "find_largest(10, 25, 15)\n"
   ]
  },
  {
   "cell_type": "code",
   "execution_count": 4,
   "id": "c2d1949c-0c37-41cd-8e2e-9f3c50193c01",
   "metadata": {},
   "outputs": [
    {
     "name": "stdout",
     "output_type": "stream",
     "text": [
      "Prime number\n"
     ]
    }
   ],
   "source": [
    "# Check Prime Number\n",
    "\n",
    "def is_prime(n):\n",
    "    if n < 2:\n",
    "        print(\"Not a prime\")\n",
    "        return\n",
    "    for i in range(2, int(n**0.5)+1):\n",
    "        if n % i == 0:\n",
    "            print(\"Not a prime\")\n",
    "            return\n",
    "    print(\"Prime number\")\n",
    "\n",
    "is_prime(13)\n"
   ]
  },
  {
   "cell_type": "code",
   "execution_count": 5,
   "id": "b591469a-b8db-4085-851b-534bbc24d43b",
   "metadata": {},
   "outputs": [
    {
     "name": "stdout",
     "output_type": "stream",
     "text": [
      "11 13 17 19 23 29 31 37 41 43 47 "
     ]
    }
   ],
   "source": [
    "# Print all Prime Numbers in an Interval\n",
    "\n",
    "def primes_in_range(start, end):\n",
    "    for num in range(start, end + 1):\n",
    "        if num < 2:\n",
    "            continue\n",
    "        for i in range(2, int(num**0.5)+1):\n",
    "            if num % i == 0:\n",
    "                break\n",
    "        else:\n",
    "            print(num, end=' ')\n",
    "\n",
    "primes_in_range(10, 50)\n"
   ]
  },
  {
   "cell_type": "code",
   "execution_count": 6,
   "id": "08ae66c4-2d2e-4c08-9502-7a5849f7196d",
   "metadata": {},
   "outputs": [
    {
     "name": "stdout",
     "output_type": "stream",
     "text": [
      "Factorial of 5 is 120\n"
     ]
    }
   ],
   "source": [
    "# Find the Factorial of a Number\n",
    "\n",
    "def factorial(n):\n",
    "    fact = 1\n",
    "    for i in range(1, n+1):\n",
    "        fact *= i\n",
    "    print(f\"Factorial of {n} is {fact}\")\n",
    "\n",
    "factorial(5)\n"
   ]
  },
  {
   "cell_type": "code",
   "execution_count": 7,
   "id": "caa73854-c837-4871-a9f0-b63d2427890d",
   "metadata": {},
   "outputs": [
    {
     "name": "stdout",
     "output_type": "stream",
     "text": [
      "7 x 1 = 7\n",
      "7 x 2 = 14\n",
      "7 x 3 = 21\n",
      "7 x 4 = 28\n",
      "7 x 5 = 35\n",
      "7 x 6 = 42\n",
      "7 x 7 = 49\n",
      "7 x 8 = 56\n",
      "7 x 9 = 63\n",
      "7 x 10 = 70\n"
     ]
    }
   ],
   "source": [
    "# Display the Multiplication Table\n",
    "\n",
    "def multiplication_table(n):\n",
    "    for i in range(1, 11):\n",
    "        print(f\"{n} x {i} = {n*i}\")\n",
    "\n",
    "multiplication_table(7)\n"
   ]
  },
  {
   "cell_type": "code",
   "execution_count": 8,
   "id": "d333c0af-f640-4c31-a26e-585e495fd1c6",
   "metadata": {},
   "outputs": [
    {
     "name": "stdout",
     "output_type": "stream",
     "text": [
      "0 1 1 2 3 5 8 13 21 34 "
     ]
    }
   ],
   "source": [
    "# Print the Fibonacci Sequence\n",
    "\n",
    "def fibonacci(n):\n",
    "    a, b = 0, 1\n",
    "    for _ in range(n):\n",
    "        print(a, end=' ')\n",
    "        a, b = b, a + b\n",
    "\n",
    "fibonacci(10)\n"
   ]
  },
  {
   "cell_type": "code",
   "execution_count": 9,
   "id": "b8ee6401-50f9-4adc-9301-ce78eb519eee",
   "metadata": {},
   "outputs": [
    {
     "name": "stdout",
     "output_type": "stream",
     "text": [
      "Sum of first 100 natural numbers is 5050\n"
     ]
    }
   ],
   "source": [
    "# Find the Sum of Natural Numbers\n",
    "\n",
    "def sum_natural(n):\n",
    "    total = sum(range(1, n+1))\n",
    "    print(f\"Sum of first {n} natural numbers is {total}\")\n",
    "\n",
    "sum_natural(100)\n"
   ]
  },
  {
   "cell_type": "code",
   "execution_count": 10,
   "id": "7b7a954e-d628-4a6b-ab3c-f16241d5db1b",
   "metadata": {},
   "outputs": [
    {
     "name": "stdout",
     "output_type": "stream",
     "text": [
      "10\n"
     ]
    }
   ],
   "source": [
    "# Make a Simple Calculator\n",
    "\n",
    "def calculator(a, b, op):\n",
    "    if op == '+':\n",
    "        print(a + b)\n",
    "    elif op == '-':\n",
    "        print(a - b)\n",
    "    elif op == '*':\n",
    "        print(a * b)\n",
    "    elif op == '/':\n",
    "        if b != 0:\n",
    "            print(a / b)\n",
    "        else:\n",
    "            print(\"Cannot divide by zero\")\n",
    "    else:\n",
    "        print(\"Invalid operator\")\n",
    "\n",
    "calculator(5, 2, '*')\n"
   ]
  },
  {
   "cell_type": "code",
   "execution_count": 11,
   "id": "1c17a99f-3dd2-4c90-9326-67ebc5af56e6",
   "metadata": {},
   "outputs": [
    {
     "name": "stdout",
     "output_type": "stream",
     "text": [
      "Palindrome\n"
     ]
    }
   ],
   "source": [
    "# Check Whether a String is Palindrome or Not\n",
    "\n",
    "def is_palindrome(s):\n",
    "    if s == s[::-1]:\n",
    "        print(\"Palindrome\")\n",
    "    else:\n",
    "        print(\"Not a Palindrome\")\n",
    "\n",
    "is_palindrome(\"madam\")\n"
   ]
  },
  {
   "cell_type": "code",
   "execution_count": 12,
   "id": "309fbdaf-2d38-4cdd-82a8-ebabc19f09e9",
   "metadata": {},
   "outputs": [
    {
     "name": "stdout",
     "output_type": "stream",
     "text": [
      "Sorted words: ['apple', 'banana', 'cherry', 'mango']\n"
     ]
    }
   ],
   "source": [
    "# Sort Words in Alphabetical Order\n",
    "\n",
    "def sort_words(sentence):\n",
    "    words = sentence.split()\n",
    "    words.sort()\n",
    "    print(\"Sorted words:\", words)\n",
    "\n",
    "sort_words(\"banana apple cherry mango\")\n"
   ]
  },
  {
   "cell_type": "code",
   "execution_count": 13,
   "id": "3c6856db-669f-4ab9-a72f-14f0d32b3a6c",
   "metadata": {},
   "outputs": [
    {
     "name": "stdout",
     "output_type": "stream",
     "text": [
      "a: 2\n",
      "e: 3\n",
      "i: 3\n",
      "o: 0\n",
      "u: 0\n"
     ]
    }
   ],
   "source": [
    "# Count the Number of Each Vowel\n",
    "\n",
    "def count_vowels(text):\n",
    "    vowels = 'aeiou'\n",
    "    text = text.lower()\n",
    "    for v in vowels:\n",
    "        print(f\"{v}: {text.count(v)}\")\n",
    "\n",
    "count_vowels(\"This is a simple example\")\n"
   ]
  },
  {
   "cell_type": "code",
   "execution_count": 14,
   "id": "706a16f6-568e-49ec-a041-fe4980055272",
   "metadata": {},
   "outputs": [
    {
     "name": "stdout",
     "output_type": "stream",
     "text": [
      "11 13 17 19 23 29 "
     ]
    }
   ],
   "source": [
    "# Find Prime Numbers Within an Interval\n",
    "\n",
    "def primes_in_range(start, end):\n",
    "    for num in range(start, end + 1):\n",
    "        if num < 2:\n",
    "            continue\n",
    "        for i in range(2, int(num**0.5)+1):\n",
    "            if num % i == 0:\n",
    "                break\n",
    "        else:\n",
    "            print(num, end=' ')\n",
    "\n",
    "primes_in_range(10, 30)\n"
   ]
  },
  {
   "cell_type": "code",
   "execution_count": 15,
   "id": "a325c50d-84b5-467b-abd3-f51c82b14ddc",
   "metadata": {},
   "outputs": [
    {
     "name": "stdout",
     "output_type": "stream",
     "text": [
      "Sum = 1275\n"
     ]
    }
   ],
   "source": [
    "# Add Elements Within a Given Limit\n",
    "\n",
    "def sum_in_limit(limit):\n",
    "    total = 0\n",
    "    for i in range(1, limit+1):\n",
    "        total += i\n",
    "    print(\"Sum =\", total)\n",
    "\n",
    "sum_in_limit(50)\n"
   ]
  },
  {
   "cell_type": "code",
   "execution_count": 16,
   "id": "9c31928d-7d09-4158-86ea-d70b98837a3e",
   "metadata": {},
   "outputs": [
    {
     "name": "stdout",
     "output_type": "stream",
     "text": [
      "Unique list: [1, 2, 3, 4, 5]\n"
     ]
    }
   ],
   "source": [
    "# Remove Duplicate Elements from a List\n",
    "\n",
    "def remove_duplicates(lst):\n",
    "    unique = list(set(lst))\n",
    "    print(\"Unique list:\", unique)\n",
    "\n",
    "remove_duplicates([1, 2, 3, 2, 4, 1, 5])\n"
   ]
  },
  {
   "cell_type": "code",
   "execution_count": 17,
   "id": "b680b84c-04d9-45c2-99b1-2fb2a926a236",
   "metadata": {},
   "outputs": [
    {
     "name": "stdout",
     "output_type": "stream",
     "text": [
      "Sum of lists: [5, 7, 9]\n"
     ]
    }
   ],
   "source": [
    "# Add the Elements of Two Lists\n",
    "\n",
    "def add_lists(l1, l2):\n",
    "    result = [a + b for a, b in zip(l1, l2)]\n",
    "    print(\"Sum of lists:\", result)\n",
    "\n",
    "add_lists([1, 2, 3], [4, 5, 6])\n"
   ]
  },
  {
   "cell_type": "markdown",
   "id": "1020d642-ec65-4ee3-afc4-72b2380149a0",
   "metadata": {},
   "source": [
    "### User input version of Above program"
   ]
  },
  {
   "cell_type": "code",
   "execution_count": 18,
   "id": "33b86b3f-e37c-4994-87a2-37afdc927d26",
   "metadata": {},
   "outputs": [
    {
     "name": "stdin",
     "output_type": "stream",
     "text": [
      "Enter a number:  18\n"
     ]
    },
    {
     "name": "stdout",
     "output_type": "stream",
     "text": [
      "18 is Even\n"
     ]
    }
   ],
   "source": [
    "# Check if a Number is Odd or Even\n",
    "\n",
    "def check_odd_even():\n",
    "    num = int(input(\"Enter a number: \"))\n",
    "    if num % 2 == 0:\n",
    "        print(f\"{num} is Even\")\n",
    "    else:\n",
    "        print(f\"{num} is Odd\")\n",
    "\n",
    "check_odd_even()\n"
   ]
  },
  {
   "cell_type": "code",
   "execution_count": 19,
   "id": "f284f074-3e10-43b3-a289-e7a529003c13",
   "metadata": {},
   "outputs": [
    {
     "name": "stdin",
     "output_type": "stream",
     "text": [
      "Enter first number:  21\n",
      "Enter second number:  25\n",
      "Enter third number:  18\n"
     ]
    },
    {
     "name": "stdout",
     "output_type": "stream",
     "text": [
      "Largest is: 25\n"
     ]
    }
   ],
   "source": [
    "# Find the Largest Among Three Numbers\n",
    "\n",
    "def find_largest():\n",
    "    a = int(input(\"Enter first number: \"))\n",
    "    b = int(input(\"Enter second number: \"))\n",
    "    c = int(input(\"Enter third number: \"))\n",
    "    if a >= b and a >= c:\n",
    "        print(f\"Largest is: {a}\")\n",
    "    elif b >= a and b >= c:\n",
    "        print(f\"Largest is: {b}\")\n",
    "    else:\n",
    "        print(f\"Largest is: {c}\")\n",
    "\n",
    "find_largest()\n"
   ]
  },
  {
   "cell_type": "code",
   "execution_count": 20,
   "id": "b6a996d8-1543-4be2-8c67-4693696e20bf",
   "metadata": {},
   "outputs": [
    {
     "name": "stdin",
     "output_type": "stream",
     "text": [
      "Enter a number:  18\n"
     ]
    },
    {
     "name": "stdout",
     "output_type": "stream",
     "text": [
      "Not a prime number\n"
     ]
    }
   ],
   "source": [
    "# Check Prime Number\n",
    "\n",
    "def is_prime():\n",
    "    n = int(input(\"Enter a number: \"))\n",
    "    if n < 2:\n",
    "        print(\"Not a prime number\")\n",
    "        return\n",
    "    for i in range(2, int(n**0.5)+1):\n",
    "        if n % i == 0:\n",
    "            print(\"Not a prime number\")\n",
    "            return\n",
    "    print(\"Prime number\")\n",
    "\n",
    "is_prime()\n"
   ]
  },
  {
   "cell_type": "code",
   "execution_count": 21,
   "id": "ef0c20f5-793c-4930-ba7f-ad77cb06c0ac",
   "metadata": {},
   "outputs": [
    {
     "name": "stdin",
     "output_type": "stream",
     "text": [
      "Enter start of interval:  1\n",
      "Enter end of interval:  100\n"
     ]
    },
    {
     "name": "stdout",
     "output_type": "stream",
     "text": [
      "Prime numbers between 1 and 100:\n",
      "2 3 5 7 11 13 17 19 23 29 31 37 41 43 47 53 59 61 67 71 73 79 83 89 97 "
     ]
    }
   ],
   "source": [
    "# Print all Prime Numbers in an Interval\n",
    "\n",
    "def primes_in_range():\n",
    "    start = int(input(\"Enter start of interval: \"))\n",
    "    end = int(input(\"Enter end of interval: \"))\n",
    "    print(f\"Prime numbers between {start} and {end}:\")\n",
    "    for num in range(start, end + 1):\n",
    "        if num < 2:\n",
    "            continue\n",
    "        for i in range(2, int(num**0.5)+1):\n",
    "            if num % i == 0:\n",
    "                break\n",
    "        else:\n",
    "            print(num, end=' ')\n",
    "\n",
    "primes_in_range()\n"
   ]
  },
  {
   "cell_type": "code",
   "execution_count": 23,
   "id": "ad7ddac6-ebf6-4807-9915-d3addbd5d2ba",
   "metadata": {},
   "outputs": [
    {
     "name": "stdin",
     "output_type": "stream",
     "text": [
      "Enter a number:  10\n"
     ]
    },
    {
     "name": "stdout",
     "output_type": "stream",
     "text": [
      "Factorial of 10 is 3628800\n"
     ]
    }
   ],
   "source": [
    "# Find the Factorial of a Number\n",
    "\n",
    "def factorial():\n",
    "    n = int(input(\"Enter a number: \"))\n",
    "    fact = 1\n",
    "    for i in range(1, n + 1):\n",
    "        fact *= i\n",
    "    print(f\"Factorial of {n} is {fact}\")\n",
    "\n",
    "factorial()\n"
   ]
  },
  {
   "cell_type": "code",
   "execution_count": 24,
   "id": "7c0bde6c-4958-450e-951e-57fcf0e767c8",
   "metadata": {},
   "outputs": [
    {
     "name": "stdin",
     "output_type": "stream",
     "text": [
      "Enter a number:  5\n"
     ]
    },
    {
     "name": "stdout",
     "output_type": "stream",
     "text": [
      "5 x 1 = 5\n",
      "5 x 2 = 10\n",
      "5 x 3 = 15\n",
      "5 x 4 = 20\n",
      "5 x 5 = 25\n",
      "5 x 6 = 30\n",
      "5 x 7 = 35\n",
      "5 x 8 = 40\n",
      "5 x 9 = 45\n",
      "5 x 10 = 50\n"
     ]
    }
   ],
   "source": [
    "# Display the Multiplication Table\n",
    "\n",
    "def multiplication_table():\n",
    "    n = int(input(\"Enter a number: \"))\n",
    "    for i in range(1, 11):\n",
    "        print(f\"{n} x {i} = {n * i}\")\n",
    "\n",
    "multiplication_table()\n"
   ]
  },
  {
   "cell_type": "code",
   "execution_count": 25,
   "id": "e0eef7ca-b0f2-4a00-b01f-44bfcfd04e69",
   "metadata": {},
   "outputs": [
    {
     "name": "stdin",
     "output_type": "stream",
     "text": [
      "Enter number of terms:  5\n"
     ]
    },
    {
     "name": "stdout",
     "output_type": "stream",
     "text": [
      "0 1 1 2 3 "
     ]
    }
   ],
   "source": [
    "# Print the Fibonacci Sequence\n",
    "\n",
    "def fibonacci():\n",
    "    n = int(input(\"Enter number of terms: \"))\n",
    "    a, b = 0, 1\n",
    "    for _ in range(n):\n",
    "        print(a, end=' ')\n",
    "        a, b = b, a + b\n",
    "\n",
    "fibonacci()\n"
   ]
  },
  {
   "cell_type": "code",
   "execution_count": 26,
   "id": "b34772cd-874d-4680-8dd7-fff9848f9ba2",
   "metadata": {},
   "outputs": [
    {
     "name": "stdin",
     "output_type": "stream",
     "text": [
      "Enter a number:  5\n"
     ]
    },
    {
     "name": "stdout",
     "output_type": "stream",
     "text": [
      "Sum of first 5 natural numbers is 15\n"
     ]
    }
   ],
   "source": [
    "# Find the Sum of Natural Numbers\n",
    "\n",
    "def sum_natural():\n",
    "    n = int(input(\"Enter a number: \"))\n",
    "    total = sum(range(1, n + 1))\n",
    "    print(f\"Sum of first {n} natural numbers is {total}\")\n",
    "\n",
    "sum_natural()\n"
   ]
  },
  {
   "cell_type": "code",
   "execution_count": 27,
   "id": "6547c33c-6086-4aa5-ba6d-f2cd611c5742",
   "metadata": {},
   "outputs": [
    {
     "name": "stdin",
     "output_type": "stream",
     "text": [
      "Enter first number:  21\n",
      "Enter second number:  25\n",
      "Enter operator (+, -, *, /):  +\n"
     ]
    },
    {
     "name": "stdout",
     "output_type": "stream",
     "text": [
      "Result: 46.0\n"
     ]
    }
   ],
   "source": [
    "# Make a Simple Calculator\n",
    "\n",
    "def calculator():\n",
    "    a = float(input(\"Enter first number: \"))\n",
    "    b = float(input(\"Enter second number: \"))\n",
    "    op = input(\"Enter operator (+, -, *, /): \")\n",
    "    \n",
    "    if op == '+':\n",
    "        print(f\"Result: {a + b}\")\n",
    "    elif op == '-':\n",
    "        print(f\"Result: {a - b}\")\n",
    "    elif op == '*':\n",
    "        print(f\"Result: {a * b}\")\n",
    "    elif op == '/':\n",
    "        if b != 0:\n",
    "            print(f\"Result: {a / b}\")\n",
    "        else:\n",
    "            print(\"Cannot divide by zero\")\n",
    "    else:\n",
    "        print(\"Invalid operator\")\n",
    "\n",
    "calculator()\n"
   ]
  },
  {
   "cell_type": "code",
   "execution_count": 28,
   "id": "b754f3b9-d13b-4081-a898-93b67f16ad4a",
   "metadata": {},
   "outputs": [
    {
     "name": "stdin",
     "output_type": "stream",
     "text": [
      "Enter a string:  Subi\n"
     ]
    },
    {
     "name": "stdout",
     "output_type": "stream",
     "text": [
      "Not a palindrome\n"
     ]
    }
   ],
   "source": [
    "# Check Whether a String is Palindrome or Not\n",
    "\n",
    "def is_palindrome():\n",
    "    s = input(\"Enter a string: \")\n",
    "    if s == s[::-1]:\n",
    "        print(\"Palindrome\")\n",
    "    else:\n",
    "        print(\"Not a palindrome\")\n",
    "\n",
    "is_palindrome()\n"
   ]
  },
  {
   "cell_type": "code",
   "execution_count": 29,
   "id": "f5faeb8d-366d-42b2-bd59-6d21a3774a85",
   "metadata": {},
   "outputs": [
    {
     "name": "stdin",
     "output_type": "stream",
     "text": [
      "Enter a sentence:  God is Great\n"
     ]
    },
    {
     "name": "stdout",
     "output_type": "stream",
     "text": [
      "Sorted words: ['God', 'Great', 'is']\n"
     ]
    }
   ],
   "source": [
    "# Sort Words in Alphabetical Order\n",
    "\n",
    "def sort_words():\n",
    "    sentence = input(\"Enter a sentence: \")\n",
    "    words = sentence.split()\n",
    "    words.sort()\n",
    "    print(\"Sorted words:\", words)\n",
    "\n",
    "sort_words()\n"
   ]
  },
  {
   "cell_type": "code",
   "execution_count": 31,
   "id": "bac0ad83-597b-499a-bf10-f19dde0f1a8e",
   "metadata": {},
   "outputs": [
    {
     "name": "stdin",
     "output_type": "stream",
     "text": [
      "Enter a string:  Jesus\n"
     ]
    },
    {
     "name": "stdout",
     "output_type": "stream",
     "text": [
      "a: 0\n",
      "e: 1\n",
      "i: 0\n",
      "o: 0\n",
      "u: 1\n"
     ]
    }
   ],
   "source": [
    "# Count the Number of Each Vowel\n",
    "\n",
    "def count_vowels():\n",
    "    text = input(\"Enter a string: \").lower()\n",
    "    vowels = 'aeiou'\n",
    "    for v in vowels:\n",
    "        print(f\"{v}: {text.count(v)}\")\n",
    "\n",
    "count_vowels()\n"
   ]
  },
  {
   "cell_type": "code",
   "execution_count": 32,
   "id": "f15baf4d-4e00-4ad1-940e-ff827124df5c",
   "metadata": {},
   "outputs": [
    {
     "name": "stdin",
     "output_type": "stream",
     "text": [
      "Enter start of interval:  1\n",
      "Enter end of interval:  100\n"
     ]
    },
    {
     "name": "stdout",
     "output_type": "stream",
     "text": [
      "Prime numbers between 1 and 100:\n",
      "2 3 5 7 11 13 17 19 23 29 31 37 41 43 47 53 59 61 67 71 73 79 83 89 97 "
     ]
    }
   ],
   "source": [
    "# Find Prime Numbers Within an Interval\n",
    "\n",
    "def primes_in_range():\n",
    "    start = int(input(\"Enter start of interval: \"))\n",
    "    end = int(input(\"Enter end of interval: \"))\n",
    "    print(f\"Prime numbers between {start} and {end}:\")\n",
    "    for num in range(start, end + 1):\n",
    "        if num < 2:\n",
    "            continue\n",
    "        for i in range(2, int(num**0.5)+1):\n",
    "            if num % i == 0:\n",
    "                break\n",
    "        else:\n",
    "            print(num, end=' ')\n",
    "\n",
    "primes_in_range()\n"
   ]
  },
  {
   "cell_type": "code",
   "execution_count": 33,
   "id": "9bb47705-68b1-49a7-979f-b78d750f79a9",
   "metadata": {},
   "outputs": [
    {
     "name": "stdin",
     "output_type": "stream",
     "text": [
      "Enter the limit:  40\n"
     ]
    },
    {
     "name": "stdout",
     "output_type": "stream",
     "text": [
      "Sum of numbers from 1 to 40 is 820\n"
     ]
    }
   ],
   "source": [
    "# Add Elements Within a Given Limit\n",
    "\n",
    "def sum_in_limit():\n",
    "    limit = int(input(\"Enter the limit: \"))\n",
    "    total = sum(range(1, limit + 1))\n",
    "    print(f\"Sum of numbers from 1 to {limit} is {total}\")\n",
    "\n",
    "sum_in_limit()\n"
   ]
  },
  {
   "cell_type": "code",
   "execution_count": 36,
   "id": "0a5d79d1-0703-4d3a-b53f-ba383386de89",
   "metadata": {},
   "outputs": [
    {
     "name": "stdin",
     "output_type": "stream",
     "text": [
      "Enter elements separated by space:  a a b c d\n"
     ]
    },
    {
     "name": "stdout",
     "output_type": "stream",
     "text": [
      "List after removing duplicates: ['d', 'c', 'a', 'b']\n"
     ]
    }
   ],
   "source": [
    "# Remove Duplicate Elements from a List\n",
    "\n",
    "def remove_duplicates():\n",
    "    elements = input(\"Enter elements separated by space: \").split()\n",
    "    unique = list(set(elements))\n",
    "    print(\"List after removing duplicates:\", unique)\n",
    "\n",
    "remove_duplicates()\n"
   ]
  },
  {
   "cell_type": "code",
   "execution_count": 39,
   "id": "12e25ea7-8852-417d-82b6-7dfbd54b2bc9",
   "metadata": {},
   "outputs": [
    {
     "name": "stdin",
     "output_type": "stream",
     "text": [
      "Enter elements of first list:  3\n",
      "Enter elements of second list:  4\n"
     ]
    },
    {
     "name": "stdout",
     "output_type": "stream",
     "text": [
      "Sum of elements: [7]\n"
     ]
    }
   ],
   "source": [
    "# Add the Elements of Two Lists\n",
    "\n",
    "def add_lists():\n",
    "    list1 = list(map(int, input(\"Enter elements of first list: \").split()))\n",
    "    list2 = list(map(int, input(\"Enter elements of second list: \").split()))\n",
    "    if len(list1) != len(list2):\n",
    "        print(\"Lists must be of same length\")\n",
    "        return\n",
    "    result = [a + b for a, b in zip(list1, list2)]\n",
    "    print(\"Sum of elements:\", result)\n",
    "\n",
    "add_lists()\n"
   ]
  },
  {
   "cell_type": "code",
   "execution_count": null,
   "id": "83f6601d-4b0b-4f05-b31b-d50b51ef3c77",
   "metadata": {},
   "outputs": [],
   "source": []
  }
 ],
 "metadata": {
  "kernelspec": {
   "display_name": "Python 3 (ipykernel)",
   "language": "python",
   "name": "python3"
  },
  "language_info": {
   "codemirror_mode": {
    "name": "ipython",
    "version": 3
   },
   "file_extension": ".py",
   "mimetype": "text/x-python",
   "name": "python",
   "nbconvert_exporter": "python",
   "pygments_lexer": "ipython3",
   "version": "3.13.5"
  }
 },
 "nbformat": 4,
 "nbformat_minor": 5
}
