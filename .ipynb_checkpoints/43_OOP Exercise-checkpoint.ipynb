{
 "cells": [
  {
   "cell_type": "code",
   "execution_count": 11,
   "id": "1f46fde6-8f3d-4424-b6e6-d63e7f6b13e2",
   "metadata": {},
   "outputs": [
    {
     "name": "stdout",
     "output_type": "stream",
     "text": [
      "Hello, Anurag!\n"
     ]
    }
   ],
   "source": [
    "#Create a class Greeter with a method greet(name) that prints a greeting for the provided name.\n",
    "\n",
    "class Greeter:\n",
    "    def greet(self, name):\n",
    "        print(f\"Hello, {name}!\")\n",
    "\n",
    "# Example usage:\n",
    "g = Greeter()\n",
    "g.greet(\"Anurag\")"
   ]
  },
  {
   "cell_type": "code",
   "execution_count": 12,
   "id": "f3377b7e-86d1-4ef0-b47f-4dafa0009df2",
   "metadata": {},
   "outputs": [
    {
     "name": "stdout",
     "output_type": "stream",
     "text": [
      "Sum: 8\n",
      "Difference: 2\n"
     ]
    }
   ],
   "source": [
    "# Develop a class Calculator with methods to add and subtract two numbers\n",
    "\n",
    "class Calculator:\n",
    "    def add(self, a, b):\n",
    "        return a + b\n",
    "\n",
    "    def subtract(self, a, b):\n",
    "        return a - b\n",
    "\n",
    "# Testing the calculator\n",
    "calc = Calculator()\n",
    "print(\"Sum:\", calc.add(5, 3))\n",
    "print(\"Difference:\", calc.subtract(5, 3))"
   ]
  },
  {
   "cell_type": "code",
   "execution_count": 13,
   "id": "b0f3b575-b6a4-411d-a625-85bd458ee593",
   "metadata": {},
   "outputs": [
    {
     "name": "stdout",
     "output_type": "stream",
     "text": [
      "Name: John\n",
      "Name: Doe\n",
      "ID: 101\n",
      "Name: Jane\n",
      "ID: 102\n",
      "Department: HR\n"
     ]
    }
   ],
   "source": [
    "# Build a class Employee with multiple constructors that can initialize an employee object in different ways.\n",
    "\n",
    "class Employee:\n",
    "    def __init__(self, name, id=None, department=None):\n",
    "        self.name = name\n",
    "        self.id = id\n",
    "        self.department = department\n",
    "\n",
    "    def display_details(self):\n",
    "        print(f\"Name: {self.name}\")\n",
    "        if self.id:\n",
    "            print(f\"ID: {self.id}\")\n",
    "        if self.department:\n",
    "            print(f\"Department: {self.department}\")\n",
    "\n",
    "# Examples\n",
    "emp1 = Employee(\"John\")\n",
    "emp1.display_details()\n",
    "\n",
    "emp2 = Employee(\"Doe\", 101)\n",
    "emp2.display_details()\n",
    "\n",
    "emp3 = Employee(\"Jane\", 102, \"HR\")\n",
    "emp3.display_details()"
   ]
  },
  {
   "cell_type": "code",
   "execution_count": 14,
   "id": "082104fa-6794-4de3-bbcb-35b57814fa8a",
   "metadata": {},
   "outputs": [
    {
     "name": "stdout",
     "output_type": "stream",
     "text": [
      "Sum of series: 25\n"
     ]
    }
   ],
   "source": [
    "#Design a class SeriesCalculator that calculates the sum of an arithmetic series.\n",
    "\n",
    "class SeriesCalculator:\n",
    "    def calculate_sum(self, n, a=1, d=2):\n",
    "        # Sum of the first n terms of an arithmetic series\n",
    "        return n * (2 * a + (n - 1) * d) // 2\n",
    "\n",
    "# Test the calculator\n",
    "sc = SeriesCalculator()\n",
    "print(\"Sum of series:\", sc.calculate_sum(5))"
   ]
  },
  {
   "cell_type": "code",
   "execution_count": 15,
   "id": "b8ee8ace-9262-4730-8ba4-542b70960e8c",
   "metadata": {},
   "outputs": [
    {
     "name": "stdout",
     "output_type": "stream",
     "text": [
      "The largest number is: 5\n"
     ]
    }
   ],
   "source": [
    "#Create a class MaxFinder that identifies the largest number in a list.\n",
    "\n",
    "class MaxFinder:\n",
    "    def __init__(self, numbers):\n",
    "        self.numbers = numbers\n",
    "\n",
    "    def find_max(self):\n",
    "        if not self.numbers:\n",
    "            return \"List is empty\"\n",
    "        return max(self.numbers)\n",
    "\n",
    "# Example\n",
    "finder = MaxFinder([1, 3, 2, 5, 4])\n",
    "print(\"The largest number is:\", finder.find_max())"
   ]
  },
  {
   "cell_type": "code",
   "execution_count": 16,
   "id": "8ebc77ab-abd6-4314-bf8b-cefd405e3b27",
   "metadata": {},
   "outputs": [
    {
     "name": "stdout",
     "output_type": "stream",
     "text": [
      "Default area: 1\n",
      "Updated area: 20\n"
     ]
    }
   ],
   "source": [
    "#Design a Rectangle class with default attributes for length and width set to 1. Include methods to set these attributes and calculate the area.\n",
    "\n",
    "class Rectangle:\n",
    "    def __init__(self, length=1, width=1):\n",
    "        self.length = length\n",
    "        self.width = width\n",
    "\n",
    "    def set_dimensions(self, length, width):\n",
    "        self.length = length\n",
    "        self.width = width\n",
    "\n",
    "    def area(self):\n",
    "        return self.length * self.width\n",
    "\n",
    "# Example usage:\n",
    "rect = Rectangle()\n",
    "print(\"Default area:\", rect.area())\n",
    "rect.set_dimensions(4, 5)\n",
    "print(\"Updated area:\", rect.area())"
   ]
  },
  {
   "cell_type": "code",
   "execution_count": 17,
   "id": "aaac875e-6a09-442c-879f-9ed54893b5e1",
   "metadata": {},
   "outputs": [
    {
     "name": "stdout",
     "output_type": "stream",
     "text": [
      "John Doe\n"
     ]
    }
   ],
   "source": [
    "# Person Class with __str__ Method: Create a Person class with first and last name attributes and override the __str__ method to return the full name.\n",
    "\n",
    "class Person:\n",
    "    def __init__(self, first_name, last_name):\n",
    "        self.first_name = first_name\n",
    "        self.last_name = last_name\n",
    "\n",
    "    def __str__(self):\n",
    "        return f\"{self.first_name} {self.last_name}\"\n",
    "\n",
    "# Example usage:\n",
    "person = Person(\"John\", \"Doe\")\n",
    "print(person)"
   ]
  },
  {
   "cell_type": "code",
   "execution_count": 18,
   "id": "1cfa68b8-ddea-4c7f-bd7f-21a045e2cb88",
   "metadata": {},
   "outputs": [
    {
     "name": "stdout",
     "output_type": "stream",
     "text": [
      "Alice Grade: A\n"
     ]
    }
   ],
   "source": [
    "#Student Grade Calculator: Implement a Student class with attributes for name and a list of marks. Include a method to calculate \n",
    "#the average and determine the grade.\n",
    "\n",
    "class Student:\n",
    "    def __init__(self, name, marks):\n",
    "        self.name = name\n",
    "        self.marks = marks\n",
    "\n",
    "    def average(self):\n",
    "        return sum(self.marks) / len(self.marks)\n",
    "\n",
    "    def grade(self):\n",
    "        average = self.average()\n",
    "        if average >= 90:\n",
    "            return 'A'\n",
    "        elif average >= 80:\n",
    "            return 'B'\n",
    "        elif average >= 70:\n",
    "            return 'C'\n",
    "        elif average >= 60:\n",
    "            return 'D'\n",
    "        else:\n",
    "            return 'F'\n",
    "\n",
    "# Example usage:\n",
    "student = Student(\"Alice\", [92, 88, 91])\n",
    "print(f\"{student.name} Grade: {student.grade()}\")"
   ]
  },
  {
   "cell_type": "code",
   "execution_count": 19,
   "id": "d298ca6c-3fed-4a80-bb32-4163477ae16b",
   "metadata": {},
   "outputs": [
    {
     "name": "stdout",
     "output_type": "stream",
     "text": [
      "Three\n"
     ]
    }
   ],
   "source": [
    "# Last Digit in Words: Write a class with a method that takes an integer and prints the last digit of that number in words.\n",
    "\n",
    "class NumberInWords:\n",
    "    def last_digit_in_words(self, number):\n",
    "        last_digit = number % 10\n",
    "        words = [\"Zero\", \"One\", \"Two\", \"Three\", \"Four\", \"Five\", \"Six\", \"Seven\", \"Eight\", \"Nine\"]\n",
    "        return words[last_digit]\n",
    "\n",
    "# Example usage:\n",
    "niw = NumberInWords()\n",
    "print(niw.last_digit_in_words(123))"
   ]
  },
  {
   "cell_type": "code",
   "execution_count": 20,
   "id": "e68d34c6-c465-4392-843b-dd5f6aa041de",
   "metadata": {},
   "outputs": [
    {
     "name": "stdout",
     "output_type": "stream",
     "text": [
      "Number of objects created: 2\n"
     ]
    }
   ],
   "source": [
    "#Object Count Tracker: Design a class that tracks how many objects have been created from it and has a method to display this count.\n",
    "\n",
    "class ObjectCounter:\n",
    "    count = 0\n",
    "\n",
    "    def __init__(self):\n",
    "        ObjectCounter.count += 1\n",
    "\n",
    "    @staticmethod\n",
    "    def display_count():\n",
    "        print(\"Number of objects created:\", ObjectCounter.count)\n",
    "\n",
    "# Example usage:\n",
    "a = ObjectCounter()\n",
    "b = ObjectCounter()\n",
    "ObjectCounter.display_count()"
   ]
  },
  {
   "cell_type": "code",
   "execution_count": 21,
   "id": "750ff768-82c2-4ac7-8e2d-04b927e4c466",
   "metadata": {},
   "outputs": [
    {
     "name": "stdout",
     "output_type": "stream",
     "text": [
      "Student: Bob\n",
      "Total Marks: 250\n",
      "Average Marks: 83.33333333333333\n"
     ]
    }
   ],
   "source": [
    "#Calculating Student Results: Develop a class to accept a student's name and marks in three subjects, then calculate and display the \n",
    "#total and average marks.\n",
    "\n",
    "class StudentResult:\n",
    "    def __init__(self, name, marks):\n",
    "        self.name = name\n",
    "        self.marks = marks\n",
    "\n",
    "    def total(self):\n",
    "        return sum(self.marks)\n",
    "\n",
    "    def average(self):\n",
    "        return self.total() / len(self.marks)\n",
    "\n",
    "    def display(self):\n",
    "        print(f\"Student: {self.name}\")\n",
    "        print(f\"Total Marks: {self.total()}\")\n",
    "        print(f\"Average Marks: {self.average()}\")\n",
    "\n",
    "# Example usage:\n",
    "sr = StudentResult(\"Bob\", [76, 84, 90])\n",
    "sr.display()"
   ]
  },
  {
   "cell_type": "code",
   "execution_count": 22,
   "id": "8aa84b14-4b2c-41b9-9063-7d6e4716961c",
   "metadata": {
    "scrolled": true
   },
   "outputs": [
    {
     "name": "stdout",
     "output_type": "stream",
     "text": [
      "Make: Toyota, Model: Corolla, Year: 2021\n"
     ]
    }
   ],
   "source": [
    "#Car Class: Create a Car class with attributes make, model, and year. Include a method to display the details of the car.\n",
    "\n",
    "class Car:\n",
    "    def __init__(self, make, model, year):\n",
    "        self.make = make\n",
    "        self.model = model\n",
    "        self.year = year\n",
    "\n",
    "    def display_details(self):\n",
    "        print(f\"Make: {self.make}, Model: {self.model}, Year: {self.year}\")\n",
    "\n",
    "# Example usage:\n",
    "my_car = Car(\"Toyota\", \"Corolla\", 2021)\n",
    "my_car.display_details()"
   ]
  },
  {
   "cell_type": "code",
   "execution_count": 23,
   "id": "d5dc5876-daa5-43c3-97c7-5e764a3e23a3",
   "metadata": {},
   "outputs": [
    {
     "name": "stdout",
     "output_type": "stream",
     "text": [
      "Woof!\n",
      "Meow!\n"
     ]
    }
   ],
   "source": [
    "#Inheritance - Animal Kingdom: Create a base class Animal with a method speak().\n",
    "#Derive two classes Dog and Cat from Animal and override the speak method to reflect their sounds.\n",
    "\n",
    "class Animal:\n",
    "    def speak(self):\n",
    "        pass\n",
    "\n",
    "class Dog(Animal):\n",
    "    def speak(self):\n",
    "        print(\"Woof!\")\n",
    "\n",
    "class Cat(Animal):\n",
    "    def speak(self):\n",
    "        print(\"Meow!\")\n",
    "\n",
    "# Example usage:\n",
    "dog = Dog()\n",
    "cat = Cat()\n",
    "dog.speak()\n",
    "cat.speak()"
   ]
  },
  {
   "cell_type": "code",
   "execution_count": 24,
   "id": "a32c63e7-f8f8-4e2a-ae9d-ecce88e568da",
   "metadata": {},
   "outputs": [
    {
     "name": "stdout",
     "output_type": "stream",
     "text": [
      "Woof!\n",
      "Meow!\n",
      "Squawk!\n"
     ]
    }
   ],
   "source": [
    "# Polymorphism with a Function: Create a function describe_pet that takes an object of Animal and calls its speak method, demonstrating polymorphism.\n",
    "\n",
    "class Animal:\n",
    "    def speak(self):\n",
    "        raise NotImplementedError(\"Subclasses must implement this method\")\n",
    "\n",
    "class Dog(Animal):\n",
    "    def speak(self):\n",
    "        print(\"Woof!\")\n",
    "\n",
    "class Cat(Animal):\n",
    "    def speak(self):\n",
    "        print(\"Meow!\")\n",
    "\n",
    "class Parrot(Animal):\n",
    "    def speak(self):\n",
    "        print(\"Squawk!\")\n",
    "\n",
    "def describe_pet(animal):\n",
    "    animal.speak()\n",
    "\n",
    "# Example usage:\n",
    "dog = Dog()\n",
    "cat = Cat()\n",
    "parrot = Parrot()\n",
    "\n",
    "describe_pet(dog)\n",
    "describe_pet(cat)\n",
    "describe_pet(parrot)"
   ]
  },
  {
   "cell_type": "code",
   "execution_count": 25,
   "id": "4878123b-419f-4a72-80bd-13ce6bda9a93",
   "metadata": {},
   "outputs": [
    {
     "name": "stdout",
     "output_type": "stream",
     "text": [
      "Deposited: 50, New Balance: 150\n",
      "Withdrew: 100, Remaining Balance: 50\n",
      "Insufficient funds\n"
     ]
    }
   ],
   "source": [
    "#Encapsulation - Protecting Attributes: Implement a class Account with a private attribute balance and provide methods \n",
    "#to deposit and withdraw safely, checking for sufficient funds.\n",
    "\n",
    "class Account:\n",
    "    def __init__(self, balance=0):\n",
    "        self.__balance = balance\n",
    "\n",
    "    def deposit(self, amount):\n",
    "        self.__balance += amount\n",
    "        print(f\"Deposited: {amount}, New Balance: {self.__balance}\")\n",
    "\n",
    "    def withdraw(self, amount):\n",
    "        if amount > self.__balance:\n",
    "            print(\"Insufficient funds\")\n",
    "        else:\n",
    "            self.__balance -= amount\n",
    "            print(f\"Withdrew: {amount}, Remaining Balance: {self.__balance}\")\n",
    "\n",
    "# Example usage:\n",
    "acc = Account(100)\n",
    "acc.deposit(50)\n",
    "acc.withdraw(100)\n",
    "acc.withdraw(100)"
   ]
  },
  {
   "cell_type": "code",
   "execution_count": 26,
   "id": "e28f17e4-26d9-4abb-b6f5-11c2b8a605d0",
   "metadata": {},
   "outputs": [
    {
     "name": "stdout",
     "output_type": "stream",
     "text": [
      "Rectangle Area: 200\n",
      "Triangle Area: 50.0\n"
     ]
    }
   ],
   "source": [
    "# Abstract Classes - Polygon Calculator: Define an abstract base class Polygon with an abstract method area. \n",
    "#Implement this in derived classes Rectangle and Triangle.\n",
    "\n",
    "from abc import ABC, abstractmethod\n",
    "\n",
    "class Polygon(ABC):\n",
    "    @abstractmethod\n",
    "    def area(self):\n",
    "        pass\n",
    "\n",
    "class Rectangle(Polygon):\n",
    "    def __init__(self, width, height):\n",
    "        self.width = width\n",
    "        self.height = height\n",
    "\n",
    "    def area(self):\n",
    "        return self.width * self.height\n",
    "\n",
    "class Triangle(Polygon):\n",
    "    def __init__(self, base, height):\n",
    "        self.base = base\n",
    "        self.height = height\n",
    "\n",
    "    def area(self):\n",
    "        return 0.5 * self.base * self.height\n",
    "\n",
    "# Example usage:\n",
    "rect = Rectangle(10, 20)\n",
    "tri = Triangle(10, 10)\n",
    "print(\"Rectangle Area:\", rect.area())\n",
    "print(\"Triangle Area:\", tri.area())"
   ]
  },
  {
   "cell_type": "code",
   "execution_count": 27,
   "id": "d269d35f-f969-41f1-b937-5348db23ffdc",
   "metadata": {},
   "outputs": [
    {
     "name": "stdout",
     "output_type": "stream",
     "text": [
      "Charging the battery\n",
      "Current location is 123, 456\n"
     ]
    }
   ],
   "source": [
    "#Multiple Inheritance - Battery and GPS Tracker: Create classes Battery and GPS with respective methods charge and location. \n",
    "#Derive a SmartPhone class that inherits both functionalities.\n",
    "\n",
    "class Battery:\n",
    "    def charge(self):\n",
    "        print(\"Charging the battery\")\n",
    "\n",
    "class GPS:\n",
    "    def location(self):\n",
    "        print(\"Current location is 123, 456\")\n",
    "\n",
    "class SmartPhone(Battery, GPS):\n",
    "    pass\n",
    "\n",
    "# Example usage:\n",
    "phone = SmartPhone()\n",
    "phone.charge()\n",
    "phone.location()"
   ]
  },
  {
   "cell_type": "code",
   "execution_count": 28,
   "id": "9213bc9b-d8ea-48f3-a7f0-cd4bb24508f9",
   "metadata": {},
   "outputs": [
    {
     "name": "stdout",
     "output_type": "stream",
     "text": [
      "Area: 78.53975\n",
      "Radius cannot be negative\n",
      "Radius: 5\n"
     ]
    }
   ],
   "source": [
    "# Using Property Decorators: Implement a class Circle with a private attribute radius and use property decorators to get and set its value with checks.\n",
    "\n",
    "class Circle:\n",
    "    def __init__(self, radius):\n",
    "        self.__radius = radius\n",
    "\n",
    "    @property\n",
    "    def radius(self):\n",
    "        return self.__radius\n",
    "\n",
    "    @radius.setter\n",
    "    def radius(self, value):\n",
    "        if value >= 0:\n",
    "            self.__radius = value\n",
    "        else:\n",
    "            print(\"Radius cannot be negative\")\n",
    "\n",
    "    def area(self):\n",
    "        return 3.14159 * self.__radius ** 2\n",
    "\n",
    "# Example usage:\n",
    "circle = Circle(5)\n",
    "print(\"Area:\", circle.area())\n",
    "circle.radius = -10\n",
    "print(\"Radius:\", circle.radius)"
   ]
  },
  {
   "cell_type": "code",
   "execution_count": 29,
   "id": "7a3ac05f-b75f-4236-a0a2-cb8dcc079b1c",
   "metadata": {},
   "outputs": [
    {
     "name": "stdout",
     "output_type": "stream",
     "text": [
      "Car: Toyota Camry\n"
     ]
    }
   ],
   "source": [
    "#Dynamic Attribute Addition Demonstrate dynamic attribute addition where a class Vehicle starts without defined attributes and properties are added later.\n",
    "\n",
    "class Vehicle:\n",
    "    pass\n",
    "\n",
    "# Example usage:\n",
    "car = Vehicle()\n",
    "car.make = \"Toyota\"\n",
    "car.model = \"Camry\"\n",
    "print(f\"Car: {car.make} {car.model}\")"
   ]
  },
  {
   "cell_type": "code",
   "execution_count": 30,
   "id": "602e5a3a-3a86-4cd8-9272-293a4ffea18d",
   "metadata": {},
   "outputs": [
    {
     "name": "stdout",
     "output_type": "stream",
     "text": [
      "Rectangle Area: 200\n",
      "Rectangle Perimeter: 60\n",
      "Circle Area: 78.53975\n",
      "Circle Perimeter: 31.4159\n"
     ]
    }
   ],
   "source": [
    " # Interface Implementation Create an interface Shape with methods area() and perimeter(). Implement this interface in Rectangle and Circle classes.\n",
    "\n",
    "from abc import ABC, abstractmethod\n",
    "\n",
    "class Shape(ABC):\n",
    "    @abstractmethod\n",
    "    def area(self):\n",
    "        pass\n",
    "\n",
    "    @abstractmethod\n",
    "    def perimeter(self):\n",
    "        pass\n",
    "\n",
    "class Rectangle(Shape):\n",
    "    def __init__(self, width, height):\n",
    "        self.width = width\n",
    "        self.height = height\n",
    "\n",
    "    def area(self):\n",
    "        return self.width * self.height\n",
    "\n",
    "    def perimeter(self):\n",
    "        return 2 * (self.width + self.height)\n",
    "\n",
    "class Circle(Shape):\n",
    "    def __init__(self, radius):\n",
    "        self.radius = radius\n",
    "\n",
    "    def area(self):\n",
    "        return 3.14159 * self.radius ** 2\n",
    "\n",
    "    def perimeter(self):\n",
    "        return 2 * 3.14159 * self.radius\n",
    "\n",
    "# Example usage:\n",
    "rectangle = Rectangle(10, 20)\n",
    "circle = Circle(5)\n",
    "print(\"Rectangle Area:\", rectangle.area())\n",
    "print(\"Rectangle Perimeter:\", rectangle.perimeter())\n",
    "print(\"Circle Area:\", circle.area())\n",
    "print(\"Circle Perimeter:\", circle.perimeter())"
   ]
  },
  {
   "cell_type": "code",
   "execution_count": 31,
   "id": "355e6ca7-7955-4405-a7e5-9ca8dc079207",
   "metadata": {},
   "outputs": [
    {
     "name": "stdout",
     "output_type": "stream",
     "text": [
      "Book: Python Programming, Author: John Doe\n"
     ]
    }
   ],
   "source": [
    "#Composition Over Inheritance: Create a Book class with a Author class included within it, demonstrating composition over inheritance.\n",
    "\n",
    "class Author:\n",
    "    def __init__(self, name):\n",
    "        self.name = name\n",
    "\n",
    "class Book:\n",
    "    def __init__(self, title, author):\n",
    "        self.title = title\n",
    "        self.author = Author(author)\n",
    "\n",
    "    def display(self):\n",
    "        print(f\"Book: {self.title}, Author: {self.author.name}\")\n",
    "\n",
    "# Example usage:\n",
    "book = Book(\"Python Programming\", \"John Doe\")\n",
    "book.display()"
   ]
  },
  {
   "cell_type": "code",
   "execution_count": 32,
   "id": "9a483baa-d969-42fe-84e6-f9a52beb3ea3",
   "metadata": {},
   "outputs": [
    {
     "name": "stdout",
     "output_type": "stream",
     "text": [
      "Vector Addition: (3, 3)\n"
     ]
    }
   ],
   "source": [
    "#Operator Overloading Create a Vector class that supports addition using the + operator, allowing you to add two vectors.\n",
    "\n",
    "class Vector:\n",
    "    def __init__(self, x, y):\n",
    "        self.x = x\n",
    "        self.y = y\n",
    "\n",
    "    def __add__(self, other):\n",
    "        return Vector(self.x + other.x, self.y + other.y)\n",
    "\n",
    "    def __str__(self):\n",
    "        return f\"({self.x}, {self.y})\"\n",
    "\n",
    "# Example usage:\n",
    "v1 = Vector(2, 4)\n",
    "v2 = Vector(1, -1)\n",
    "print(\"Vector Addition:\", v1 + v2)"
   ]
  },
  {
   "cell_type": "code",
   "execution_count": 33,
   "id": "d95f8cbb-b606-4f63-836c-06d1b10a48ee",
   "metadata": {},
   "outputs": [
    {
     "name": "stdout",
     "output_type": "stream",
     "text": [
      "Addition: 8\n",
      "Multiplication: 20\n"
     ]
    }
   ],
   "source": [
    "#Static and Class Methods Demonstrate the use of static and class methods in a class Calculator with methods to add and multiply numbers.\n",
    "\n",
    "class Calculator:\n",
    "    @staticmethod\n",
    "    def add(a, b):\n",
    "        return a + b\n",
    "\n",
    "    @classmethod\n",
    "    def multiply(cls, a, b):\n",
    "        return a * b\n",
    "\n",
    "# Example usage:\n",
    "print(\"Addition:\", Calculator.add(5, 3))\n",
    "print(\"Multiplication:\", Calculator.multiply(4, 5))"
   ]
  },
  {
   "cell_type": "code",
   "execution_count": 34,
   "id": "fe9d1404-ba91-4d0f-8ba1-42c0b3e57eac",
   "metadata": {},
   "outputs": [
    {
     "name": "stdout",
     "output_type": "stream",
     "text": [
      "Name: John Doe\n",
      "Age: 30\n",
      "Invalid name\n",
      "Invalid age\n"
     ]
    }
   ],
   "source": [
    "#Managing Private Attributes Create a Person class with private attributes name and age and provide getter and setter methods to manage these attributes safely.\n",
    "\n",
    "class Person:\n",
    "    def __init__(self, name, age):\n",
    "        self.__name = name\n",
    "        self.__age = age\n",
    "\n",
    "    @property\n",
    "    def name(self):\n",
    "        return self.__name\n",
    "\n",
    "    @name.setter\n",
    "    def name(self, value):\n",
    "        if isinstance(value, str) and len(value) > 0:\n",
    "            self.__name = value\n",
    "        else:\n",
    "            print(\"Invalid name\")\n",
    "\n",
    "    @property\n",
    "    def age(self):\n",
    "        return self.__age\n",
    "\n",
    "    @age.setter\n",
    "    def age(self, value):\n",
    "        if isinstance(value, int) and value >= 0:\n",
    "            self.__age = value\n",
    "        else:\n",
    "            print(\"Invalid age\")\n",
    "\n",
    "# Example usage:\n",
    "person = Person(\"John Doe\", 30)\n",
    "print(\"Name:\", person.name)\n",
    "print(\"Age:\", person.age)\n",
    "person.name = \"\"\n",
    "person.age = -5"
   ]
  },
  {
   "cell_type": "code",
   "execution_count": null,
   "id": "5dfef819-b18f-4e72-a261-ea1f2c7e86c5",
   "metadata": {},
   "outputs": [],
   "source": []
  }
 ],
 "metadata": {
  "kernelspec": {
   "display_name": "Python 3 (ipykernel)",
   "language": "python",
   "name": "python3"
  },
  "language_info": {
   "codemirror_mode": {
    "name": "ipython",
    "version": 3
   },
   "file_extension": ".py",
   "mimetype": "text/x-python",
   "name": "python",
   "nbconvert_exporter": "python",
   "pygments_lexer": "ipython3",
   "version": "3.13.5"
  }
 },
 "nbformat": 4,
 "nbformat_minor": 5
}
