{
 "cells": [
  {
   "cell_type": "markdown",
   "id": "5545983b-8d72-4c61-9034-a04c0e8598e3",
   "metadata": {},
   "source": [
    "PYTHON-MODULES\n",
    "---"
   ]
  },
  {
   "cell_type": "markdown",
   "id": "d8e5d2d1-783b-47e6-b273-4a26c8e07c3a",
   "metadata": {},
   "source": [
    "# Refer Oracuz Python pdf (Module (topic name))\n",
    "\n",
    "● Modules refer to a file containing Python statements and definitions. \n",
    "\n",
    "● A file containing Python code, for e.g.: example.py, is called a module and its module name would be an example. \n",
    "\n",
    "● We use modules to break down large programs into small organized files. Furthermore, modules provide reusability \n",
    "of code. \n",
    "\n",
    "● We can define our most used functions in a module and import it, instead of \n",
    "copying their definitions into different programs."
   ]
  },
  {
   "cell_type": "markdown",
   "id": "1cee98c6-5b2d-4253-97d1-e8c5d0f479ec",
   "metadata": {},
   "source": [
    "*Create a Module*\n"
   ]
  },
  {
   "cell_type": "markdown",
   "id": "ebd5f0b4-71c0-4b1e-9736-87eebea5aa99",
   "metadata": {},
   "source": [
    "To create a module just save the code you want in a file with the file extension .py: \n",
    "\n",
    "Example: Create a file with mymodule.py \n",
    "\n",
    "def greeting(name): \n",
    "\n",
    "    print(\"Hello, \" + name) \n",
    "\n",
    "Use a Module \n",
    "\n",
    "Now we can use the module we just created, by using the import statement :\n",
    "\n",
    "Import the module named mymodule.py as \n",
    "\n",
    "import mymodule \n",
    "\n",
    "mymodule.greeting(\"Jonathan\") \n",
    "\n",
    "--------------------------------------------------------------------------------------\n",
    "Note: When using a function from a module, use the syntax: \n",
    "\n",
    "module_name.function_name.Variables in Module\n",
    "\n",
    "--------------------------------------------------------------------------------------\n",
    "\n",
    "The module can contain functions, as already described, but also variables of all \n",
    "types (arrays, dictionaries, objects etc):\n",
    "\n",
    "Example: \n",
    "\n",
    "#mymodule.py\n",
    "\n",
    "person1 = { \n",
    "    \"name\": \"John\", \n",
    "    \"age\": 36, \n",
    "    \"country\": \"Norway\" \n",
    "} \n",
    "\n",
    "#sample.py\n",
    "\n",
    "import mymodule\n",
    "\n",
    "a = mymodule.person1[\"age\"] \n",
    "\n",
    "print(a) \n",
    "\n"
   ]
  },
  {
   "cell_type": "markdown",
   "id": "79bb25d4-4843-4b47-b766-fb36ea42dc41",
   "metadata": {},
   "source": [
    "---------------------------------------------------------------------------------------------\n",
    "\n",
    "*Naming a Module* \n",
    "\n",
    "You can name the module file whatever you like, but it must have the file extension .py \n",
    "\n",
    "*Renaming a Module*\n",
    "\n",
    "You can create an alias when you import a module, by using the as keyword: \n",
    "\n",
    "import mymodule as mx \n",
    "\n",
    "a = mx.person1[\"age\"] \n",
    "\n",
    "print(a) \n",
    "\n",
    "Output:36\n",
    "\n",
    "---------------------------------------------------------------------------------------------"
   ]
  },
  {
   "cell_type": "code",
   "execution_count": null,
   "id": "4e00ebb4-e7c0-44d0-ab94-3c8e56698d45",
   "metadata": {},
   "outputs": [],
   "source": []
  },
  {
   "cell_type": "code",
   "execution_count": null,
   "id": "5ab0805e-6b6e-4e1c-b12c-1b900dafecfb",
   "metadata": {},
   "outputs": [],
   "source": [
    "# # importing a module \n",
    "\n",
    "# eg: \n",
    "\n",
    "# module1.py\n",
    "\n",
    "# person1 = { \n",
    "# \"name\": \"John\", \n",
    "# \"age\": 36, \n",
    "# \"country\": \"Norway\" \n",
    "# } \n",
    "\n",
    "# sample.py\n",
    "\n",
    "# import module1 \n",
    "# a = module1.person1[\"age\"] \n",
    "# print(a)"
   ]
  }
 ],
 "metadata": {
  "kernelspec": {
   "display_name": "Python 3 (ipykernel)",
   "language": "python",
   "name": "python3"
  },
  "language_info": {
   "codemirror_mode": {
    "name": "ipython",
    "version": 3
   },
   "file_extension": ".py",
   "mimetype": "text/x-python",
   "name": "python",
   "nbconvert_exporter": "python",
   "pygments_lexer": "ipython3",
   "version": "3.13.5"
  }
 },
 "nbformat": 4,
 "nbformat_minor": 5
}
